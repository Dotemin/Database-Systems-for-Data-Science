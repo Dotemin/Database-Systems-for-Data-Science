{
 "cells": [
  {
   "cell_type": "code",
   "execution_count": 1,
   "metadata": {
    "slideshow": {
     "slide_type": "slide"
    }
   },
   "outputs": [],
   "source": [
    "import datajoint as dj"
   ]
  },
  {
   "cell_type": "code",
   "execution_count": 2,
   "metadata": {
    "slideshow": {
     "slide_type": "subslide"
    }
   },
   "outputs": [
    {
     "name": "stdout",
     "output_type": "stream",
     "text": [
      "Connecting dimitri@db.ust-db.link:3306\n"
     ]
    }
   ],
   "source": [
    "schema = dj.schema('dimitri_university')"
   ]
  },
  {
   "cell_type": "code",
   "execution_count": 3,
   "metadata": {},
   "outputs": [
    {
     "name": "stdout",
     "output_type": "stream",
     "text": [
      "Proceed to delete entire schema `dimitri_university`? [yes, No]: no\n"
     ]
    }
   ],
   "source": [
    "schema.drop()"
   ]
  },
  {
   "cell_type": "code",
   "execution_count": 4,
   "metadata": {},
   "outputs": [],
   "source": [
    "@schema\n",
    "class Student(dj.Manual):\n",
    "    definition = \"\"\"\n",
    "    student_id : int unsigned   # university-wide ID number\n",
    "    ---\n",
    "    first_name      : varchar(40)\n",
    "    last_name       : varchar(40)\n",
    "    sex             : enum('F', 'M', 'U')\n",
    "    date_of_birth   : date\n",
    "    home_address    : varchar(120) # mailing street address\n",
    "    home_city       : varchar(60)  # mailing address\n",
    "    home_state      : char(2)      # US state acronym: e.g. OH\n",
    "    home_zip        : char(10)     # zipcode e.g. 93979-4979\n",
    "    home_phone      : varchar(20)  # e.g. 414.657.6883x0881\n",
    "    \"\"\""
   ]
  },
  {
   "cell_type": "code",
   "execution_count": null,
   "metadata": {},
   "outputs": [],
   "source": [
    "%%sql\n",
    "\n",
    "CREATE TABLE student (\n",
    "    student_id   int unsigned not NULL  COMMENT \"university-wide ID number\",\n",
    "    first_name   varchar(40) NOT NULL,\n",
    "    last_name    varchar(40) NOT NULL,\n",
    "    sex             enum('F', 'M', 'U') NOT NULL,\n",
    "    date_of_birth   date NOT NULL,\n",
    "    home_address    varchar(120) NOT NULL COMMENT \"mailing street address\",\n",
    "    home_city       varchar(60) NOT NULL COMMENT \"mailing address\",\n",
    "    home_state      char(2) NOT NULL, \n",
    "    home_zip        char(10)    NOT NULL,\n",
    "    home_phone      varchar(20)  NOT NULL,\n",
    "    PRIMARY KEY (student_id)\n",
    ")"
   ]
  },
  {
   "cell_type": "code",
   "execution_count": 5,
   "metadata": {},
   "outputs": [],
   "source": [
    "    \n",
    "@schema\n",
    "class Department(dj.Manual):\n",
    "    definition = \"\"\"\n",
    "    dept : varchar(6)   # abbreviated department name, e.g. BIOL\n",
    "    ---\n",
    "    dept_name    : varchar(200)  # full department name\n",
    "    dept_address : varchar(200)  # mailing address\n",
    "    dept_phone   : varchar(20)\n",
    "    \"\"\""
   ]
  },
  {
   "cell_type": "code",
   "execution_count": null,
   "metadata": {},
   "outputs": [],
   "source": [
    "dj.Diagram(schema)"
   ]
  },
  {
   "cell_type": "code",
   "execution_count": null,
   "metadata": {},
   "outputs": [],
   "source": [
    "StudentMajor.drop()"
   ]
  },
  {
   "cell_type": "code",
   "execution_count": null,
   "metadata": {},
   "outputs": [],
   "source": [
    "StudentMajor.drop()"
   ]
  },
  {
   "cell_type": "code",
   "execution_count": null,
   "metadata": {},
   "outputs": [],
   "source": []
  },
  {
   "cell_type": "code",
   "execution_count": 6,
   "metadata": {},
   "outputs": [],
   "source": [
    "@schema\n",
    "class StudentMajor(dj.Manual):\n",
    "    definition = \"\"\"\n",
    "    -> Student \n",
    "    ---\n",
    "    -> Department\n",
    "    declare_date : date  \n",
    "    \"\"\"\n",
    "    \n",
    "    \n",
    "    "
   ]
  },
  {
   "cell_type": "code",
   "execution_count": null,
   "metadata": {},
   "outputs": [],
   "source": [
    "%%SQL\n",
    "\n",
    "create table student_major (\n",
    "   student_id  int unsigned not null\n",
    "    dept varchar(6) not null,\n",
    "    primary key (student_id, dept),\n",
    "    foreign key (student_id) reference student(student_id),\n",
    "    foreign key (dept) reference department(dept)\n",
    ")"
   ]
  },
  {
   "cell_type": "code",
   "execution_count": null,
   "metadata": {},
   "outputs": [],
   "source": [
    "@schema\n",
    "class Hotel(dj.Manual):\n",
    "    definition = \"\"\"\n",
    "    hotel : varchar(6)     \n",
    "    \"\"\""
   ]
  },
  {
   "cell_type": "code",
   "execution_count": null,
   "metadata": {},
   "outputs": [],
   "source": [
    "@schema\n",
    "class Room(dj.Manual):\n",
    "    definition = \"\"\"\n",
    "    -> Hotel\n",
    "    room : int\n",
    "    \"\"\""
   ]
  },
  {
   "cell_type": "code",
   "execution_count": null,
   "metadata": {},
   "outputs": [],
   "source": [
    "@schema\n",
    "class Reservation(dj.Manual):\n",
    "    definition = \"\"\"\n",
    "    -> Room\n",
    "    night : date \n",
    "    ---\n",
    "    -> Student\n",
    "    \"\"\"\n",
    "    "
   ]
  },
  {
   "cell_type": "code",
   "execution_count": null,
   "metadata": {},
   "outputs": [],
   "source": [
    "dj.Diagram(schema)"
   ]
  },
  {
   "cell_type": "code",
   "execution_count": null,
   "metadata": {},
   "outputs": [],
   "source": [
    "@schema\n",
    "class Bank(dj.Manual):\n",
    "    definition = \"\"\"\n",
    "    bank : varchar(6)    \n",
    "    \"\"\""
   ]
  },
  {
   "cell_type": "code",
   "execution_count": null,
   "metadata": {},
   "outputs": [],
   "source": [
    "Bank.insert1(('First',))"
   ]
  },
  {
   "cell_type": "code",
   "execution_count": null,
   "metadata": {},
   "outputs": [],
   "source": [
    "Bank().make_sql()"
   ]
  },
  {
   "cell_type": "code",
   "execution_count": null,
   "metadata": {},
   "outputs": [],
   "source": [
    "@schema\n",
    "class Account(dj.Manual):\n",
    "    definition = \"\"\"\n",
    "    -> Bank\n",
    "    account : int\n",
    "    \"\"\""
   ]
  },
  {
   "cell_type": "code",
   "execution_count": null,
   "metadata": {},
   "outputs": [],
   "source": [
    "@schema\n",
    "class AccountOwner(dj.Manual):\n",
    "    definition = \"\"\"\n",
    "    -> Account\n",
    "    account : int\n",
    "    -> Student\n",
    "    ---\n",
    "    \"\"\""
   ]
  },
  {
   "cell_type": "code",
   "execution_count": null,
   "metadata": {},
   "outputs": [],
   "source": [
    "Account()"
   ]
  },
  {
   "cell_type": "code",
   "execution_count": null,
   "metadata": {},
   "outputs": [],
   "source": [
    "StudentMajor()"
   ]
  },
  {
   "cell_type": "code",
   "execution_count": null,
   "metadata": {
    "slideshow": {
     "slide_type": "slide"
    }
   },
   "outputs": [],
   "source": [
    "@schema\n",
    "class Student(dj.Manual):\n",
    "    definition = \"\"\"\n",
    "    student_id : int unsigned   # university-wide ID number\n",
    "    ---\n",
    "    first_name      : varchar(40)\n",
    "    last_name       : varchar(40)\n",
    "    sex             : enum('F', 'M', 'U')\n",
    "    date_of_birth   : date\n",
    "    home_address    : varchar(120) # mailing street address\n",
    "    home_city       : varchar(60)  # mailing address\n",
    "    home_state      : char(2)      # US state acronym: e.g. OH\n",
    "    home_zip        : char(10)     # zipcode e.g. 93979-4979\n",
    "    home_phone      : varchar(20)  # e.g. 414.657.6883x0881\n",
    "    \"\"\"\n",
    "\n"
   ]
  },
  {
   "cell_type": "code",
   "execution_count": null,
   "metadata": {},
   "outputs": [],
   "source": [
    "\n",
    "@schema\n",
    "class StudentMajor(dj.Manual):\n",
    "    definition = \"\"\"\n",
    "    -> Student\n",
    "    ---\n",
    "    -> Department\n",
    "    declare_date :  date  # when student declared her major\n",
    "    \"\"\""
   ]
  },
  {
   "cell_type": "code",
   "execution_count": null,
   "metadata": {},
   "outputs": [],
   "source": [
    "StudentMajor()"
   ]
  },
  {
   "cell_type": "code",
   "execution_count": null,
   "metadata": {},
   "outputs": [],
   "source": [
    "dj.Diagram(schema)"
   ]
  },
  {
   "cell_type": "code",
   "execution_count": 7,
   "metadata": {
    "slideshow": {
     "slide_type": "slide"
    }
   },
   "outputs": [],
   "source": [
    "@schema\n",
    "class Course(dj.Manual):\n",
    "    definition = \"\"\"\n",
    "    -> Department\n",
    "    course  : int unsigned   # course number, e.g. 1010\n",
    "    ---\n",
    "    course_name :  varchar(200)  # e.g. \"Neurobiology of Sensation and Movement.\"\n",
    "    credits     :  decimal(3,1)  # number of credits earned by completing the course\n",
    "    \"\"\"\n",
    "    \n",
    "@schema\n",
    "class Term(dj.Manual):\n",
    "    definition = \"\"\"\n",
    "    term_year : year\n",
    "    term      : enum('Spring', 'Summer', 'Fall')\n",
    "    \"\"\"\n",
    "\n",
    "@schema\n",
    "class Section(dj.Manual):\n",
    "    definition = \"\"\"\n",
    "    -> Course\n",
    "    -> Term\n",
    "    section : char(1)\n",
    "    ---\n",
    "    auditorium   :  varchar(12)\n",
    "    \"\"\"\n",
    "    \n",
    "@schema\n",
    "class CurrentTerm(dj.Manual):\n",
    "    definition = \"\"\"\n",
    "    -> Term\n",
    "    \"\"\"\n",
    "\n",
    "@schema\n",
    "class Enroll(dj.Manual):\n",
    "    definition = \"\"\"\n",
    "    -> Student\n",
    "    -> Section\n",
    "    \"\"\"\n",
    "\n",
    "@schema\n",
    "class LetterGrade(dj.Manual):\n",
    "    definition = \"\"\"\n",
    "    grade : char(2)\n",
    "    ---\n",
    "    points : decimal(3,2)\n",
    "    \"\"\"\n",
    "\n",
    "@schema\n",
    "class Grade(dj.Manual):\n",
    "    definition = \"\"\"\n",
    "    -> Enroll\n",
    "    ---\n",
    "    -> LetterGrade\n",
    "    \"\"\""
   ]
  },
  {
   "cell_type": "code",
   "execution_count": 8,
   "metadata": {},
   "outputs": [
    {
     "data": {
      "image/svg+xml": [
       "<svg xmlns=\"http://www.w3.org/2000/svg\" xmlns:xlink=\"http://www.w3.org/1999/xlink\" width=\"484pt\" height=\"327pt\" viewBox=\"0.00 0.00 484.00 327.00\">\n",
       "<g id=\"graph0\" class=\"graph\" transform=\"scale(1 1) rotate(0) translate(4 323)\">\n",
       "<polygon fill=\"white\" stroke=\"transparent\" points=\"-4,4 -4,-323 480,-323 480,4 -4,4\"/>\n",
       "<!-- `dimitri_university`.`person` -->\n",
       "<g id=\"node1\" class=\"node\">\n",
       "<title>`dimitri_university`.`person`</title>\n",
       "<polygon fill=\"#00ff00\" fill-opacity=\"0.188235\" stroke=\"#00ff00\" stroke-opacity=\"0.188235\" points=\"161,-319 0,-319 0,-284 161,-284 161,-319\"/>\n",
       "<text text-anchor=\"start\" x=\"8\" y=\"-299.4\" font-family=\"arial\" text-decoration=\"underline\" font-size=\"12.00\" fill=\"darkgreen\">`dimitri_university`.`person`</text>\n",
       "</g>\n",
       "<!-- Student -->\n",
       "<g id=\"node2\" class=\"node\">\n",
       "<title>Student</title>\n",
       "<g id=\"a_node2\"><a xlink:title=\"student_id           \r",
       "------------------------------\r",
       "first_name           \r",
       "last_name            \r",
       "sex                  \r",
       "date_of_birth        \r",
       "home_address         \r",
       "home_city            \r",
       "home_state           \r",
       "home_zip             \r",
       "home_phone           \r",
       "\">\n",
       "<polygon fill=\"#00ff00\" fill-opacity=\"0.188235\" stroke=\"#00ff00\" stroke-opacity=\"0.188235\" points=\"237.5,-319 179.5,-319 179.5,-284 237.5,-284 237.5,-319\"/>\n",
       "<text text-anchor=\"start\" x=\"187.5\" y=\"-299.4\" font-family=\"arial\" text-decoration=\"underline\" font-size=\"12.00\" fill=\"darkgreen\">Student</text>\n",
       "</a>\n",
       "</g>\n",
       "</g>\n",
       "<!-- StudentMajor -->\n",
       "<g id=\"node7\" class=\"node\">\n",
       "<title>StudentMajor</title>\n",
       "<g id=\"a_node7\"><a xlink:title=\"→ Student\r",
       "------------------------------\r",
       "→ Department\r",
       "declare_date         \r",
       "\">\n",
       "<polygon fill=\"#00ff00\" fill-opacity=\"0.188235\" stroke=\"#00ff00\" stroke-opacity=\"0.188235\" points=\"305.5,-248 217.5,-248 217.5,-213 305.5,-213 305.5,-248\"/>\n",
       "<text text-anchor=\"middle\" x=\"261.5\" y=\"-227.4\" font-family=\"arial\" font-size=\"12.00\" fill=\"darkgreen\">StudentMajor</text>\n",
       "</a>\n",
       "</g>\n",
       "</g>\n",
       "<!-- Student&#45;&gt;StudentMajor -->\n",
       "<g id=\"edge1\" class=\"edge\">\n",
       "<title>Student-&gt;StudentMajor</title>\n",
       "<path fill=\"none\" stroke=\"#000000\" stroke-width=\"2\" stroke-opacity=\"0.250980\" d=\"M221.33,-283.8C229.66,-272.95 240.48,-258.87 248.79,-248.05\"/>\n",
       "</g>\n",
       "<!-- Enroll -->\n",
       "<g id=\"node9\" class=\"node\">\n",
       "<title>Enroll</title>\n",
       "<g id=\"a_node9\"><a xlink:title=\"→ Student\r",
       "→ Section\r",
       "\">\n",
       "<polygon fill=\"#00ff00\" fill-opacity=\"0.188235\" stroke=\"#00ff00\" stroke-opacity=\"0.188235\" points=\"289.5,-106 241.5,-106 241.5,-71 289.5,-71 289.5,-106\"/>\n",
       "<text text-anchor=\"middle\" x=\"265.5\" y=\"-85.4\" font-family=\"arial\" font-size=\"12.00\" fill=\"darkgreen\">Enroll</text>\n",
       "</a>\n",
       "</g>\n",
       "</g>\n",
       "<!-- Student&#45;&gt;Enroll -->\n",
       "<g id=\"edge2\" class=\"edge\">\n",
       "<title>Student-&gt;Enroll</title>\n",
       "<path fill=\"none\" stroke=\"#000000\" stroke-width=\"0.75\" stroke-opacity=\"0.250980\" d=\"M206.4,-283.82C204.64,-266.05 203.19,-237.18 208.5,-213 217.42,-172.41 241.01,-129.26 254.89,-106.25\"/>\n",
       "</g>\n",
       "<!-- Department -->\n",
       "<g id=\"node3\" class=\"node\">\n",
       "<title>Department</title>\n",
       "<g id=\"a_node3\"><a xlink:title=\"dept                 \r",
       "------------------------------\r",
       "dept_name            \r",
       "dept_address         \r",
       "dept_phone           \r",
       "\">\n",
       "<polygon fill=\"#00ff00\" fill-opacity=\"0.188235\" stroke=\"#00ff00\" stroke-opacity=\"0.188235\" points=\"372,-319 293,-319 293,-284 372,-284 372,-319\"/>\n",
       "<text text-anchor=\"start\" x=\"301\" y=\"-299.4\" font-family=\"arial\" text-decoration=\"underline\" font-size=\"12.00\" fill=\"darkgreen\">Department</text>\n",
       "</a>\n",
       "</g>\n",
       "</g>\n",
       "<!-- Course -->\n",
       "<g id=\"node4\" class=\"node\">\n",
       "<title>Course</title>\n",
       "<g id=\"a_node4\"><a xlink:title=\"→ Department\r",
       "course               \r",
       "------------------------------\r",
       "course_name          \r",
       "credits              \r",
       "\">\n",
       "<polygon fill=\"#00ff00\" fill-opacity=\"0.188235\" stroke=\"#00ff00\" stroke-opacity=\"0.188235\" points=\"379.5,-248 323.5,-248 323.5,-213 379.5,-213 379.5,-248\"/>\n",
       "<text text-anchor=\"start\" x=\"331.5\" y=\"-228.4\" font-family=\"arial\" text-decoration=\"underline\" font-size=\"12.00\" fill=\"darkgreen\">Course</text>\n",
       "</a>\n",
       "</g>\n",
       "</g>\n",
       "<!-- Department&#45;&gt;Course -->\n",
       "<g id=\"edge3\" class=\"edge\">\n",
       "<title>Department-&gt;Course</title>\n",
       "<path fill=\"none\" stroke=\"#000000\" stroke-width=\"0.75\" stroke-opacity=\"0.250980\" d=\"M337.1,-283.8C340.09,-272.95 343.96,-258.87 346.94,-248.05\"/>\n",
       "</g>\n",
       "<!-- Department&#45;&gt;StudentMajor -->\n",
       "<g id=\"edge4\" class=\"edge\">\n",
       "<title>Department-&gt;StudentMajor</title>\n",
       "<path fill=\"none\" stroke=\"#000000\" stroke-width=\"0.75\" stroke-dasharray=\"5,2\" stroke-opacity=\"0.250980\" d=\"M315.31,-283.8C304.15,-272.95 289.66,-258.87 278.53,-248.05\"/>\n",
       "</g>\n",
       "<!-- Section -->\n",
       "<g id=\"node6\" class=\"node\">\n",
       "<title>Section</title>\n",
       "<g id=\"a_node6\"><a xlink:title=\"→ Course\r",
       "→ Term\r",
       "section              \r",
       "------------------------------\r",
       "auditorium           \r",
       "\">\n",
       "<polygon fill=\"#00ff00\" fill-opacity=\"0.188235\" stroke=\"#00ff00\" stroke-opacity=\"0.188235\" points=\"375,-177 318,-177 318,-142 375,-142 375,-177\"/>\n",
       "<text text-anchor=\"start\" x=\"326\" y=\"-157.4\" font-family=\"arial\" text-decoration=\"underline\" font-size=\"12.00\" fill=\"darkgreen\">Section</text>\n",
       "</a>\n",
       "</g>\n",
       "</g>\n",
       "<!-- Course&#45;&gt;Section -->\n",
       "<g id=\"edge5\" class=\"edge\">\n",
       "<title>Course-&gt;Section</title>\n",
       "<path fill=\"none\" stroke=\"#000000\" stroke-width=\"0.75\" stroke-opacity=\"0.250980\" d=\"M350.29,-212.8C349.5,-201.95 348.48,-187.87 347.7,-177.05\"/>\n",
       "</g>\n",
       "<!-- Term -->\n",
       "<g id=\"node5\" class=\"node\">\n",
       "<title>Term</title>\n",
       "<g id=\"a_node5\"><a xlink:title=\"term_year            \r",
       "term                 \r",
       "\">\n",
       "<polygon fill=\"#00ff00\" fill-opacity=\"0.188235\" stroke=\"#00ff00\" stroke-opacity=\"0.188235\" points=\"451,-248 408,-248 408,-213 451,-213 451,-248\"/>\n",
       "<text text-anchor=\"start\" x=\"416\" y=\"-228.4\" font-family=\"arial\" text-decoration=\"underline\" font-size=\"12.00\" fill=\"darkgreen\">Term</text>\n",
       "</a>\n",
       "</g>\n",
       "</g>\n",
       "<!-- Term&#45;&gt;Section -->\n",
       "<g id=\"edge6\" class=\"edge\">\n",
       "<title>Term-&gt;Section</title>\n",
       "<path fill=\"none\" stroke=\"#000000\" stroke-width=\"0.75\" stroke-opacity=\"0.250980\" d=\"M409.41,-212.8C396.36,-201.95 379.42,-187.87 366.41,-177.05\"/>\n",
       "</g>\n",
       "<!-- CurrentTerm -->\n",
       "<g id=\"node8\" class=\"node\">\n",
       "<title>CurrentTerm</title>\n",
       "<g id=\"a_node8\"><a xlink:title=\"→ Term\r",
       "\">\n",
       "<polygon fill=\"#00ff00\" fill-opacity=\"0.188235\" stroke=\"#00ff00\" stroke-opacity=\"0.188235\" points=\"476,-177 393,-177 393,-142 476,-142 476,-177\"/>\n",
       "<text text-anchor=\"middle\" x=\"434.5\" y=\"-156.4\" font-family=\"arial\" font-size=\"12.00\" fill=\"darkgreen\">CurrentTerm</text>\n",
       "</a>\n",
       "</g>\n",
       "</g>\n",
       "<!-- Term&#45;&gt;CurrentTerm -->\n",
       "<g id=\"edge7\" class=\"edge\">\n",
       "<title>Term-&gt;CurrentTerm</title>\n",
       "<path fill=\"none\" stroke=\"#000000\" stroke-width=\"2\" stroke-opacity=\"0.250980\" d=\"M430.71,-212.8C431.5,-201.95 432.52,-187.87 433.3,-177.05\"/>\n",
       "</g>\n",
       "<!-- Section&#45;&gt;Enroll -->\n",
       "<g id=\"edge8\" class=\"edge\">\n",
       "<title>Section-&gt;Enroll</title>\n",
       "<path fill=\"none\" stroke=\"#000000\" stroke-width=\"0.75\" stroke-opacity=\"0.250980\" d=\"M326.89,-141.8C314.16,-130.95 297.63,-116.87 284.93,-106.05\"/>\n",
       "</g>\n",
       "<!-- Grade -->\n",
       "<g id=\"node10\" class=\"node\">\n",
       "<title>Grade</title>\n",
       "<g id=\"a_node10\"><a xlink:title=\"→ Enroll\r",
       "------------------------------\r",
       "→ LetterGrade\r",
       "\">\n",
       "<polygon fill=\"#00ff00\" fill-opacity=\"0.188235\" stroke=\"#00ff00\" stroke-opacity=\"0.188235\" points=\"331.5,-35 281.5,-35 281.5,0 331.5,0 331.5,-35\"/>\n",
       "<text text-anchor=\"middle\" x=\"306.5\" y=\"-14.4\" font-family=\"arial\" font-size=\"12.00\" fill=\"darkgreen\">Grade</text>\n",
       "</a>\n",
       "</g>\n",
       "</g>\n",
       "<!-- Enroll&#45;&gt;Grade -->\n",
       "<g id=\"edge9\" class=\"edge\">\n",
       "<title>Enroll-&gt;Grade</title>\n",
       "<path fill=\"none\" stroke=\"#000000\" stroke-width=\"2\" stroke-opacity=\"0.250980\" d=\"M275.42,-70.8C281.87,-59.95 290.24,-45.87 296.67,-35.05\"/>\n",
       "</g>\n",
       "<!-- LetterGrade -->\n",
       "<g id=\"node11\" class=\"node\">\n",
       "<title>LetterGrade</title>\n",
       "<g id=\"a_node11\"><a xlink:title=\"grade                \r",
       "------------------------------\r",
       "points               \r",
       "\">\n",
       "<polygon fill=\"#00ff00\" fill-opacity=\"0.188235\" stroke=\"#00ff00\" stroke-opacity=\"0.188235\" points=\"387.5,-106 307.5,-106 307.5,-71 387.5,-71 387.5,-106\"/>\n",
       "<text text-anchor=\"start\" x=\"315.5\" y=\"-86.4\" font-family=\"arial\" text-decoration=\"underline\" font-size=\"12.00\" fill=\"darkgreen\">LetterGrade</text>\n",
       "</a>\n",
       "</g>\n",
       "</g>\n",
       "<!-- LetterGrade&#45;&gt;Grade -->\n",
       "<g id=\"edge10\" class=\"edge\">\n",
       "<title>LetterGrade-&gt;Grade</title>\n",
       "<path fill=\"none\" stroke=\"#000000\" stroke-width=\"0.75\" stroke-dasharray=\"5,2\" stroke-opacity=\"0.250980\" d=\"M337.58,-70.8C331.13,-59.95 322.76,-45.87 316.33,-35.05\"/>\n",
       "</g>\n",
       "</g>\n",
       "</svg>"
      ],
      "text/plain": [
       "<datajoint.diagram.Diagram at 0x144252c40>"
      ]
     },
     "execution_count": 8,
     "metadata": {},
     "output_type": "execute_result"
    }
   ],
   "source": [
    "dj.Diagram(schema)"
   ]
  },
  {
   "cell_type": "code",
   "execution_count": null,
   "metadata": {},
   "outputs": [],
   "source": [
    "CurrentTerm()"
   ]
  },
  {
   "cell_type": "code",
   "execution_count": null,
   "metadata": {
    "slideshow": {
     "slide_type": "slide"
    }
   },
   "outputs": [],
   "source": [
    "dj.Diagram(schema)"
   ]
  },
  {
   "cell_type": "code",
   "execution_count": null,
   "metadata": {},
   "outputs": [],
   "source": [
    "CurrentTerm.describe()"
   ]
  },
  {
   "cell_type": "code",
   "execution_count": null,
   "metadata": {},
   "outputs": [],
   "source": [
    "@schema\n",
    "class Prom(dj.Manual):\n",
    "    definition = \"\"\"\n",
    "    -> CurrentTerm\n",
    "    ---    \n",
    "    \"\"\""
   ]
  },
  {
   "cell_type": "code",
   "execution_count": null,
   "metadata": {},
   "outputs": [],
   "source": [
    "isinstance(IndexError(), IndexError)"
   ]
  },
  {
   "cell_type": "code",
   "execution_count": null,
   "metadata": {},
   "outputs": [],
   "source": [
    "try:\n",
    "    raise IndexError()\n",
    "except Exception as e:\n",
    "    print(isinstance(e, IndexError))"
   ]
  },
  {
   "cell_type": "code",
   "execution_count": null,
   "metadata": {},
   "outputs": [],
   "source": [
    "Prom()"
   ]
  },
  {
   "cell_type": "code",
   "execution_count": null,
   "metadata": {},
   "outputs": [],
   "source": [
    "Term().insert1(('2020', 'Spring'))"
   ]
  },
  {
   "cell_type": "code",
   "execution_count": null,
   "metadata": {},
   "outputs": [],
   "source": [
    "CurrentTerm.insert1((' ', '2019', 'Fall'))"
   ]
  },
  {
   "cell_type": "code",
   "execution_count": null,
   "metadata": {},
   "outputs": [],
   "source": [
    "CurrentTerm()"
   ]
  },
  {
   "cell_type": "code",
   "execution_count": null,
   "metadata": {},
   "outputs": [],
   "source": [
    "Prom.describe();"
   ]
  },
  {
   "cell_type": "code",
   "execution_count": null,
   "metadata": {},
   "outputs": [],
   "source": [
    "set((1,2,3)).difference(({'_'}))"
   ]
  },
  {
   "cell_type": "code",
   "execution_count": null,
   "metadata": {},
   "outputs": [],
   "source": [
    "{'1213'}"
   ]
  },
  {
   "cell_type": "code",
   "execution_count": null,
   "metadata": {},
   "outputs": [],
   "source": []
  }
 ],
 "metadata": {
  "kernelspec": {
   "display_name": "Python 3",
   "language": "python",
   "name": "python3"
  },
  "language_info": {
   "codemirror_mode": {
    "name": "ipython",
    "version": 3
   },
   "file_extension": ".py",
   "mimetype": "text/x-python",
   "name": "python",
   "nbconvert_exporter": "python",
   "pygments_lexer": "ipython3",
   "version": "3.9.2"
  }
 },
 "nbformat": 4,
 "nbformat_minor": 2
}

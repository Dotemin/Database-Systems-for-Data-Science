{
 "cells": [
  {
   "cell_type": "markdown",
   "metadata": {},
   "source": [
    "# Homework:  Hotel Database -- Due Nov 21.\n",
    "\n",
    "Design a database with \n",
    "\n",
    "- Rooms\n",
    "- Guests \n",
    "- Reservations\n",
    "- Check-in:  date/time  for reservation\n",
    "- Check-out: date/time  for reservation\n",
    "\n",
    "### Rules\n",
    "1. A reservation reserves one room for one night for one guest\n",
    "2. A guest can reserve multiple rooms per night.\n",
    "2. A guest must have a reservation to check in.\n",
    "3. Checkout can only be done after a check-in. \n",
    "4. Checking into a room is allowed only after the previous guest checks out \n",
    "\n",
    "### Assignment\n",
    "1. Design tables that enforce these rules\n",
    "2. Populate with fake rooms, customers, and nights.\n",
    "3. Define function `reserve` to make a reservation. Call it to make fake reservations.\n",
    "3. Define functions `checkin` and `checkout`. Call them to demonstrate that they work. \n",
    "4. Use transactions if or when necessary"
   ]
  },
  {
   "cell_type": "code",
   "execution_count": null,
   "metadata": {},
   "outputs": [],
   "source": [
    "schema = dj.schema('dimitri_hotel')"
   ]
  },
  {
   "cell_type": "code",
   "execution_count": null,
   "metadata": {},
   "outputs": [],
   "source": [
    "import random"
   ]
  },
  {
   "cell_type": "code",
   "execution_count": null,
   "metadata": {},
   "outputs": [],
   "source": [
    "Room.drop()"
   ]
  },
  {
   "cell_type": "code",
   "execution_count": null,
   "metadata": {},
   "outputs": [],
   "source": [
    "@schema\n",
    "class Beds(dj.Lookup):\n",
    "    definition = \"\"\"\n",
    "        beds : varchar(12)\n",
    "        \"\"\"\n",
    "    contents = [\n",
    "        ['Queen'],\n",
    "        ['King'],\n",
    "        ['Two Twins'],\n",
    "        ['Twin']]\n",
    "\n",
    "\n",
    "@schema\n",
    "class Room(dj.Lookup):\n",
    "    definition = \"\"\"\n",
    "    room  : int\n",
    "    ---\n",
    "    -> Beds\n",
    "    \"\"\"    \n",
    "    \n",
    "    @property\n",
    "    def contents(self):\n",
    "        beds = Beds.fetch(as_dict=True)\n",
    "        for room in range(100):\n",
    "            bed_choice = random.choice(beds)\n",
    "            yield dict(room=room, **bed_choice)\n",
    "    \n",
    "\n",
    "@schema \n",
    "class RoomRate(dj.Manual):\n",
    "    definition = \"\"\"\n",
    "    -> Room\n",
    "    night   : date\n",
    "    ---\n",
    "    rate : decimal(5, 2)\n",
    "    \"\"\"\n",
    "    \n",
    "@schema\n",
    "class Guest(dj.Manual):\n",
    "    definition = \"\"\"\n",
    "    guest_id  : int\n",
    "    ---\n",
    "    phone = null :   varchar(25)\n",
    "    full_name  : varchar(60)\n",
    "    unique index(full_name, phone)\n",
    "    \"\"\"\n",
    "    \n",
    "@schema\n",
    "class Reservation(dj.Manual):\n",
    "    definition = \"\"\"\n",
    "    -> RoomRate\n",
    "    ---\n",
    "    -> Guest\n",
    "    \"\"\"\n",
    "\n",
    "@schema\n",
    "class CheckIn(dj.Manual):\n",
    "    definition = \"\"\"\n",
    "    -> Reservation \n",
    "    ---\n",
    "    checkin_time = CURRENT_TIMESTAMP : datetime\n",
    "    \"\"\"\n",
    "    \n",
    "@schema\n",
    "class CheckOut(dj.Manual):\n",
    "    definition = \"\"\"\n",
    "    -> CheckIn\n",
    "    ---\n",
    "    checkout_time = CURRENT_TIMESTAMP : datetime\n",
    "    \"\"\""
   ]
  },
  {
   "cell_type": "code",
   "execution_count": null,
   "metadata": {},
   "outputs": [],
   "source": [
    "import faker\n",
    "fake = faker.Faker()"
   ]
  },
  {
   "cell_type": "code",
   "execution_count": null,
   "metadata": {},
   "outputs": [],
   "source": [
    "RoomRate.insert((\n",
    "    dict(key, \n",
    "        night=fake.date_this_month(), \n",
    "        rate=round(random.uniform(30, 250), 2))\n",
    "            for key in Room.fetch('KEY')\n",
    "            for _ in range(10)), skip_duplicates=True)"
   ]
  },
  {
   "cell_type": "code",
   "execution_count": null,
   "metadata": {},
   "outputs": [],
   "source": [
    "RoomRate()"
   ]
  },
  {
   "cell_type": "code",
   "execution_count": null,
   "metadata": {},
   "outputs": [],
   "source": [
    "Guest.insert((dict(guest_id=i, full_name=fake.name(), phone=fake.phone_number()))\n",
    "             for i in range(100)) "
   ]
  },
  {
   "cell_type": "code",
   "execution_count": null,
   "metadata": {},
   "outputs": [],
   "source": [
    "Guest()"
   ]
  },
  {
   "cell_type": "code",
   "execution_count": null,
   "metadata": {},
   "outputs": [],
   "source": [
    "def reserve(guest_id, night):\n",
    "    with dj.conn().transaction:\n",
    "        available_rooms = ((RoomRate - Reservation) & {'night': night}).fetch(as_dict=True)\n",
    "        try:\n",
    "            choice = random.choice(available_rooms)\n",
    "        except IndexError:\n",
    "            raise IndexError(f'Sorry, no rooms available for {night}')\n",
    "        name = (Guest & {'guest_id': guest_id}).fetch1('full_name')\n",
    "        print('Success. Reserving room {room} at rate {rate} for {name}'.format(\n",
    "            name=name, **choice))\n",
    "        Reservation.insert1(dict(choice, guest_id=guest_id), ignore_extra_fields=True)"
   ]
  },
  {
   "cell_type": "code",
   "execution_count": null,
   "metadata": {},
   "outputs": [],
   "source": [
    "reserve(87, '2020-11-23')"
   ]
  },
  {
   "cell_type": "code",
   "execution_count": null,
   "metadata": {},
   "outputs": [],
   "source": [
    "Reservation()"
   ]
  },
  {
   "cell_type": "code",
   "execution_count": null,
   "metadata": {},
   "outputs": [],
   "source": [
    "def checkin(room, night, guest_id):\n",
    "    with CheckIn.connection.transaction:\n",
    "        if (CheckIn & {'room': room}) - CheckOut:\n",
    "            raise RuntimeError('Someone is still in that room')\n",
    "        if not (Reservation & {'night': night, 'guest_id': guest_id, 'room': room}):\n",
    "            raise RuntimeError('You are not the person on the reservation')\n",
    "        CheckIn.insert1(dict(room=room, night=night))"
   ]
  },
  {
   "cell_type": "code",
   "execution_count": null,
   "metadata": {},
   "outputs": [],
   "source": [
    "CheckIn()"
   ]
  },
  {
   "cell_type": "code",
   "execution_count": null,
   "metadata": {},
   "outputs": [],
   "source": [
    "checkin(99, \"2020-11-23\", 65)"
   ]
  },
  {
   "cell_type": "code",
   "execution_count": null,
   "metadata": {},
   "outputs": [],
   "source": [
    "def checkout(room, night, guest_id):\n",
    "    with CheckOut.connection.transaction:\n",
    "        if not (Reservation & {'night': night, 'guest_id': guest_id, 'room': room}):\n",
    "            raise RuntimeError('You are not the person on the reservation')\n",
    "        CheckOut.insert1(dict(room=room, night=night))"
   ]
  },
  {
   "cell_type": "code",
   "execution_count": null,
   "metadata": {},
   "outputs": [],
   "source": [
    "checkout(18, \"2020-11-23\", 87)"
   ]
  },
  {
   "cell_type": "code",
   "execution_count": null,
   "metadata": {},
   "outputs": [],
   "source": []
  }
 ],
 "metadata": {
  "kernelspec": {
   "display_name": "Python 3",
   "language": "python",
   "name": "python3"
  },
  "language_info": {
   "codemirror_mode": {
    "name": "ipython",
    "version": 3
   },
   "file_extension": ".py",
   "mimetype": "text/x-python",
   "name": "python",
   "nbconvert_exporter": "python",
   "pygments_lexer": "ipython3",
   "version": "3.8.5"
  }
 },
 "nbformat": 4,
 "nbformat_minor": 4
}

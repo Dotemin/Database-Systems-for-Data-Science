{
 "cells": [
  {
   "cell_type": "markdown",
   "metadata": {},
   "source": [
    "# Solutions\n",
    "\n"
   ]
  },
  {
   "cell_type": "code",
   "execution_count": null,
   "metadata": {},
   "outputs": [],
   "source": [
    "# setup SQL magic and DataJoint\n",
    "\n",
    "import json\n",
    "with open('cred.json') as f:\n",
    "    creds = json.load(f)\n",
    "\n",
    "connection_string = \"mysql://{user}:{password}@{host}\".format(**creds)\n",
    "\n",
    "import pymysql \n",
    "pymysql.install_as_MySQLdb()\n",
    "\n",
    "%load_ext sql\n",
    "%config SqlMagic.autocommit=True\n",
    "%sql $connection_string\n",
    "\n",
    "import datajoint as dj"
   ]
  },
  {
   "cell_type": "code",
   "execution_count": null,
   "metadata": {},
   "outputs": [],
   "source": [
    "# create classes for working with tables\n",
    "world = dj.create_virtual_module('world', 'shared_world')\n",
    "sales = dj.create_virtual_module('sales', 'shared_sales')\n",
    "sakila = dj.create_virtual_module('sakila', 'shared_sakila')\n",
    "airport = dj.create_virtual_module('airport', 'shared_airport')"
   ]
  },
  {
   "cell_type": "code",
   "execution_count": null,
   "metadata": {},
   "outputs": [],
   "source": [
    "dj.Diagram(airport)"
   ]
  },
  {
   "cell_type": "markdown",
   "metadata": {},
   "source": [
    "### Homework 9 -- Chess\n",
    "\n",
    "Chess tournament <username>_chess\n",
    "Model the chess games between members of your chess clubs.\n",
    "\n",
    "1. Club members are identified by a 12-character nickname\n",
    "2. Each game has two players: one playing white and the other black.\n",
    "3. Each game has a start date/time and an end date/time.\n",
    "4. Each game also has one of four possible outcomes: white wins, black wins, draw, or aborted."
   ]
  },
  {
   "cell_type": "code",
   "execution_count": null,
   "metadata": {},
   "outputs": [],
   "source": [
    "schema = dj.Schema('dimitri_chess')"
   ]
  },
  {
   "cell_type": "code",
   "execution_count": null,
   "metadata": {},
   "outputs": [],
   "source": [
    "@schema\n",
    "class Member(dj.Manual):\n",
    "    definition = \"\"\"\n",
    "    nickname : varchar(12)\n",
    "    \"\"\"\n",
    "    \n",
    "@schema\n",
    "class Game(dj.Manual):\n",
    "    definition = \"\"\"\n",
    "    game_id : int\n",
    "    ---\n",
    "    start : datetime\n",
    "    end   : datetime\n",
    "    -> Member.proj(white=\"nickname\")\n",
    "    -> Member.proj(black=\"nickname\")\n",
    "    \"\"\"\n",
    "\n",
    "@schema\n",
    "class Outcome(dj.Manual):\n",
    "    definition = \"\"\"\n",
    "    -> Game\n",
    "    ---\n",
    "    outcome : enum('white_wins',  'black_wins', 'draw', 'aborted')\n",
    "    \"\"\""
   ]
  },
  {
   "cell_type": "code",
   "execution_count": null,
   "metadata": {},
   "outputs": [],
   "source": [
    "dj.Diagram(schema)"
   ]
  },
  {
   "cell_type": "code",
   "execution_count": null,
   "metadata": {},
   "outputs": [],
   "source": [
    "@schema\n",
    "class Member2(dj.Manual):\n",
    "    definition = \"\"\"\n",
    "    nickname : varchar(12)\n",
    "    \"\"\"\n",
    "    \n",
    "@schema\n",
    "class Game2(dj.Manual):\n",
    "    definition = \"\"\"\n",
    "    game_id : int\n",
    "    ---\n",
    "    start : datetime\n",
    "    end   : datetime\n",
    "    \"\"\"\n",
    "\n",
    "    class Player2(dj.Part):\n",
    "        definition = \"\"\"\n",
    "        -> master\n",
    "        color : enum('black', 'white')\n",
    "        ---\n",
    "        -> Member2\n",
    "        \"\"\"\n",
    "\n",
    "@schema\n",
    "class Outcome2(dj.Manual):\n",
    "    definition = \"\"\"\n",
    "    -> Game2\n",
    "    ---\n",
    "    outcome : enum('white_wins',  'black_wins', 'draw', 'aborted')\n",
    "    \"\"\""
   ]
  },
  {
   "cell_type": "code",
   "execution_count": null,
   "metadata": {},
   "outputs": [],
   "source": [
    "dj.Diagram(schema)"
   ]
  },
  {
   "cell_type": "markdown",
   "metadata": {},
   "source": [
    "### Payments <username>_payments\n",
    "Create a database of users with their payment methods.\n",
    "\n",
    "1. Users are identified by their usernames\n",
    "2. Users have names and emails; no two users can share the same email.\n",
    "3. User may have one or more payment methods.\n",
    "4. A payment method is identified by a 16-bit credit card number and has a requird expiration date.\n",
    "5. If a user has any payment methods, one them must be designated as the default payment methods. A user cannot have more than one default payment methods."
   ]
  },
  {
   "cell_type": "code",
   "execution_count": null,
   "metadata": {},
   "outputs": [],
   "source": [
    "%%sql \n",
    "create schema dimitri_payments"
   ]
  },
  {
   "cell_type": "code",
   "execution_count": null,
   "metadata": {},
   "outputs": [],
   "source": [
    "%%sql\n",
    "\n",
    "USE dimitri_payments"
   ]
  },
  {
   "cell_type": "code",
   "execution_count": null,
   "metadata": {},
   "outputs": [],
   "source": [
    "%%sql\n",
    "\n",
    "CREATE TABLE user(\n",
    "    username varchar(18) NOT NULL,\n",
    "    name varchar(60) NOT NULL,\n",
    "    email varchar(120) NOT NULL,\n",
    "    PRIMARY KEY (username)\n",
    ")"
   ]
  },
  {
   "cell_type": "code",
   "execution_count": null,
   "metadata": {},
   "outputs": [],
   "source": [
    "%%sql \n",
    "CREATE TABLE payment_method(\n",
    "    credit_card_number varchar(16) NOT NULL,\n",
    "    expiration_date date NOT NULL,\n",
    "    is_default enum('yes'), \n",
    "    username varchar(18) NOT NULL,\n",
    "    PRIMARY KEY (credit_card_number),\n",
    "    FOREIGN KEY (username) REFERENCES user(username),\n",
    "    UNIQUE INDEX(username, is_default)\n",
    ")"
   ]
  },
  {
   "cell_type": "code",
   "execution_count": null,
   "metadata": {},
   "outputs": [],
   "source": [
    "pay = dj.create_virtual_module('pay', 'dimitri_payments')"
   ]
  },
  {
   "cell_type": "code",
   "execution_count": null,
   "metadata": {},
   "outputs": [],
   "source": [
    "dj.Diagram(pay)"
   ]
  },
  {
   "cell_type": "code",
   "execution_count": null,
   "metadata": {},
   "outputs": [],
   "source": [
    "pay.schema.save('pay.py')"
   ]
  },
  {
   "cell_type": "markdown",
   "metadata": {},
   "source": [
    "### Assignment 8 Problem 2\n",
    "\n",
    "List the pairs of actors and the number of films they have been in together. Show only the top ten 10 pairs."
   ]
  },
  {
   "cell_type": "code",
   "execution_count": null,
   "metadata": {},
   "outputs": [],
   "source": [
    "%%sql\n",
    "use shared_sakila"
   ]
  },
  {
   "cell_type": "code",
   "execution_count": null,
   "metadata": {},
   "outputs": [],
   "source": [
    "%%sql\n",
    "SELECT fa1.actor_id as actor1, fa2.actor_id as actor2, count(film_id) as n\n",
    "  FROM film_actor as fa1 JOIN film_actor as fa2 USING (film_id) \n",
    "  WHERE  fa1.actor_id <  fa2.actor_id\n",
    "  GROUP BY fa1.actor_id, fa2.actor_id\n",
    "  ORDER BY n DESC\n",
    "  LIMIT 10;"
   ]
  },
  {
   "cell_type": "markdown",
   "metadata": {},
   "source": [
    "### HW 8 Problem 3\n",
    "List the titles of all films on the inventory of Store 2 only, i.e. not found in Store 1."
   ]
  },
  {
   "cell_type": "code",
   "execution_count": null,
   "metadata": {},
   "outputs": [],
   "source": [
    "%%sql\n",
    "USE shared_sakila"
   ]
  },
  {
   "cell_type": "code",
   "execution_count": null,
   "metadata": {},
   "outputs": [],
   "source": [
    "%%sql \n",
    "SELECT * FROM inventory LIMIT 5"
   ]
  },
  {
   "cell_type": "code",
   "execution_count": null,
   "metadata": {},
   "outputs": [],
   "source": [
    "%%sql \n",
    "SELECT DISTINCT film_id FROM inventory \n",
    "WHERE store_id = 2 and film_id NOT IN (\n",
    "    SELECT film_id FROM inventory \n",
    "    WHERE store_id = 1)"
   ]
  },
  {
   "cell_type": "markdown",
   "metadata": {},
   "source": [
    "### Homework 8 Problem 16\n",
    "List pairs of airlines and the number of airports that they share, limit to the top 10 most connected airlines."
   ]
  },
  {
   "cell_type": "code",
   "execution_count": null,
   "metadata": {},
   "outputs": [],
   "source": [
    "dj.Diagram(airport)"
   ]
  },
  {
   "cell_type": "code",
   "execution_count": null,
   "metadata": {},
   "outputs": [],
   "source": [
    "%%sql\n",
    "use shared_airport"
   ]
  },
  {
   "cell_type": "code",
   "execution_count": null,
   "metadata": {},
   "outputs": [],
   "source": [
    "%%sql\n",
    "\n",
    "SELECT a1.airline_id, a2.airline_id, count(base_airport) as shared_airports \n",
    "  FROM airline as a1 JOIN airline as a2 USING (base_airport)\n",
    "  WHERE a1.airline_id < a2.airline_id\n",
    "    GROUP BY a1.airline_id, a2.airline_id"
   ]
  },
  {
   "cell_type": "markdown",
   "metadata": {},
   "source": [
    "### Assignment 6 Problem 3\n",
    "\n",
    "List all customers who have made single payments of $11.00 or more."
   ]
  },
  {
   "cell_type": "code",
   "execution_count": null,
   "metadata": {},
   "outputs": [],
   "source": [
    "%%sql\n",
    "use shared_sakila"
   ]
  },
  {
   "cell_type": "code",
   "execution_count": null,
   "metadata": {},
   "outputs": [],
   "source": [
    "%%sql\n",
    "SELECT first_name, last_name\n",
    "    FROM customer\n",
    "    WHERE customer_id IN (\n",
    "        SELECT customer_id FROM payment WHERE amount >= 11.0)"
   ]
  },
  {
   "cell_type": "code",
   "execution_count": null,
   "metadata": {},
   "outputs": [],
   "source": [
    "%%sql\n",
    "SELECT first_name, last_name\n",
    "    FROM customer JOIN payment USING (customer_id)\n",
    "    WHERE amount >= 11.0\n",
    "    GROUP BY customer_id"
   ]
  },
  {
   "cell_type": "markdown",
   "metadata": {},
   "source": [
    "## Homework 6  Problem 6\n",
    "\n",
    "Display all customers who have ever ordered a bicycle"
   ]
  },
  {
   "cell_type": "code",
   "execution_count": null,
   "metadata": {},
   "outputs": [],
   "source": [
    "%%sql\n",
    "use shared_sales"
   ]
  },
  {
   "cell_type": "code",
   "execution_count": null,
   "metadata": {},
   "outputs": [],
   "source": [
    "%%sql\n",
    "SELECT DISTINCT customer_id, customer_first_name, customer_last_name\n",
    "    FROM customer\n",
    "        JOIN `order` USING (customer_id)\n",
    "        JOIN `order__item` USING (order_number)\n",
    "        JOIN product USING (product_number)\n",
    "        JOIN category USING (category_id)\n",
    "    WHERE (category_description = \"Bikes\")"
   ]
  },
  {
   "cell_type": "code",
   "execution_count": null,
   "metadata": {},
   "outputs": [],
   "source": [
    "%%sql\n",
    "SELECT customer_id, customer_first_name, customer_last_name\n",
    "FROM customer WHERE customer_id IN \n",
    "    (SELECT customer_id FROM `order` \n",
    "        NATURAL JOIN `order__item` \n",
    "        NATURAL JOIN product \n",
    "        NATURAL JOIN category\n",
    "    WHERE (category_description = \"Bikes\"))"
   ]
  },
  {
   "cell_type": "markdown",
   "metadata": {},
   "source": [
    "### Homework 9 Problem 1\n",
    "\n",
    "Create a database to keep track of each copy of a collection of book titles in your bookstore.\n",
    "\n",
    "Book titles are identified by their ISBN.\n",
    "Your store may have several copies under the same title."
   ]
  },
  {
   "cell_type": "code",
   "execution_count": null,
   "metadata": {},
   "outputs": [],
   "source": [
    "@schema\n",
    "class BookTitle(dj.Manual):\n",
    "    definition = \"\"\"\n",
    "    isbn : int\n",
    "    ---\n",
    "    title : varchar(300)\n",
    "    \"\"\"\n",
    "\n",
    "\n",
    "@schema\n",
    "class Catalog(dj.Manual):\n",
    "    definition = \"\"\"\n",
    "    -> BookTile\n",
    "    copy : tinyint unsigned \n",
    "    ---\n",
    "    \"\"\""
   ]
  },
  {
   "cell_type": "code",
   "execution_count": null,
   "metadata": {},
   "outputs": [],
   "source": []
  }
 ],
 "metadata": {
  "kernelspec": {
   "display_name": "benv",
   "language": "python",
   "name": "benv"
  },
  "language_info": {
   "codemirror_mode": {
    "name": "ipython",
    "version": 3
   },
   "file_extension": ".py",
   "mimetype": "text/x-python",
   "name": "python",
   "nbconvert_exporter": "python",
   "pygments_lexer": "ipython3",
   "version": "3.10.4"
  }
 },
 "nbformat": 4,
 "nbformat_minor": 4
}

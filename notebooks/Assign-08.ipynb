{
 "cells": [
  {
   "cell_type": "markdown",
   "metadata": {},
   "source": [
    "# Publication database\n",
    "Create a database that tracks publications and their authors in order"
   ]
  },
  {
   "cell_type": "code",
   "execution_count": null,
   "metadata": {},
   "outputs": [],
   "source": [
    "import datajoint as dj"
   ]
  },
  {
   "cell_type": "code",
   "execution_count": null,
   "metadata": {},
   "outputs": [],
   "source": [
    "schema = dj.schema('dimitri_publications')\n",
    "schema.drop()\n",
    "schema = dj.schema('dimitri_publications')"
   ]
  },
  {
   "cell_type": "code",
   "execution_count": null,
   "metadata": {},
   "outputs": [],
   "source": [
    "@schema\n",
    "class Publication(dj.Manual):\n",
    "    definition = \"\"\"\n",
    "    pub_id : int \n",
    "    ---\n",
    "    title : varchar(1000)\n",
    "    publish_date  : date \n",
    "    author : varchar(1000)\n",
    "    \"\"\""
   ]
  },
  {
   "cell_type": "code",
   "execution_count": null,
   "metadata": {},
   "outputs": [],
   "source": [
    "import faker\n",
    "faker = faker.Faker()"
   ]
  },
  {
   "cell_type": "code",
   "execution_count": null,
   "metadata": {},
   "outputs": [],
   "source": [
    "for i in range(30):\n",
    "    Publication.insert1(dict(\n",
    "        pub_id=i, title=faker.sentence(), \n",
    "        publish_date=faker.date_this_decade(), author=faker.name()), skip_duplicates=True)"
   ]
  },
  {
   "cell_type": "code",
   "execution_count": null,
   "metadata": {},
   "outputs": [],
   "source": [
    "Publication()"
   ]
  },
  {
   "cell_type": "markdown",
   "metadata": {},
   "source": [
    "# New design. Many-many publication/author"
   ]
  },
  {
   "cell_type": "code",
   "execution_count": null,
   "metadata": {},
   "outputs": [],
   "source": [
    "schema.drop()\n",
    "schema = dj.schema('dimitri_publications')"
   ]
  },
  {
   "cell_type": "code",
   "execution_count": null,
   "metadata": {},
   "outputs": [],
   "source": [
    "@schema \n",
    "class Author(dj.Manual):\n",
    "    definition = \"\"\"\n",
    "    author_id : int \n",
    "    ---\n",
    "    first_name : varchar(100)\n",
    "    last_name : varchar(100)\n",
    "    \"\"\""
   ]
  },
  {
   "cell_type": "code",
   "execution_count": null,
   "metadata": {},
   "outputs": [],
   "source": [
    "for i in range(100):\n",
    "    Author.insert1(dict(author_id=i, \n",
    "                        first_name=faker.first_name(), \n",
    "                        last_name=faker.last_name()))"
   ]
  },
  {
   "cell_type": "markdown",
   "metadata": {},
   "source": [
    "### Do the same kind of insert in using SQL"
   ]
  },
  {
   "cell_type": "code",
   "execution_count": null,
   "metadata": {},
   "outputs": [],
   "source": [
    "# Insert into the Author table using pymysql and SQL statements\n",
    "import json\n",
    "with open('cred.json') as f:\n",
    "    creds=json.load(f)\n",
    "    \n",
    "import pymysql\n",
    "\n",
    "# establish a database connection\n",
    "conn = pymysql.connect(\n",
    "    host=creds['host'], \n",
    "    user=creds['user'], \n",
    "    passwd=creds['password'],\n",
    "    autocommit=True)\n",
    "\n",
    "cursor = conn.cursor()\n",
    "cursor.execute(\"\"\"SELECT * FROM dimitri_publications.author\"\"\")"
   ]
  },
  {
   "cell_type": "code",
   "execution_count": null,
   "metadata": {},
   "outputs": [],
   "source": [
    "cursor.fetchall()"
   ]
  },
  {
   "cell_type": "code",
   "execution_count": null,
   "metadata": {},
   "outputs": [],
   "source": [
    "cursor.execute(\"\"\"\n",
    "INSERT INTO dimitri_publications.author (author_id, first_name, last_name) VALUES (%s, %s, %s)\n",
    "\"\"\", (1001, faker.first_name(), faker.last_name()))"
   ]
  },
  {
   "cell_type": "code",
   "execution_count": null,
   "metadata": {},
   "outputs": [],
   "source": [
    "# same thing but faster\n",
    "Author.insert((\n",
    "    dict(\n",
    "        author_id=i, \n",
    "        first_name=faker.first_name(), \n",
    "        last_name=faker.last_name()) for i in range(100))\n",
    "    , skip_duplicates=True)"
   ]
  },
  {
   "cell_type": "code",
   "execution_count": null,
   "metadata": {},
   "outputs": [],
   "source": [
    "Author()"
   ]
  },
  {
   "cell_type": "code",
   "execution_count": null,
   "metadata": {},
   "outputs": [],
   "source": [
    "@schema\n",
    "class Publication(dj.Manual):\n",
    "    definition = \"\"\"\n",
    "    pub_id : int \n",
    "    ---\n",
    "    title : varchar(1000)\n",
    "    publish_date  : date \n",
    "    \"\"\""
   ]
  },
  {
   "cell_type": "code",
   "execution_count": null,
   "metadata": {},
   "outputs": [],
   "source": [
    "Publication.insert([dict(\n",
    "    pub_id=i, title=faker.sentence(), \n",
    "    publish_date=faker.date_this_decade()) for i in range(30)], skip_duplicates=True)"
   ]
  },
  {
   "cell_type": "code",
   "execution_count": null,
   "metadata": {},
   "outputs": [],
   "source": [
    "Publication()"
   ]
  },
  {
   "cell_type": "code",
   "execution_count": null,
   "metadata": {},
   "outputs": [],
   "source": [
    "@schema\n",
    "class PubAuthor(dj.Manual):\n",
    "    definition = \"\"\"\n",
    "    -> Publication\n",
    "    -> Author\n",
    "    \"\"\""
   ]
  },
  {
   "cell_type": "code",
   "execution_count": null,
   "metadata": {},
   "outputs": [],
   "source": [
    "authors = Author.fetch(\"KEY\")\n",
    "pubs = Publication.fetch(\"KEY\")"
   ]
  },
  {
   "cell_type": "code",
   "execution_count": null,
   "metadata": {},
   "outputs": [],
   "source": [
    "import random"
   ]
  },
  {
   "cell_type": "code",
   "execution_count": null,
   "metadata": {},
   "outputs": [],
   "source": [
    "for pub in pubs:\n",
    "    for auth in random.sample(authors, random.randint(1, 3)):\n",
    "        PubAuthor.insert1({**pub, **auth}, skip_duplicates=True)"
   ]
  },
  {
   "cell_type": "code",
   "execution_count": null,
   "metadata": {},
   "outputs": [],
   "source": [
    "PubAuthor()"
   ]
  },
  {
   "cell_type": "code",
   "execution_count": null,
   "metadata": {},
   "outputs": [],
   "source": [
    "Publication * PubAuthor * Author & 'pub_id=6'"
   ]
  },
  {
   "cell_type": "code",
   "execution_count": null,
   "metadata": {},
   "outputs": [],
   "source": [
    "dj.Diagram(schema)"
   ]
  },
  {
   "cell_type": "markdown",
   "metadata": {},
   "source": [
    "# Another design: Track the order of authors on the publication"
   ]
  },
  {
   "cell_type": "code",
   "execution_count": null,
   "metadata": {},
   "outputs": [],
   "source": [
    "PubAuthor.drop()"
   ]
  },
  {
   "cell_type": "code",
   "execution_count": null,
   "metadata": {},
   "outputs": [],
   "source": [
    "@schema\n",
    "class PubAuthor(dj.Manual):\n",
    "    definition = \"\"\"\n",
    "    -> Publication\n",
    "    -> Author\n",
    "    ---\n",
    "    author_order : tinyint \n",
    "    unique index(pub_id, author_order)\n",
    "    \"\"\""
   ]
  },
  {
   "cell_type": "code",
   "execution_count": null,
   "metadata": {},
   "outputs": [],
   "source": [
    "for pub in pubs:\n",
    "    for author_order, auth in enumerate(random.choices(authors, k=random.randint(1, 3))):\n",
    "        PubAuthor.insert1(dict(**pub, **auth, author_order=author_order+1), skip_duplicates=True)"
   ]
  },
  {
   "cell_type": "code",
   "execution_count": null,
   "metadata": {},
   "outputs": [],
   "source": [
    "PubAuthor()"
   ]
  },
  {
   "cell_type": "markdown",
   "metadata": {},
   "source": [
    "# Cities, States, and Capitals\n",
    "\n",
    "Design a database with\n",
    "- Cities\n",
    "- States\n",
    "- State capitals\n",
    "\n",
    "\n",
    "### Rules\n",
    "1. A city belongs to a state\n",
    "2. A state capital is a city in the same state\n",
    "3. Only one city can be capital in each state\n",
    "4. Cities and states have permanents names\n",
    "5. Cities have unique names in each state"
   ]
  },
  {
   "cell_type": "code",
   "execution_count": null,
   "metadata": {},
   "outputs": [],
   "source": [
    "schema = dj.schema('dimitri_states')\n",
    "schema.drop()  # drop to clear history\n",
    "schema = dj.schema('dimitri_states')"
   ]
  },
  {
   "cell_type": "code",
   "execution_count": null,
   "metadata": {},
   "outputs": [],
   "source": [
    "@schema\n",
    "class State(dj.Manual):\n",
    "    definition = \"\"\"\n",
    "    state : char(2)  # TX, CA, etc\n",
    "    ---\n",
    "    state_name : varchar(25)\n",
    "    \"\"\"\n",
    "    \n",
    "State.insert((\n",
    "    (\"CA\", \"California\"),\n",
    "    (\"TX\", \"Texas\"),\n",
    "    (\"NY\", \"New York\"),\n",
    "    (\"DE\", \"Delaware\"),\n",
    "    (\"NE\", \"Nebraska\"),\n",
    "    (\"MI\", \"Michigan\"),\n",
    "    (\"WI\", \"Wisconsin\"),\n",
    "    (\"PA\", \"Pensylvania\")\n",
    "), skip_duplicates=True)"
   ]
  },
  {
   "cell_type": "code",
   "execution_count": null,
   "metadata": {},
   "outputs": [],
   "source": [
    "State()"
   ]
  },
  {
   "cell_type": "code",
   "execution_count": null,
   "metadata": {},
   "outputs": [],
   "source": [
    "@schema\n",
    "class City(dj.Manual):\n",
    "    definition = \"\"\"\n",
    "    -> State  \n",
    "    city_id : int\n",
    "    ---\n",
    "    city_name : varchar(100)  \n",
    "    unique index (state, city_name)\n",
    "    \"\"\"\n",
    "\n",
    "@schema\n",
    "class Capital(dj.Manual):\n",
    "    definition = \"\"\"\n",
    "    -> State\n",
    "    ---\n",
    "    -> City    \n",
    "    \"\"\""
   ]
  },
  {
   "cell_type": "markdown",
   "metadata": {},
   "source": [
    "#### Equivalent SQL to declare City\n",
    "\n",
    "```sql\n",
    "CREATE TABLE dimitri_state.city (\n",
    "  state char(2) NOT NULL,\n",
    "  city_id int NOT NULL,\n",
    "  city_name varchar(100) NOT NULL,\n",
    "  PRIMARY KEY (state, city_id),\n",
    "  UNIQUE INDEX (state, city_name),\n",
    "  FOREIGN KEY (state) REFERENCES state(state)\n",
    ")\n",
    "```\n",
    "\n",
    "#### Equivalent SQL to declare Capital\n",
    "\n",
    "```sql\n",
    "CREATE TABLE dimitri_state.capital (\n",
    "  state char(2) NOT NULL,\n",
    "  city_id int NOT NULL,\n",
    "  PRIMARY KEY (state),\n",
    "  FOREIGN KEY (state, city_id) REFERENCE city(state, city_id),\n",
    "  FOREIGN KEY (state) REFERENCES state(state)\n",
    ")\n",
    "```"
   ]
  },
  {
   "cell_type": "code",
   "execution_count": null,
   "metadata": {},
   "outputs": [],
   "source": [
    "City.insert(\n",
    "    (\n",
    "        (\"TX\", 1, \"Houston\"),\n",
    "        (\"TX\", 2, \"Austin\"),\n",
    "        (\"DE\", 1, \"Dover\"),\n",
    "        (\"DE\", 2, \"Wilmington\"),\n",
    "        (\"CA\", 1, \"Sacramento\"),\n",
    "        (\"CA\", 2, \"Houston\"),\n",
    "        (\"CA\", 3, \"Los Angeles\"),\n",
    "        (\"WI\", 1, \"Milwaukee\"),\n",
    "        (\"WI\", 2, \"Madison\"),\n",
    "        (\"CA\", 4, \"Madison\")\n",
    "    ))\n",
    "\n",
    "Capital.insert((\n",
    "    (\"WI\", 1),\n",
    "    (\"CA\", 1),\n",
    "    (\"DE\", 2),\n",
    "    (\"TX\", 2),\n",
    "))"
   ]
  },
  {
   "cell_type": "code",
   "execution_count": null,
   "metadata": {},
   "outputs": [],
   "source": [
    "Capital()"
   ]
  },
  {
   "cell_type": "code",
   "execution_count": null,
   "metadata": {},
   "outputs": [],
   "source": [
    "dj.Diagram(schema)"
   ]
  },
  {
   "cell_type": "code",
   "execution_count": null,
   "metadata": {},
   "outputs": [],
   "source": [
    "Capital()"
   ]
  },
  {
   "cell_type": "markdown",
   "metadata": {},
   "source": [
    "# Bank accounts and transfers\n",
    "\n",
    "Design a database with \n",
    "\n",
    "- Customers\n",
    "- Accounts with a current balance\n",
    "- Deposits / Withdrawals \n",
    "- Transfers between accounts \n",
    "- Account balnace history\n",
    "\n",
    "### Rules\n",
    "\n",
    "1. A customer can have any number of accounts.\n",
    "1. An account can have many customers\n",
    "1. Overdrafts are not allowed: when attempting a withdrawal or transfer, the current balance is not allowed to go negative.\n",
    "1. For a transfer, the credit from one account must match the debit from the other."
   ]
  },
  {
   "cell_type": "code",
   "execution_count": null,
   "metadata": {},
   "outputs": [],
   "source": [
    "import faker\n",
    "import random\n",
    "fake = faker.Faker()"
   ]
  },
  {
   "cell_type": "code",
   "execution_count": null,
   "metadata": {},
   "outputs": [],
   "source": [
    "schema = dj.schema('dimitri_bank')\n",
    "schema.drop()\n",
    "schema = dj.schema('dimitri_bank')"
   ]
  },
  {
   "cell_type": "code",
   "execution_count": null,
   "metadata": {},
   "outputs": [],
   "source": [
    "@schema\n",
    "class Customer(dj.Manual):\n",
    "    definition = \"\"\"\n",
    "    customer_id : int\n",
    "    ---\n",
    "    customer_name : varchar(100)\n",
    "    ssn  :  char(11) \n",
    "    unique index (ssn) \n",
    "    \"\"\""
   ]
  },
  {
   "cell_type": "code",
   "execution_count": null,
   "metadata": {},
   "outputs": [],
   "source": [
    "Customer.insert((\n",
    "    {'customer_id': i, 'customer_name': fake.name(), 'ssn': fake.ssn()}\n",
    "               for i in range(30)))"
   ]
  },
  {
   "cell_type": "code",
   "execution_count": null,
   "metadata": {},
   "outputs": [],
   "source": [
    "Customer()"
   ]
  },
  {
   "cell_type": "code",
   "execution_count": null,
   "metadata": {},
   "outputs": [],
   "source": [
    "@schema\n",
    "class Account(dj.Manual):\n",
    "    definition = \"\"\"\n",
    "    account_id : int\n",
    "    ---\n",
    "    account_type : enum(\"savings\", \"checking\")\n",
    "    open_date : date    \n",
    "    \"\"\"\n",
    "    \n",
    "@schema\n",
    "class AccountCustomer(dj.Manual):\n",
    "    definition = \"\"\"\n",
    "    -> Customer\n",
    "    -> Account\n",
    "    \"\"\"    "
   ]
  },
  {
   "cell_type": "code",
   "execution_count": null,
   "metadata": {},
   "outputs": [],
   "source": [
    "dj.Diagram(schema)"
   ]
  },
  {
   "cell_type": "code",
   "execution_count": null,
   "metadata": {},
   "outputs": [],
   "source": [
    "Account.insert(\n",
    "    ({'account_id': i, \n",
    "      'open_date': fake.date_this_decade(), \n",
    "      'account_type': random.choice((\"checking\", \"savings\"))} for i in range(20)))"
   ]
  },
  {
   "cell_type": "code",
   "execution_count": null,
   "metadata": {},
   "outputs": [],
   "source": [
    "customers = Customer.fetch('KEY')\n",
    "for a in Account.fetch('KEY'):\n",
    "    AccountCustomer.insert(\n",
    "        {**a, **c} for c in random.sample(customers, random.randint(1, 3)))"
   ]
  },
  {
   "cell_type": "code",
   "execution_count": null,
   "metadata": {},
   "outputs": [],
   "source": [
    "@schema\n",
    "class Balance(dj.Manual):\n",
    "    definition = \"\"\"\n",
    "    -> Account \n",
    "    ---\n",
    "    amount : decimal(9, 2)\n",
    "    \"\"\""
   ]
  },
  {
   "cell_type": "code",
   "execution_count": null,
   "metadata": {},
   "outputs": [],
   "source": [
    "dj.Diagram(schema)"
   ]
  },
  {
   "cell_type": "code",
   "execution_count": null,
   "metadata": {},
   "outputs": [],
   "source": [
    "for a in Account.fetch('KEY'):\n",
    "    Balance.insert1(dict(a, amount=random.randint(0, 120000)/100))"
   ]
  },
  {
   "cell_type": "code",
   "execution_count": null,
   "metadata": {},
   "outputs": [],
   "source": [
    "Balance()"
   ]
  },
  {
   "cell_type": "code",
   "execution_count": null,
   "metadata": {},
   "outputs": [],
   "source": [
    "def withdraw(key, amount):\n",
    "    conn = dj.conn()\n",
    "    with conn.transaction:\n",
    "        previous_amount = (Balance & key).fetch1('amount')\n",
    "        if amount > previous_amount: \n",
    "            raise ValueError('Insufficient funds')\n",
    "        (Balance & key).delete_quick()\n",
    "        # an error or disruption can happen here\n",
    "        Balance.insert1(dict(key, amount=float(previous_amount) - amount))\n",
    "    print('Remaining balance: {balance}'.format(balance=(Balance & key).fetch1('amount')))"
   ]
  },
  {
   "cell_type": "code",
   "execution_count": null,
   "metadata": {},
   "outputs": [],
   "source": [
    "key = {'account_id': 3}\n",
    "withdraw(key, 50.00)"
   ]
  },
  {
   "cell_type": "markdown",
   "metadata": {},
   "source": [
    "# Homework:  Hotel Database -- Due Nov 21.\n",
    "\n",
    "Design a database with \n",
    "\n",
    "- Rooms\n",
    "- Guests \n",
    "- Reservations\n",
    "- Check-in:  date/time  for reservation\n",
    "- Check-out: date/time  for reservation\n",
    "\n",
    "### Rules\n",
    "1. A reservation reserves one room for one night for one guest\n",
    "2. A guest can reserve multiple rooms per night.\n",
    "2. A guest must have a reservation to check in.\n",
    "3. Checkout can only be done after a check-in. \n",
    "4. Checking into a room is allowed only after the previous guest checks out \n",
    "\n",
    "### Assignment\n",
    "1. Design tables that enforce these rules\n",
    "2. Populate with fake rooms, customers, and nights.\n",
    "3. Define function `reserve` to make a reservation. Call it to make fake reservations.\n",
    "3. Define functions `checkin` and `checkout`. Call them to demonstrate that they work. \n",
    "4. Use transactions if or when necessary"
   ]
  }
 ],
 "metadata": {
  "kernelspec": {
   "display_name": "Python 3",
   "language": "python",
   "name": "python3"
  },
  "language_info": {
   "codemirror_mode": {
    "name": "ipython",
    "version": 3
   },
   "file_extension": ".py",
   "mimetype": "text/x-python",
   "name": "python",
   "nbconvert_exporter": "python",
   "pygments_lexer": "ipython3",
   "version": "3.8.5"
  }
 },
 "nbformat": 4,
 "nbformat_minor": 4
}

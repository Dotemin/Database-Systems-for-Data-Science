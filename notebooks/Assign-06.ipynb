{
 "cells": [
  {
   "cell_type": "markdown",
   "metadata": {},
   "source": [
    "# Assignment 6.  \n",
    "## Queries combining multiple tables\n",
    "\n",
    "In this assigment, we will fetch data from a relational database server directly into Python variables. Using these new skills, we will complete the problems from the \"Problems for you to Solve\" in Chapters 8, 9, and 11 in *SQL Queries for Mere Mortals*."
   ]
  },
  {
   "cell_type": "markdown",
   "metadata": {},
   "source": [
    "### Increasing complexity of queries"
   ]
  },
  {
   "cell_type": "markdown",
   "metadata": {},
   "source": [
    "When working with queries that address multiple tables, rely on the structure of the foreign keys and primary keys to guide the design of your queries. \n",
    "\n",
    "We will work with two basic patterns to solve most problems in the book:\n",
    "\n",
    "1. Using a subquery in the `WHERE` clause\n",
    "2. Inner natural join.\n",
    "\n",
    "The database schemas in the book are designed so that foreign key columns share the same names as the primary key of their parent tables. This allows the use of natural joins for logically meaningful joins of tables related by the foreign key. "
   ]
  },
  {
   "cell_type": "markdown",
   "metadata": {},
   "source": [
    "First, let's connect to the database and activate the SQL magic for jupyter."
   ]
  },
  {
   "cell_type": "code",
   "execution_count": null,
   "metadata": {},
   "outputs": [],
   "source": [
    "import json\n",
    "import pymysql \n",
    "\n",
    "pymysql.install_as_MySQLdb()\n",
    "\n",
    "with open('cred.json') as f:\n",
    "    creds = json.load(f)\n",
    "\n",
    "connection_string = \"mysql://{user}:{password}@{host}\".format(**creds)"
   ]
  },
  {
   "cell_type": "code",
   "execution_count": null,
   "metadata": {},
   "outputs": [],
   "source": [
    "%load_ext sql\n",
    "%config SqlMagic.autocommit=True\n",
    "%sql $connection_string"
   ]
  },
  {
   "cell_type": "markdown",
   "metadata": {},
   "source": [
    "Let's solve the following query in the `shared_sales` database:\n",
    "> Show all the customers who have bought a bicycle, i.e. products in category \"Bike\"\n",
    "\n",
    "Review the schema diagram to follow how we build the query step-by-step."
   ]
  },
  {
   "cell_type": "code",
   "execution_count": null,
   "metadata": {},
   "outputs": [],
   "source": [
    "%%sql\n",
    "\n",
    "USE shared_sales"
   ]
  },
  {
   "cell_type": "code",
   "execution_count": null,
   "metadata": {},
   "outputs": [],
   "source": [
    "%%sql\n",
    "\n",
    "show tables\n"
   ]
  },
  {
   "cell_type": "code",
   "execution_count": null,
   "metadata": {},
   "outputs": [],
   "source": [
    "%%sql\n",
    "\n",
    "-- Step 1:\n",
    "-- category for Bike\n",
    "\n",
    "SELECT * \n",
    "    FROM Categories \n",
    "    WHERE CategoryDescription = \"Bikes\""
   ]
  },
  {
   "cell_type": "code",
   "execution_count": null,
   "metadata": {},
   "outputs": [],
   "source": [
    "%%sql\n",
    "\n",
    "-- Step 2\n",
    "-- Products from that category\n",
    "-- Datajoint: Product & (Categories & 'CategoryDescription=\"Bikes\"')\n",
    "\n",
    "SELECT * \n",
    "FROM Products\n",
    "WHERE CategoryID in (SELECT CategoryID \n",
    "    FROM Categories \n",
    "    WHERE CategoryDescription = \"Bikes\")"
   ]
  },
  {
   "cell_type": "code",
   "execution_count": null,
   "metadata": {},
   "outputs": [],
   "source": [
    "%%sql\n",
    "\n",
    "-- Step 2\n",
    "-- Products from that category, USING JOIN\n",
    "-- DataJoint: Products * Categories & 'CategoryDescription = \"Bikes\"'\n",
    "\n",
    "SELECT * \n",
    "    FROM Products NATURAL JOIN Categories\n",
    "    WHERE CategoryDescription = \"Bikes\"\n"
   ]
  },
  {
   "cell_type": "code",
   "execution_count": null,
   "metadata": {},
   "outputs": [],
   "source": [
    "%%sql\n",
    "\n",
    "show tables"
   ]
  },
  {
   "cell_type": "code",
   "execution_count": null,
   "metadata": {},
   "outputs": [],
   "source": [
    "%%sql\n",
    "\n",
    "-- Step 3\n",
    "-- Order details that contain such products\n",
    "-- OrderDetails & (\n",
    "--   Products * Categories & 'CategoryDescription = \"Bikes\"')\n",
    "\n",
    "SELECT * \n",
    "FROM Order_Details\n",
    "WHERE ProductNumber in (\n",
    "    SELECT ProductNumber \n",
    "    FROM Products NATURAL JOIN Categories\n",
    "    WHERE CategoryDescription = \"Bikes\")\n"
   ]
  },
  {
   "cell_type": "code",
   "execution_count": null,
   "metadata": {
    "scrolled": true
   },
   "outputs": [],
   "source": [
    "%%sql\n",
    "\n",
    "-- Step 3\n",
    "-- Order details that contain such products using JOINS\n",
    "-- DataJoint: \n",
    "--   OrderDetails * Products * Categories & \"CategoryDescription='Bikes'\"\"\n",
    "\n",
    "SELECT * \n",
    "FROM Order_Details NATURAL JOIN Products NATURAL JOIN Categories\n",
    "WHERE CategoryDescription = \"Bikes\""
   ]
  },
  {
   "cell_type": "code",
   "execution_count": null,
   "metadata": {},
   "outputs": [],
   "source": [
    "%%sql\n",
    "\n",
    "-- Step 4\n",
    "-- Orders that contain such products \n",
    "\n",
    "SELECT * \n",
    "FROM Orders \n",
    "WHERE OrderNumber IN (\n",
    "    SELECT OrderNumber\n",
    "    FROM Order_Details NATURAL JOIN Products NATURAL JOIN Categories\n",
    "    WHERE CategoryDescription = \"Bikes\")"
   ]
  },
  {
   "cell_type": "markdown",
   "metadata": {},
   "source": [
    "Why can we not convert this into a pure join query?"
   ]
  },
  {
   "cell_type": "code",
   "execution_count": null,
   "metadata": {},
   "outputs": [],
   "source": [
    "%%sql\n",
    "\n",
    "-- Step 5\n",
    "-- Customers on these orders\n",
    "\n",
    "SELECT CustLastName \n",
    "FROM Customers\n",
    "WHERE CustomerID IN (\n",
    "    SELECT CustomerID    \n",
    "    FROM Orders \n",
    "    WHERE OrderNumber IN (\n",
    "        SELECT OrderNumber\n",
    "        FROM Order_Details NATURAL JOIN Products NATURAL JOIN Categories\n",
    "        WHERE CategoryDescription = \"Bikes\"))"
   ]
  },
  {
   "cell_type": "code",
   "execution_count": null,
   "metadata": {},
   "outputs": [],
   "source": [
    "%%sql\n",
    "\n",
    "-- Step 5\n",
    "-- Customers on these orders\n",
    "\n",
    "\n",
    "SELECT CustLastName \n",
    "FROM Customers\n",
    "WHERE CustomerID in (\n",
    "    SELECT CustomerID    \n",
    "    FROM Orders \n",
    "        NATURAL JOIN Order_Details \n",
    "        NATURAL JOIN Products \n",
    "        NATURAL JOIN Categories \n",
    "    WHERE CategoryDescription = \"Bikes\")"
   ]
  },
  {
   "cell_type": "code",
   "execution_count": null,
   "metadata": {},
   "outputs": [],
   "source": [
    "%%sql \n",
    "\n",
    "SELECT DISTINCT CustLastName \n",
    "FROM Customers \n",
    "        NATURAL JOIN Orders\n",
    "        NATURAL JOIN Order_Details \n",
    "        NATURAL JOIN Products \n",
    "        NATURAL JOIN Categories \n",
    "    WHERE CategoryDescription = \"Bikes\""
   ]
  },
  {
   "cell_type": "code",
   "execution_count": null,
   "metadata": {},
   "outputs": [],
   "source": [
    "%%sql \n",
    "SELECT * FROM Order_Details JOIN Orders\n",
    "ON Order_Details.OrderNumber = Orders.OrderNumber"
   ]
  },
  {
   "cell_type": "code",
   "execution_count": null,
   "metadata": {},
   "outputs": [],
   "source": [
    "%%sql \n",
    "SELECT * FROM Order_Details JOIN Orders\n",
    "USING (OrderNumber)"
   ]
  },
  {
   "cell_type": "code",
   "execution_count": null,
   "metadata": {},
   "outputs": [],
   "source": [
    "%%sql \n",
    "SELECT * FROM Order_Details NATURAL JOIN Orders"
   ]
  },
  {
   "cell_type": "markdown",
   "metadata": {},
   "source": [
    "These two types of queries: equi-joins (including natural joins) and subqueries in the `WHERE` clauses can be used to solve the majority of problems in the assignment."
   ]
  },
  {
   "cell_type": "markdown",
   "metadata": {},
   "source": [
    "# Different types of equijoins"
   ]
  },
  {
   "cell_type": "code",
   "execution_count": null,
   "metadata": {},
   "outputs": [],
   "source": [
    "%%sql\n",
    "use shared_sales;\n",
    "show tables;"
   ]
  },
  {
   "cell_type": "code",
   "execution_count": null,
   "metadata": {},
   "outputs": [],
   "source": [
    "%%sql\n",
    "\n",
    "SELECT Customers.CustomerID, Orders.CustomerID FROM Customers, Orders;\n"
   ]
  },
  {
   "cell_type": "code",
   "execution_count": null,
   "metadata": {},
   "outputs": [],
   "source": [
    "%%sql\n",
    "\n",
    "SELECT Customers.CustomerID, Orders.CustomerID FROM Customers JOIN Orders;"
   ]
  },
  {
   "cell_type": "code",
   "execution_count": null,
   "metadata": {},
   "outputs": [],
   "source": [
    "%%sql\n",
    "\n",
    "SELECT * FROM Customers JOIN Orders WHERE Customers.CustomerID=Orders.CustomerID"
   ]
  },
  {
   "cell_type": "code",
   "execution_count": null,
   "metadata": {},
   "outputs": [],
   "source": [
    "%%sql\n",
    "\n",
    "SELECT * FROM Customers JOIN Orders ON Customers.CustomerID = Orders.CustomerID "
   ]
  },
  {
   "cell_type": "code",
   "execution_count": null,
   "metadata": {},
   "outputs": [],
   "source": [
    "%%sql\n",
    "\n",
    "SELECT * FROM Customers JOIN Orders USING (CustomerID) "
   ]
  },
  {
   "cell_type": "code",
   "execution_count": null,
   "metadata": {
    "scrolled": false
   },
   "outputs": [],
   "source": [
    "%%sql\n",
    "\n",
    "SELECT * FROM Customers NATURAL JOIN Orders "
   ]
  },
  {
   "cell_type": "code",
   "execution_count": null,
   "metadata": {},
   "outputs": [],
   "source": [
    "%%sql\n",
    "\n",
    "SELECT count(*) FROM Customers NATURAL JOIN Employees NATURAL JOIN Orders;"
   ]
  },
  {
   "cell_type": "markdown",
   "metadata": {},
   "source": [
    "### Example\n",
    "\n",
    "Display recipe types that do have any recipes\n",
    "\n",
    "DataJoint: RecipeType - Recipe"
   ]
  },
  {
   "cell_type": "code",
   "execution_count": null,
   "metadata": {},
   "outputs": [],
   "source": [
    "%%sql\n",
    "use shared_recipes;\n",
    "show tables;"
   ]
  },
  {
   "cell_type": "code",
   "execution_count": null,
   "metadata": {},
   "outputs": [],
   "source": [
    "%%sql\n",
    "\n",
    "SELECT RecipeClassDescription \n",
    "   FROM Recipe_Classes \n",
    "   WHERE RecipeClassID not in (\n",
    "       SELECT RecipeClassID \n",
    "       FROM Recipes)"
   ]
  },
  {
   "cell_type": "markdown",
   "metadata": {},
   "source": [
    "### Example \n",
    "Show orders placed on Oct 3, 2017, include customer name."
   ]
  },
  {
   "cell_type": "code",
   "execution_count": null,
   "metadata": {},
   "outputs": [],
   "source": [
    "%%sql\n",
    "use shared_sales;\n",
    "\n",
    "SELECT Orders.*, CustFirstName, CustLastName \n",
    "   FROM Customers NATURAL JOIN Orders\n",
    "    WHERE OrderDate=\"2017-10-03\""
   ]
  },
  {
   "cell_type": "code",
   "execution_count": null,
   "metadata": {},
   "outputs": [],
   "source": [
    "#\n",
    "Give me the most expensive product"
   ]
  },
  {
   "cell_type": "code",
   "execution_count": null,
   "metadata": {},
   "outputs": [],
   "source": [
    "%%sql\n",
    "\n",
    "SELECT max(RetailPrice) FROM Products"
   ]
  },
  {
   "cell_type": "code",
   "execution_count": null,
   "metadata": {},
   "outputs": [],
   "source": [
    "%%sql\n",
    "\n",
    "SELECT * FROM Products WHERE RetailPrice = (SELECT max(RetailPrice) FROM Products)"
   ]
  },
  {
   "cell_type": "markdown",
   "metadata": {},
   "source": [
    "#  Homework"
   ]
  },
  {
   "cell_type": "markdown",
   "metadata": {},
   "source": [
    "**Problem 1**: Sales: Show all orders with their details, including the customer name \n",
    "\n",
    "(944)"
   ]
  },
  {
   "cell_type": "markdown",
   "metadata": {},
   "source": [
    "**Problem 2**: Sales: Show all employee/customer pairs who have ever been on the same order\n",
    "\n",
    "(211)"
   ]
  },
  {
   "cell_type": "markdown",
   "metadata": {},
   "source": [
    "**Problem 3**: Sales: Show all order items with the total amount billed for them. Include product names.\n",
    "\n",
    "(3973)"
   ]
  },
  {
   "cell_type": "markdown",
   "metadata": {},
   "source": [
    "**Problem 4**: Sales. Show customers and employees who have the same last name.\n",
    "\n",
    "(16)"
   ]
  },
  {
   "cell_type": "markdown",
   "metadata": {},
   "source": [
    "**Problem 6**: Entertainment. Show engagements sorted by date, including agent name.\n",
    "\n",
    "(111)"
   ]
  },
  {
   "cell_type": "markdown",
   "metadata": {},
   "source": [
    "**Problem 7**: Entertainment. List the names of all entertainer/agent pairings who live in the same postal code.\n",
    "\n",
    "(10)"
   ]
  },
  {
   "cell_type": "markdown",
   "metadata": {},
   "source": [
    "**Problem 8**: School. List current student class enrollments, including students' names and class names. Sort by student last name.\n",
    "\n",
    "(50)"
   ]
  },
  {
   "cell_type": "code",
   "execution_count": null,
   "metadata": {},
   "outputs": [],
   "source": [
    "%%sql\n",
    "\n",
    "SELECT StudFirstName, StudLastName, SubjectName  \n",
    "    FROM Students \n",
    "        NATURAL JOIN Student_Schedules \n",
    "        NATURAL JOIN Classes \n",
    "        NATURAL JOIN Subjects \n",
    "    WHERE ClassStatus=1\n",
    "    ORDER BY StudLastName"
   ]
  },
  {
   "cell_type": "markdown",
   "metadata": {},
   "source": [
    "**Problem 9**: School. Show students with a grade 85 or better in ART and 85 or better in a CIS course.\n",
    "\n",
    "(1)"
   ]
  },
  {
   "cell_type": "code",
   "execution_count": null,
   "metadata": {},
   "outputs": [],
   "source": [
    "%%sql\n",
    "use shared_school;\n",
    "show tables;"
   ]
  },
  {
   "cell_type": "code",
   "execution_count": null,
   "metadata": {},
   "outputs": [],
   "source": [
    "%%sql\n",
    "SELECT StudFirstName, StudLastName FROM Students \n",
    "WHERE StudentID in (\n",
    "    SELECT StudentID \n",
    "        FROM Student_Schedules NATURAL JOIN Classes NATURAL JOIN Subjects \n",
    "        WHERE Grade>=85 and CategoryID=\"ART\") \n",
    "    AND StudentID in (\n",
    "    SELECT StudentID \n",
    "        FROM Student_Schedules NATURAL JOIN Classes NATURAL JOIN Subjects \n",
    "        WHERE Grade>=85 and CategoryID=\"CIS\")"
   ]
  }
 ],
 "metadata": {
  "kernelspec": {
   "display_name": "Python 3",
   "language": "python",
   "name": "python3"
  },
  "language_info": {
   "codemirror_mode": {
    "name": "ipython",
    "version": 3
   },
   "file_extension": ".py",
   "mimetype": "text/x-python",
   "name": "python",
   "nbconvert_exporter": "python",
   "pygments_lexer": "ipython3",
   "version": "3.8.5"
  }
 },
 "nbformat": 4,
 "nbformat_minor": 2
}

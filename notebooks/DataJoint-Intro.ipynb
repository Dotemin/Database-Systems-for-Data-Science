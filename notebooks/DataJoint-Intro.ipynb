{
 "cells": [
  {
   "cell_type": "code",
   "execution_count": null,
   "id": "8818f6ee",
   "metadata": {},
   "outputs": [],
   "source": [
    "import datajoint as dj"
   ]
  },
  {
   "cell_type": "code",
   "execution_count": null,
   "id": "1e3a9e73",
   "metadata": {},
   "outputs": [],
   "source": [
    "schema = dj.schema('dimitri_university')"
   ]
  },
  {
   "cell_type": "code",
   "execution_count": null,
   "id": "d9bc12a5",
   "metadata": {},
   "outputs": [],
   "source": [
    "schema.drop()"
   ]
  },
  {
   "cell_type": "code",
   "execution_count": null,
   "id": "311cbf89",
   "metadata": {},
   "outputs": [],
   "source": [
    "@schema\n",
    "class Person(dj.Manual):\n",
    "    definition = \"\"\"\n",
    "    person_id : int \n",
    "    ---\n",
    "    date_of_birth : date\n",
    "    first_name : char(30)\n",
    "    last_name : varchar(30)\n",
    "    sex : enum(\"F\", \"M\") \n",
    "    \"\"\""
   ]
  },
  {
   "cell_type": "code",
   "execution_count": null,
   "id": "9790e555",
   "metadata": {},
   "outputs": [],
   "source": [
    "Person.drop()"
   ]
  },
  {
   "cell_type": "code",
   "execution_count": null,
   "id": "bf10a7de",
   "metadata": {},
   "outputs": [],
   "source": [
    "Person().insert1((1, \"2000-01-01\", \"Bob\", \"Dylan\", \"M\"))"
   ]
  },
  {
   "cell_type": "code",
   "execution_count": null,
   "id": "71fd1669",
   "metadata": {},
   "outputs": [],
   "source": [
    "Person().insert1((2, \"1900-01-01\", \"Bertrand\", \"Russell\", \"M\"))"
   ]
  },
  {
   "cell_type": "code",
   "execution_count": null,
   "id": "672b8a77",
   "metadata": {},
   "outputs": [],
   "source": [
    "Person()"
   ]
  },
  {
   "cell_type": "code",
   "execution_count": null,
   "id": "4398376e",
   "metadata": {},
   "outputs": [],
   "source": [
    "from faker import Faker"
   ]
  },
  {
   "cell_type": "code",
   "execution_count": null,
   "id": "24aa7178",
   "metadata": {},
   "outputs": [],
   "source": [
    "faker = Faker()"
   ]
  },
  {
   "cell_type": "code",
   "execution_count": null,
   "id": "51713a2c",
   "metadata": {},
   "outputs": [],
   "source": [
    "for i in range(50):\n",
    "    Person.insert1((i, faker.date(), faker.first_name_female(), faker.last_name_female(), \"F\"))"
   ]
  },
  {
   "cell_type": "code",
   "execution_count": null,
   "id": "deb1ad14",
   "metadata": {},
   "outputs": [],
   "source": [
    "for i in range(50, 100):\n",
    "    Person.insert1((i, faker.date(), faker.first_name_male(), faker.last_name_male(), \"M\"))"
   ]
  },
  {
   "cell_type": "code",
   "execution_count": null,
   "id": "643f0d1c",
   "metadata": {},
   "outputs": [],
   "source": [
    "Person()"
   ]
  },
  {
   "cell_type": "code",
   "execution_count": null,
   "id": "8c2da7db",
   "metadata": {},
   "outputs": [],
   "source": [
    "Person.delete()"
   ]
  },
  {
   "cell_type": "code",
   "execution_count": null,
   "id": "9ade0d69",
   "metadata": {},
   "outputs": [],
   "source": [
    "dj.Diagram(schema)"
   ]
  },
  {
   "cell_type": "code",
   "execution_count": null,
   "id": "d3a56985",
   "metadata": {},
   "outputs": [],
   "source": [
    "Person().fetch(as_dict=True)"
   ]
  },
  {
   "cell_type": "code",
   "execution_count": null,
   "id": "6807c591",
   "metadata": {},
   "outputs": [],
   "source": []
  }
 ],
 "metadata": {
  "kernelspec": {
   "display_name": "Python 3",
   "language": "python",
   "name": "python3"
  },
  "language_info": {
   "codemirror_mode": {
    "name": "ipython",
    "version": 3
   },
   "file_extension": ".py",
   "mimetype": "text/x-python",
   "name": "python",
   "nbconvert_exporter": "python",
   "pygments_lexer": "ipython3",
   "version": "3.9.2"
  }
 },
 "nbformat": 4,
 "nbformat_minor": 5
}

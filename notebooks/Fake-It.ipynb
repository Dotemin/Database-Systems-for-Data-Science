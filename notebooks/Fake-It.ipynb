{
 "cells": [
  {
   "cell_type": "code",
   "execution_count": 1,
   "metadata": {},
   "outputs": [],
   "source": [
    "from faker import Faker"
   ]
  },
  {
   "cell_type": "code",
   "execution_count": 2,
   "metadata": {},
   "outputs": [],
   "source": [
    "faker = Faker()"
   ]
  },
  {
   "cell_type": "code",
   "execution_count": 4,
   "metadata": {},
   "outputs": [
    {
     "data": {
      "text/plain": [
       "'Up-sized logistical middleware'"
      ]
     },
     "execution_count": 4,
     "metadata": {},
     "output_type": "execute_result"
    }
   ],
   "source": [
    "faker.catch_phrase()"
   ]
  },
  {
   "cell_type": "code",
   "execution_count": 5,
   "metadata": {},
   "outputs": [
    {
     "data": {
      "text/plain": [
       "'DarkOrchid'"
      ]
     },
     "execution_count": 5,
     "metadata": {},
     "output_type": "execute_result"
    }
   ],
   "source": [
    "faker.color_name()"
   ]
  },
  {
   "cell_type": "code",
   "execution_count": 6,
   "metadata": {},
   "outputs": [
    {
     "name": "stdout",
     "output_type": "stream",
     "text": [
      "VISA 16 digit\n",
      "David Hunt\n",
      "4905146356880152 02/20\n",
      "CVC: 591\n",
      "\n"
     ]
    }
   ],
   "source": [
    "print(faker.credit_card_full())"
   ]
  },
  {
   "cell_type": "code",
   "execution_count": 7,
   "metadata": {},
   "outputs": [
    {
     "data": {
      "text/plain": [
       "datetime.date(1908, 2, 7)"
      ]
     },
     "execution_count": 7,
     "metadata": {},
     "output_type": "execute_result"
    }
   ],
   "source": [
    "faker.date_of_birth()"
   ]
  },
  {
   "cell_type": "code",
   "execution_count": 8,
   "metadata": {},
   "outputs": [
    {
     "data": {
      "text/plain": [
       "'4899288309976'"
      ]
     },
     "execution_count": 8,
     "metadata": {},
     "output_type": "execute_result"
    }
   ],
   "source": [
    "faker.ean13()"
   ]
  },
  {
   "cell_type": "code",
   "execution_count": 9,
   "metadata": {},
   "outputs": [
    {
     "data": {
      "text/plain": [
       "'001-874-273-4455x29068'"
      ]
     },
     "execution_count": 9,
     "metadata": {},
     "output_type": "execute_result"
    }
   ],
   "source": [
    "faker.phone_number()"
   ]
  },
  {
   "cell_type": "code",
   "execution_count": 10,
   "metadata": {},
   "outputs": [
    {
     "name": "stdout",
     "output_type": "stream",
     "text": [
      "Age feeling discover they result order. Bar drive issue more commercial score edge. True chair certain energy body grow just.\n"
     ]
    }
   ],
   "source": [
    "print(faker.paragraph())"
   ]
  },
  {
   "cell_type": "code",
   "execution_count": 11,
   "metadata": {},
   "outputs": [
    {
     "data": {
      "text/plain": [
       "'IXG 431'"
      ]
     },
     "execution_count": 11,
     "metadata": {},
     "output_type": "execute_result"
    }
   ],
   "source": [
    "faker.license_plate()"
   ]
  },
  {
   "cell_type": "code",
   "execution_count": 12,
   "metadata": {},
   "outputs": [
    {
     "data": {
      "text/plain": [
       "'451 Jennifer Gardens'"
      ]
     },
     "execution_count": 12,
     "metadata": {},
     "output_type": "execute_result"
    }
   ],
   "source": [
    "faker.street_address()"
   ]
  },
  {
   "cell_type": "code",
   "execution_count": 13,
   "metadata": {},
   "outputs": [
    {
     "data": {
      "text/plain": [
       "Decimal('166.241817')"
      ]
     },
     "execution_count": 13,
     "metadata": {},
     "output_type": "execute_result"
    }
   ],
   "source": [
    "faker.coordinate()"
   ]
  },
  {
   "cell_type": "code",
   "execution_count": 14,
   "metadata": {},
   "outputs": [
    {
     "data": {
      "text/plain": [
       "['visit', 'list', 'low']"
      ]
     },
     "execution_count": 14,
     "metadata": {},
     "output_type": "execute_result"
    }
   ],
   "source": [
    "faker.words()"
   ]
  },
  {
   "cell_type": "code",
   "execution_count": 16,
   "metadata": {},
   "outputs": [
    {
     "name": "stdout",
     "output_type": "stream",
     "text": [
      "········\n"
     ]
    }
   ],
   "source": [
    "import getpass\n",
    "\n",
    "host = \"db.data-science-ust.net\"\n",
    "user = \"dimitri\"    # !! Replace with your user name !!\n",
    "password = getpass.getpass()"
   ]
  },
  {
   "cell_type": "code",
   "execution_count": 17,
   "metadata": {},
   "outputs": [],
   "source": [
    "import pymysql\n",
    "\n",
    "# establish a database connection\n",
    "conn = pymysql.connect(host=host, user=user, passwd=password)"
   ]
  },
  {
   "cell_type": "code",
   "execution_count": 18,
   "metadata": {},
   "outputs": [],
   "source": [
    "cursor = conn.cursor(cursor=pymysql.cursors.DictCursor)"
   ]
  },
  {
   "cell_type": "code",
   "execution_count": 22,
   "metadata": {},
   "outputs": [
    {
     "data": {
      "text/plain": [
       "1"
      ]
     },
     "execution_count": 22,
     "metadata": {},
     "output_type": "execute_result"
    }
   ],
   "source": [
    "cursor.execute(\"\"\"\n",
    "CREATE SCHEMA dimitri_test\n",
    "\"\"\")"
   ]
  },
  {
   "cell_type": "code",
   "execution_count": 27,
   "metadata": {},
   "outputs": [
    {
     "data": {
      "text/plain": [
       "0"
      ]
     },
     "execution_count": 27,
     "metadata": {},
     "output_type": "execute_result"
    }
   ],
   "source": [
    "cursor.execute(\"\"\"\n",
    "CREATE TABLE dimitri_test.fake_person(\n",
    "person_id int not NULL,\n",
    "first_name varchar(30) NOT NULL,\n",
    "last_name varchar(30) NOT NULL,\n",
    "date_of_birth date NOT NULL,\n",
    "primary key(person_id)\n",
    ")\n",
    "\"\"\"\n",
    ")"
   ]
  },
  {
   "cell_type": "code",
   "execution_count": 34,
   "metadata": {},
   "outputs": [
    {
     "data": {
      "text/plain": [
       "1"
      ]
     },
     "execution_count": 34,
     "metadata": {},
     "output_type": "execute_result"
    }
   ],
   "source": [
    "# insert \n",
    "cursor.execute(\"\"\"INSERT INTO dimitri_test.fake_person (person_id, first_name, last_name, date_of_birth) VALUES\n",
    "(%s, %s, %s, %s)\n",
    "\"\"\", (1, faker.first_name(), faker.last_name(), faker.date_of_birth()))"
   ]
  },
  {
   "cell_type": "code",
   "execution_count": 35,
   "metadata": {},
   "outputs": [],
   "source": [
    "for i in range(2, 100):\n",
    "    cursor.execute(\"\"\"\n",
    "    INSERT INTO \n",
    "    dimitri_test.fake_person (person_id, first_name, last_name, date_of_birth) \n",
    "    VALUES (%s, %s, %s, %s)\n",
    "    \"\"\", (i, faker.first_name(), faker.last_name(), faker.date_of_birth()))"
   ]
  },
  {
   "cell_type": "code",
   "execution_count": 26,
   "metadata": {},
   "outputs": [
    {
     "data": {
      "text/plain": [
       "0"
      ]
     },
     "execution_count": 26,
     "metadata": {},
     "output_type": "execute_result"
    }
   ],
   "source": [
    "cursor.execute(\"\"\"\n",
    "DROP TABLE dimitri_test.fake_person\n",
    "\"\"\")"
   ]
  },
  {
   "cell_type": "code",
   "execution_count": 67,
   "metadata": {},
   "outputs": [],
   "source": [
    "import datetime"
   ]
  },
  {
   "cell_type": "code",
   "execution_count": 73,
   "metadata": {},
   "outputs": [
    {
     "name": "stdout",
     "output_type": "stream",
     "text": [
      "{'person_id': 1, 'first_name': 'Lawrence', 'last_name': 'Ramirez', 'date_of_birth': datetime.date(1907, 9, 16)}\n",
      "{'person_id': 2, 'first_name': 'Travis', 'last_name': 'Newton', 'date_of_birth': datetime.date(1937, 10, 26)}\n",
      "{'person_id': 3, 'first_name': 'Julia', 'last_name': 'Hull', 'date_of_birth': datetime.date(1954, 3, 8)}\n",
      "{'person_id': 4, 'first_name': 'Marc', 'last_name': 'Kemp', 'date_of_birth': datetime.date(1923, 4, 21)}\n",
      "{'person_id': 5, 'first_name': 'Mariah', 'last_name': 'Price', 'date_of_birth': datetime.date(1951, 4, 28)}\n",
      "{'person_id': 6, 'first_name': 'Karen', 'last_name': 'Anderson', 'date_of_birth': datetime.date(2001, 12, 28)}\n",
      "{'person_id': 7, 'first_name': 'Angela', 'last_name': 'King', 'date_of_birth': datetime.date(1963, 12, 14)}\n",
      "{'person_id': 8, 'first_name': 'Michael', 'last_name': 'Martinez', 'date_of_birth': datetime.date(1917, 7, 28)}\n",
      "{'person_id': 9, 'first_name': 'Michelle', 'last_name': 'Marsh', 'date_of_birth': datetime.date(1910, 12, 8)}\n",
      "{'person_id': 10, 'first_name': 'George', 'last_name': 'Holden', 'date_of_birth': datetime.date(1936, 10, 8)}\n",
      "{'person_id': 11, 'first_name': 'Stephanie', 'last_name': 'Ramos', 'date_of_birth': datetime.date(1961, 3, 24)}\n",
      "{'person_id': 12, 'first_name': 'Katie', 'last_name': 'Nunez', 'date_of_birth': datetime.date(1974, 7, 1)}\n",
      "{'person_id': 13, 'first_name': 'Cheyenne', 'last_name': 'Lee', 'date_of_birth': datetime.date(1925, 9, 24)}\n",
      "{'person_id': 14, 'first_name': 'Nathan', 'last_name': 'Young', 'date_of_birth': datetime.date(1977, 10, 3)}\n",
      "{'person_id': 15, 'first_name': 'Samantha', 'last_name': 'Fuller', 'date_of_birth': datetime.date(1933, 4, 20)}\n",
      "{'person_id': 16, 'first_name': 'David', 'last_name': 'Rios', 'date_of_birth': datetime.date(1966, 5, 6)}\n",
      "{'person_id': 17, 'first_name': 'Christian', 'last_name': 'Simmons', 'date_of_birth': datetime.date(2016, 1, 10)}\n",
      "{'person_id': 18, 'first_name': 'Donald', 'last_name': 'Norris', 'date_of_birth': datetime.date(2015, 11, 10)}\n",
      "{'person_id': 19, 'first_name': 'Kathleen', 'last_name': 'Ross', 'date_of_birth': datetime.date(1981, 2, 1)}\n",
      "{'person_id': 20, 'first_name': 'Mary', 'last_name': 'Malone', 'date_of_birth': datetime.date(1932, 1, 15)}\n",
      "{'person_id': 21, 'first_name': 'Ethan', 'last_name': 'Palmer', 'date_of_birth': datetime.date(1985, 5, 7)}\n",
      "{'person_id': 22, 'first_name': 'Victor', 'last_name': 'Garcia', 'date_of_birth': datetime.date(1954, 4, 1)}\n",
      "{'person_id': 23, 'first_name': 'Isaac', 'last_name': 'Watkins', 'date_of_birth': datetime.date(1918, 10, 20)}\n",
      "{'person_id': 24, 'first_name': 'Shelley', 'last_name': 'Davis', 'date_of_birth': datetime.date(2009, 12, 28)}\n",
      "{'person_id': 25, 'first_name': 'Wendy', 'last_name': 'Nichols', 'date_of_birth': datetime.date(1995, 12, 6)}\n",
      "{'person_id': 26, 'first_name': 'Cynthia', 'last_name': 'Morales', 'date_of_birth': datetime.date(1979, 2, 16)}\n",
      "{'person_id': 27, 'first_name': 'Bradley', 'last_name': 'Juarez', 'date_of_birth': datetime.date(1955, 6, 4)}\n",
      "{'person_id': 28, 'first_name': 'Regina', 'last_name': 'Mann', 'date_of_birth': datetime.date(1986, 12, 9)}\n",
      "{'person_id': 29, 'first_name': 'Casey', 'last_name': 'Moon', 'date_of_birth': datetime.date(1963, 9, 16)}\n",
      "{'person_id': 30, 'first_name': 'Kathy', 'last_name': 'Dickson', 'date_of_birth': datetime.date(2011, 9, 29)}\n",
      "{'person_id': 31, 'first_name': 'Tanya', 'last_name': 'Shields', 'date_of_birth': datetime.date(1938, 7, 9)}\n",
      "{'person_id': 32, 'first_name': 'Karen', 'last_name': 'Perez', 'date_of_birth': datetime.date(1983, 1, 28)}\n",
      "{'person_id': 33, 'first_name': 'Richard', 'last_name': 'Porter', 'date_of_birth': datetime.date(1938, 4, 20)}\n",
      "{'person_id': 34, 'first_name': 'Steven', 'last_name': 'Gray', 'date_of_birth': datetime.date(1925, 11, 8)}\n",
      "{'person_id': 35, 'first_name': 'Adrian', 'last_name': 'Ibarra', 'date_of_birth': datetime.date(2014, 11, 30)}\n",
      "{'person_id': 36, 'first_name': 'Mary', 'last_name': 'Myers', 'date_of_birth': datetime.date(1993, 4, 8)}\n",
      "{'person_id': 37, 'first_name': 'Jason', 'last_name': 'Miles', 'date_of_birth': datetime.date(1978, 4, 13)}\n",
      "{'person_id': 38, 'first_name': 'Michelle', 'last_name': 'Jones', 'date_of_birth': datetime.date(2003, 5, 2)}\n",
      "{'person_id': 39, 'first_name': 'Lawrence', 'last_name': 'Cox', 'date_of_birth': datetime.date(1976, 6, 2)}\n",
      "{'person_id': 40, 'first_name': 'Megan', 'last_name': 'Martinez', 'date_of_birth': datetime.date(1941, 6, 13)}\n",
      "{'person_id': 41, 'first_name': 'Claire', 'last_name': 'Lee', 'date_of_birth': datetime.date(1942, 10, 10)}\n",
      "{'person_id': 42, 'first_name': 'Lori', 'last_name': 'Williams', 'date_of_birth': datetime.date(2012, 5, 30)}\n",
      "{'person_id': 43, 'first_name': 'Julie', 'last_name': 'Smith', 'date_of_birth': datetime.date(1920, 9, 19)}\n",
      "{'person_id': 44, 'first_name': 'Haley', 'last_name': 'Trevino', 'date_of_birth': datetime.date(1977, 3, 2)}\n",
      "{'person_id': 45, 'first_name': 'William', 'last_name': 'Williams', 'date_of_birth': datetime.date(2012, 3, 7)}\n",
      "{'person_id': 46, 'first_name': 'Todd', 'last_name': 'Cox', 'date_of_birth': datetime.date(1949, 5, 13)}\n",
      "{'person_id': 47, 'first_name': 'Dana', 'last_name': 'Dixon', 'date_of_birth': datetime.date(1971, 12, 3)}\n",
      "{'person_id': 48, 'first_name': 'Brian', 'last_name': 'Thompson', 'date_of_birth': datetime.date(1921, 4, 7)}\n",
      "{'person_id': 49, 'first_name': 'Nicholas', 'last_name': 'Gomez', 'date_of_birth': datetime.date(1967, 8, 25)}\n",
      "{'person_id': 50, 'first_name': 'Andrea', 'last_name': 'Armstrong', 'date_of_birth': datetime.date(1932, 12, 24)}\n",
      "{'person_id': 51, 'first_name': 'Jennifer', 'last_name': 'Young', 'date_of_birth': datetime.date(2015, 6, 2)}\n",
      "{'person_id': 52, 'first_name': 'Joseph', 'last_name': 'Russo', 'date_of_birth': datetime.date(1910, 9, 23)}\n",
      "{'person_id': 53, 'first_name': 'Ellen', 'last_name': 'Newton', 'date_of_birth': datetime.date(1914, 10, 8)}\n",
      "{'person_id': 54, 'first_name': 'Gabriel', 'last_name': 'Richardson', 'date_of_birth': datetime.date(1928, 2, 27)}\n",
      "{'person_id': 55, 'first_name': 'Nathan', 'last_name': 'Duarte', 'date_of_birth': datetime.date(1909, 1, 13)}\n",
      "{'person_id': 56, 'first_name': 'Connor', 'last_name': 'Cameron', 'date_of_birth': datetime.date(1976, 4, 22)}\n",
      "{'person_id': 57, 'first_name': 'Julie', 'last_name': 'Howard', 'date_of_birth': datetime.date(1925, 8, 15)}\n",
      "{'person_id': 58, 'first_name': 'Anne', 'last_name': 'Tanner', 'date_of_birth': datetime.date(1990, 12, 16)}\n",
      "{'person_id': 59, 'first_name': 'Matthew', 'last_name': 'Hernandez', 'date_of_birth': datetime.date(1908, 9, 26)}\n",
      "{'person_id': 60, 'first_name': 'Debra', 'last_name': 'Jackson', 'date_of_birth': datetime.date(2015, 4, 12)}\n",
      "{'person_id': 61, 'first_name': 'Jason', 'last_name': 'Lara', 'date_of_birth': datetime.date(1978, 2, 5)}\n",
      "{'person_id': 62, 'first_name': 'Robin', 'last_name': 'Mitchell', 'date_of_birth': datetime.date(1989, 5, 12)}\n",
      "{'person_id': 63, 'first_name': 'Denise', 'last_name': 'Mays', 'date_of_birth': datetime.date(1907, 12, 14)}\n",
      "{'person_id': 64, 'first_name': 'Stephen', 'last_name': 'Williams', 'date_of_birth': datetime.date(1980, 1, 25)}\n",
      "{'person_id': 65, 'first_name': 'Timothy', 'last_name': 'Smith', 'date_of_birth': datetime.date(1916, 2, 18)}\n",
      "{'person_id': 66, 'first_name': 'Mary', 'last_name': 'Alvarez', 'date_of_birth': datetime.date(1986, 4, 25)}\n",
      "{'person_id': 67, 'first_name': 'Tommy', 'last_name': 'Raymond', 'date_of_birth': datetime.date(1959, 2, 8)}\n",
      "{'person_id': 68, 'first_name': 'Amber', 'last_name': 'Frazier', 'date_of_birth': datetime.date(1996, 8, 2)}\n",
      "{'person_id': 69, 'first_name': 'Brenda', 'last_name': 'Parsons', 'date_of_birth': datetime.date(1942, 6, 23)}\n",
      "{'person_id': 70, 'first_name': 'Amanda', 'last_name': 'Avila', 'date_of_birth': datetime.date(1940, 6, 27)}\n",
      "{'person_id': 71, 'first_name': 'Patricia', 'last_name': 'Forbes', 'date_of_birth': datetime.date(1988, 5, 30)}\n",
      "{'person_id': 72, 'first_name': 'Kaitlin', 'last_name': 'Tucker', 'date_of_birth': datetime.date(1990, 12, 10)}\n",
      "{'person_id': 73, 'first_name': 'Sarah', 'last_name': 'Mendoza', 'date_of_birth': datetime.date(1960, 5, 1)}\n",
      "{'person_id': 74, 'first_name': 'Blake', 'last_name': 'Smith', 'date_of_birth': datetime.date(1922, 10, 18)}\n",
      "{'person_id': 75, 'first_name': 'Daniel', 'last_name': 'Robinson', 'date_of_birth': datetime.date(2017, 7, 3)}\n",
      "{'person_id': 76, 'first_name': 'Jacqueline', 'last_name': 'Hunt', 'date_of_birth': datetime.date(1922, 11, 2)}\n",
      "{'person_id': 77, 'first_name': 'Eric', 'last_name': 'Molina', 'date_of_birth': datetime.date(1910, 8, 9)}\n",
      "{'person_id': 78, 'first_name': 'Stephanie', 'last_name': 'York', 'date_of_birth': datetime.date(1985, 3, 11)}\n",
      "{'person_id': 79, 'first_name': 'Cynthia', 'last_name': 'Houston', 'date_of_birth': datetime.date(1904, 1, 6)}\n",
      "{'person_id': 80, 'first_name': 'Christina', 'last_name': 'Reed', 'date_of_birth': datetime.date(1918, 8, 13)}\n",
      "{'person_id': 81, 'first_name': 'Emily', 'last_name': 'Russell', 'date_of_birth': datetime.date(1955, 1, 7)}\n",
      "{'person_id': 82, 'first_name': 'Oscar', 'last_name': 'Ramirez', 'date_of_birth': datetime.date(1948, 8, 16)}\n",
      "{'person_id': 83, 'first_name': 'Ivan', 'last_name': 'Clark', 'date_of_birth': datetime.date(1957, 2, 28)}\n",
      "{'person_id': 84, 'first_name': 'Gary', 'last_name': 'Berg', 'date_of_birth': datetime.date(2011, 5, 22)}\n",
      "{'person_id': 85, 'first_name': 'Jennifer', 'last_name': 'Gray', 'date_of_birth': datetime.date(1962, 10, 22)}\n",
      "{'person_id': 86, 'first_name': 'Charles', 'last_name': 'Rodriguez', 'date_of_birth': datetime.date(1913, 2, 18)}\n",
      "{'person_id': 87, 'first_name': 'Edward', 'last_name': 'Rivera', 'date_of_birth': datetime.date(1913, 3, 31)}\n",
      "{'person_id': 88, 'first_name': 'John', 'last_name': 'Howell', 'date_of_birth': datetime.date(1924, 4, 27)}\n",
      "{'person_id': 89, 'first_name': 'Brian', 'last_name': 'Cisneros', 'date_of_birth': datetime.date(1924, 4, 19)}\n",
      "{'person_id': 90, 'first_name': 'Kimberly', 'last_name': 'Peters', 'date_of_birth': datetime.date(2016, 12, 4)}\n",
      "{'person_id': 91, 'first_name': 'Nicole', 'last_name': 'Smith', 'date_of_birth': datetime.date(2010, 7, 21)}\n",
      "{'person_id': 92, 'first_name': 'Michael', 'last_name': 'Adams', 'date_of_birth': datetime.date(1966, 8, 12)}\n",
      "{'person_id': 93, 'first_name': 'Tina', 'last_name': 'Gardner', 'date_of_birth': datetime.date(1981, 1, 23)}\n",
      "{'person_id': 94, 'first_name': 'Andrea', 'last_name': 'Becker', 'date_of_birth': datetime.date(1953, 12, 13)}\n",
      "{'person_id': 95, 'first_name': 'Christopher', 'last_name': 'Christian', 'date_of_birth': datetime.date(1929, 10, 8)}\n",
      "{'person_id': 96, 'first_name': 'Joseph', 'last_name': 'Manning', 'date_of_birth': datetime.date(1917, 7, 1)}\n",
      "{'person_id': 97, 'first_name': 'Alexander', 'last_name': 'Sosa', 'date_of_birth': datetime.date(1953, 3, 27)}\n",
      "{'person_id': 98, 'first_name': 'Jodi', 'last_name': 'Moss', 'date_of_birth': datetime.date(2009, 5, 27)}\n",
      "{'person_id': 99, 'first_name': 'Brian', 'last_name': 'Mcdaniel', 'date_of_birth': datetime.date(1922, 1, 24)}\n"
     ]
    }
   ],
   "source": [
    "cursor.execute(\"\"\"SELECT * FROM dimitri_test.fake_person\"\"\")\n",
    "for rec in cursor:\n",
    "    print(rec)"
   ]
  },
  {
   "cell_type": "code",
   "execution_count": 74,
   "metadata": {},
   "outputs": [
    {
     "data": {
      "text/plain": [
       "datetime.date(2018, 9, 25)"
      ]
     },
     "execution_count": 74,
     "metadata": {},
     "output_type": "execute_result"
    }
   ],
   "source": [
    "faker.date_between(datetime.date(2018, 2, 3), 'today')"
   ]
  },
  {
   "cell_type": "code",
   "execution_count": 97,
   "metadata": {},
   "outputs": [
    {
     "data": {
      "text/plain": [
       "0"
      ]
     },
     "execution_count": 97,
     "metadata": {},
     "output_type": "execute_result"
    }
   ],
   "source": [
    "cursor.execute(\"\"\"\n",
    "CREATE TABLE dimitri_test.fake_death(\n",
    "    person_id int not NULL,\n",
    "    date_of_death date NOT NULL,\n",
    "    foreign key (person_id) REFERENCES dimitri_test.fake_person (person_id))\n",
    "\"\"\")"
   ]
  },
  {
   "cell_type": "code",
   "execution_count": 98,
   "metadata": {},
   "outputs": [],
   "source": [
    "persons = cursor.execute(\"\"\"SELECT person_id, date_of_birth FROM dimitri_test.fake_person\"\"\")\n",
    "for rec in cursor.fetchall():\n",
    "    cursor.execute(\"\"\"\n",
    "    INSERT INTO dimitri_test.fake_death (person_id, date_of_death) VALUES (%s, %s)\n",
    "    \"\"\", (rec['person_id'], faker.date_between(rec['date_of_birth'], rec['date_of_birth'] + datetime.timedelta(days=40000))))\n",
    "    "
   ]
  },
  {
   "cell_type": "code",
   "execution_count": 99,
   "metadata": {},
   "outputs": [
    {
     "name": "stdout",
     "output_type": "stream",
     "text": [
      "{'first_name': 'Lawrence', 'died_at': 46}\n",
      "{'first_name': 'Travis', 'died_at': 19}\n",
      "{'first_name': 'Julia', 'died_at': 28}\n",
      "{'first_name': 'Marc', 'died_at': 14}\n",
      "{'first_name': 'Mariah', 'died_at': 74}\n",
      "{'first_name': 'Karen', 'died_at': 58}\n",
      "{'first_name': 'Angela', 'died_at': 52}\n",
      "{'first_name': 'Michael', 'died_at': 0}\n",
      "{'first_name': 'Michelle', 'died_at': 13}\n",
      "{'first_name': 'George', 'died_at': 27}\n",
      "{'first_name': 'Stephanie', 'died_at': 38}\n",
      "{'first_name': 'Katie', 'died_at': 85}\n",
      "{'first_name': 'Cheyenne', 'died_at': 103}\n",
      "{'first_name': 'Nathan', 'died_at': 38}\n",
      "{'first_name': 'Samantha', 'died_at': 17}\n",
      "{'first_name': 'David', 'died_at': 70}\n",
      "{'first_name': 'Christian', 'died_at': 45}\n",
      "{'first_name': 'Donald', 'died_at': 28}\n",
      "{'first_name': 'Kathleen', 'died_at': 0}\n",
      "{'first_name': 'Mary', 'died_at': 86}\n",
      "{'first_name': 'Ethan', 'died_at': 5}\n",
      "{'first_name': 'Victor', 'died_at': 28}\n",
      "{'first_name': 'Isaac', 'died_at': 32}\n",
      "{'first_name': 'Shelley', 'died_at': 43}\n",
      "{'first_name': 'Wendy', 'died_at': 69}\n",
      "{'first_name': 'Cynthia', 'died_at': 71}\n",
      "{'first_name': 'Bradley', 'died_at': 33}\n",
      "{'first_name': 'Regina', 'died_at': 21}\n",
      "{'first_name': 'Casey', 'died_at': 74}\n",
      "{'first_name': 'Kathy', 'died_at': 24}\n",
      "{'first_name': 'Tanya', 'died_at': 34}\n",
      "{'first_name': 'Karen', 'died_at': 27}\n",
      "{'first_name': 'Richard', 'died_at': 44}\n",
      "{'first_name': 'Steven', 'died_at': 85}\n",
      "{'first_name': 'Adrian', 'died_at': 97}\n",
      "{'first_name': 'Mary', 'died_at': 80}\n",
      "{'first_name': 'Jason', 'died_at': 12}\n",
      "{'first_name': 'Michelle', 'died_at': 44}\n",
      "{'first_name': 'Lawrence', 'died_at': 60}\n",
      "{'first_name': 'Megan', 'died_at': 9}\n",
      "{'first_name': 'Claire', 'died_at': 9}\n",
      "{'first_name': 'Lori', 'died_at': 104}\n",
      "{'first_name': 'Julie', 'died_at': 15}\n",
      "{'first_name': 'Haley', 'died_at': 99}\n",
      "{'first_name': 'William', 'died_at': 12}\n",
      "{'first_name': 'Todd', 'died_at': 62}\n",
      "{'first_name': 'Dana', 'died_at': 27}\n",
      "{'first_name': 'Brian', 'died_at': 64}\n",
      "{'first_name': 'Nicholas', 'died_at': 37}\n",
      "{'first_name': 'Andrea', 'died_at': 80}\n",
      "{'first_name': 'Jennifer', 'died_at': 103}\n",
      "{'first_name': 'Joseph', 'died_at': 63}\n",
      "{'first_name': 'Ellen', 'died_at': 81}\n",
      "{'first_name': 'Gabriel', 'died_at': 20}\n",
      "{'first_name': 'Nathan', 'died_at': 97}\n",
      "{'first_name': 'Connor', 'died_at': 44}\n",
      "{'first_name': 'Julie', 'died_at': 66}\n",
      "{'first_name': 'Anne', 'died_at': 74}\n",
      "{'first_name': 'Matthew', 'died_at': 11}\n",
      "{'first_name': 'Debra', 'died_at': 66}\n",
      "{'first_name': 'Jason', 'died_at': 35}\n",
      "{'first_name': 'Robin', 'died_at': 61}\n",
      "{'first_name': 'Denise', 'died_at': 105}\n",
      "{'first_name': 'Stephen', 'died_at': 42}\n",
      "{'first_name': 'Timothy', 'died_at': 81}\n",
      "{'first_name': 'Mary', 'died_at': 65}\n",
      "{'first_name': 'Tommy', 'died_at': 90}\n",
      "{'first_name': 'Amber', 'died_at': 76}\n",
      "{'first_name': 'Brenda', 'died_at': 38}\n",
      "{'first_name': 'Amanda', 'died_at': 61}\n",
      "{'first_name': 'Patricia', 'died_at': 99}\n",
      "{'first_name': 'Kaitlin', 'died_at': 97}\n",
      "{'first_name': 'Sarah', 'died_at': 63}\n",
      "{'first_name': 'Blake', 'died_at': 36}\n",
      "{'first_name': 'Daniel', 'died_at': 19}\n",
      "{'first_name': 'Jacqueline', 'died_at': 7}\n",
      "{'first_name': 'Eric', 'died_at': 1}\n",
      "{'first_name': 'Stephanie', 'died_at': 41}\n",
      "{'first_name': 'Cynthia', 'died_at': 107}\n",
      "{'first_name': 'Christina', 'died_at': 21}\n",
      "{'first_name': 'Emily', 'died_at': 53}\n",
      "{'first_name': 'Oscar', 'died_at': 49}\n",
      "{'first_name': 'Ivan', 'died_at': 69}\n",
      "{'first_name': 'Gary', 'died_at': 69}\n",
      "{'first_name': 'Jennifer', 'died_at': 14}\n",
      "{'first_name': 'Charles', 'died_at': 50}\n",
      "{'first_name': 'Edward', 'died_at': 77}\n",
      "{'first_name': 'John', 'died_at': 52}\n",
      "{'first_name': 'Brian', 'died_at': 2}\n",
      "{'first_name': 'Kimberly', 'died_at': 58}\n",
      "{'first_name': 'Nicole', 'died_at': 75}\n",
      "{'first_name': 'Michael', 'died_at': 58}\n",
      "{'first_name': 'Tina', 'died_at': 81}\n",
      "{'first_name': 'Andrea', 'died_at': 22}\n",
      "{'first_name': 'Christopher', 'died_at': 4}\n",
      "{'first_name': 'Joseph', 'died_at': 27}\n",
      "{'first_name': 'Alexander', 'died_at': 78}\n",
      "{'first_name': 'Jodi', 'died_at': 90}\n",
      "{'first_name': 'Brian', 'died_at': 2}\n"
     ]
    }
   ],
   "source": [
    "cursor.execute(\"\"\"\n",
    "SELECT first_name, floor(DATEDIFF(date_of_death, date_of_birth)/365.25) as died_at\n",
    "FROM dimitri_test.fake_person NATURAL JOIN dimitri_test.fake_death\"\"\")\n",
    "\n",
    "for rec in cursor:\n",
    "    print(rec)"
   ]
  },
  {
   "cell_type": "code",
   "execution_count": 96,
   "metadata": {},
   "outputs": [
    {
     "data": {
      "text/plain": [
       "0"
      ]
     },
     "execution_count": 96,
     "metadata": {},
     "output_type": "execute_result"
    }
   ],
   "source": [
    "cursor.execute(\"\"\"\n",
    "DROP TABLE dimitri_test.fake_death\n",
    "\"\"\")"
   ]
  }
 ],
 "metadata": {
  "kernelspec": {
   "display_name": "Python 3",
   "language": "python",
   "name": "python3"
  },
  "language_info": {
   "codemirror_mode": {
    "name": "ipython",
    "version": 3
   },
   "file_extension": ".py",
   "mimetype": "text/x-python",
   "name": "python",
   "nbconvert_exporter": "python",
   "pygments_lexer": "ipython3",
   "version": "3.7.3"
  }
 },
 "nbformat": 4,
 "nbformat_minor": 2
}

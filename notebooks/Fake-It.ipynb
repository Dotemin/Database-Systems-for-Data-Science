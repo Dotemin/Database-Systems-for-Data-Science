{
 "cells": [
  {
   "cell_type": "code",
   "execution_count": 1,
   "metadata": {},
   "outputs": [],
   "source": [
    "from faker import Faker"
   ]
  },
  {
   "cell_type": "code",
   "execution_count": 2,
   "metadata": {},
   "outputs": [],
   "source": [
    "faker = Faker()"
   ]
  },
  {
   "cell_type": "code",
   "execution_count": 3,
   "metadata": {},
   "outputs": [
    {
     "data": {
      "text/plain": [
       "'Function-based local data-warehouse'"
      ]
     },
     "execution_count": 3,
     "metadata": {},
     "output_type": "execute_result"
    }
   ],
   "source": [
    "faker.catch_phrase()"
   ]
  },
  {
   "cell_type": "code",
   "execution_count": 4,
   "metadata": {},
   "outputs": [
    {
     "data": {
      "text/plain": [
       "'Lavender'"
      ]
     },
     "execution_count": 4,
     "metadata": {},
     "output_type": "execute_result"
    }
   ],
   "source": [
    "faker.color_name()"
   ]
  },
  {
   "cell_type": "code",
   "execution_count": 5,
   "metadata": {},
   "outputs": [
    {
     "name": "stdout",
     "output_type": "stream",
     "text": [
      "VISA 19 digit\n",
      "Edgar Hoffman\n",
      "4878317781292365291 06/21\n",
      "CVC: 036\n",
      "\n"
     ]
    }
   ],
   "source": [
    "print(faker.credit_card_full())"
   ]
  },
  {
   "cell_type": "code",
   "execution_count": 6,
   "metadata": {},
   "outputs": [
    {
     "data": {
      "text/plain": [
       "datetime.date(1974, 2, 6)"
      ]
     },
     "execution_count": 6,
     "metadata": {},
     "output_type": "execute_result"
    }
   ],
   "source": [
    "faker.date_of_birth()"
   ]
  },
  {
   "cell_type": "code",
   "execution_count": 8,
   "metadata": {},
   "outputs": [
    {
     "name": "stdout",
     "output_type": "stream",
     "text": [
      "Help on method ean13 in module faker.providers.barcode.en_US:\n",
      "\n",
      "ean13(leading_zero=None, prefixes=()) method of faker.providers.barcode.en_US.Provider instance\n",
      "    Generate an EAN-13 barcode.\n",
      "    \n",
      "    If ``leading_zero`` is ``True``, the leftmost digit of the barcode will be set\n",
      "    to ``0``. If ``False``, the leftmost digit cannot be ``0``. If ``None`` (default),\n",
      "    the leftmost digit can be any digit.\n",
      "    \n",
      "    If ``prefixes`` are specified, the result will begin with one of the sequence in ``prefixes``.\n",
      "    This option overrides the option ``leading_zero``\n",
      "    \n",
      "    .. note::\n",
      "    \n",
      "        EAN-13 barcode that starts with a zero can be converted to UPC-A\n",
      "        by dropping the leading zero. This may cause problems with readers that treat\n",
      "        all of these code as UPC-A codes and drop the first digit when reading it.\n",
      "    \n",
      "        You can set the argument ``prefixes`` ( or ``leading_zero`` for convenience) explicitly\n",
      "        to avoid or force the generated barcode to start with a zero.\n",
      "    \n",
      "        You can also generate actual UPC-A barcode with\n",
      "        :meth:`upc_a() <faker.providers.barcode.en_US.Provider.upc_a>`.\n",
      "    \n",
      "    This method uses :meth:`ean() <faker.providers.barcode.en_US.Provider.ean>` under the\n",
      "    hood with the ``length`` argument explicitly set to ``13``.\n",
      "    \n",
      "    :sample:\n",
      "    :sample: leading_zero=False\n",
      "    :sample: leading_zero=True\n",
      "    :sample: prefixes=('00',)\n",
      "    :sample: prefixes=('45', '49')\n",
      "\n"
     ]
    }
   ],
   "source": [
    "help(faker.ean13)"
   ]
  },
  {
   "cell_type": "code",
   "execution_count": 9,
   "metadata": {},
   "outputs": [
    {
     "data": {
      "text/plain": [
       "'9196915233'"
      ]
     },
     "execution_count": 9,
     "metadata": {},
     "output_type": "execute_result"
    }
   ],
   "source": [
    "faker.phone_number()"
   ]
  },
  {
   "cell_type": "code",
   "execution_count": 10,
   "metadata": {},
   "outputs": [
    {
     "name": "stdout",
     "output_type": "stream",
     "text": [
      "Explain hour behind western million suddenly early. There artist focus economic production once long by. Computer result world probably. Two box simple them whom born.\n"
     ]
    }
   ],
   "source": [
    "print(faker.paragraph())"
   ]
  },
  {
   "cell_type": "code",
   "execution_count": 11,
   "metadata": {},
   "outputs": [
    {
     "data": {
      "text/plain": [
       "'428734'"
      ]
     },
     "execution_count": 11,
     "metadata": {},
     "output_type": "execute_result"
    }
   ],
   "source": [
    "faker.license_plate()"
   ]
  },
  {
   "cell_type": "code",
   "execution_count": 12,
   "metadata": {},
   "outputs": [
    {
     "data": {
      "text/plain": [
       "'484 Davis Point'"
      ]
     },
     "execution_count": 12,
     "metadata": {},
     "output_type": "execute_result"
    }
   ],
   "source": [
    "faker.street_address()"
   ]
  },
  {
   "cell_type": "code",
   "execution_count": 13,
   "metadata": {},
   "outputs": [
    {
     "data": {
      "text/plain": [
       "Decimal('52.022379')"
      ]
     },
     "execution_count": 13,
     "metadata": {},
     "output_type": "execute_result"
    }
   ],
   "source": [
    "faker.coordinate()"
   ]
  },
  {
   "cell_type": "code",
   "execution_count": 14,
   "metadata": {},
   "outputs": [
    {
     "data": {
      "text/plain": [
       "['__class__',\n",
       " '__delattr__',\n",
       " '__dict__',\n",
       " '__dir__',\n",
       " '__doc__',\n",
       " '__eq__',\n",
       " '__format__',\n",
       " '__ge__',\n",
       " '__getattr__',\n",
       " '__getattribute__',\n",
       " '__getitem__',\n",
       " '__gt__',\n",
       " '__hash__',\n",
       " '__init__',\n",
       " '__init_subclass__',\n",
       " '__le__',\n",
       " '__lt__',\n",
       " '__module__',\n",
       " '__ne__',\n",
       " '__new__',\n",
       " '__reduce__',\n",
       " '__reduce_ex__',\n",
       " '__repr__',\n",
       " '__setattr__',\n",
       " '__sizeof__',\n",
       " '__str__',\n",
       " '__subclasshook__',\n",
       " '__weakref__',\n",
       " '_factories',\n",
       " '_factory_map',\n",
       " '_locales',\n",
       " '_map_provider_method',\n",
       " '_select_factory',\n",
       " '_weights',\n",
       " 'add_provider',\n",
       " 'address',\n",
       " 'am_pm',\n",
       " 'android_platform_token',\n",
       " 'ascii_company_email',\n",
       " 'ascii_email',\n",
       " 'ascii_free_email',\n",
       " 'ascii_safe_email',\n",
       " 'bank_country',\n",
       " 'bban',\n",
       " 'binary',\n",
       " 'boolean',\n",
       " 'bothify',\n",
       " 'bs',\n",
       " 'building_number',\n",
       " 'cache_pattern',\n",
       " 'catch_phrase',\n",
       " 'century',\n",
       " 'chrome',\n",
       " 'city',\n",
       " 'city_prefix',\n",
       " 'city_suffix',\n",
       " 'color',\n",
       " 'color_name',\n",
       " 'company',\n",
       " 'company_email',\n",
       " 'company_suffix',\n",
       " 'coordinate',\n",
       " 'country',\n",
       " 'country_calling_code',\n",
       " 'country_code',\n",
       " 'credit_card_expire',\n",
       " 'credit_card_full',\n",
       " 'credit_card_number',\n",
       " 'credit_card_provider',\n",
       " 'credit_card_security_code',\n",
       " 'cryptocurrency',\n",
       " 'cryptocurrency_code',\n",
       " 'cryptocurrency_name',\n",
       " 'csv',\n",
       " 'currency',\n",
       " 'currency_code',\n",
       " 'currency_name',\n",
       " 'currency_symbol',\n",
       " 'date',\n",
       " 'date_between',\n",
       " 'date_between_dates',\n",
       " 'date_object',\n",
       " 'date_of_birth',\n",
       " 'date_this_century',\n",
       " 'date_this_decade',\n",
       " 'date_this_month',\n",
       " 'date_this_year',\n",
       " 'date_time',\n",
       " 'date_time_ad',\n",
       " 'date_time_between',\n",
       " 'date_time_between_dates',\n",
       " 'date_time_this_century',\n",
       " 'date_time_this_decade',\n",
       " 'date_time_this_month',\n",
       " 'date_time_this_year',\n",
       " 'day_of_month',\n",
       " 'day_of_week',\n",
       " 'del_arguments',\n",
       " 'dga',\n",
       " 'domain_name',\n",
       " 'domain_word',\n",
       " 'dsv',\n",
       " 'ean',\n",
       " 'ean13',\n",
       " 'ean8',\n",
       " 'ein',\n",
       " 'email',\n",
       " 'factories',\n",
       " 'file_extension',\n",
       " 'file_name',\n",
       " 'file_path',\n",
       " 'firefox',\n",
       " 'first_name',\n",
       " 'first_name_female',\n",
       " 'first_name_male',\n",
       " 'first_name_nonbinary',\n",
       " 'fixed_width',\n",
       " 'format',\n",
       " 'free_email',\n",
       " 'free_email_domain',\n",
       " 'future_date',\n",
       " 'future_datetime',\n",
       " 'generator_attrs',\n",
       " 'get_arguments',\n",
       " 'get_formatter',\n",
       " 'get_providers',\n",
       " 'hex_color',\n",
       " 'hexify',\n",
       " 'hostname',\n",
       " 'http_method',\n",
       " 'iban',\n",
       " 'image_url',\n",
       " 'internet_explorer',\n",
       " 'invalid_ssn',\n",
       " 'ios_platform_token',\n",
       " 'ipv4',\n",
       " 'ipv4_network_class',\n",
       " 'ipv4_private',\n",
       " 'ipv4_public',\n",
       " 'ipv6',\n",
       " 'isbn10',\n",
       " 'isbn13',\n",
       " 'iso8601',\n",
       " 'items',\n",
       " 'itin',\n",
       " 'job',\n",
       " 'json',\n",
       " 'language_code',\n",
       " 'language_name',\n",
       " 'last_name',\n",
       " 'last_name_female',\n",
       " 'last_name_male',\n",
       " 'last_name_nonbinary',\n",
       " 'latitude',\n",
       " 'latlng',\n",
       " 'lexify',\n",
       " 'license_plate',\n",
       " 'linux_platform_token',\n",
       " 'linux_processor',\n",
       " 'local_latlng',\n",
       " 'locale',\n",
       " 'locales',\n",
       " 'localized_ean',\n",
       " 'localized_ean13',\n",
       " 'localized_ean8',\n",
       " 'location_on_land',\n",
       " 'longitude',\n",
       " 'mac_address',\n",
       " 'mac_platform_token',\n",
       " 'mac_processor',\n",
       " 'md5',\n",
       " 'military_apo',\n",
       " 'military_dpo',\n",
       " 'military_ship',\n",
       " 'military_state',\n",
       " 'mime_type',\n",
       " 'month',\n",
       " 'month_name',\n",
       " 'msisdn',\n",
       " 'name',\n",
       " 'name_female',\n",
       " 'name_male',\n",
       " 'name_nonbinary',\n",
       " 'null_boolean',\n",
       " 'numerify',\n",
       " 'opera',\n",
       " 'paragraph',\n",
       " 'paragraphs',\n",
       " 'parse',\n",
       " 'password',\n",
       " 'past_date',\n",
       " 'past_datetime',\n",
       " 'phone_number',\n",
       " 'port_number',\n",
       " 'postalcode',\n",
       " 'postalcode_in_state',\n",
       " 'postalcode_plus4',\n",
       " 'postcode',\n",
       " 'postcode_in_state',\n",
       " 'prefix',\n",
       " 'prefix_female',\n",
       " 'prefix_male',\n",
       " 'prefix_nonbinary',\n",
       " 'profile',\n",
       " 'provider',\n",
       " 'providers',\n",
       " 'psv',\n",
       " 'pybool',\n",
       " 'pydecimal',\n",
       " 'pydict',\n",
       " 'pyfloat',\n",
       " 'pyint',\n",
       " 'pyiterable',\n",
       " 'pylist',\n",
       " 'pyset',\n",
       " 'pystr',\n",
       " 'pystr_format',\n",
       " 'pystruct',\n",
       " 'pytimezone',\n",
       " 'pytuple',\n",
       " 'random',\n",
       " 'random_choices',\n",
       " 'random_digit',\n",
       " 'random_digit_not_null',\n",
       " 'random_digit_not_null_or_empty',\n",
       " 'random_digit_or_empty',\n",
       " 'random_element',\n",
       " 'random_elements',\n",
       " 'random_int',\n",
       " 'random_letter',\n",
       " 'random_letters',\n",
       " 'random_lowercase_letter',\n",
       " 'random_number',\n",
       " 'random_sample',\n",
       " 'random_uppercase_letter',\n",
       " 'randomize_nb_elements',\n",
       " 'rgb_color',\n",
       " 'rgb_css_color',\n",
       " 'safari',\n",
       " 'safe_color_name',\n",
       " 'safe_domain_name',\n",
       " 'safe_email',\n",
       " 'safe_hex_color',\n",
       " 'secondary_address',\n",
       " 'seed',\n",
       " 'seed_instance',\n",
       " 'seed_locale',\n",
       " 'sentence',\n",
       " 'sentences',\n",
       " 'set_arguments',\n",
       " 'set_formatter',\n",
       " 'sha1',\n",
       " 'sha256',\n",
       " 'simple_profile',\n",
       " 'slug',\n",
       " 'ssn',\n",
       " 'state',\n",
       " 'state_abbr',\n",
       " 'street_address',\n",
       " 'street_name',\n",
       " 'street_suffix',\n",
       " 'suffix',\n",
       " 'suffix_female',\n",
       " 'suffix_male',\n",
       " 'suffix_nonbinary',\n",
       " 'swift',\n",
       " 'swift11',\n",
       " 'swift8',\n",
       " 'tar',\n",
       " 'text',\n",
       " 'texts',\n",
       " 'time',\n",
       " 'time_delta',\n",
       " 'time_object',\n",
       " 'time_series',\n",
       " 'timezone',\n",
       " 'tld',\n",
       " 'tsv',\n",
       " 'unix_device',\n",
       " 'unix_partition',\n",
       " 'unix_time',\n",
       " 'upc_a',\n",
       " 'upc_e',\n",
       " 'uri',\n",
       " 'uri_extension',\n",
       " 'uri_page',\n",
       " 'uri_path',\n",
       " 'url',\n",
       " 'user_agent',\n",
       " 'user_name',\n",
       " 'uuid4',\n",
       " 'weights',\n",
       " 'windows_platform_token',\n",
       " 'word',\n",
       " 'words',\n",
       " 'year',\n",
       " 'zip',\n",
       " 'zipcode',\n",
       " 'zipcode_in_state',\n",
       " 'zipcode_plus4']"
      ]
     },
     "execution_count": 14,
     "metadata": {},
     "output_type": "execute_result"
    }
   ],
   "source": [
    "dir(faker)"
   ]
  },
  {
   "cell_type": "code",
   "execution_count": 16,
   "metadata": {},
   "outputs": [
    {
     "data": {
      "text/plain": [
       "['rule', 'country', 'myself', 'major']"
      ]
     },
     "execution_count": 16,
     "metadata": {},
     "output_type": "execute_result"
    }
   ],
   "source": [
    "faker.words(4)"
   ]
  },
  {
   "cell_type": "markdown",
   "metadata": {},
   "source": [
    "## Learn about Cursors"
   ]
  },
  {
   "cell_type": "code",
   "execution_count": 19,
   "metadata": {},
   "outputs": [],
   "source": [
    "import json\n",
    "with open('cred.json') as f:\n",
    "    creds = json.load(f)"
   ]
  },
  {
   "cell_type": "code",
   "execution_count": 20,
   "metadata": {},
   "outputs": [
    {
     "data": {
      "text/plain": [
       "['host', 'user', 'password']"
      ]
     },
     "execution_count": 20,
     "metadata": {},
     "output_type": "execute_result"
    }
   ],
   "source": [
    "list(creds)"
   ]
  },
  {
   "cell_type": "code",
   "execution_count": 21,
   "metadata": {},
   "outputs": [],
   "source": [
    "import pymysql\n",
    "\n",
    "# establish a database connection\n",
    "conn = pymysql.connect(host=creds['host'], user=creds['user'], passwd=creds['password'])"
   ]
  },
  {
   "cell_type": "code",
   "execution_count": 22,
   "metadata": {},
   "outputs": [],
   "source": [
    "cursor = conn.cursor(cursor=pymysql.cursors.DictCursor)"
   ]
  },
  {
   "cell_type": "code",
   "execution_count": 23,
   "metadata": {},
   "outputs": [
    {
     "data": {
      "text/plain": [
       "1"
      ]
     },
     "execution_count": 23,
     "metadata": {},
     "output_type": "execute_result"
    }
   ],
   "source": [
    "cursor.execute(\"\"\"\n",
    "CREATE SCHEMA dimitri_test\n",
    "\"\"\")"
   ]
  },
  {
   "cell_type": "code",
   "execution_count": 24,
   "metadata": {},
   "outputs": [
    {
     "data": {
      "text/plain": [
       "0"
      ]
     },
     "execution_count": 24,
     "metadata": {},
     "output_type": "execute_result"
    }
   ],
   "source": [
    "cursor.execute(\"\"\"\n",
    "CREATE TABLE dimitri_test.fake_person(\n",
    "person_id int not NULL,\n",
    "first_name varchar(30) NOT NULL,\n",
    "last_name varchar(30) NOT NULL,\n",
    "date_of_birth date NOT NULL,\n",
    "primary key(person_id)\n",
    ")\n",
    "\"\"\"\n",
    ")"
   ]
  },
  {
   "cell_type": "code",
   "execution_count": 25,
   "metadata": {},
   "outputs": [
    {
     "data": {
      "text/plain": [
       "1"
      ]
     },
     "execution_count": 25,
     "metadata": {},
     "output_type": "execute_result"
    }
   ],
   "source": [
    "# insert \n",
    "cursor.execute(\"\"\"INSERT INTO dimitri_test.fake_person (person_id, first_name, last_name, date_of_birth) VALUES\n",
    "(%s, %s, %s, %s)\n",
    "\"\"\", (1, faker.first_name(), faker.last_name(), faker.date_of_birth()))"
   ]
  },
  {
   "cell_type": "code",
   "execution_count": 26,
   "metadata": {},
   "outputs": [],
   "source": [
    "for i in range(2, 100):\n",
    "    cursor.execute(\"\"\"\n",
    "    INSERT INTO \n",
    "    dimitri_test.fake_person (person_id, first_name, last_name, date_of_birth) \n",
    "    VALUES (%s, %s, %s, %s)\n",
    "    \"\"\", (i, faker.first_name(), faker.last_name(), faker.date_of_birth()))"
   ]
  },
  {
   "cell_type": "code",
   "execution_count": null,
   "metadata": {},
   "outputs": [],
   "source": [
    "cursor.execute(\"\"\"\n",
    "DROP TABLE dimitri_test.fake_person\n",
    "\"\"\")"
   ]
  },
  {
   "cell_type": "code",
   "execution_count": null,
   "metadata": {},
   "outputs": [],
   "source": [
    "import datetime"
   ]
  },
  {
   "cell_type": "code",
   "execution_count": 27,
   "metadata": {},
   "outputs": [
    {
     "data": {
      "text/plain": [
       "0"
      ]
     },
     "execution_count": 27,
     "metadata": {},
     "output_type": "execute_result"
    }
   ],
   "source": [
    "cursor.execute(\"\"\"use dimitri_test\"\"\")"
   ]
  },
  {
   "cell_type": "code",
   "execution_count": 31,
   "metadata": {},
   "outputs": [
    {
     "data": {
      "text/plain": [
       "99"
      ]
     },
     "execution_count": 31,
     "metadata": {},
     "output_type": "execute_result"
    }
   ],
   "source": [
    "cursor.execute(\"\"\"SELECT * FROM fake_person\"\"\")"
   ]
  },
  {
   "cell_type": "code",
   "execution_count": 36,
   "metadata": {},
   "outputs": [
    {
     "data": {
      "text/plain": [
       "{'person_id': 5,\n",
       " 'first_name': 'Kayla',\n",
       " 'last_name': 'Ward',\n",
       " 'date_of_birth': datetime.date(2006, 11, 13)}"
      ]
     },
     "execution_count": 36,
     "metadata": {},
     "output_type": "execute_result"
    }
   ],
   "source": [
    "cursor.fetchone()"
   ]
  },
  {
   "cell_type": "code",
   "execution_count": 37,
   "metadata": {},
   "outputs": [
    {
     "data": {
      "text/plain": [
       "[{'person_id': 6,\n",
       "  'first_name': 'Erin',\n",
       "  'last_name': 'Shaw',\n",
       "  'date_of_birth': datetime.date(1995, 12, 18)},\n",
       " {'person_id': 7,\n",
       "  'first_name': 'Heather',\n",
       "  'last_name': 'Page',\n",
       "  'date_of_birth': datetime.date(1932, 8, 10)},\n",
       " {'person_id': 8,\n",
       "  'first_name': 'Christopher',\n",
       "  'last_name': 'Sandoval',\n",
       "  'date_of_birth': datetime.date(2014, 5, 19)},\n",
       " {'person_id': 9,\n",
       "  'first_name': 'Kathy',\n",
       "  'last_name': 'Lam',\n",
       "  'date_of_birth': datetime.date(1991, 7, 28)},\n",
       " {'person_id': 10,\n",
       "  'first_name': 'Jason',\n",
       "  'last_name': 'Matthews',\n",
       "  'date_of_birth': datetime.date(1959, 1, 7)},\n",
       " {'person_id': 11,\n",
       "  'first_name': 'Matthew',\n",
       "  'last_name': 'Thompson',\n",
       "  'date_of_birth': datetime.date(1933, 6, 4)},\n",
       " {'person_id': 12,\n",
       "  'first_name': 'Kathleen',\n",
       "  'last_name': 'Jackson',\n",
       "  'date_of_birth': datetime.date(1948, 7, 14)},\n",
       " {'person_id': 13,\n",
       "  'first_name': 'Tammy',\n",
       "  'last_name': 'Harris',\n",
       "  'date_of_birth': datetime.date(2009, 3, 4)},\n",
       " {'person_id': 14,\n",
       "  'first_name': 'Denise',\n",
       "  'last_name': 'Watson',\n",
       "  'date_of_birth': datetime.date(2012, 9, 23)},\n",
       " {'person_id': 15,\n",
       "  'first_name': 'Carlos',\n",
       "  'last_name': 'Kelly',\n",
       "  'date_of_birth': datetime.date(1930, 10, 18)},\n",
       " {'person_id': 16,\n",
       "  'first_name': 'John',\n",
       "  'last_name': 'Lucas',\n",
       "  'date_of_birth': datetime.date(1908, 5, 8)},\n",
       " {'person_id': 17,\n",
       "  'first_name': 'Brian',\n",
       "  'last_name': 'Espinoza',\n",
       "  'date_of_birth': datetime.date(1991, 2, 27)},\n",
       " {'person_id': 18,\n",
       "  'first_name': 'Michelle',\n",
       "  'last_name': 'Lee',\n",
       "  'date_of_birth': datetime.date(1931, 1, 26)},\n",
       " {'person_id': 19,\n",
       "  'first_name': 'Kevin',\n",
       "  'last_name': 'Osborne',\n",
       "  'date_of_birth': datetime.date(2015, 12, 1)},\n",
       " {'person_id': 20,\n",
       "  'first_name': 'Tony',\n",
       "  'last_name': 'Osborne',\n",
       "  'date_of_birth': datetime.date(1923, 12, 6)},\n",
       " {'person_id': 21,\n",
       "  'first_name': 'James',\n",
       "  'last_name': 'Le',\n",
       "  'date_of_birth': datetime.date(1985, 11, 15)},\n",
       " {'person_id': 22,\n",
       "  'first_name': 'Adam',\n",
       "  'last_name': 'Porter',\n",
       "  'date_of_birth': datetime.date(1993, 2, 21)},\n",
       " {'person_id': 23,\n",
       "  'first_name': 'Samuel',\n",
       "  'last_name': 'Munoz',\n",
       "  'date_of_birth': datetime.date(2010, 7, 3)},\n",
       " {'person_id': 24,\n",
       "  'first_name': 'Larry',\n",
       "  'last_name': 'Sanchez',\n",
       "  'date_of_birth': datetime.date(2005, 5, 7)},\n",
       " {'person_id': 25,\n",
       "  'first_name': 'Richard',\n",
       "  'last_name': 'Robinson',\n",
       "  'date_of_birth': datetime.date(1959, 5, 27)},\n",
       " {'person_id': 26,\n",
       "  'first_name': 'Paula',\n",
       "  'last_name': 'West',\n",
       "  'date_of_birth': datetime.date(2001, 6, 25)},\n",
       " {'person_id': 27,\n",
       "  'first_name': 'Thomas',\n",
       "  'last_name': 'Allen',\n",
       "  'date_of_birth': datetime.date(1907, 1, 3)},\n",
       " {'person_id': 28,\n",
       "  'first_name': 'Laura',\n",
       "  'last_name': 'Price',\n",
       "  'date_of_birth': datetime.date(1933, 10, 4)},\n",
       " {'person_id': 29,\n",
       "  'first_name': 'Amanda',\n",
       "  'last_name': 'Hunter',\n",
       "  'date_of_birth': datetime.date(1917, 8, 5)},\n",
       " {'person_id': 30,\n",
       "  'first_name': 'Justin',\n",
       "  'last_name': 'Steele',\n",
       "  'date_of_birth': datetime.date(1976, 4, 19)},\n",
       " {'person_id': 31,\n",
       "  'first_name': 'Gina',\n",
       "  'last_name': 'Lewis',\n",
       "  'date_of_birth': datetime.date(1943, 12, 17)},\n",
       " {'person_id': 32,\n",
       "  'first_name': 'Danny',\n",
       "  'last_name': 'Phillips',\n",
       "  'date_of_birth': datetime.date(2018, 10, 1)},\n",
       " {'person_id': 33,\n",
       "  'first_name': 'Charles',\n",
       "  'last_name': 'Thompson',\n",
       "  'date_of_birth': datetime.date(1998, 1, 13)},\n",
       " {'person_id': 34,\n",
       "  'first_name': 'Donna',\n",
       "  'last_name': 'Cross',\n",
       "  'date_of_birth': datetime.date(1914, 11, 26)},\n",
       " {'person_id': 35,\n",
       "  'first_name': 'Mitchell',\n",
       "  'last_name': 'Hall',\n",
       "  'date_of_birth': datetime.date(1924, 1, 3)},\n",
       " {'person_id': 36,\n",
       "  'first_name': 'Crystal',\n",
       "  'last_name': 'Hall',\n",
       "  'date_of_birth': datetime.date(2015, 8, 10)},\n",
       " {'person_id': 37,\n",
       "  'first_name': 'Melody',\n",
       "  'last_name': 'Lang',\n",
       "  'date_of_birth': datetime.date(1932, 2, 1)},\n",
       " {'person_id': 38,\n",
       "  'first_name': 'Michael',\n",
       "  'last_name': 'Becker',\n",
       "  'date_of_birth': datetime.date(1961, 9, 25)},\n",
       " {'person_id': 39,\n",
       "  'first_name': 'Kellie',\n",
       "  'last_name': 'Townsend',\n",
       "  'date_of_birth': datetime.date(2002, 5, 20)},\n",
       " {'person_id': 40,\n",
       "  'first_name': 'Mary',\n",
       "  'last_name': 'Montoya',\n",
       "  'date_of_birth': datetime.date(2009, 5, 19)},\n",
       " {'person_id': 41,\n",
       "  'first_name': 'Holly',\n",
       "  'last_name': 'Martinez',\n",
       "  'date_of_birth': datetime.date(1983, 8, 2)},\n",
       " {'person_id': 42,\n",
       "  'first_name': 'Rachael',\n",
       "  'last_name': 'Rosales',\n",
       "  'date_of_birth': datetime.date(1933, 2, 17)},\n",
       " {'person_id': 43,\n",
       "  'first_name': 'Keith',\n",
       "  'last_name': 'Walker',\n",
       "  'date_of_birth': datetime.date(1976, 2, 6)},\n",
       " {'person_id': 44,\n",
       "  'first_name': 'Amanda',\n",
       "  'last_name': 'Gonzalez',\n",
       "  'date_of_birth': datetime.date(2008, 9, 6)},\n",
       " {'person_id': 45,\n",
       "  'first_name': 'Aaron',\n",
       "  'last_name': 'Cruz',\n",
       "  'date_of_birth': datetime.date(1948, 11, 6)},\n",
       " {'person_id': 46,\n",
       "  'first_name': 'James',\n",
       "  'last_name': 'Wilkinson',\n",
       "  'date_of_birth': datetime.date(1969, 10, 3)},\n",
       " {'person_id': 47,\n",
       "  'first_name': 'Jennifer',\n",
       "  'last_name': 'Mills',\n",
       "  'date_of_birth': datetime.date(2008, 3, 4)},\n",
       " {'person_id': 48,\n",
       "  'first_name': 'Jessica',\n",
       "  'last_name': 'Hansen',\n",
       "  'date_of_birth': datetime.date(1972, 6, 22)},\n",
       " {'person_id': 49,\n",
       "  'first_name': 'Chelsea',\n",
       "  'last_name': 'Kelley',\n",
       "  'date_of_birth': datetime.date(1954, 4, 21)},\n",
       " {'person_id': 50,\n",
       "  'first_name': 'Janet',\n",
       "  'last_name': 'Rogers',\n",
       "  'date_of_birth': datetime.date(1906, 3, 8)},\n",
       " {'person_id': 51,\n",
       "  'first_name': 'Linda',\n",
       "  'last_name': 'Nelson',\n",
       "  'date_of_birth': datetime.date(1966, 9, 19)},\n",
       " {'person_id': 52,\n",
       "  'first_name': 'Ashley',\n",
       "  'last_name': 'Davis',\n",
       "  'date_of_birth': datetime.date(1987, 5, 18)},\n",
       " {'person_id': 53,\n",
       "  'first_name': 'Bryan',\n",
       "  'last_name': 'Graves',\n",
       "  'date_of_birth': datetime.date(1908, 1, 5)},\n",
       " {'person_id': 54,\n",
       "  'first_name': 'Alicia',\n",
       "  'last_name': 'Hughes',\n",
       "  'date_of_birth': datetime.date(1921, 8, 31)},\n",
       " {'person_id': 55,\n",
       "  'first_name': 'George',\n",
       "  'last_name': 'Stein',\n",
       "  'date_of_birth': datetime.date(1963, 1, 3)},\n",
       " {'person_id': 56,\n",
       "  'first_name': 'Robert',\n",
       "  'last_name': 'Benitez',\n",
       "  'date_of_birth': datetime.date(1970, 1, 12)},\n",
       " {'person_id': 57,\n",
       "  'first_name': 'Kayla',\n",
       "  'last_name': 'Payne',\n",
       "  'date_of_birth': datetime.date(1971, 3, 18)},\n",
       " {'person_id': 58,\n",
       "  'first_name': 'William',\n",
       "  'last_name': 'Heath',\n",
       "  'date_of_birth': datetime.date(1960, 1, 24)},\n",
       " {'person_id': 59,\n",
       "  'first_name': 'Christopher',\n",
       "  'last_name': 'Wilkerson',\n",
       "  'date_of_birth': datetime.date(1958, 10, 5)},\n",
       " {'person_id': 60,\n",
       "  'first_name': 'Stephanie',\n",
       "  'last_name': 'Dunn',\n",
       "  'date_of_birth': datetime.date(1940, 1, 7)},\n",
       " {'person_id': 61,\n",
       "  'first_name': 'Breanna',\n",
       "  'last_name': 'Little',\n",
       "  'date_of_birth': datetime.date(1948, 6, 15)},\n",
       " {'person_id': 62,\n",
       "  'first_name': 'Rachel',\n",
       "  'last_name': 'Lang',\n",
       "  'date_of_birth': datetime.date(1977, 7, 12)},\n",
       " {'person_id': 63,\n",
       "  'first_name': 'Matthew',\n",
       "  'last_name': 'Haley',\n",
       "  'date_of_birth': datetime.date(1941, 7, 19)},\n",
       " {'person_id': 64,\n",
       "  'first_name': 'Susan',\n",
       "  'last_name': 'Thomas',\n",
       "  'date_of_birth': datetime.date(1998, 12, 30)},\n",
       " {'person_id': 65,\n",
       "  'first_name': 'Samuel',\n",
       "  'last_name': 'Melton',\n",
       "  'date_of_birth': datetime.date(1913, 2, 3)},\n",
       " {'person_id': 66,\n",
       "  'first_name': 'Todd',\n",
       "  'last_name': 'Donaldson',\n",
       "  'date_of_birth': datetime.date(1948, 3, 31)},\n",
       " {'person_id': 67,\n",
       "  'first_name': 'Brian',\n",
       "  'last_name': 'Walter',\n",
       "  'date_of_birth': datetime.date(1976, 11, 19)},\n",
       " {'person_id': 68,\n",
       "  'first_name': 'Michael',\n",
       "  'last_name': 'Robles',\n",
       "  'date_of_birth': datetime.date(1976, 5, 9)},\n",
       " {'person_id': 69,\n",
       "  'first_name': 'Scott',\n",
       "  'last_name': 'Morgan',\n",
       "  'date_of_birth': datetime.date(1999, 1, 26)},\n",
       " {'person_id': 70,\n",
       "  'first_name': 'Jordan',\n",
       "  'last_name': 'Peters',\n",
       "  'date_of_birth': datetime.date(1981, 8, 28)},\n",
       " {'person_id': 71,\n",
       "  'first_name': 'Chris',\n",
       "  'last_name': 'Williams',\n",
       "  'date_of_birth': datetime.date(1975, 11, 21)},\n",
       " {'person_id': 72,\n",
       "  'first_name': 'Luke',\n",
       "  'last_name': 'Freeman',\n",
       "  'date_of_birth': datetime.date(2015, 1, 31)},\n",
       " {'person_id': 73,\n",
       "  'first_name': 'Cynthia',\n",
       "  'last_name': 'Gilmore',\n",
       "  'date_of_birth': datetime.date(2004, 5, 1)},\n",
       " {'person_id': 74,\n",
       "  'first_name': 'John',\n",
       "  'last_name': 'Martinez',\n",
       "  'date_of_birth': datetime.date(2005, 5, 16)},\n",
       " {'person_id': 75,\n",
       "  'first_name': 'Michelle',\n",
       "  'last_name': 'Ward',\n",
       "  'date_of_birth': datetime.date(1959, 10, 13)},\n",
       " {'person_id': 76,\n",
       "  'first_name': 'Melissa',\n",
       "  'last_name': 'Bruce',\n",
       "  'date_of_birth': datetime.date(1906, 6, 20)},\n",
       " {'person_id': 77,\n",
       "  'first_name': 'Bradley',\n",
       "  'last_name': 'Larsen',\n",
       "  'date_of_birth': datetime.date(1948, 1, 12)},\n",
       " {'person_id': 78,\n",
       "  'first_name': 'Kelly',\n",
       "  'last_name': 'Carter',\n",
       "  'date_of_birth': datetime.date(1980, 5, 12)},\n",
       " {'person_id': 79,\n",
       "  'first_name': 'Ernest',\n",
       "  'last_name': 'Lawson',\n",
       "  'date_of_birth': datetime.date(1926, 3, 16)},\n",
       " {'person_id': 80,\n",
       "  'first_name': 'Jennifer',\n",
       "  'last_name': 'Graham',\n",
       "  'date_of_birth': datetime.date(2003, 3, 3)},\n",
       " {'person_id': 81,\n",
       "  'first_name': 'Jeffrey',\n",
       "  'last_name': 'Quinn',\n",
       "  'date_of_birth': datetime.date(1926, 5, 13)},\n",
       " {'person_id': 82,\n",
       "  'first_name': 'Spencer',\n",
       "  'last_name': 'Potter',\n",
       "  'date_of_birth': datetime.date(1909, 11, 25)},\n",
       " {'person_id': 83,\n",
       "  'first_name': 'Lynn',\n",
       "  'last_name': 'Daniels',\n",
       "  'date_of_birth': datetime.date(1948, 2, 29)},\n",
       " {'person_id': 84,\n",
       "  'first_name': 'Shelly',\n",
       "  'last_name': 'Miller',\n",
       "  'date_of_birth': datetime.date(1921, 6, 25)},\n",
       " {'person_id': 85,\n",
       "  'first_name': 'Heather',\n",
       "  'last_name': 'Rowe',\n",
       "  'date_of_birth': datetime.date(1936, 12, 10)},\n",
       " {'person_id': 86,\n",
       "  'first_name': 'Lindsey',\n",
       "  'last_name': 'Pierce',\n",
       "  'date_of_birth': datetime.date(2008, 10, 30)},\n",
       " {'person_id': 87,\n",
       "  'first_name': 'Emily',\n",
       "  'last_name': 'Martin',\n",
       "  'date_of_birth': datetime.date(1993, 10, 29)},\n",
       " {'person_id': 88,\n",
       "  'first_name': 'Alan',\n",
       "  'last_name': 'Mckenzie',\n",
       "  'date_of_birth': datetime.date(2006, 10, 13)},\n",
       " {'person_id': 89,\n",
       "  'first_name': 'Julia',\n",
       "  'last_name': 'Fowler',\n",
       "  'date_of_birth': datetime.date(1994, 3, 9)},\n",
       " {'person_id': 90,\n",
       "  'first_name': 'Angela',\n",
       "  'last_name': 'Tate',\n",
       "  'date_of_birth': datetime.date(1971, 9, 29)},\n",
       " {'person_id': 91,\n",
       "  'first_name': 'Jeffrey',\n",
       "  'last_name': 'Bell',\n",
       "  'date_of_birth': datetime.date(1978, 1, 3)},\n",
       " {'person_id': 92,\n",
       "  'first_name': 'Brian',\n",
       "  'last_name': 'Ray',\n",
       "  'date_of_birth': datetime.date(1991, 12, 13)},\n",
       " {'person_id': 93,\n",
       "  'first_name': 'Joel',\n",
       "  'last_name': 'Daugherty',\n",
       "  'date_of_birth': datetime.date(1960, 6, 25)},\n",
       " {'person_id': 94,\n",
       "  'first_name': 'Ashley',\n",
       "  'last_name': 'Guerra',\n",
       "  'date_of_birth': datetime.date(1975, 8, 9)},\n",
       " {'person_id': 95,\n",
       "  'first_name': 'Leslie',\n",
       "  'last_name': 'Henson',\n",
       "  'date_of_birth': datetime.date(1973, 5, 31)},\n",
       " {'person_id': 96,\n",
       "  'first_name': 'Carla',\n",
       "  'last_name': 'Wells',\n",
       "  'date_of_birth': datetime.date(1977, 11, 26)},\n",
       " {'person_id': 97,\n",
       "  'first_name': 'Nancy',\n",
       "  'last_name': 'Jones',\n",
       "  'date_of_birth': datetime.date(1991, 5, 1)},\n",
       " {'person_id': 98,\n",
       "  'first_name': 'James',\n",
       "  'last_name': 'Ortiz',\n",
       "  'date_of_birth': datetime.date(1981, 4, 21)},\n",
       " {'person_id': 99,\n",
       "  'first_name': 'Andrew',\n",
       "  'last_name': 'Smith',\n",
       "  'date_of_birth': datetime.date(1948, 6, 21)}]"
      ]
     },
     "execution_count": 37,
     "metadata": {},
     "output_type": "execute_result"
    }
   ],
   "source": [
    "cursor.fetchall()"
   ]
  },
  {
   "cell_type": "code",
   "execution_count": 38,
   "metadata": {},
   "outputs": [
    {
     "name": "stdout",
     "output_type": "stream",
     "text": [
      "{'person_id': 1, 'first_name': 'Nathan', 'last_name': 'Dominguez', 'date_of_birth': datetime.date(1974, 12, 18)}\n",
      "{'person_id': 2, 'first_name': 'Leah', 'last_name': 'Pena', 'date_of_birth': datetime.date(1918, 5, 5)}\n",
      "{'person_id': 3, 'first_name': 'Timothy', 'last_name': 'Nguyen', 'date_of_birth': datetime.date(2002, 6, 8)}\n",
      "{'person_id': 4, 'first_name': 'Tara', 'last_name': 'Oneill', 'date_of_birth': datetime.date(1957, 9, 13)}\n",
      "{'person_id': 5, 'first_name': 'Kayla', 'last_name': 'Ward', 'date_of_birth': datetime.date(2006, 11, 13)}\n",
      "{'person_id': 6, 'first_name': 'Erin', 'last_name': 'Shaw', 'date_of_birth': datetime.date(1995, 12, 18)}\n",
      "{'person_id': 7, 'first_name': 'Heather', 'last_name': 'Page', 'date_of_birth': datetime.date(1932, 8, 10)}\n",
      "{'person_id': 8, 'first_name': 'Christopher', 'last_name': 'Sandoval', 'date_of_birth': datetime.date(2014, 5, 19)}\n",
      "{'person_id': 9, 'first_name': 'Kathy', 'last_name': 'Lam', 'date_of_birth': datetime.date(1991, 7, 28)}\n",
      "{'person_id': 10, 'first_name': 'Jason', 'last_name': 'Matthews', 'date_of_birth': datetime.date(1959, 1, 7)}\n",
      "{'person_id': 11, 'first_name': 'Matthew', 'last_name': 'Thompson', 'date_of_birth': datetime.date(1933, 6, 4)}\n",
      "{'person_id': 12, 'first_name': 'Kathleen', 'last_name': 'Jackson', 'date_of_birth': datetime.date(1948, 7, 14)}\n",
      "{'person_id': 13, 'first_name': 'Tammy', 'last_name': 'Harris', 'date_of_birth': datetime.date(2009, 3, 4)}\n",
      "{'person_id': 14, 'first_name': 'Denise', 'last_name': 'Watson', 'date_of_birth': datetime.date(2012, 9, 23)}\n",
      "{'person_id': 15, 'first_name': 'Carlos', 'last_name': 'Kelly', 'date_of_birth': datetime.date(1930, 10, 18)}\n",
      "{'person_id': 16, 'first_name': 'John', 'last_name': 'Lucas', 'date_of_birth': datetime.date(1908, 5, 8)}\n",
      "{'person_id': 17, 'first_name': 'Brian', 'last_name': 'Espinoza', 'date_of_birth': datetime.date(1991, 2, 27)}\n",
      "{'person_id': 18, 'first_name': 'Michelle', 'last_name': 'Lee', 'date_of_birth': datetime.date(1931, 1, 26)}\n",
      "{'person_id': 19, 'first_name': 'Kevin', 'last_name': 'Osborne', 'date_of_birth': datetime.date(2015, 12, 1)}\n",
      "{'person_id': 20, 'first_name': 'Tony', 'last_name': 'Osborne', 'date_of_birth': datetime.date(1923, 12, 6)}\n",
      "{'person_id': 21, 'first_name': 'James', 'last_name': 'Le', 'date_of_birth': datetime.date(1985, 11, 15)}\n",
      "{'person_id': 22, 'first_name': 'Adam', 'last_name': 'Porter', 'date_of_birth': datetime.date(1993, 2, 21)}\n",
      "{'person_id': 23, 'first_name': 'Samuel', 'last_name': 'Munoz', 'date_of_birth': datetime.date(2010, 7, 3)}\n",
      "{'person_id': 24, 'first_name': 'Larry', 'last_name': 'Sanchez', 'date_of_birth': datetime.date(2005, 5, 7)}\n",
      "{'person_id': 25, 'first_name': 'Richard', 'last_name': 'Robinson', 'date_of_birth': datetime.date(1959, 5, 27)}\n",
      "{'person_id': 26, 'first_name': 'Paula', 'last_name': 'West', 'date_of_birth': datetime.date(2001, 6, 25)}\n",
      "{'person_id': 27, 'first_name': 'Thomas', 'last_name': 'Allen', 'date_of_birth': datetime.date(1907, 1, 3)}\n",
      "{'person_id': 28, 'first_name': 'Laura', 'last_name': 'Price', 'date_of_birth': datetime.date(1933, 10, 4)}\n",
      "{'person_id': 29, 'first_name': 'Amanda', 'last_name': 'Hunter', 'date_of_birth': datetime.date(1917, 8, 5)}\n",
      "{'person_id': 30, 'first_name': 'Justin', 'last_name': 'Steele', 'date_of_birth': datetime.date(1976, 4, 19)}\n",
      "{'person_id': 31, 'first_name': 'Gina', 'last_name': 'Lewis', 'date_of_birth': datetime.date(1943, 12, 17)}\n",
      "{'person_id': 32, 'first_name': 'Danny', 'last_name': 'Phillips', 'date_of_birth': datetime.date(2018, 10, 1)}\n",
      "{'person_id': 33, 'first_name': 'Charles', 'last_name': 'Thompson', 'date_of_birth': datetime.date(1998, 1, 13)}\n",
      "{'person_id': 34, 'first_name': 'Donna', 'last_name': 'Cross', 'date_of_birth': datetime.date(1914, 11, 26)}\n",
      "{'person_id': 35, 'first_name': 'Mitchell', 'last_name': 'Hall', 'date_of_birth': datetime.date(1924, 1, 3)}\n",
      "{'person_id': 36, 'first_name': 'Crystal', 'last_name': 'Hall', 'date_of_birth': datetime.date(2015, 8, 10)}\n",
      "{'person_id': 37, 'first_name': 'Melody', 'last_name': 'Lang', 'date_of_birth': datetime.date(1932, 2, 1)}\n",
      "{'person_id': 38, 'first_name': 'Michael', 'last_name': 'Becker', 'date_of_birth': datetime.date(1961, 9, 25)}\n",
      "{'person_id': 39, 'first_name': 'Kellie', 'last_name': 'Townsend', 'date_of_birth': datetime.date(2002, 5, 20)}\n",
      "{'person_id': 40, 'first_name': 'Mary', 'last_name': 'Montoya', 'date_of_birth': datetime.date(2009, 5, 19)}\n",
      "{'person_id': 41, 'first_name': 'Holly', 'last_name': 'Martinez', 'date_of_birth': datetime.date(1983, 8, 2)}\n",
      "{'person_id': 42, 'first_name': 'Rachael', 'last_name': 'Rosales', 'date_of_birth': datetime.date(1933, 2, 17)}\n",
      "{'person_id': 43, 'first_name': 'Keith', 'last_name': 'Walker', 'date_of_birth': datetime.date(1976, 2, 6)}\n",
      "{'person_id': 44, 'first_name': 'Amanda', 'last_name': 'Gonzalez', 'date_of_birth': datetime.date(2008, 9, 6)}\n",
      "{'person_id': 45, 'first_name': 'Aaron', 'last_name': 'Cruz', 'date_of_birth': datetime.date(1948, 11, 6)}\n",
      "{'person_id': 46, 'first_name': 'James', 'last_name': 'Wilkinson', 'date_of_birth': datetime.date(1969, 10, 3)}\n",
      "{'person_id': 47, 'first_name': 'Jennifer', 'last_name': 'Mills', 'date_of_birth': datetime.date(2008, 3, 4)}\n",
      "{'person_id': 48, 'first_name': 'Jessica', 'last_name': 'Hansen', 'date_of_birth': datetime.date(1972, 6, 22)}\n",
      "{'person_id': 49, 'first_name': 'Chelsea', 'last_name': 'Kelley', 'date_of_birth': datetime.date(1954, 4, 21)}\n",
      "{'person_id': 50, 'first_name': 'Janet', 'last_name': 'Rogers', 'date_of_birth': datetime.date(1906, 3, 8)}\n",
      "{'person_id': 51, 'first_name': 'Linda', 'last_name': 'Nelson', 'date_of_birth': datetime.date(1966, 9, 19)}\n",
      "{'person_id': 52, 'first_name': 'Ashley', 'last_name': 'Davis', 'date_of_birth': datetime.date(1987, 5, 18)}\n",
      "{'person_id': 53, 'first_name': 'Bryan', 'last_name': 'Graves', 'date_of_birth': datetime.date(1908, 1, 5)}\n",
      "{'person_id': 54, 'first_name': 'Alicia', 'last_name': 'Hughes', 'date_of_birth': datetime.date(1921, 8, 31)}\n",
      "{'person_id': 55, 'first_name': 'George', 'last_name': 'Stein', 'date_of_birth': datetime.date(1963, 1, 3)}\n",
      "{'person_id': 56, 'first_name': 'Robert', 'last_name': 'Benitez', 'date_of_birth': datetime.date(1970, 1, 12)}\n",
      "{'person_id': 57, 'first_name': 'Kayla', 'last_name': 'Payne', 'date_of_birth': datetime.date(1971, 3, 18)}\n",
      "{'person_id': 58, 'first_name': 'William', 'last_name': 'Heath', 'date_of_birth': datetime.date(1960, 1, 24)}\n",
      "{'person_id': 59, 'first_name': 'Christopher', 'last_name': 'Wilkerson', 'date_of_birth': datetime.date(1958, 10, 5)}\n",
      "{'person_id': 60, 'first_name': 'Stephanie', 'last_name': 'Dunn', 'date_of_birth': datetime.date(1940, 1, 7)}\n",
      "{'person_id': 61, 'first_name': 'Breanna', 'last_name': 'Little', 'date_of_birth': datetime.date(1948, 6, 15)}\n",
      "{'person_id': 62, 'first_name': 'Rachel', 'last_name': 'Lang', 'date_of_birth': datetime.date(1977, 7, 12)}\n",
      "{'person_id': 63, 'first_name': 'Matthew', 'last_name': 'Haley', 'date_of_birth': datetime.date(1941, 7, 19)}\n",
      "{'person_id': 64, 'first_name': 'Susan', 'last_name': 'Thomas', 'date_of_birth': datetime.date(1998, 12, 30)}\n",
      "{'person_id': 65, 'first_name': 'Samuel', 'last_name': 'Melton', 'date_of_birth': datetime.date(1913, 2, 3)}\n",
      "{'person_id': 66, 'first_name': 'Todd', 'last_name': 'Donaldson', 'date_of_birth': datetime.date(1948, 3, 31)}\n",
      "{'person_id': 67, 'first_name': 'Brian', 'last_name': 'Walter', 'date_of_birth': datetime.date(1976, 11, 19)}\n",
      "{'person_id': 68, 'first_name': 'Michael', 'last_name': 'Robles', 'date_of_birth': datetime.date(1976, 5, 9)}\n",
      "{'person_id': 69, 'first_name': 'Scott', 'last_name': 'Morgan', 'date_of_birth': datetime.date(1999, 1, 26)}\n",
      "{'person_id': 70, 'first_name': 'Jordan', 'last_name': 'Peters', 'date_of_birth': datetime.date(1981, 8, 28)}\n",
      "{'person_id': 71, 'first_name': 'Chris', 'last_name': 'Williams', 'date_of_birth': datetime.date(1975, 11, 21)}\n",
      "{'person_id': 72, 'first_name': 'Luke', 'last_name': 'Freeman', 'date_of_birth': datetime.date(2015, 1, 31)}\n",
      "{'person_id': 73, 'first_name': 'Cynthia', 'last_name': 'Gilmore', 'date_of_birth': datetime.date(2004, 5, 1)}\n",
      "{'person_id': 74, 'first_name': 'John', 'last_name': 'Martinez', 'date_of_birth': datetime.date(2005, 5, 16)}\n",
      "{'person_id': 75, 'first_name': 'Michelle', 'last_name': 'Ward', 'date_of_birth': datetime.date(1959, 10, 13)}\n",
      "{'person_id': 76, 'first_name': 'Melissa', 'last_name': 'Bruce', 'date_of_birth': datetime.date(1906, 6, 20)}\n",
      "{'person_id': 77, 'first_name': 'Bradley', 'last_name': 'Larsen', 'date_of_birth': datetime.date(1948, 1, 12)}\n",
      "{'person_id': 78, 'first_name': 'Kelly', 'last_name': 'Carter', 'date_of_birth': datetime.date(1980, 5, 12)}\n",
      "{'person_id': 79, 'first_name': 'Ernest', 'last_name': 'Lawson', 'date_of_birth': datetime.date(1926, 3, 16)}\n",
      "{'person_id': 80, 'first_name': 'Jennifer', 'last_name': 'Graham', 'date_of_birth': datetime.date(2003, 3, 3)}\n",
      "{'person_id': 81, 'first_name': 'Jeffrey', 'last_name': 'Quinn', 'date_of_birth': datetime.date(1926, 5, 13)}\n",
      "{'person_id': 82, 'first_name': 'Spencer', 'last_name': 'Potter', 'date_of_birth': datetime.date(1909, 11, 25)}\n",
      "{'person_id': 83, 'first_name': 'Lynn', 'last_name': 'Daniels', 'date_of_birth': datetime.date(1948, 2, 29)}\n",
      "{'person_id': 84, 'first_name': 'Shelly', 'last_name': 'Miller', 'date_of_birth': datetime.date(1921, 6, 25)}\n",
      "{'person_id': 85, 'first_name': 'Heather', 'last_name': 'Rowe', 'date_of_birth': datetime.date(1936, 12, 10)}\n",
      "{'person_id': 86, 'first_name': 'Lindsey', 'last_name': 'Pierce', 'date_of_birth': datetime.date(2008, 10, 30)}\n",
      "{'person_id': 87, 'first_name': 'Emily', 'last_name': 'Martin', 'date_of_birth': datetime.date(1993, 10, 29)}\n",
      "{'person_id': 88, 'first_name': 'Alan', 'last_name': 'Mckenzie', 'date_of_birth': datetime.date(2006, 10, 13)}\n",
      "{'person_id': 89, 'first_name': 'Julia', 'last_name': 'Fowler', 'date_of_birth': datetime.date(1994, 3, 9)}\n",
      "{'person_id': 90, 'first_name': 'Angela', 'last_name': 'Tate', 'date_of_birth': datetime.date(1971, 9, 29)}\n",
      "{'person_id': 91, 'first_name': 'Jeffrey', 'last_name': 'Bell', 'date_of_birth': datetime.date(1978, 1, 3)}\n",
      "{'person_id': 92, 'first_name': 'Brian', 'last_name': 'Ray', 'date_of_birth': datetime.date(1991, 12, 13)}\n",
      "{'person_id': 93, 'first_name': 'Joel', 'last_name': 'Daugherty', 'date_of_birth': datetime.date(1960, 6, 25)}\n",
      "{'person_id': 94, 'first_name': 'Ashley', 'last_name': 'Guerra', 'date_of_birth': datetime.date(1975, 8, 9)}\n",
      "{'person_id': 95, 'first_name': 'Leslie', 'last_name': 'Henson', 'date_of_birth': datetime.date(1973, 5, 31)}\n",
      "{'person_id': 96, 'first_name': 'Carla', 'last_name': 'Wells', 'date_of_birth': datetime.date(1977, 11, 26)}\n",
      "{'person_id': 97, 'first_name': 'Nancy', 'last_name': 'Jones', 'date_of_birth': datetime.date(1991, 5, 1)}\n",
      "{'person_id': 98, 'first_name': 'James', 'last_name': 'Ortiz', 'date_of_birth': datetime.date(1981, 4, 21)}\n",
      "{'person_id': 99, 'first_name': 'Andrew', 'last_name': 'Smith', 'date_of_birth': datetime.date(1948, 6, 21)}\n"
     ]
    }
   ],
   "source": [
    "cursor.execute(\"\"\"SELECT * FROM dimitri_test.fake_person\"\"\")\n",
    "for rec in cursor:\n",
    "    print(rec)"
   ]
  },
  {
   "cell_type": "code",
   "execution_count": 40,
   "metadata": {},
   "outputs": [],
   "source": [
    "import datetime"
   ]
  },
  {
   "cell_type": "code",
   "execution_count": 41,
   "metadata": {},
   "outputs": [
    {
     "data": {
      "text/plain": [
       "datetime.date(2019, 1, 5)"
      ]
     },
     "execution_count": 41,
     "metadata": {},
     "output_type": "execute_result"
    }
   ],
   "source": [
    "faker.date_between(datetime.date(2018, 2, 3), 'today')"
   ]
  },
  {
   "cell_type": "code",
   "execution_count": 66,
   "metadata": {},
   "outputs": [
    {
     "data": {
      "text/plain": [
       "0"
      ]
     },
     "execution_count": 66,
     "metadata": {},
     "output_type": "execute_result"
    }
   ],
   "source": [
    "cursor.execute(\"\"\"\n",
    "drop table fake_death\n",
    "\"\"\")"
   ]
  },
  {
   "cell_type": "code",
   "execution_count": 67,
   "metadata": {},
   "outputs": [
    {
     "data": {
      "text/plain": [
       "0"
      ]
     },
     "execution_count": 67,
     "metadata": {},
     "output_type": "execute_result"
    }
   ],
   "source": [
    "cursor.execute(\"\"\"\n",
    "CREATE TABLE dimitri_test.fake_death(\n",
    "    person_id int not null,\n",
    "    date_of_death date NOT NULL,\n",
    "    primary key(person_id), \n",
    "    foreign key (person_id) REFERENCES dimitri_test.fake_person (person_id))\n",
    "\"\"\")"
   ]
  },
  {
   "cell_type": "code",
   "execution_count": null,
   "metadata": {},
   "outputs": [],
   "source": [
    "cursor.execute(\"\"\"\n",
    "CREATE TABLE hotel_reserviation(\n",
    "    \n",
    "    hotel varchar(20) not null\n",
    "    room  int not null,\n",
    "    reservation_date date,\n",
    "    person_id int not null,\n",
    "    \n",
    "    unique index (person_id, reservation_date),    \n",
    "    primary key (hotel, room, reservation_date),\n",
    "    foreign key (person_id) references fake_person(person_id)\n",
    "\"\"\")"
   ]
  },
  {
   "cell_type": "code",
   "execution_count": null,
   "metadata": {},
   "outputs": [],
   "source": [
    "cursor.execute(\"\"\"\n",
    "CREATE TABLE bank_account (\n",
    "    \n",
    "    bank_id  int not null, \n",
    "    account int not null,\n",
    "    \n",
    "    primary key(bank_id, account)\n",
    "\n",
    "\"\"\")\n",
    "\n",
    "cursor.execute(\"\"\"\n",
    "CREATE TABLE bank_account_owner (\n",
    "    \n",
    "    bank_id  int not null, \n",
    "    account int not null,\n",
    "    person_id int not null,\n",
    "    \n",
    "    primary key(bank_id, account, person_id),\n",
    "    foreign key (person_id) references fake_person(person_id),\n",
    "    foreign key (bank_id, account) references fake_person(bank_id, account),\n",
    "\n",
    "\"\"\")"
   ]
  },
  {
   "cell_type": "code",
   "execution_count": null,
   "metadata": {},
   "outputs": [],
   "source": []
  },
  {
   "cell_type": "code",
   "execution_count": 60,
   "metadata": {},
   "outputs": [
    {
     "data": {
      "text/plain": [
       "{'person_id': 1,\n",
       " 'first_name': 'Nathan',\n",
       " 'last_name': 'Dominguez',\n",
       " 'date_of_birth': datetime.date(1974, 12, 18)}"
      ]
     },
     "execution_count": 60,
     "metadata": {},
     "output_type": "execute_result"
    }
   ],
   "source": [
    "cursor.execute(\"\"\"\n",
    "SELECT * FROM fake_person\n",
    "\"\"\")\n",
    "cursor.fetchone()"
   ]
  },
  {
   "cell_type": "code",
   "execution_count": 69,
   "metadata": {},
   "outputs": [
    {
     "data": {
      "text/plain": [
       "1"
      ]
     },
     "execution_count": 69,
     "metadata": {},
     "output_type": "execute_result"
    }
   ],
   "source": [
    "cursor.execute(\"\"\"INSERT into fake_death (date_of_death) values ('2020-10-09')\"\"\")"
   ]
  },
  {
   "cell_type": "code",
   "execution_count": 63,
   "metadata": {},
   "outputs": [
    {
     "ename": "IntegrityError",
     "evalue": "(1452, 'Cannot add or update a child row: a foreign key constraint fails (`dimitri_test`.`fake_death`, CONSTRAINT `fake_death_ibfk_1` FOREIGN KEY (`person_id`) REFERENCES `fake_person` (`person_id`))')",
     "output_type": "error",
     "traceback": [
      "\u001b[0;31m---------------------------------------------------------------------------\u001b[0m",
      "\u001b[0;31mIntegrityError\u001b[0m                            Traceback (most recent call last)",
      "\u001b[0;32m<ipython-input-63-5f617b919e26>\u001b[0m in \u001b[0;36m<module>\u001b[0;34m\u001b[0m\n\u001b[0;32m----> 1\u001b[0;31m \u001b[0mcursor\u001b[0m\u001b[0;34m.\u001b[0m\u001b[0mexecute\u001b[0m\u001b[0;34m(\u001b[0m\u001b[0;34m\"\"\"INSERT into fake_death (person_id, date_of_death) values (1000, '2020-09-09')\"\"\"\u001b[0m\u001b[0;34m)\u001b[0m\u001b[0;34m\u001b[0m\u001b[0;34m\u001b[0m\u001b[0m\n\u001b[0m",
      "\u001b[0;32m~/Library/Python/3.7/lib/python/site-packages/pymysql/cursors.py\u001b[0m in \u001b[0;36mexecute\u001b[0;34m(self, query, args)\u001b[0m\n\u001b[1;32m    168\u001b[0m         \u001b[0mquery\u001b[0m \u001b[0;34m=\u001b[0m \u001b[0mself\u001b[0m\u001b[0;34m.\u001b[0m\u001b[0mmogrify\u001b[0m\u001b[0;34m(\u001b[0m\u001b[0mquery\u001b[0m\u001b[0;34m,\u001b[0m \u001b[0margs\u001b[0m\u001b[0;34m)\u001b[0m\u001b[0;34m\u001b[0m\u001b[0;34m\u001b[0m\u001b[0m\n\u001b[1;32m    169\u001b[0m \u001b[0;34m\u001b[0m\u001b[0m\n\u001b[0;32m--> 170\u001b[0;31m         \u001b[0mresult\u001b[0m \u001b[0;34m=\u001b[0m \u001b[0mself\u001b[0m\u001b[0;34m.\u001b[0m\u001b[0m_query\u001b[0m\u001b[0;34m(\u001b[0m\u001b[0mquery\u001b[0m\u001b[0;34m)\u001b[0m\u001b[0;34m\u001b[0m\u001b[0;34m\u001b[0m\u001b[0m\n\u001b[0m\u001b[1;32m    171\u001b[0m         \u001b[0mself\u001b[0m\u001b[0;34m.\u001b[0m\u001b[0m_executed\u001b[0m \u001b[0;34m=\u001b[0m \u001b[0mquery\u001b[0m\u001b[0;34m\u001b[0m\u001b[0;34m\u001b[0m\u001b[0m\n\u001b[1;32m    172\u001b[0m         \u001b[0;32mreturn\u001b[0m \u001b[0mresult\u001b[0m\u001b[0;34m\u001b[0m\u001b[0;34m\u001b[0m\u001b[0m\n",
      "\u001b[0;32m~/Library/Python/3.7/lib/python/site-packages/pymysql/cursors.py\u001b[0m in \u001b[0;36m_query\u001b[0;34m(self, q)\u001b[0m\n\u001b[1;32m    326\u001b[0m         \u001b[0mself\u001b[0m\u001b[0;34m.\u001b[0m\u001b[0m_last_executed\u001b[0m \u001b[0;34m=\u001b[0m \u001b[0mq\u001b[0m\u001b[0;34m\u001b[0m\u001b[0;34m\u001b[0m\u001b[0m\n\u001b[1;32m    327\u001b[0m         \u001b[0mself\u001b[0m\u001b[0;34m.\u001b[0m\u001b[0m_clear_result\u001b[0m\u001b[0;34m(\u001b[0m\u001b[0;34m)\u001b[0m\u001b[0;34m\u001b[0m\u001b[0;34m\u001b[0m\u001b[0m\n\u001b[0;32m--> 328\u001b[0;31m         \u001b[0mconn\u001b[0m\u001b[0;34m.\u001b[0m\u001b[0mquery\u001b[0m\u001b[0;34m(\u001b[0m\u001b[0mq\u001b[0m\u001b[0;34m)\u001b[0m\u001b[0;34m\u001b[0m\u001b[0;34m\u001b[0m\u001b[0m\n\u001b[0m\u001b[1;32m    329\u001b[0m         \u001b[0mself\u001b[0m\u001b[0;34m.\u001b[0m\u001b[0m_do_get_result\u001b[0m\u001b[0;34m(\u001b[0m\u001b[0;34m)\u001b[0m\u001b[0;34m\u001b[0m\u001b[0;34m\u001b[0m\u001b[0m\n\u001b[1;32m    330\u001b[0m         \u001b[0;32mreturn\u001b[0m \u001b[0mself\u001b[0m\u001b[0;34m.\u001b[0m\u001b[0mrowcount\u001b[0m\u001b[0;34m\u001b[0m\u001b[0;34m\u001b[0m\u001b[0m\n",
      "\u001b[0;32m~/Library/Python/3.7/lib/python/site-packages/pymysql/connections.py\u001b[0m in \u001b[0;36mquery\u001b[0;34m(self, sql, unbuffered)\u001b[0m\n\u001b[1;32m    515\u001b[0m                 \u001b[0msql\u001b[0m \u001b[0;34m=\u001b[0m \u001b[0msql\u001b[0m\u001b[0;34m.\u001b[0m\u001b[0mencode\u001b[0m\u001b[0;34m(\u001b[0m\u001b[0mself\u001b[0m\u001b[0;34m.\u001b[0m\u001b[0mencoding\u001b[0m\u001b[0;34m,\u001b[0m \u001b[0;34m'surrogateescape'\u001b[0m\u001b[0;34m)\u001b[0m\u001b[0;34m\u001b[0m\u001b[0;34m\u001b[0m\u001b[0m\n\u001b[1;32m    516\u001b[0m         \u001b[0mself\u001b[0m\u001b[0;34m.\u001b[0m\u001b[0m_execute_command\u001b[0m\u001b[0;34m(\u001b[0m\u001b[0mCOMMAND\u001b[0m\u001b[0;34m.\u001b[0m\u001b[0mCOM_QUERY\u001b[0m\u001b[0;34m,\u001b[0m \u001b[0msql\u001b[0m\u001b[0;34m)\u001b[0m\u001b[0;34m\u001b[0m\u001b[0;34m\u001b[0m\u001b[0m\n\u001b[0;32m--> 517\u001b[0;31m         \u001b[0mself\u001b[0m\u001b[0;34m.\u001b[0m\u001b[0m_affected_rows\u001b[0m \u001b[0;34m=\u001b[0m \u001b[0mself\u001b[0m\u001b[0;34m.\u001b[0m\u001b[0m_read_query_result\u001b[0m\u001b[0;34m(\u001b[0m\u001b[0munbuffered\u001b[0m\u001b[0;34m=\u001b[0m\u001b[0munbuffered\u001b[0m\u001b[0;34m)\u001b[0m\u001b[0;34m\u001b[0m\u001b[0;34m\u001b[0m\u001b[0m\n\u001b[0m\u001b[1;32m    518\u001b[0m         \u001b[0;32mreturn\u001b[0m \u001b[0mself\u001b[0m\u001b[0;34m.\u001b[0m\u001b[0m_affected_rows\u001b[0m\u001b[0;34m\u001b[0m\u001b[0;34m\u001b[0m\u001b[0m\n\u001b[1;32m    519\u001b[0m \u001b[0;34m\u001b[0m\u001b[0m\n",
      "\u001b[0;32m~/Library/Python/3.7/lib/python/site-packages/pymysql/connections.py\u001b[0m in \u001b[0;36m_read_query_result\u001b[0;34m(self, unbuffered)\u001b[0m\n\u001b[1;32m    730\u001b[0m         \u001b[0;32melse\u001b[0m\u001b[0;34m:\u001b[0m\u001b[0;34m\u001b[0m\u001b[0;34m\u001b[0m\u001b[0m\n\u001b[1;32m    731\u001b[0m             \u001b[0mresult\u001b[0m \u001b[0;34m=\u001b[0m \u001b[0mMySQLResult\u001b[0m\u001b[0;34m(\u001b[0m\u001b[0mself\u001b[0m\u001b[0;34m)\u001b[0m\u001b[0;34m\u001b[0m\u001b[0;34m\u001b[0m\u001b[0m\n\u001b[0;32m--> 732\u001b[0;31m             \u001b[0mresult\u001b[0m\u001b[0;34m.\u001b[0m\u001b[0mread\u001b[0m\u001b[0;34m(\u001b[0m\u001b[0;34m)\u001b[0m\u001b[0;34m\u001b[0m\u001b[0;34m\u001b[0m\u001b[0m\n\u001b[0m\u001b[1;32m    733\u001b[0m         \u001b[0mself\u001b[0m\u001b[0;34m.\u001b[0m\u001b[0m_result\u001b[0m \u001b[0;34m=\u001b[0m \u001b[0mresult\u001b[0m\u001b[0;34m\u001b[0m\u001b[0;34m\u001b[0m\u001b[0m\n\u001b[1;32m    734\u001b[0m         \u001b[0;32mif\u001b[0m \u001b[0mresult\u001b[0m\u001b[0;34m.\u001b[0m\u001b[0mserver_status\u001b[0m \u001b[0;32mis\u001b[0m \u001b[0;32mnot\u001b[0m \u001b[0;32mNone\u001b[0m\u001b[0;34m:\u001b[0m\u001b[0;34m\u001b[0m\u001b[0;34m\u001b[0m\u001b[0m\n",
      "\u001b[0;32m~/Library/Python/3.7/lib/python/site-packages/pymysql/connections.py\u001b[0m in \u001b[0;36mread\u001b[0;34m(self)\u001b[0m\n\u001b[1;32m   1073\u001b[0m     \u001b[0;32mdef\u001b[0m \u001b[0mread\u001b[0m\u001b[0;34m(\u001b[0m\u001b[0mself\u001b[0m\u001b[0;34m)\u001b[0m\u001b[0;34m:\u001b[0m\u001b[0;34m\u001b[0m\u001b[0;34m\u001b[0m\u001b[0m\n\u001b[1;32m   1074\u001b[0m         \u001b[0;32mtry\u001b[0m\u001b[0;34m:\u001b[0m\u001b[0;34m\u001b[0m\u001b[0;34m\u001b[0m\u001b[0m\n\u001b[0;32m-> 1075\u001b[0;31m             \u001b[0mfirst_packet\u001b[0m \u001b[0;34m=\u001b[0m \u001b[0mself\u001b[0m\u001b[0;34m.\u001b[0m\u001b[0mconnection\u001b[0m\u001b[0;34m.\u001b[0m\u001b[0m_read_packet\u001b[0m\u001b[0;34m(\u001b[0m\u001b[0;34m)\u001b[0m\u001b[0;34m\u001b[0m\u001b[0;34m\u001b[0m\u001b[0m\n\u001b[0m\u001b[1;32m   1076\u001b[0m \u001b[0;34m\u001b[0m\u001b[0m\n\u001b[1;32m   1077\u001b[0m             \u001b[0;32mif\u001b[0m \u001b[0mfirst_packet\u001b[0m\u001b[0;34m.\u001b[0m\u001b[0mis_ok_packet\u001b[0m\u001b[0;34m(\u001b[0m\u001b[0;34m)\u001b[0m\u001b[0;34m:\u001b[0m\u001b[0;34m\u001b[0m\u001b[0;34m\u001b[0m\u001b[0m\n",
      "\u001b[0;32m~/Library/Python/3.7/lib/python/site-packages/pymysql/connections.py\u001b[0m in \u001b[0;36m_read_packet\u001b[0;34m(self, packet_type)\u001b[0m\n\u001b[1;32m    682\u001b[0m \u001b[0;34m\u001b[0m\u001b[0m\n\u001b[1;32m    683\u001b[0m         \u001b[0mpacket\u001b[0m \u001b[0;34m=\u001b[0m \u001b[0mpacket_type\u001b[0m\u001b[0;34m(\u001b[0m\u001b[0mbuff\u001b[0m\u001b[0;34m,\u001b[0m \u001b[0mself\u001b[0m\u001b[0;34m.\u001b[0m\u001b[0mencoding\u001b[0m\u001b[0;34m)\u001b[0m\u001b[0;34m\u001b[0m\u001b[0;34m\u001b[0m\u001b[0m\n\u001b[0;32m--> 684\u001b[0;31m         \u001b[0mpacket\u001b[0m\u001b[0;34m.\u001b[0m\u001b[0mcheck_error\u001b[0m\u001b[0;34m(\u001b[0m\u001b[0;34m)\u001b[0m\u001b[0;34m\u001b[0m\u001b[0;34m\u001b[0m\u001b[0m\n\u001b[0m\u001b[1;32m    685\u001b[0m         \u001b[0;32mreturn\u001b[0m \u001b[0mpacket\u001b[0m\u001b[0;34m\u001b[0m\u001b[0;34m\u001b[0m\u001b[0m\n\u001b[1;32m    686\u001b[0m \u001b[0;34m\u001b[0m\u001b[0m\n",
      "\u001b[0;32m~/Library/Python/3.7/lib/python/site-packages/pymysql/protocol.py\u001b[0m in \u001b[0;36mcheck_error\u001b[0;34m(self)\u001b[0m\n\u001b[1;32m    218\u001b[0m             \u001b[0merrno\u001b[0m \u001b[0;34m=\u001b[0m \u001b[0mself\u001b[0m\u001b[0;34m.\u001b[0m\u001b[0mread_uint16\u001b[0m\u001b[0;34m(\u001b[0m\u001b[0;34m)\u001b[0m\u001b[0;34m\u001b[0m\u001b[0;34m\u001b[0m\u001b[0m\n\u001b[1;32m    219\u001b[0m             \u001b[0;32mif\u001b[0m \u001b[0mDEBUG\u001b[0m\u001b[0;34m:\u001b[0m \u001b[0mprint\u001b[0m\u001b[0;34m(\u001b[0m\u001b[0;34m\"errno =\"\u001b[0m\u001b[0;34m,\u001b[0m \u001b[0merrno\u001b[0m\u001b[0;34m)\u001b[0m\u001b[0;34m\u001b[0m\u001b[0;34m\u001b[0m\u001b[0m\n\u001b[0;32m--> 220\u001b[0;31m             \u001b[0merr\u001b[0m\u001b[0;34m.\u001b[0m\u001b[0mraise_mysql_exception\u001b[0m\u001b[0;34m(\u001b[0m\u001b[0mself\u001b[0m\u001b[0;34m.\u001b[0m\u001b[0m_data\u001b[0m\u001b[0;34m)\u001b[0m\u001b[0;34m\u001b[0m\u001b[0;34m\u001b[0m\u001b[0m\n\u001b[0m\u001b[1;32m    221\u001b[0m \u001b[0;34m\u001b[0m\u001b[0m\n\u001b[1;32m    222\u001b[0m     \u001b[0;32mdef\u001b[0m \u001b[0mdump\u001b[0m\u001b[0;34m(\u001b[0m\u001b[0mself\u001b[0m\u001b[0;34m)\u001b[0m\u001b[0;34m:\u001b[0m\u001b[0;34m\u001b[0m\u001b[0;34m\u001b[0m\u001b[0m\n",
      "\u001b[0;32m~/Library/Python/3.7/lib/python/site-packages/pymysql/err.py\u001b[0m in \u001b[0;36mraise_mysql_exception\u001b[0;34m(data)\u001b[0m\n\u001b[1;32m    107\u001b[0m         \u001b[0merrval\u001b[0m \u001b[0;34m=\u001b[0m \u001b[0mdata\u001b[0m\u001b[0;34m[\u001b[0m\u001b[0;36m3\u001b[0m\u001b[0;34m:\u001b[0m\u001b[0;34m]\u001b[0m\u001b[0;34m.\u001b[0m\u001b[0mdecode\u001b[0m\u001b[0;34m(\u001b[0m\u001b[0;34m'utf-8'\u001b[0m\u001b[0;34m,\u001b[0m \u001b[0;34m'replace'\u001b[0m\u001b[0;34m)\u001b[0m\u001b[0;34m\u001b[0m\u001b[0;34m\u001b[0m\u001b[0m\n\u001b[1;32m    108\u001b[0m     \u001b[0merrorclass\u001b[0m \u001b[0;34m=\u001b[0m \u001b[0merror_map\u001b[0m\u001b[0;34m.\u001b[0m\u001b[0mget\u001b[0m\u001b[0;34m(\u001b[0m\u001b[0merrno\u001b[0m\u001b[0;34m,\u001b[0m \u001b[0mInternalError\u001b[0m\u001b[0;34m)\u001b[0m\u001b[0;34m\u001b[0m\u001b[0;34m\u001b[0m\u001b[0m\n\u001b[0;32m--> 109\u001b[0;31m     \u001b[0;32mraise\u001b[0m \u001b[0merrorclass\u001b[0m\u001b[0;34m(\u001b[0m\u001b[0merrno\u001b[0m\u001b[0;34m,\u001b[0m \u001b[0merrval\u001b[0m\u001b[0;34m)\u001b[0m\u001b[0;34m\u001b[0m\u001b[0;34m\u001b[0m\u001b[0m\n\u001b[0m",
      "\u001b[0;31mIntegrityError\u001b[0m: (1452, 'Cannot add or update a child row: a foreign key constraint fails (`dimitri_test`.`fake_death`, CONSTRAINT `fake_death_ibfk_1` FOREIGN KEY (`person_id`) REFERENCES `fake_person` (`person_id`))')"
     ]
    }
   ],
   "source": [
    "cursor.execute(\"\"\"INSERT into fake_death (person_id, date_of_death) values (1000, '2020-09-09')\"\"\")"
   ]
  },
  {
   "cell_type": "code",
   "execution_count": null,
   "metadata": {},
   "outputs": [],
   "source": [
    "persons = cursor.execute(\"\"\"SELECT person_id, date_of_birth FROM dimitri_test.fake_person\"\"\")\n",
    "for rec in cursor.fetchall():\n",
    "    cursor.execute(\"\"\"\n",
    "    INSERT INTO dimitri_test.fake_death (person_id, date_of_death) VALUES (%s, %s)\n",
    "    \"\"\", (rec['person_id'], faker.date_between(rec['date_of_birth'], rec['date_of_birth'] + datetime.timedelta(days=40000))))\n",
    "    "
   ]
  },
  {
   "cell_type": "code",
   "execution_count": null,
   "metadata": {},
   "outputs": [],
   "source": []
  },
  {
   "cell_type": "code",
   "execution_count": null,
   "metadata": {},
   "outputs": [],
   "source": [
    "cursor.execute(\"\"\"\n",
    "SELECT first_name, floor(DATEDIFF(date_of_death, date_of_birth)/365.25) as died_at\n",
    "FROM dimitri_test.fake_person NATURAL JOIN dimitri_test.fake_death\"\"\")\n",
    "\n",
    "for rec in cursor:\n",
    "    print(rec)"
   ]
  },
  {
   "cell_type": "code",
   "execution_count": null,
   "metadata": {},
   "outputs": [],
   "source": [
    "cursor.execute(\"\"\"\n",
    "DROP TABLE dimitri_test.fake_death\n",
    "\"\"\")"
   ]
  },
  {
   "cell_type": "code",
   "execution_count": null,
   "metadata": {},
   "outputs": [],
   "source": [
    "Tuple -> Row\n",
    "Attribute -> Field/column\n",
    "Attribute value -> cell\n",
    "Relation -> Table\n",
    "Domain -> data type"
   ]
  }
 ],
 "metadata": {
  "kernelspec": {
   "display_name": "Python 3",
   "language": "python",
   "name": "python3"
  },
  "language_info": {
   "codemirror_mode": {
    "name": "ipython",
    "version": 3
   },
   "file_extension": ".py",
   "mimetype": "text/x-python",
   "name": "python",
   "nbconvert_exporter": "python",
   "pygments_lexer": "ipython3",
   "version": "3.8.5"
  }
 },
 "nbformat": 4,
 "nbformat_minor": 2
}

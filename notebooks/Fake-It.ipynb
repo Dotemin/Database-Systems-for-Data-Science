{
 "cells": [
  {
   "cell_type": "markdown",
   "metadata": {},
   "source": [
    "# Faker for testing databases\n",
    "Learn to use the `faker` module to allow testing database designs."
   ]
  },
  {
   "cell_type": "code",
   "execution_count": 3,
   "metadata": {},
   "outputs": [],
   "source": [
    "from faker import Faker"
   ]
  },
  {
   "cell_type": "code",
   "execution_count": 4,
   "metadata": {},
   "outputs": [],
   "source": [
    "faker = Faker()"
   ]
  },
  {
   "cell_type": "code",
   "execution_count": 9,
   "metadata": {},
   "outputs": [
    {
     "name": "stdout",
     "output_type": "stream",
     "text": [
      "JCB 16 digit\n",
      "Daniel Hicks\n",
      "3548967809011045 11/30\n",
      "CVC: 906\n",
      "\n"
     ]
    }
   ],
   "source": [
    "print(faker.credit_card_full())"
   ]
  },
  {
   "cell_type": "code",
   "execution_count": 10,
   "metadata": {},
   "outputs": [
    {
     "data": {
      "text/plain": [
       "datetime.date(1937, 4, 18)"
      ]
     },
     "execution_count": 10,
     "metadata": {},
     "output_type": "execute_result"
    }
   ],
   "source": [
    "faker.date_of_birth()"
   ]
  },
  {
   "cell_type": "code",
   "execution_count": 12,
   "metadata": {},
   "outputs": [
    {
     "data": {
      "text/plain": [
       "'3738560605'"
      ]
     },
     "execution_count": 12,
     "metadata": {},
     "output_type": "execute_result"
    }
   ],
   "source": [
    "faker.phone_number()"
   ]
  },
  {
   "cell_type": "code",
   "execution_count": 14,
   "metadata": {},
   "outputs": [
    {
     "name": "stdout",
     "output_type": "stream",
     "text": [
      "Everybody on may group reduce page.\n"
     ]
    }
   ],
   "source": [
    "print(faker.paragraph())"
   ]
  },
  {
   "cell_type": "code",
   "execution_count": 15,
   "metadata": {},
   "outputs": [
    {
     "data": {
      "text/plain": [
       "'022 3XR'"
      ]
     },
     "execution_count": 15,
     "metadata": {},
     "output_type": "execute_result"
    }
   ],
   "source": [
    "faker.license_plate()"
   ]
  },
  {
   "cell_type": "code",
   "execution_count": 16,
   "metadata": {},
   "outputs": [
    {
     "data": {
      "text/plain": [
       "'8954 Tina Spring Suite 348'"
      ]
     },
     "execution_count": 16,
     "metadata": {},
     "output_type": "execute_result"
    }
   ],
   "source": [
    "faker.street_address()"
   ]
  },
  {
   "cell_type": "code",
   "execution_count": 17,
   "metadata": {},
   "outputs": [
    {
     "data": {
      "text/plain": [
       "Decimal('-110.498235')"
      ]
     },
     "execution_count": 17,
     "metadata": {},
     "output_type": "execute_result"
    }
   ],
   "source": [
    "faker.coordinate()"
   ]
  },
  {
   "cell_type": "code",
   "execution_count": 19,
   "metadata": {},
   "outputs": [
    {
     "data": {
      "text/plain": [
       "['whether', 'economic', 'woman', 'like']"
      ]
     },
     "execution_count": 19,
     "metadata": {},
     "output_type": "execute_result"
    }
   ],
   "source": [
    "faker.words(4)"
   ]
  },
  {
   "cell_type": "markdown",
   "metadata": {},
   "source": [
    "## Learn about Cursors\n",
    "Cursors are the usual way of issuing database queries and processing their results."
   ]
  },
  {
   "cell_type": "code",
   "execution_count": 20,
   "metadata": {},
   "outputs": [],
   "source": [
    "import json\n",
    "with open('cred.json') as f:\n",
    "    creds = json.load(f)"
   ]
  },
  {
   "cell_type": "code",
   "execution_count": 21,
   "metadata": {},
   "outputs": [
    {
     "data": {
      "text/plain": [
       "['host', 'user', 'password']"
      ]
     },
     "execution_count": 21,
     "metadata": {},
     "output_type": "execute_result"
    }
   ],
   "source": [
    "list(creds)"
   ]
  },
  {
   "cell_type": "code",
   "execution_count": 22,
   "metadata": {},
   "outputs": [],
   "source": [
    "import pymysql\n",
    "\n",
    "# establish a database connection\n",
    "conn = pymysql.connect(\n",
    "    host=creds['host'], \n",
    "    user=creds['user'], \n",
    "    passwd=creds['password'],\n",
    "    autocommit=True,\n",
    ")"
   ]
  },
  {
   "cell_type": "code",
   "execution_count": 23,
   "metadata": {},
   "outputs": [],
   "source": [
    "cursor = conn.cursor(\n",
    "    cursor=pymysql.cursors.DictCursor)"
   ]
  },
  {
   "cell_type": "code",
   "execution_count": 27,
   "metadata": {},
   "outputs": [
    {
     "data": {
      "text/plain": [
       "1"
      ]
     },
     "execution_count": 27,
     "metadata": {},
     "output_type": "execute_result"
    }
   ],
   "source": [
    "cursor.execute(\"CREATE SCHEMA dimitri_test\")"
   ]
  },
  {
   "cell_type": "code",
   "execution_count": 28,
   "metadata": {},
   "outputs": [],
   "source": [
    "s = '''\n",
    "Yesterday, \n",
    "all my troubles seemed so far away.\n",
    "Now it seems as though they're here to stay.\n",
    "Oh, how I long for yesterday.\n",
    "'''"
   ]
  },
  {
   "cell_type": "code",
   "execution_count": 32,
   "metadata": {},
   "outputs": [
    {
     "data": {
      "text/plain": [
       "0"
      ]
     },
     "execution_count": 32,
     "metadata": {},
     "output_type": "execute_result"
    }
   ],
   "source": [
    "cursor.execute(\"\"\"\n",
    "CREATE TABLE IF NOT EXISTS dimitri_test.fake_person(\n",
    "person_id int not NULL,\n",
    "first_name varchar(30) NOT NULL,\n",
    "last_name varchar(30) NOT NULL,\n",
    "date_of_birth date NOT NULL,\n",
    "primary key(person_id)\n",
    ")\n",
    "\"\"\"\n",
    ")"
   ]
  },
  {
   "cell_type": "code",
   "execution_count": 36,
   "metadata": {},
   "outputs": [
    {
     "data": {
      "text/plain": [
       "1"
      ]
     },
     "execution_count": 36,
     "metadata": {},
     "output_type": "execute_result"
    }
   ],
   "source": [
    "# insert \n",
    "cursor.execute(\n",
    "    \"\"\"\n",
    "    INSERT INTO dimitri_test.fake_person \n",
    "    (person_id, first_name, last_name, date_of_birth) VALUES\n",
    "    (%s, %s, %s, %s)\n",
    "\"\"\", (5, faker.first_name(), faker.last_name(), faker.date_of_birth()))"
   ]
  },
  {
   "cell_type": "code",
   "execution_count": 37,
   "metadata": {},
   "outputs": [],
   "source": [
    "import tqdm"
   ]
  },
  {
   "cell_type": "code",
   "execution_count": 38,
   "metadata": {},
   "outputs": [
    {
     "name": "stderr",
     "output_type": "stream",
     "text": [
      "100%|████████████████████████████████████████████████████████████████████████| 200/200 [00:07<00:00, 25.36it/s]\n"
     ]
    }
   ],
   "source": [
    "for i in tqdm.tqdm(range(1000, 1200)):\n",
    "    cursor.execute(\"\"\"\n",
    "    INSERT INTO \n",
    "    dimitri_test.fake_person (person_id, first_name, last_name, date_of_birth) \n",
    "    VALUES (%s, %s, %s, %s)\n",
    "    \"\"\", (i, faker.first_name(), faker.last_name(), faker.date_of_birth()))"
   ]
  },
  {
   "cell_type": "code",
   "execution_count": 42,
   "metadata": {},
   "outputs": [
    {
     "data": {
      "text/plain": [
       "203"
      ]
     },
     "execution_count": 42,
     "metadata": {},
     "output_type": "execute_result"
    }
   ],
   "source": [
    "cursor.execute(\"\"\"\n",
    "SELECT * FROM dimitri_test.fake_person\n",
    "\"\"\")"
   ]
  },
  {
   "cell_type": "code",
   "execution_count": 44,
   "metadata": {},
   "outputs": [
    {
     "data": {
      "text/plain": [
       "[]"
      ]
     },
     "execution_count": 44,
     "metadata": {},
     "output_type": "execute_result"
    }
   ],
   "source": [
    "cursor.fetchall()"
   ]
  },
  {
   "cell_type": "code",
   "execution_count": null,
   "metadata": {},
   "outputs": [],
   "source": [
    "cursor.execute(\"\"\"\n",
    "DROP TABLE dimitri_test.fake_person\n",
    "\"\"\")"
   ]
  },
  {
   "cell_type": "code",
   "execution_count": null,
   "metadata": {},
   "outputs": [],
   "source": [
    "import datetime"
   ]
  },
  {
   "cell_type": "code",
   "execution_count": 45,
   "metadata": {},
   "outputs": [
    {
     "data": {
      "text/plain": [
       "0"
      ]
     },
     "execution_count": 45,
     "metadata": {},
     "output_type": "execute_result"
    }
   ],
   "source": [
    "cursor.execute(\"\"\"USE dimitri_test\"\"\")"
   ]
  },
  {
   "cell_type": "code",
   "execution_count": 48,
   "metadata": {},
   "outputs": [
    {
     "data": {
      "text/plain": [
       "203"
      ]
     },
     "execution_count": 48,
     "metadata": {},
     "output_type": "execute_result"
    }
   ],
   "source": [
    "cursor.execute(\"\"\"SELECT * FROM fake_person\"\"\")"
   ]
  },
  {
   "cell_type": "code",
   "execution_count": 52,
   "metadata": {},
   "outputs": [
    {
     "data": {
      "text/plain": [
       "{'person_id': 1000,\n",
       " 'first_name': 'Corey',\n",
       " 'last_name': 'Barrett',\n",
       " 'date_of_birth': datetime.date(1970, 12, 12)}"
      ]
     },
     "execution_count": 52,
     "metadata": {},
     "output_type": "execute_result"
    }
   ],
   "source": [
    "cursor.fetchone()"
   ]
  },
  {
   "cell_type": "code",
   "execution_count": null,
   "metadata": {},
   "outputs": [],
   "source": [
    "cursor.fetchall()"
   ]
  },
  {
   "cell_type": "code",
   "execution_count": 53,
   "metadata": {},
   "outputs": [
    {
     "name": "stdout",
     "output_type": "stream",
     "text": [
      "{'person_id': 3, 'first_name': 'Cody', 'last_name': 'Robbins', 'date_of_birth': datetime.date(1986, 3, 16)}\n",
      "{'person_id': 4, 'first_name': 'Kathleen', 'last_name': 'Mueller', 'date_of_birth': datetime.date(1922, 7, 29)}\n",
      "{'person_id': 5, 'first_name': 'Tara', 'last_name': 'Huber', 'date_of_birth': datetime.date(1910, 5, 20)}\n",
      "{'person_id': 1000, 'first_name': 'Corey', 'last_name': 'Barrett', 'date_of_birth': datetime.date(1970, 12, 12)}\n",
      "{'person_id': 1001, 'first_name': 'Heather', 'last_name': 'Jackson', 'date_of_birth': datetime.date(1942, 1, 31)}\n",
      "{'person_id': 1002, 'first_name': 'Amber', 'last_name': 'Rodriguez', 'date_of_birth': datetime.date(2006, 11, 27)}\n",
      "{'person_id': 1003, 'first_name': 'Stephanie', 'last_name': 'Faulkner', 'date_of_birth': datetime.date(1930, 1, 22)}\n",
      "{'person_id': 1004, 'first_name': 'James', 'last_name': 'Jackson', 'date_of_birth': datetime.date(1929, 8, 27)}\n",
      "{'person_id': 1005, 'first_name': 'Colleen', 'last_name': 'Good', 'date_of_birth': datetime.date(1975, 4, 24)}\n",
      "{'person_id': 1006, 'first_name': 'Jenny', 'last_name': 'Cherry', 'date_of_birth': datetime.date(1960, 4, 3)}\n",
      "{'person_id': 1007, 'first_name': 'Ashley', 'last_name': 'Hester', 'date_of_birth': datetime.date(1997, 8, 16)}\n",
      "{'person_id': 1008, 'first_name': 'Juan', 'last_name': 'Hudson', 'date_of_birth': datetime.date(1976, 10, 26)}\n",
      "{'person_id': 1009, 'first_name': 'David', 'last_name': 'Sweeney', 'date_of_birth': datetime.date(1951, 4, 4)}\n",
      "{'person_id': 1010, 'first_name': 'Kelsey', 'last_name': 'Allen', 'date_of_birth': datetime.date(1970, 11, 10)}\n",
      "{'person_id': 1011, 'first_name': 'Annette', 'last_name': 'Charles', 'date_of_birth': datetime.date(1958, 10, 22)}\n",
      "{'person_id': 1012, 'first_name': 'Kevin', 'last_name': 'Boyd', 'date_of_birth': datetime.date(2011, 9, 12)}\n",
      "{'person_id': 1013, 'first_name': 'Sandra', 'last_name': 'Smith', 'date_of_birth': datetime.date(2006, 3, 5)}\n",
      "{'person_id': 1014, 'first_name': 'Earl', 'last_name': 'Richards', 'date_of_birth': datetime.date(2012, 9, 17)}\n",
      "{'person_id': 1015, 'first_name': 'Hayden', 'last_name': 'Carter', 'date_of_birth': datetime.date(2014, 8, 8)}\n",
      "{'person_id': 1016, 'first_name': 'Nicole', 'last_name': 'Chapman', 'date_of_birth': datetime.date(1982, 1, 7)}\n",
      "{'person_id': 1017, 'first_name': 'Breanna', 'last_name': 'Brennan', 'date_of_birth': datetime.date(1922, 7, 27)}\n",
      "{'person_id': 1018, 'first_name': 'Dominique', 'last_name': 'Moody', 'date_of_birth': datetime.date(1942, 2, 22)}\n",
      "{'person_id': 1019, 'first_name': 'Timothy', 'last_name': 'Padilla', 'date_of_birth': datetime.date(1918, 12, 26)}\n",
      "{'person_id': 1020, 'first_name': 'Kelly', 'last_name': 'Chen', 'date_of_birth': datetime.date(2002, 12, 13)}\n",
      "{'person_id': 1021, 'first_name': 'Timothy', 'last_name': 'Kelley', 'date_of_birth': datetime.date(1968, 7, 8)}\n",
      "{'person_id': 1022, 'first_name': 'Bernard', 'last_name': 'Hernandez', 'date_of_birth': datetime.date(1984, 1, 9)}\n",
      "{'person_id': 1023, 'first_name': 'Cameron', 'last_name': 'Larson', 'date_of_birth': datetime.date(1947, 1, 4)}\n",
      "{'person_id': 1024, 'first_name': 'Morgan', 'last_name': 'Rodgers', 'date_of_birth': datetime.date(1961, 10, 4)}\n",
      "{'person_id': 1025, 'first_name': 'Kevin', 'last_name': 'Mercer', 'date_of_birth': datetime.date(2001, 10, 11)}\n",
      "{'person_id': 1026, 'first_name': 'Daniel', 'last_name': 'Thompson', 'date_of_birth': datetime.date(2017, 8, 21)}\n",
      "{'person_id': 1027, 'first_name': 'Anne', 'last_name': 'Lowery', 'date_of_birth': datetime.date(1978, 2, 26)}\n",
      "{'person_id': 1028, 'first_name': 'Patricia', 'last_name': 'Jones', 'date_of_birth': datetime.date(1922, 6, 12)}\n",
      "{'person_id': 1029, 'first_name': 'Kelly', 'last_name': 'Brooks', 'date_of_birth': datetime.date(1954, 1, 4)}\n",
      "{'person_id': 1030, 'first_name': 'Matthew', 'last_name': 'Reynolds', 'date_of_birth': datetime.date(1993, 12, 6)}\n",
      "{'person_id': 1031, 'first_name': 'Travis', 'last_name': 'White', 'date_of_birth': datetime.date(1962, 12, 3)}\n",
      "{'person_id': 1032, 'first_name': 'Peter', 'last_name': 'Welch', 'date_of_birth': datetime.date(1955, 5, 30)}\n",
      "{'person_id': 1033, 'first_name': 'Michelle', 'last_name': 'Johnson', 'date_of_birth': datetime.date(1922, 1, 31)}\n",
      "{'person_id': 1034, 'first_name': 'Edward', 'last_name': 'Lopez', 'date_of_birth': datetime.date(1926, 12, 19)}\n",
      "{'person_id': 1035, 'first_name': 'Annette', 'last_name': 'Hernandez', 'date_of_birth': datetime.date(1970, 7, 1)}\n",
      "{'person_id': 1036, 'first_name': 'Joel', 'last_name': 'Wells', 'date_of_birth': datetime.date(1934, 10, 1)}\n",
      "{'person_id': 1037, 'first_name': 'Lauren', 'last_name': 'Mcpherson', 'date_of_birth': datetime.date(1989, 1, 28)}\n",
      "{'person_id': 1038, 'first_name': 'Ronald', 'last_name': 'Wilkerson', 'date_of_birth': datetime.date(1911, 9, 10)}\n",
      "{'person_id': 1039, 'first_name': 'Michelle', 'last_name': 'Tate', 'date_of_birth': datetime.date(2000, 1, 21)}\n",
      "{'person_id': 1040, 'first_name': 'Marcus', 'last_name': 'Kennedy', 'date_of_birth': datetime.date(1989, 10, 21)}\n",
      "{'person_id': 1041, 'first_name': 'Briana', 'last_name': 'Sawyer', 'date_of_birth': datetime.date(1924, 1, 9)}\n",
      "{'person_id': 1042, 'first_name': 'Anthony', 'last_name': 'Anderson', 'date_of_birth': datetime.date(1985, 12, 11)}\n",
      "{'person_id': 1043, 'first_name': 'Robert', 'last_name': 'Hall', 'date_of_birth': datetime.date(2022, 7, 12)}\n",
      "{'person_id': 1044, 'first_name': 'Tyler', 'last_name': 'Lewis', 'date_of_birth': datetime.date(2003, 2, 4)}\n",
      "{'person_id': 1045, 'first_name': 'Joseph', 'last_name': 'Williams', 'date_of_birth': datetime.date(2015, 10, 26)}\n",
      "{'person_id': 1046, 'first_name': 'Monica', 'last_name': 'Jackson', 'date_of_birth': datetime.date(1975, 8, 15)}\n",
      "{'person_id': 1047, 'first_name': 'Brittany', 'last_name': 'Reynolds', 'date_of_birth': datetime.date(1954, 10, 7)}\n",
      "{'person_id': 1048, 'first_name': 'Carmen', 'last_name': 'Hernandez', 'date_of_birth': datetime.date(1927, 9, 19)}\n",
      "{'person_id': 1049, 'first_name': 'Robert', 'last_name': 'Martin', 'date_of_birth': datetime.date(1948, 10, 1)}\n",
      "{'person_id': 1050, 'first_name': 'Michael', 'last_name': 'Reese', 'date_of_birth': datetime.date(2013, 7, 9)}\n",
      "{'person_id': 1051, 'first_name': 'Denise', 'last_name': 'Nguyen', 'date_of_birth': datetime.date(2005, 8, 26)}\n",
      "{'person_id': 1052, 'first_name': 'John', 'last_name': 'Martinez', 'date_of_birth': datetime.date(2002, 1, 28)}\n",
      "{'person_id': 1053, 'first_name': 'Rachel', 'last_name': 'Ayala', 'date_of_birth': datetime.date(1932, 8, 3)}\n",
      "{'person_id': 1054, 'first_name': 'James', 'last_name': 'Green', 'date_of_birth': datetime.date(1967, 2, 7)}\n",
      "{'person_id': 1055, 'first_name': 'Garrett', 'last_name': 'Bentley', 'date_of_birth': datetime.date(1925, 6, 16)}\n",
      "{'person_id': 1056, 'first_name': 'Kyle', 'last_name': 'Ewing', 'date_of_birth': datetime.date(1931, 2, 17)}\n",
      "{'person_id': 1057, 'first_name': 'Tanya', 'last_name': 'Lewis', 'date_of_birth': datetime.date(1981, 6, 27)}\n",
      "{'person_id': 1058, 'first_name': 'Steven', 'last_name': 'Smith', 'date_of_birth': datetime.date(1929, 4, 11)}\n",
      "{'person_id': 1059, 'first_name': 'Maureen', 'last_name': 'Baker', 'date_of_birth': datetime.date(2005, 2, 13)}\n",
      "{'person_id': 1060, 'first_name': 'Mark', 'last_name': 'Guzman', 'date_of_birth': datetime.date(1995, 11, 4)}\n",
      "{'person_id': 1061, 'first_name': 'Angela', 'last_name': 'Mitchell', 'date_of_birth': datetime.date(1921, 3, 3)}\n",
      "{'person_id': 1062, 'first_name': 'Mary', 'last_name': 'Ray', 'date_of_birth': datetime.date(1911, 6, 14)}\n",
      "{'person_id': 1063, 'first_name': 'Patrick', 'last_name': 'Scott', 'date_of_birth': datetime.date(1950, 9, 15)}\n",
      "{'person_id': 1064, 'first_name': 'Barbara', 'last_name': 'Collins', 'date_of_birth': datetime.date(1956, 10, 10)}\n",
      "{'person_id': 1065, 'first_name': 'Jeffrey', 'last_name': 'Ross', 'date_of_birth': datetime.date(1921, 7, 18)}\n",
      "{'person_id': 1066, 'first_name': 'Tiffany', 'last_name': 'Stone', 'date_of_birth': datetime.date(1941, 4, 9)}\n",
      "{'person_id': 1067, 'first_name': 'Christina', 'last_name': 'Richard', 'date_of_birth': datetime.date(2006, 10, 21)}\n",
      "{'person_id': 1068, 'first_name': 'Joseph', 'last_name': 'Mendoza', 'date_of_birth': datetime.date(1999, 11, 9)}\n",
      "{'person_id': 1069, 'first_name': 'Keith', 'last_name': 'Petersen', 'date_of_birth': datetime.date(1926, 8, 25)}\n",
      "{'person_id': 1070, 'first_name': 'Wendy', 'last_name': 'Garrett', 'date_of_birth': datetime.date(1913, 8, 19)}\n",
      "{'person_id': 1071, 'first_name': 'William', 'last_name': 'Scott', 'date_of_birth': datetime.date(1966, 7, 27)}\n",
      "{'person_id': 1072, 'first_name': 'Jasmine', 'last_name': 'Jimenez', 'date_of_birth': datetime.date(1922, 2, 5)}\n",
      "{'person_id': 1073, 'first_name': 'Juan', 'last_name': 'Munoz', 'date_of_birth': datetime.date(2013, 4, 10)}\n",
      "{'person_id': 1074, 'first_name': 'Sheila', 'last_name': 'Zhang', 'date_of_birth': datetime.date(1912, 5, 19)}\n",
      "{'person_id': 1075, 'first_name': 'Jason', 'last_name': 'Parker', 'date_of_birth': datetime.date(1913, 7, 7)}\n",
      "{'person_id': 1076, 'first_name': 'Emily', 'last_name': 'Espinoza', 'date_of_birth': datetime.date(1944, 7, 20)}\n",
      "{'person_id': 1077, 'first_name': 'Anna', 'last_name': 'Bridges', 'date_of_birth': datetime.date(2003, 9, 29)}\n",
      "{'person_id': 1078, 'first_name': 'John', 'last_name': 'Richardson', 'date_of_birth': datetime.date(1949, 3, 4)}\n",
      "{'person_id': 1079, 'first_name': 'Michael', 'last_name': 'Rivers', 'date_of_birth': datetime.date(1997, 3, 12)}\n",
      "{'person_id': 1080, 'first_name': 'Nicholas', 'last_name': 'Castillo', 'date_of_birth': datetime.date(1964, 2, 20)}\n",
      "{'person_id': 1081, 'first_name': 'Leonard', 'last_name': 'Gill', 'date_of_birth': datetime.date(2015, 10, 7)}\n",
      "{'person_id': 1082, 'first_name': 'Steven', 'last_name': 'Baker', 'date_of_birth': datetime.date(1943, 1, 3)}\n",
      "{'person_id': 1083, 'first_name': 'James', 'last_name': 'Murray', 'date_of_birth': datetime.date(1909, 8, 5)}\n",
      "{'person_id': 1084, 'first_name': 'David', 'last_name': 'Mcclain', 'date_of_birth': datetime.date(1923, 6, 11)}\n",
      "{'person_id': 1085, 'first_name': 'Kristina', 'last_name': 'Caldwell', 'date_of_birth': datetime.date(1972, 6, 21)}\n",
      "{'person_id': 1086, 'first_name': 'Anthony', 'last_name': 'Wang', 'date_of_birth': datetime.date(1989, 1, 23)}\n",
      "{'person_id': 1087, 'first_name': 'Teresa', 'last_name': 'Stout', 'date_of_birth': datetime.date(1925, 10, 31)}\n",
      "{'person_id': 1088, 'first_name': 'Alyssa', 'last_name': 'Hall', 'date_of_birth': datetime.date(1943, 8, 11)}\n",
      "{'person_id': 1089, 'first_name': 'Jeanne', 'last_name': 'Duran', 'date_of_birth': datetime.date(1941, 2, 18)}\n",
      "{'person_id': 1090, 'first_name': 'Tina', 'last_name': 'Walton', 'date_of_birth': datetime.date(2010, 3, 18)}\n",
      "{'person_id': 1091, 'first_name': 'Derek', 'last_name': 'Wallace', 'date_of_birth': datetime.date(1979, 11, 20)}\n",
      "{'person_id': 1092, 'first_name': 'Tiffany', 'last_name': 'Rodriguez', 'date_of_birth': datetime.date(1968, 3, 18)}\n",
      "{'person_id': 1093, 'first_name': 'Gregory', 'last_name': 'Chang', 'date_of_birth': datetime.date(1947, 11, 3)}\n",
      "{'person_id': 1094, 'first_name': 'Matthew', 'last_name': 'Brock', 'date_of_birth': datetime.date(1927, 11, 15)}\n",
      "{'person_id': 1095, 'first_name': 'Curtis', 'last_name': 'Hartman', 'date_of_birth': datetime.date(2012, 1, 18)}\n",
      "{'person_id': 1096, 'first_name': 'Anna', 'last_name': 'Hunt', 'date_of_birth': datetime.date(2019, 3, 29)}\n",
      "{'person_id': 1097, 'first_name': 'Shannon', 'last_name': 'Bautista', 'date_of_birth': datetime.date(2016, 1, 20)}\n",
      "{'person_id': 1098, 'first_name': 'Alice', 'last_name': 'White', 'date_of_birth': datetime.date(1942, 4, 12)}\n",
      "{'person_id': 1099, 'first_name': 'Anthony', 'last_name': 'Rowe', 'date_of_birth': datetime.date(1956, 7, 29)}\n",
      "{'person_id': 1100, 'first_name': 'Charlotte', 'last_name': 'Bowen', 'date_of_birth': datetime.date(1973, 5, 7)}\n",
      "{'person_id': 1101, 'first_name': 'Karina', 'last_name': 'Scott', 'date_of_birth': datetime.date(1976, 3, 14)}\n",
      "{'person_id': 1102, 'first_name': 'Stacey', 'last_name': 'Russell', 'date_of_birth': datetime.date(1989, 3, 9)}\n",
      "{'person_id': 1103, 'first_name': 'Ashley', 'last_name': 'Reyes', 'date_of_birth': datetime.date(1936, 6, 2)}\n",
      "{'person_id': 1104, 'first_name': 'Robin', 'last_name': 'Kelley', 'date_of_birth': datetime.date(2019, 4, 8)}\n",
      "{'person_id': 1105, 'first_name': 'Patrick', 'last_name': 'Foley', 'date_of_birth': datetime.date(2010, 5, 4)}\n",
      "{'person_id': 1106, 'first_name': 'Melanie', 'last_name': 'Ortiz', 'date_of_birth': datetime.date(1990, 10, 25)}\n",
      "{'person_id': 1107, 'first_name': 'Matthew', 'last_name': 'Gill', 'date_of_birth': datetime.date(1935, 11, 25)}\n",
      "{'person_id': 1108, 'first_name': 'Christopher', 'last_name': 'Marquez', 'date_of_birth': datetime.date(1985, 4, 2)}\n",
      "{'person_id': 1109, 'first_name': 'Thomas', 'last_name': 'Vazquez', 'date_of_birth': datetime.date(1954, 8, 23)}\n",
      "{'person_id': 1110, 'first_name': 'Samantha', 'last_name': 'Walker', 'date_of_birth': datetime.date(1977, 4, 18)}\n",
      "{'person_id': 1111, 'first_name': 'Michael', 'last_name': 'Jackson', 'date_of_birth': datetime.date(1947, 1, 31)}\n",
      "{'person_id': 1112, 'first_name': 'Ann', 'last_name': 'Barajas', 'date_of_birth': datetime.date(1946, 11, 13)}\n",
      "{'person_id': 1113, 'first_name': 'Michael', 'last_name': 'Parker', 'date_of_birth': datetime.date(1931, 2, 19)}\n",
      "{'person_id': 1114, 'first_name': 'Annette', 'last_name': 'Fletcher', 'date_of_birth': datetime.date(2009, 6, 18)}\n",
      "{'person_id': 1115, 'first_name': 'Steven', 'last_name': 'Garcia', 'date_of_birth': datetime.date(1972, 10, 21)}\n",
      "{'person_id': 1116, 'first_name': 'Nicholas', 'last_name': 'Pittman', 'date_of_birth': datetime.date(2010, 3, 30)}\n",
      "{'person_id': 1117, 'first_name': 'David', 'last_name': 'Wong', 'date_of_birth': datetime.date(1982, 2, 8)}\n",
      "{'person_id': 1118, 'first_name': 'Dawn', 'last_name': 'Jones', 'date_of_birth': datetime.date(1936, 2, 15)}\n",
      "{'person_id': 1119, 'first_name': 'Jamie', 'last_name': 'Hall', 'date_of_birth': datetime.date(1966, 11, 17)}\n",
      "{'person_id': 1120, 'first_name': 'Danny', 'last_name': 'Thomas', 'date_of_birth': datetime.date(1912, 5, 15)}\n",
      "{'person_id': 1121, 'first_name': 'Shane', 'last_name': 'Mitchell', 'date_of_birth': datetime.date(1916, 4, 29)}\n",
      "{'person_id': 1122, 'first_name': 'Rhonda', 'last_name': 'Villarreal', 'date_of_birth': datetime.date(2014, 11, 1)}\n",
      "{'person_id': 1123, 'first_name': 'Thomas', 'last_name': 'Bailey', 'date_of_birth': datetime.date(2006, 2, 9)}\n",
      "{'person_id': 1124, 'first_name': 'Brett', 'last_name': 'Tate', 'date_of_birth': datetime.date(1991, 12, 4)}\n",
      "{'person_id': 1125, 'first_name': 'John', 'last_name': 'Quinn', 'date_of_birth': datetime.date(1923, 2, 5)}\n",
      "{'person_id': 1126, 'first_name': 'Richard', 'last_name': 'Morrison', 'date_of_birth': datetime.date(1940, 3, 29)}\n",
      "{'person_id': 1127, 'first_name': 'Amy', 'last_name': 'Davis', 'date_of_birth': datetime.date(2008, 3, 13)}\n",
      "{'person_id': 1128, 'first_name': 'Ricky', 'last_name': 'Harrison', 'date_of_birth': datetime.date(2013, 9, 10)}\n",
      "{'person_id': 1129, 'first_name': 'Jesus', 'last_name': 'Peterson', 'date_of_birth': datetime.date(1968, 1, 5)}\n",
      "{'person_id': 1130, 'first_name': 'Bryan', 'last_name': 'Hendricks', 'date_of_birth': datetime.date(1912, 11, 6)}\n",
      "{'person_id': 1131, 'first_name': 'Marcus', 'last_name': 'Haney', 'date_of_birth': datetime.date(2014, 6, 5)}\n",
      "{'person_id': 1132, 'first_name': 'Thomas', 'last_name': 'Parker', 'date_of_birth': datetime.date(1985, 10, 13)}\n",
      "{'person_id': 1133, 'first_name': 'Manuel', 'last_name': 'Hardy', 'date_of_birth': datetime.date(1911, 11, 12)}\n",
      "{'person_id': 1134, 'first_name': 'Janet', 'last_name': 'Maxwell', 'date_of_birth': datetime.date(1913, 11, 12)}\n",
      "{'person_id': 1135, 'first_name': 'Christine', 'last_name': 'Allen', 'date_of_birth': datetime.date(1920, 8, 4)}\n",
      "{'person_id': 1136, 'first_name': 'Kristin', 'last_name': 'Chan', 'date_of_birth': datetime.date(1996, 6, 8)}\n",
      "{'person_id': 1137, 'first_name': 'Morgan', 'last_name': 'Adams', 'date_of_birth': datetime.date(1961, 10, 14)}\n",
      "{'person_id': 1138, 'first_name': 'Anthony', 'last_name': 'Mckinney', 'date_of_birth': datetime.date(1990, 10, 30)}\n",
      "{'person_id': 1139, 'first_name': 'Heather', 'last_name': 'Cross', 'date_of_birth': datetime.date(1919, 7, 11)}\n",
      "{'person_id': 1140, 'first_name': 'Kenneth', 'last_name': 'Carter', 'date_of_birth': datetime.date(1984, 5, 29)}\n",
      "{'person_id': 1141, 'first_name': 'David', 'last_name': 'Stanley', 'date_of_birth': datetime.date(1966, 7, 6)}\n",
      "{'person_id': 1142, 'first_name': 'Christina', 'last_name': 'Garcia', 'date_of_birth': datetime.date(1943, 4, 14)}\n",
      "{'person_id': 1143, 'first_name': 'Susan', 'last_name': 'Allen', 'date_of_birth': datetime.date(1958, 3, 11)}\n",
      "{'person_id': 1144, 'first_name': 'Nathaniel', 'last_name': 'Pope', 'date_of_birth': datetime.date(1948, 7, 22)}\n",
      "{'person_id': 1145, 'first_name': 'Brian', 'last_name': 'Walsh', 'date_of_birth': datetime.date(2019, 1, 26)}\n",
      "{'person_id': 1146, 'first_name': 'Todd', 'last_name': 'Sparks', 'date_of_birth': datetime.date(1951, 4, 19)}\n",
      "{'person_id': 1147, 'first_name': 'Anna', 'last_name': 'Rose', 'date_of_birth': datetime.date(1934, 2, 7)}\n",
      "{'person_id': 1148, 'first_name': 'Preston', 'last_name': 'Bates', 'date_of_birth': datetime.date(2022, 6, 3)}\n",
      "{'person_id': 1149, 'first_name': 'Phillip', 'last_name': 'Jensen', 'date_of_birth': datetime.date(1974, 8, 1)}\n",
      "{'person_id': 1150, 'first_name': 'Kristy', 'last_name': 'Mack', 'date_of_birth': datetime.date(1929, 12, 23)}\n",
      "{'person_id': 1151, 'first_name': 'Brian', 'last_name': 'Blanchard', 'date_of_birth': datetime.date(2022, 2, 20)}\n",
      "{'person_id': 1152, 'first_name': 'Allen', 'last_name': 'Wilson', 'date_of_birth': datetime.date(1923, 5, 25)}\n",
      "{'person_id': 1153, 'first_name': 'Brian', 'last_name': 'Kelley', 'date_of_birth': datetime.date(2015, 2, 14)}\n",
      "{'person_id': 1154, 'first_name': 'Kurt', 'last_name': 'Hernandez', 'date_of_birth': datetime.date(1995, 3, 26)}\n",
      "{'person_id': 1155, 'first_name': 'Helen', 'last_name': 'Williams', 'date_of_birth': datetime.date(1972, 5, 18)}\n",
      "{'person_id': 1156, 'first_name': 'Jeanne', 'last_name': 'Mitchell', 'date_of_birth': datetime.date(1931, 11, 11)}\n",
      "{'person_id': 1157, 'first_name': 'David', 'last_name': 'Davis', 'date_of_birth': datetime.date(1936, 2, 12)}\n",
      "{'person_id': 1158, 'first_name': 'Kelly', 'last_name': 'Torres', 'date_of_birth': datetime.date(1924, 1, 22)}\n",
      "{'person_id': 1159, 'first_name': 'Mallory', 'last_name': 'Graves', 'date_of_birth': datetime.date(2018, 6, 16)}\n",
      "{'person_id': 1160, 'first_name': 'Megan', 'last_name': 'Grimes', 'date_of_birth': datetime.date(2001, 10, 6)}\n",
      "{'person_id': 1161, 'first_name': 'Kyle', 'last_name': 'Snyder', 'date_of_birth': datetime.date(1950, 4, 20)}\n",
      "{'person_id': 1162, 'first_name': 'Linda', 'last_name': 'Anderson', 'date_of_birth': datetime.date(2015, 3, 21)}\n",
      "{'person_id': 1163, 'first_name': 'Gary', 'last_name': 'Powers', 'date_of_birth': datetime.date(1935, 9, 30)}\n",
      "{'person_id': 1164, 'first_name': 'Eddie', 'last_name': 'Jordan', 'date_of_birth': datetime.date(1937, 12, 22)}\n",
      "{'person_id': 1165, 'first_name': 'Patrick', 'last_name': 'Parker', 'date_of_birth': datetime.date(1917, 12, 19)}\n",
      "{'person_id': 1166, 'first_name': 'Christian', 'last_name': 'Moss', 'date_of_birth': datetime.date(1918, 11, 7)}\n",
      "{'person_id': 1167, 'first_name': 'Rachel', 'last_name': 'Lyons', 'date_of_birth': datetime.date(1960, 7, 12)}\n",
      "{'person_id': 1168, 'first_name': 'Dalton', 'last_name': 'Harvey', 'date_of_birth': datetime.date(1944, 2, 27)}\n",
      "{'person_id': 1169, 'first_name': 'Christopher', 'last_name': 'Carpenter', 'date_of_birth': datetime.date(2008, 4, 8)}\n",
      "{'person_id': 1170, 'first_name': 'Lori', 'last_name': 'Heath', 'date_of_birth': datetime.date(2013, 10, 8)}\n",
      "{'person_id': 1171, 'first_name': 'Miranda', 'last_name': 'Rocha', 'date_of_birth': datetime.date(2009, 6, 29)}\n",
      "{'person_id': 1172, 'first_name': 'Barbara', 'last_name': 'Harris', 'date_of_birth': datetime.date(1966, 10, 22)}\n",
      "{'person_id': 1173, 'first_name': 'Jon', 'last_name': 'Young', 'date_of_birth': datetime.date(1942, 11, 5)}\n",
      "{'person_id': 1174, 'first_name': 'Christopher', 'last_name': 'Mccall', 'date_of_birth': datetime.date(2012, 3, 5)}\n",
      "{'person_id': 1175, 'first_name': 'Kyle', 'last_name': 'Williams', 'date_of_birth': datetime.date(2008, 4, 12)}\n",
      "{'person_id': 1176, 'first_name': 'Darryl', 'last_name': 'Hall', 'date_of_birth': datetime.date(1963, 2, 3)}\n",
      "{'person_id': 1177, 'first_name': 'Christopher', 'last_name': 'Hall', 'date_of_birth': datetime.date(1921, 7, 17)}\n",
      "{'person_id': 1178, 'first_name': 'James', 'last_name': 'Torres', 'date_of_birth': datetime.date(1986, 8, 11)}\n",
      "{'person_id': 1179, 'first_name': 'Daniel', 'last_name': 'Holden', 'date_of_birth': datetime.date(1996, 10, 2)}\n",
      "{'person_id': 1180, 'first_name': 'Michael', 'last_name': 'Harris', 'date_of_birth': datetime.date(1972, 8, 27)}\n",
      "{'person_id': 1181, 'first_name': 'Cynthia', 'last_name': 'Stanley', 'date_of_birth': datetime.date(2001, 10, 6)}\n",
      "{'person_id': 1182, 'first_name': 'Tammy', 'last_name': 'Pitts', 'date_of_birth': datetime.date(1968, 8, 22)}\n",
      "{'person_id': 1183, 'first_name': 'Phillip', 'last_name': 'Carter', 'date_of_birth': datetime.date(1937, 2, 9)}\n",
      "{'person_id': 1184, 'first_name': 'Ashley', 'last_name': 'Carroll', 'date_of_birth': datetime.date(2004, 11, 7)}\n",
      "{'person_id': 1185, 'first_name': 'Zachary', 'last_name': 'Baxter', 'date_of_birth': datetime.date(2005, 4, 12)}\n",
      "{'person_id': 1186, 'first_name': 'Philip', 'last_name': 'Greer', 'date_of_birth': datetime.date(1921, 9, 2)}\n",
      "{'person_id': 1187, 'first_name': 'Tanya', 'last_name': 'Swanson', 'date_of_birth': datetime.date(1996, 9, 11)}\n",
      "{'person_id': 1188, 'first_name': 'Patricia', 'last_name': 'Chambers', 'date_of_birth': datetime.date(1926, 7, 16)}\n",
      "{'person_id': 1189, 'first_name': 'Anthony', 'last_name': 'Mccoy', 'date_of_birth': datetime.date(1949, 6, 1)}\n",
      "{'person_id': 1190, 'first_name': 'Stacy', 'last_name': 'Holder', 'date_of_birth': datetime.date(1976, 8, 30)}\n",
      "{'person_id': 1191, 'first_name': 'Jeffrey', 'last_name': 'Moore', 'date_of_birth': datetime.date(1978, 12, 13)}\n",
      "{'person_id': 1192, 'first_name': 'Colleen', 'last_name': 'Watson', 'date_of_birth': datetime.date(1974, 4, 21)}\n",
      "{'person_id': 1193, 'first_name': 'Monique', 'last_name': 'Larson', 'date_of_birth': datetime.date(1992, 3, 31)}\n",
      "{'person_id': 1194, 'first_name': 'James', 'last_name': 'Perry', 'date_of_birth': datetime.date(1915, 2, 9)}\n",
      "{'person_id': 1195, 'first_name': 'Nicole', 'last_name': 'Williams', 'date_of_birth': datetime.date(1950, 9, 11)}\n",
      "{'person_id': 1196, 'first_name': 'James', 'last_name': 'Johnson', 'date_of_birth': datetime.date(1951, 1, 25)}\n",
      "{'person_id': 1197, 'first_name': 'Nicholas', 'last_name': 'Chambers', 'date_of_birth': datetime.date(1955, 5, 28)}\n",
      "{'person_id': 1198, 'first_name': 'Edward', 'last_name': 'Jackson', 'date_of_birth': datetime.date(2008, 2, 12)}\n",
      "{'person_id': 1199, 'first_name': 'Shelby', 'last_name': 'Jenkins', 'date_of_birth': datetime.date(1947, 8, 28)}\n"
     ]
    }
   ],
   "source": [
    "cursor.execute(\"\"\"SELECT * FROM dimitri_test.fake_person\"\"\")\n",
    "for rec in cursor:\n",
    "    print(rec)"
   ]
  },
  {
   "cell_type": "code",
   "execution_count": 54,
   "metadata": {},
   "outputs": [],
   "source": [
    "import datetime"
   ]
  },
  {
   "cell_type": "code",
   "execution_count": 55,
   "metadata": {},
   "outputs": [
    {
     "data": {
      "text/plain": [
       "datetime.date(2021, 5, 20)"
      ]
     },
     "execution_count": 55,
     "metadata": {},
     "output_type": "execute_result"
    }
   ],
   "source": [
    "faker.date_between(datetime.date(2018, 2, 3), 'today')"
   ]
  },
  {
   "cell_type": "code",
   "execution_count": null,
   "metadata": {},
   "outputs": [],
   "source": [
    "cursor.execute(\"\"\"\n",
    "drop table fake_death\n",
    "\"\"\")"
   ]
  },
  {
   "cell_type": "code",
   "execution_count": null,
   "metadata": {},
   "outputs": [],
   "source": [
    "cursor.execute(\"\"\"\n",
    "CREATE TABLE dimitri_test.fake_death(\n",
    "    person_id int not null,\n",
    "    date_of_death date NOT NULL,\n",
    "    primary key(person_id), \n",
    "    foreign key (person_id) REFERENCES dimitri_test.fake_person (person_id))\n",
    "\"\"\")"
   ]
  },
  {
   "cell_type": "code",
   "execution_count": null,
   "metadata": {},
   "outputs": [],
   "source": [
    "cursor.execute(\"\"\"\n",
    "CREATE TABLE hotel_reserviation(\n",
    "    \n",
    "    hotel varchar(20) not null\n",
    "    room  int not null,\n",
    "    reservation_date date,\n",
    "    person_id int not null,\n",
    "    \n",
    "    unique index (person_id, reservation_date),    \n",
    "    primary key (hotel, room, reservation_date),\n",
    "    foreign key (person_id) references fake_person(person_id)\n",
    "\"\"\")"
   ]
  },
  {
   "cell_type": "code",
   "execution_count": null,
   "metadata": {},
   "outputs": [],
   "source": [
    "cursor.execute(\"\"\"\n",
    "CREATE TABLE bank_account (\n",
    "    \n",
    "    bank_id  int not null, \n",
    "    account int not null,\n",
    "    \n",
    "    primary key(bank_id, account)\n",
    "\n",
    "\"\"\")\n",
    "\n",
    "cursor.execute(\"\"\"\n",
    "CREATE TABLE bank_account_owner (\n",
    "    \n",
    "    bank_id  int not null, \n",
    "    account int not null,\n",
    "    person_id int not null,\n",
    "    \n",
    "    primary key(bank_id, account, person_id),\n",
    "    foreign key (person_id) references fake_person(person_id),\n",
    "    foreign key (bank_id, account) references fake_person(bank_id, account),\n",
    "\n",
    "\"\"\")"
   ]
  },
  {
   "cell_type": "code",
   "execution_count": null,
   "metadata": {},
   "outputs": [],
   "source": []
  },
  {
   "cell_type": "code",
   "execution_count": null,
   "metadata": {},
   "outputs": [],
   "source": [
    "cursor.execute(\"\"\"\n",
    "SELECT * FROM fake_person\n",
    "\"\"\")\n",
    "cursor.fetchone()"
   ]
  },
  {
   "cell_type": "code",
   "execution_count": null,
   "metadata": {},
   "outputs": [],
   "source": [
    "cursor.execute(\"\"\"INSERT into fake_death (date_of_death) values ('2020-10-09')\"\"\")"
   ]
  },
  {
   "cell_type": "code",
   "execution_count": null,
   "metadata": {},
   "outputs": [],
   "source": [
    "cursor.execute(\"\"\"INSERT into fake_death (person_id, date_of_death) values (1000, '2020-09-09')\"\"\")"
   ]
  },
  {
   "cell_type": "code",
   "execution_count": null,
   "metadata": {},
   "outputs": [],
   "source": [
    "persons = cursor.execute(\"\"\"SELECT person_id, date_of_birth FROM dimitri_test.fake_person\"\"\")\n",
    "for rec in cursor.fetchall():\n",
    "    cursor.execute(\"\"\"\n",
    "    INSERT INTO dimitri_test.fake_death (person_id, date_of_death) VALUES (%s, %s)\n",
    "    \"\"\", (rec['person_id'], faker.date_between(rec['date_of_birth'], rec['date_of_birth'] + datetime.timedelta(days=40000))))\n",
    "    "
   ]
  },
  {
   "cell_type": "code",
   "execution_count": null,
   "metadata": {},
   "outputs": [],
   "source": []
  },
  {
   "cell_type": "code",
   "execution_count": null,
   "metadata": {},
   "outputs": [],
   "source": [
    "cursor.execute(\"\"\"\n",
    "SELECT first_name, floor(DATEDIFF(date_of_death, date_of_birth)/365.25) as died_at\n",
    "FROM dimitri_test.fake_person NATURAL JOIN dimitri_test.fake_death\"\"\")\n",
    "\n",
    "for rec in cursor:\n",
    "    print(rec)"
   ]
  },
  {
   "cell_type": "code",
   "execution_count": null,
   "metadata": {},
   "outputs": [],
   "source": [
    "cursor.execute(\"\"\"\n",
    "DROP TABLE dimitri_test.fake_death\n",
    "\"\"\")"
   ]
  },
  {
   "cell_type": "markdown",
   "metadata": {},
   "source": [
    "## Terminology\n",
    "\n",
    "Translation from relational terminology into database programming\n",
    "\n",
    "* Tuple -> Row\n",
    "* Attribute -> Field/column\n",
    "* Attribute value -> cell\n",
    "* Relation -> Table\n",
    "* Domain -> data type"
   ]
  },
  {
   "cell_type": "code",
   "execution_count": null,
   "metadata": {},
   "outputs": [],
   "source": []
  }
 ],
 "metadata": {
  "kernelspec": {
   "display_name": "benv",
   "language": "python",
   "name": "benv"
  },
  "language_info": {
   "codemirror_mode": {
    "name": "ipython",
    "version": 3
   },
   "file_extension": ".py",
   "mimetype": "text/x-python",
   "name": "python",
   "nbconvert_exporter": "python",
   "pygments_lexer": "ipython3",
   "version": "3.10.4"
  }
 },
 "nbformat": 4,
 "nbformat_minor": 2
}

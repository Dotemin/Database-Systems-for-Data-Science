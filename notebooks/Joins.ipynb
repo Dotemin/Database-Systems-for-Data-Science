{
 "cells": [
  {
   "cell_type": "markdown",
   "metadata": {},
   "source": [
    "# Joins\n",
    "\n",
    "- Explore new schemas\n",
    "- Cross Joins\n",
    "- Natural Joins and \"Semantic joins\"\n",
    "- Equijoins\n",
    "- `SQL: NATURAL JOIN, USING, and ON`"
   ]
  },
  {
   "cell_type": "code",
   "execution_count": null,
   "metadata": {},
   "outputs": [],
   "source": [
    "# setup SQL magic \n",
    "\n",
    "import json\n",
    "with open('cred.json') as f:\n",
    "    creds = json.load(f)\n",
    "\n",
    "connection_string = \"mysql://{user}:{password}@{host}\".format(**creds)\n",
    "\n",
    "import pymysql \n",
    "pymysql.install_as_MySQLdb()\n",
    "\n",
    "%load_ext sql\n",
    "%config SqlMagic.autocommit=True\n",
    "%sql $connection_string"
   ]
  },
  {
   "cell_type": "code",
   "execution_count": null,
   "metadata": {},
   "outputs": [],
   "source": [
    "import datajoint as dj"
   ]
  },
  {
   "cell_type": "code",
   "execution_count": null,
   "metadata": {},
   "outputs": [],
   "source": [
    "dj.list_schemas()"
   ]
  },
  {
   "cell_type": "code",
   "execution_count": null,
   "metadata": {},
   "outputs": [],
   "source": [
    "schema = dj.Schema('shared_airport')\n",
    "schema = dj.Schema('shared_sakila')\n",
    "schema = dj.Schema('shared_world')\n",
    "schema = dj.Schema('shared_airport')\n"
   ]
  },
  {
   "cell_type": "code",
   "execution_count": null,
   "metadata": {},
   "outputs": [],
   "source": [
    "# create classes for working with tables\n",
    "schema.spawn_missing_classes()"
   ]
  },
  {
   "cell_type": "code",
   "execution_count": null,
   "metadata": {},
   "outputs": [],
   "source": [
    "dj.Diagram(schema)"
   ]
  },
  {
   "cell_type": "code",
   "execution_count": null,
   "metadata": {},
   "outputs": [],
   "source": [
    "Passenger()"
   ]
  },
  {
   "cell_type": "code",
   "execution_count": null,
   "metadata": {},
   "outputs": [],
   "source": [
    "%%sql\n",
    "\n",
    "SHOW SCHEMAS"
   ]
  },
  {
   "cell_type": "code",
   "execution_count": null,
   "metadata": {},
   "outputs": [],
   "source": [
    "%%sql\n",
    "\n",
    "USE shared_sales"
   ]
  },
  {
   "cell_type": "code",
   "execution_count": null,
   "metadata": {},
   "outputs": [],
   "source": [
    "%%sql\n",
    "\n",
    "SHOW TABLES"
   ]
  },
  {
   "cell_type": "code",
   "execution_count": null,
   "metadata": {},
   "outputs": [],
   "source": [
    "%%sql\n",
    "\n",
    "SHOW CREATE TABLE category;"
   ]
  },
  {
   "cell_type": "code",
   "execution_count": null,
   "metadata": {},
   "outputs": [],
   "source": [
    "%%sql\n",
    "\n",
    "-- show all customers from Texas \n",
    "\n",
    "SELECT *\n",
    "FROM customer\n",
    "WHERE customer_state = \"TX\"\n"
   ]
  },
  {
   "cell_type": "code",
   "execution_count": null,
   "metadata": {},
   "outputs": [],
   "source": [
    "%%sql\n",
    "\n",
    "-- show the names and addresses of all Texas customers sorted by last name \n",
    "\n",
    "SELECT CONCAT(customer_first_name, ' ', customer_last_name) AS full_name, \n",
    "    customer_street_address AS address\n",
    "  FROM customer\n",
    "  WHERE customer_state = \"TX\"\n",
    "  ORDER BY customer_last_name;"
   ]
  },
  {
   "cell_type": "markdown",
   "metadata": {},
   "source": [
    "```sql\n",
    "-- show the names and addresses of all Texas customers sorted by last name \n",
    "\n",
    "SELECT CONCAT(customer_first_name, ' ', customer_last_name) AS full_name, \n",
    "    customer_street_address AS address\n",
    "  FROM customer\n",
    "  WHERE customer_state = \"TX\"\n",
    "  ORDER BY customer_last_name;\n",
    "```"
   ]
  },
  {
   "cell_type": "code",
   "execution_count": null,
   "metadata": {},
   "outputs": [],
   "source": [
    "%%sql\n",
    "\n",
    "-- show the name of the most expensive product \n",
    "-- A bad query.\n",
    "\n",
    "SELECT product_name, max(retail_price) as max_price\n",
    "FROM product"
   ]
  },
  {
   "cell_type": "code",
   "execution_count": null,
   "metadata": {},
   "outputs": [],
   "source": [
    "%%sql\n",
    "\n",
    "-- show the name of the most expensive product \n",
    "\n",
    "SELECT product_name, retail_price\n",
    "FROM product\n",
    "ORDER BY retail_price DESC\n",
    "LIMIT 1"
   ]
  },
  {
   "cell_type": "code",
   "execution_count": null,
   "metadata": {
    "scrolled": false
   },
   "outputs": [],
   "source": [
    "%%sql\n",
    "\n",
    "-- show all products above 10 in quantity and discount them by 10%\n",
    "\n",
    "SELECT product_number, product_name, retail_price * 0.9 as retail_price\n",
    "FROM product\n",
    "WHERE quantity_on_hand > 10\n"
   ]
  },
  {
   "cell_type": "code",
   "execution_count": null,
   "metadata": {},
   "outputs": [],
   "source": [
    "%%sql\n",
    "\n",
    "-- show all orders\n",
    "\n",
    "SELECT * FROM `order`;"
   ]
  },
  {
   "cell_type": "code",
   "execution_count": null,
   "metadata": {},
   "outputs": [],
   "source": [
    "%%sql\n",
    "SHOW CREATE TABLE `order`"
   ]
  },
  {
   "cell_type": "markdown",
   "metadata": {},
   "source": [
    "## Same queries in DataJoint"
   ]
  },
  {
   "cell_type": "code",
   "execution_count": null,
   "metadata": {},
   "outputs": [],
   "source": [
    "# show all customers from Texas \n",
    "Customer() & 'customer_state = \"TX\"'"
   ]
  },
  {
   "cell_type": "code",
   "execution_count": null,
   "metadata": {},
   "outputs": [],
   "source": [
    "Customer() & {'customer_state': \"TX\"}"
   ]
  },
  {
   "cell_type": "code",
   "execution_count": null,
   "metadata": {},
   "outputs": [],
   "source": [
    "# show the names and addresses of all Texas customers sorted by last name \n",
    "\n",
    "texas_customers = Customer() &  {'customer_state': \"TX\"}\n",
    "\n",
    "q = texas_customers.proj('customer_first_name', 'customer_last_name')\n",
    "\n",
    "q.fetch(order_by='customer_last_name', as_dict=True)"
   ]
  },
  {
   "cell_type": "code",
   "execution_count": null,
   "metadata": {},
   "outputs": [],
   "source": [
    "# show the name of the most expensive product \n",
    "Product().proj('product_name', 'retail_price').fetch(\n",
    "    'product_name', limit=1, order_by='retail_price DESC')[0]"
   ]
  },
  {
   "cell_type": "code",
   "execution_count": null,
   "metadata": {},
   "outputs": [],
   "source": [
    "# show all products above 10 in quantity and discount them by 10%\n",
    "(Product() & 'quantity_on_hand > 10').proj(\n",
    "    'product_name', retail_price='retail_price * 0.9')"
   ]
  },
  {
   "cell_type": "markdown",
   "metadata": {},
   "source": [
    "## Queries with subqueries in restriction"
   ]
  },
  {
   "cell_type": "code",
   "execution_count": null,
   "metadata": {},
   "outputs": [],
   "source": [
    "dj.Diagram(schema)"
   ]
  },
  {
   "cell_type": "code",
   "execution_count": null,
   "metadata": {},
   "outputs": [],
   "source": [
    "# Give me all orders for Texas customers\n",
    "\n",
    "texas_customers = Customer() & {'customer_state': 'TX'}\n",
    "Order & texas_customers"
   ]
  },
  {
   "cell_type": "code",
   "execution_count": null,
   "metadata": {},
   "outputs": [],
   "source": [
    "%%sql\n",
    "\n",
    "SELECT customer_id \n",
    "FROM customer\n",
    "WHERE customer_state = \"TX\""
   ]
  },
  {
   "cell_type": "code",
   "execution_count": null,
   "metadata": {},
   "outputs": [],
   "source": [
    "%%sql\n",
    "\n",
    "-- orders placed by Texas customers\n",
    "\n",
    "SELECT * FROM `order`\n",
    "WHERE customer_id IN (\n",
    "    SELECT customer_id \n",
    "    FROM customer\n",
    "    WHERE customer_state = \"TX\"\n",
    ")"
   ]
  },
  {
   "cell_type": "code",
   "execution_count": null,
   "metadata": {},
   "outputs": [],
   "source": [
    "Product()"
   ]
  },
  {
   "cell_type": "code",
   "execution_count": null,
   "metadata": {},
   "outputs": [],
   "source": [
    "%%sql \n",
    "-- select all orders containing product_number 1\n",
    "\n",
    "SELECT * FROM `order` WHERE order_number IN (\n",
    "SELECT order_number FROM `order__item` WHERE product_number = 1)\n"
   ]
  },
  {
   "cell_type": "code",
   "execution_count": null,
   "metadata": {},
   "outputs": [],
   "source": [
    "Order & (Order.Item & 'product_number=1')"
   ]
  },
  {
   "cell_type": "code",
   "execution_count": null,
   "metadata": {},
   "outputs": [],
   "source": [
    "# Show all customers who have never placed an order"
   ]
  },
  {
   "cell_type": "code",
   "execution_count": null,
   "metadata": {},
   "outputs": [],
   "source": [
    "%%sql\n",
    "SELECT * FROM customer WHERE customer_id NOT IN \n",
    "(SELECT customer_id FROM `order`)"
   ]
  },
  {
   "cell_type": "code",
   "execution_count": null,
   "metadata": {},
   "outputs": [],
   "source": [
    "Customer - Order"
   ]
  },
  {
   "cell_type": "code",
   "execution_count": null,
   "metadata": {},
   "outputs": [],
   "source": [
    "%%sql \n",
    "-- products with the word \"Bike\" in their names\n",
    "SELECT * FROM product WHERE product_name LIKE \"%Bike%\""
   ]
  },
  {
   "cell_type": "code",
   "execution_count": null,
   "metadata": {},
   "outputs": [],
   "source": []
  }
 ],
 "metadata": {
  "kernelspec": {
   "display_name": "benv",
   "language": "python",
   "name": "benv"
  },
  "language_info": {
   "codemirror_mode": {
    "name": "ipython",
    "version": 3
   },
   "file_extension": ".py",
   "mimetype": "text/x-python",
   "name": "python",
   "nbconvert_exporter": "python",
   "pygments_lexer": "ipython3",
   "version": "3.10.4"
  }
 },
 "nbformat": 4,
 "nbformat_minor": 4
}

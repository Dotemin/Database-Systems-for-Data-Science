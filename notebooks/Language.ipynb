{
 "cells": [
  {
   "cell_type": "markdown",
   "id": "1e89adc7",
   "metadata": {},
   "source": [
    "# Modeling relationships with referential constraints\n",
    "## DataJoint example"
   ]
  },
  {
   "cell_type": "code",
   "execution_count": 1,
   "id": "19a52fdb",
   "metadata": {},
   "outputs": [],
   "source": [
    "import datajoint as dj"
   ]
  },
  {
   "cell_type": "code",
   "execution_count": 2,
   "id": "f7add995",
   "metadata": {},
   "outputs": [
    {
     "name": "stderr",
     "output_type": "stream",
     "text": [
      "[2022-09-06 18:01:07,421][INFO]: Connecting dimitri@db.ust-data-sci.net:3306\n",
      "[2022-09-06 18:01:07,723][INFO]: Connected dimitri@db.ust-data-sci.net:3306\n"
     ]
    }
   ],
   "source": [
    "schema = dj.schema('dimitri_language')"
   ]
  },
  {
   "cell_type": "code",
   "execution_count": null,
   "id": "f4d0be92",
   "metadata": {},
   "outputs": [],
   "source": [
    "@schema\n",
    "class Title(dj.Lookup):\n",
    "    definition = \"\"\"\n",
    "    title_code  : char(8)\n",
    "    ---\n",
    "    full_title : char(120)\n",
    "    \"\"\"\n",
    "    \n",
    "    contents = [\n",
    "        (\"SW-Dev1\", \"Software Developer 1\"),\n",
    "        (\"SW-Dev2\", \"Software Developer 2\"),\n",
    "        (\"SW-Dev3\", \"Software Developer 3\"),\n",
    "        (\"Web-Dev1\", \"Web Developer 1\"),\n",
    "        (\"Web-Dev2\", \"Web Developer 2\"),\n",
    "        (\"Web-Dev3\", \"Web Developer 3\"),\n",
    "        (\"HR-Mgr\", \"Human Resources Manager\")\n",
    "    ]"
   ]
  },
  {
   "cell_type": "code",
   "execution_count": null,
   "id": "a32897db",
   "metadata": {},
   "outputs": [],
   "source": [
    "@schema\n",
    "class Person(dj.Manual):\n",
    "    definition = \"\"\"\n",
    "    person_id  :  int \n",
    "    ---\n",
    "    first_name : varchar(30)\n",
    "    last_name : varchar(30)\n",
    "    -> Title\n",
    "    \"\"\""
   ]
  },
  {
   "cell_type": "code",
   "execution_count": null,
   "id": "579307a2",
   "metadata": {},
   "outputs": [],
   "source": [
    "Title()"
   ]
  },
  {
   "cell_type": "code",
   "execution_count": null,
   "id": "98fb8595",
   "metadata": {},
   "outputs": [],
   "source": [
    "Person().insert1((1, \"Jane\", \"Doe\", \"HR-Mgr\"))"
   ]
  },
  {
   "cell_type": "code",
   "execution_count": null,
   "id": "9e7e427a",
   "metadata": {},
   "outputs": [],
   "source": [
    "Person().insert1((2, \"Johnny\", \"Cash\", \"Web-Dev1\"))"
   ]
  },
  {
   "cell_type": "code",
   "execution_count": null,
   "id": "09d786f0",
   "metadata": {},
   "outputs": [],
   "source": [
    "Person()"
   ]
  },
  {
   "cell_type": "code",
   "execution_count": null,
   "id": "2a9a1438",
   "metadata": {},
   "outputs": [],
   "source": [
    "Title().delete()"
   ]
  },
  {
   "cell_type": "code",
   "execution_count": null,
   "id": "16a112cc",
   "metadata": {},
   "outputs": [],
   "source": [
    "Title & {'title_code': \"HR-Mgr\"}"
   ]
  },
  {
   "cell_type": "code",
   "execution_count": null,
   "id": "f4de25cf",
   "metadata": {},
   "outputs": [],
   "source": [
    "(Title & {'title_code': \"Web-Dev2\"}).delete()"
   ]
  },
  {
   "cell_type": "code",
   "execution_count": null,
   "id": "ed6451c1",
   "metadata": {},
   "outputs": [],
   "source": [
    "@schema\n",
    "class Retirement(dj.Manual):\n",
    "    definition = \"\"\"\n",
    "    -> Person\n",
    "    ---\n",
    "    retirement_date : date\n",
    "    \"\"\""
   ]
  },
  {
   "cell_type": "code",
   "execution_count": null,
   "id": "c8788a90",
   "metadata": {},
   "outputs": [],
   "source": [
    "Retirement()"
   ]
  },
  {
   "cell_type": "code",
   "execution_count": null,
   "id": "33778ff0",
   "metadata": {},
   "outputs": [],
   "source": [
    "Title.drop()"
   ]
  },
  {
   "cell_type": "code",
   "execution_count": null,
   "id": "681e2284",
   "metadata": {},
   "outputs": [],
   "source": [
    "dj.Diagram(schema)"
   ]
  },
  {
   "cell_type": "code",
   "execution_count": null,
   "id": "88580458",
   "metadata": {},
   "outputs": [],
   "source": [
    "@schema \n",
    "class Language(dj.Lookup):\n",
    "    definition = \"\"\"\n",
    "    lang_code  : char(8)\n",
    "    ---\n",
    "    language : varchar(20)\n",
    "    \"\"\"\n",
    "    \n",
    "    contents = [\n",
    "        (\"Eng\", \"English\"),\n",
    "        (\"Nav\", \"Navajo\"),\n",
    "        (\"Fr\", \"French\"),\n",
    "        (\"It\", \"Italian\")        \n",
    "    ]"
   ]
  },
  {
   "cell_type": "code",
   "execution_count": null,
   "id": "73ce2a96",
   "metadata": {},
   "outputs": [],
   "source": [
    "Language()"
   ]
  },
  {
   "cell_type": "code",
   "execution_count": null,
   "id": "38d38176",
   "metadata": {},
   "outputs": [],
   "source": [
    "dj.Diagram(schema)"
   ]
  },
  {
   "cell_type": "code",
   "execution_count": null,
   "id": "3407659e",
   "metadata": {},
   "outputs": [],
   "source": [
    "@schema\n",
    "class LanguageSkill(dj.Manual):\n",
    "    definition = \"\"\"\n",
    "    -> Person\n",
    "    -> Language\n",
    "    ---\n",
    "    skill_level  : enum(\"beginner\", \"intermediate\", \"fluent\", \"native\")\n",
    "    \"\"\""
   ]
  },
  {
   "cell_type": "code",
   "execution_count": null,
   "id": "4876ef2a",
   "metadata": {},
   "outputs": [],
   "source": [
    "Person()"
   ]
  },
  {
   "cell_type": "code",
   "execution_count": null,
   "id": "631eff19",
   "metadata": {},
   "outputs": [],
   "source": [
    "dj.Diagram(schema)"
   ]
  },
  {
   "cell_type": "code",
   "execution_count": null,
   "id": "2f885e33",
   "metadata": {},
   "outputs": [],
   "source": [
    "LanguageSkill.insert1((1, \"Eng\", \"native\"))"
   ]
  },
  {
   "cell_type": "code",
   "execution_count": null,
   "id": "e141e53b",
   "metadata": {},
   "outputs": [],
   "source": [
    "LanguageSkill.insert1((1, \"It\", \"beginner\"))"
   ]
  },
  {
   "cell_type": "code",
   "execution_count": null,
   "id": "4677b661",
   "metadata": {},
   "outputs": [],
   "source": [
    "LanguageSkill.insert1((1, \"Nav\", \"fluent\"))"
   ]
  },
  {
   "cell_type": "code",
   "execution_count": null,
   "id": "16188e07",
   "metadata": {},
   "outputs": [],
   "source": [
    "LanguageSkill.insert1((2, \"Fr\", \"fluent\"))"
   ]
  },
  {
   "cell_type": "code",
   "execution_count": null,
   "id": "212cfe66",
   "metadata": {},
   "outputs": [],
   "source": [
    "LanguageSkill.insert1((2, \"It\", \"intermediate\"))"
   ]
  },
  {
   "cell_type": "code",
   "execution_count": null,
   "id": "69de8e8e",
   "metadata": {},
   "outputs": [],
   "source": [
    "LanguageSkill()"
   ]
  },
  {
   "cell_type": "code",
   "execution_count": null,
   "id": "b0ab72bc",
   "metadata": {},
   "outputs": [],
   "source": [
    "LanguageSkill.fetch(order_by=\"skill_level\", format=\"frame\")"
   ]
  },
  {
   "cell_type": "markdown",
   "id": "64cb7d74",
   "metadata": {},
   "source": [
    "# Now in SQL"
   ]
  },
  {
   "cell_type": "code",
   "execution_count": null,
   "id": "1e0e5874",
   "metadata": {},
   "outputs": [],
   "source": [
    "# prepare SQL Magic\n",
    "import json\n",
    "with open('cred.json') as f:\n",
    "    creds = json.load(f)\n",
    "    \n",
    "connection_string = \"mysql://{user}:{password}@{host}\".format(**creds)\n",
    "\n",
    "import pymysql \n",
    "pymysql.install_as_MySQLdb()"
   ]
  },
  {
   "cell_type": "code",
   "execution_count": null,
   "id": "7aa1659e",
   "metadata": {},
   "outputs": [],
   "source": [
    "%load_ext sql\n",
    "%config SqlMagic.autocommit=True"
   ]
  },
  {
   "cell_type": "code",
   "execution_count": null,
   "id": "8b388190",
   "metadata": {},
   "outputs": [],
   "source": [
    "%sql $connection_string"
   ]
  },
  {
   "cell_type": "code",
   "execution_count": null,
   "id": "84b2ff21",
   "metadata": {},
   "outputs": [],
   "source": [
    "%%sql\n",
    "\n",
    "SHOW TABLES IN dimitri_language;"
   ]
  },
  {
   "cell_type": "code",
   "execution_count": null,
   "id": "5d64d8b5",
   "metadata": {},
   "outputs": [],
   "source": [
    "%%sql \n",
    "\n",
    "SHOW CREATE TABLE dimitri_language.person;"
   ]
  },
  {
   "cell_type": "markdown",
   "id": "1cf79109",
   "metadata": {},
   "source": [
    "```sql\n",
    "CREATE TABLE dimitri_language.person (\n",
    "   person_id int(11) NOT NULL,\n",
    "   first_name varchar(30) NOT NULL,\n",
    "   last_name varchar(30) NOT NULL,\n",
    "   title_code char(8) NOT NULL,\n",
    "   PRIMARY KEY (person_id),\n",
    "   FOREIGN KEY (title_code) REFERENCES title (title_code)\n",
    ")\n",
    "```"
   ]
  },
  {
   "cell_type": "code",
   "execution_count": null,
   "id": "a82038fc",
   "metadata": {},
   "outputs": [],
   "source": [
    "%%sql\n",
    "\n",
    "SHOW CREATE TABLE dimitri_language.language_skill;"
   ]
  },
  {
   "cell_type": "markdown",
   "id": "557d0ad8",
   "metadata": {},
   "source": [
    "```sql\n",
    "CREATE TABLE dimitri_language.language_skill (\n",
    "   person_id int(11) NOT NULL,\n",
    "   lang_code char(8) NOT NULL,\n",
    "   skill_level enum('beginner','intermediate','fluent','native') NOT NULL,\n",
    "   PRIMARY KEY (person_id, lang_code),\n",
    "   FOREIGN KEY (person_id) REFERENCES person (person_id),\n",
    "   FOREIGN KEY (lang_code) REFERENCES language (lang_code)\n",
    ")\n",
    "```"
   ]
  },
  {
   "cell_type": "markdown",
   "id": "60e80959",
   "metadata": {},
   "source": [
    "Contast with the DataJoint definition:\n",
    "```python\n",
    "@schema\n",
    "class LanguageSkill(dj.Manual):\n",
    "    definition = \"\"\"\n",
    "    -> Person\n",
    "    -> Language\n",
    "    ---\n",
    "    skill_level  : enum(\"beginner\", \"intermediate\", \"fluent\", \"native\")\n",
    "    \"\"\"\n",
    "```"
   ]
  },
  {
   "cell_type": "markdown",
   "id": "f4685f85",
   "metadata": {},
   "source": [
    "# Now in SQL from Python"
   ]
  },
  {
   "cell_type": "code",
   "execution_count": null,
   "id": "868a7f01",
   "metadata": {},
   "outputs": [],
   "source": [
    "import pymysql"
   ]
  },
  {
   "cell_type": "code",
   "execution_count": null,
   "id": "3ec6bb81",
   "metadata": {},
   "outputs": [],
   "source": [
    "conn = pymysql.connect(...)\n",
    "cursor = conn.cursor(...)"
   ]
  },
  {
   "cell_type": "code",
   "execution_count": null,
   "id": "ef0021f2",
   "metadata": {},
   "outputs": [],
   "source": [
    "cursor.execute(\"\"\"\n",
    "CREATE TABLE language_skill (\n",
    "   person_id int(11) NOT NULL,\n",
    "   lang_code char(8) NOT NULL,\n",
    "   skill_level enum('beginner','intermediate','fluent','native') NOT NULL,\n",
    "   PRIMARY KEY (person_id, lang_code),\n",
    "   FOREIGN KEY (person_id) REFERENCES person (person_id),\n",
    "   FOREIGN KEY (lang_code) REFERENCES language (lang_code)\n",
    ") \n",
    "\"\"\"\n",
    ")"
   ]
  }
 ],
 "metadata": {
  "kernelspec": {
   "display_name": "benv",
   "language": "python",
   "name": "benv"
  },
  "language_info": {
   "codemirror_mode": {
    "name": "ipython",
    "version": 3
   },
   "file_extension": ".py",
   "mimetype": "text/x-python",
   "name": "python",
   "nbconvert_exporter": "python",
   "pygments_lexer": "ipython3",
   "version": "3.10.4"
  }
 },
 "nbformat": 4,
 "nbformat_minor": 5
}

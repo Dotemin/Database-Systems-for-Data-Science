{
 "cells": [
  {
   "cell_type": "markdown",
   "id": "1e89adc7",
   "metadata": {},
   "source": [
    "# Modeling relationships with referential constraints\n",
    "## DataJoint example"
   ]
  },
  {
   "cell_type": "code",
   "execution_count": 1,
   "id": "19a52fdb",
   "metadata": {},
   "outputs": [],
   "source": [
    "import datajoint as dj"
   ]
  },
  {
   "cell_type": "code",
   "execution_count": 2,
   "id": "f7add995",
   "metadata": {},
   "outputs": [
    {
     "name": "stderr",
     "output_type": "stream",
     "text": [
      "[2022-09-13 16:20:55,368][INFO]: Connecting dimitri@db.ust-data-sci.net:3306\n",
      "[2022-09-13 16:20:55,889][INFO]: Connected dimitri@db.ust-data-sci.net:3306\n"
     ]
    }
   ],
   "source": [
    "schema = dj.Schema('dimitri_language')"
   ]
  },
  {
   "cell_type": "code",
   "execution_count": 3,
   "id": "f4d0be92",
   "metadata": {},
   "outputs": [],
   "source": [
    "@schema\n",
    "class Title(dj.Lookup):\n",
    "    definition = \"\"\"\n",
    "    title_code  : char(8)\n",
    "    ---\n",
    "    full_title : varchar(120)\n",
    "    \"\"\"\n",
    "    \n",
    "    contents = [\n",
    "        (\"SW-Dev1\", \"Software Developer 1\"),\n",
    "        (\"SW-Dev2\", \"Software Developer 2\"),\n",
    "        (\"SW-Dev3\", \"Software Developer 3\"),\n",
    "        (\"Web-Dev1\", \"Web Developer 1\"),\n",
    "        (\"Web-Dev2\", \"Web Developer 2\"),\n",
    "        (\"Web-Dev3\", \"Web Developer 3\"),\n",
    "        (\"HR-Mgr\", \"Human Resources Manager\")\n",
    "    ]"
   ]
  },
  {
   "cell_type": "code",
   "execution_count": 4,
   "id": "26254ca2",
   "metadata": {},
   "outputs": [
    {
     "data": {
      "text/html": [
       "\n",
       "    \n",
       "    <style type=\"text/css\">\n",
       "        .Relation{\n",
       "            border-collapse:collapse;\n",
       "        }\n",
       "        .Relation th{\n",
       "            background: #A0A0A0; color: #ffffff; padding:4px; border:#f0e0e0 1px solid;\n",
       "            font-weight: normal; font-family: monospace; font-size: 100%;\n",
       "        }\n",
       "        .Relation td{\n",
       "            padding:4px; border:#f0e0e0 1px solid; font-size:100%;\n",
       "        }\n",
       "        .Relation tr:nth-child(odd){\n",
       "            background: #ffffff;\n",
       "        }\n",
       "        .Relation tr:nth-child(even){\n",
       "            background: #f3f1ff;\n",
       "        }\n",
       "        /* Tooltip container */\n",
       "        .djtooltip {\n",
       "        }\n",
       "        /* Tooltip text */\n",
       "        .djtooltip .djtooltiptext {\n",
       "            visibility: hidden;\n",
       "            width: 120px;\n",
       "            background-color: black;\n",
       "            color: #fff;\n",
       "            text-align: center;\n",
       "            padding: 5px 0;\n",
       "            border-radius: 6px;\n",
       "            /* Position the tooltip text - see examples below! */\n",
       "            position: absolute;\n",
       "            z-index: 1;\n",
       "        }\n",
       "        #primary {\n",
       "            font-weight: bold;\n",
       "            color: black;\n",
       "        }\n",
       "        #nonprimary {\n",
       "            font-weight: normal;\n",
       "            color: white;\n",
       "        }\n",
       "\n",
       "        /* Show the tooltip text when you mouse over the tooltip container */\n",
       "        .djtooltip:hover .djtooltiptext {\n",
       "            visibility: visible;\n",
       "        }\n",
       "    </style>\n",
       "    \n",
       "    <b></b>\n",
       "        <div style=\"max-height:1000px;max-width:1500px;overflow:auto;\">\n",
       "        <table border=\"1\" class=\"Relation\">\n",
       "            <thead> <tr style=\"text-align: right;\"> <th> <div class=\"djtooltip\">\n",
       "                            <p id=\"primary\">title_code</p>\n",
       "                            <span class=\"djtooltiptext\"></span>\n",
       "                        </div></th><th><div class=\"djtooltip\">\n",
       "                            <p id=\"nonprimary\">full_title</p>\n",
       "                            <span class=\"djtooltiptext\"></span>\n",
       "                        </div> </th> </tr> </thead>\n",
       "            <tbody> <tr> <td>HR-Mgr</td>\n",
       "<td>Human Resources Manager</td></tr><tr><td>SW-Dev1</td>\n",
       "<td>Software Developer 1</td></tr><tr><td>SW-Dev2</td>\n",
       "<td>Software Developer 2</td></tr><tr><td>SW-Dev3</td>\n",
       "<td>Software Developer 3</td></tr><tr><td>Web-Dev1</td>\n",
       "<td>Web Developer 1</td></tr><tr><td>Web-Dev2</td>\n",
       "<td>Web Developer 2</td></tr><tr><td>Web-Dev3</td>\n",
       "<td>Web Developer 3</td> </tr> </tbody>\n",
       "        </table>\n",
       "        \n",
       "        <p>Total: 7</p></div>\n",
       "        "
      ],
      "text/plain": [
       "*title_code    full_title    \n",
       "+------------+ +------------+\n",
       "HR-Mgr         Human Resource\n",
       "SW-Dev1        Software Devel\n",
       "SW-Dev2        Software Devel\n",
       "SW-Dev3        Software Devel\n",
       "Web-Dev1       Web Developer \n",
       "Web-Dev2       Web Developer \n",
       "Web-Dev3       Web Developer \n",
       " (Total: 7)"
      ]
     },
     "execution_count": 4,
     "metadata": {},
     "output_type": "execute_result"
    }
   ],
   "source": [
    "Title()"
   ]
  },
  {
   "cell_type": "code",
   "execution_count": 5,
   "id": "a32897db",
   "metadata": {},
   "outputs": [],
   "source": [
    "@schema\n",
    "class Person(dj.Manual):\n",
    "    definition = \"\"\"\n",
    "    person_id  :  int \n",
    "    ---\n",
    "    first_name : varchar(30)\n",
    "    last_name : varchar(30)\n",
    "    -> Title\n",
    "    \"\"\""
   ]
  },
  {
   "cell_type": "code",
   "execution_count": null,
   "id": "f97ef441",
   "metadata": {},
   "outputs": [],
   "source": [
    "dj.config"
   ]
  },
  {
   "cell_type": "code",
   "execution_count": null,
   "id": "579307a2",
   "metadata": {},
   "outputs": [],
   "source": [
    "Person()"
   ]
  },
  {
   "cell_type": "code",
   "execution_count": null,
   "id": "98fb8595",
   "metadata": {},
   "outputs": [],
   "source": [
    "Person.insert1((2, \"Jane\", \"Doe\", \"HR-Mgr\"))"
   ]
  },
  {
   "cell_type": "code",
   "execution_count": null,
   "id": "fd8fcb95",
   "metadata": {},
   "outputs": [],
   "source": [
    "Person()"
   ]
  },
  {
   "cell_type": "code",
   "execution_count": 6,
   "id": "e2b3c06a",
   "metadata": {},
   "outputs": [
    {
     "data": {
      "image/svg+xml": [
       "<svg xmlns=\"http://www.w3.org/2000/svg\" xmlns:xlink=\"http://www.w3.org/1999/xlink\" width=\"406pt\" height=\"185pt\" viewBox=\"0.00 0.00 405.50 185.00\">\n",
       "<g id=\"graph0\" class=\"graph\" transform=\"scale(1 1) rotate(0) translate(4 181)\">\n",
       "<polygon fill=\"white\" stroke=\"none\" points=\"-4,4 -4,-181 401.5,-181 401.5,4 -4,4\"/>\n",
       "<!-- `dimitri_language`.`language_skill` -->\n",
       "<g id=\"node1\" class=\"node\">\n",
       "<title>`dimitri_language`.`language_skill`</title>\n",
       "<polygon fill=\"#00ff00\" fill-opacity=\"0.188235\" stroke=\"#00ff00\" stroke-opacity=\"0.188235\" points=\"202,-35 0,-35 0,0 202,0 202,-35\"/>\n",
       "<text text-anchor=\"middle\" x=\"101\" y=\"-14.4\" font-family=\"arial\" font-size=\"12.00\" fill=\"darkgreen\">`dimitri_language`.`language_skill`</text>\n",
       "</g>\n",
       "<!-- `dimitri_language`.`retirement` -->\n",
       "<g id=\"node2\" class=\"node\">\n",
       "<title>`dimitri_language`.`retirement`</title>\n",
       "<polygon fill=\"#00ff00\" fill-opacity=\"0.188235\" stroke=\"#00ff00\" stroke-opacity=\"0.188235\" points=\"397.5,-35 220.5,-35 220.5,0 397.5,0 397.5,-35\"/>\n",
       "<text text-anchor=\"middle\" x=\"309\" y=\"-14.4\" font-family=\"arial\" font-size=\"12.00\" fill=\"darkgreen\">`dimitri_language`.`retirement`</text>\n",
       "</g>\n",
       "<!-- `dimitri_language`.`#language` -->\n",
       "<g id=\"node3\" class=\"node\">\n",
       "<title>`dimitri_language`.`#language`</title>\n",
       "<polygon fill=\"#000000\" fill-opacity=\"0.125490\" stroke=\"none\" points=\"174,-106 28,-106 28,-71 174,-71 174,-106\"/>\n",
       "<text text-anchor=\"start\" x=\"36\" y=\"-87\" font-family=\"arial\" text-decoration=\"underline\" font-size=\"10.00\">`dimitri_language`.`#language`</text>\n",
       "</g>\n",
       "<!-- `dimitri_language`.`#language`&#45;&gt;`dimitri_language`.`language_skill` -->\n",
       "<g id=\"edge1\" class=\"edge\">\n",
       "<title>`dimitri_language`.`#language`-&gt;`dimitri_language`.`language_skill`</title>\n",
       "<path fill=\"none\" stroke=\"#000000\" stroke-width=\"0.75\" stroke-opacity=\"0.250980\" d=\"M101,-70.8C101,-59.95 101,-45.87 101,-35.05\"/>\n",
       "</g>\n",
       "<!-- Person -->\n",
       "<g id=\"node4\" class=\"node\">\n",
       "<title>Person</title>\n",
       "<g id=\"a_node4\"><a xlink:title=\"person_id            \r",
       "------------------------------\r",
       "first_name           \r",
       "last_name            \r",
       "→ Title\r",
       "\">\n",
       "<polygon fill=\"#00ff00\" fill-opacity=\"0.188235\" stroke=\"#00ff00\" stroke-opacity=\"0.188235\" points=\"291.5,-106 236.5,-106 236.5,-71 291.5,-71 291.5,-106\"/>\n",
       "<text text-anchor=\"start\" x=\"244.5\" y=\"-86.4\" font-family=\"arial\" text-decoration=\"underline\" font-size=\"12.00\" fill=\"darkgreen\">Person</text>\n",
       "</a>\n",
       "</g>\n",
       "</g>\n",
       "<!-- Person&#45;&gt;`dimitri_language`.`language_skill` -->\n",
       "<g id=\"edge2\" class=\"edge\">\n",
       "<title>Person-&gt;`dimitri_language`.`language_skill`</title>\n",
       "<path fill=\"none\" stroke=\"#000000\" stroke-width=\"0.75\" stroke-opacity=\"0.250980\" d=\"M236.35,-75.8C209.92,-64.61 169.81,-47.63 140.11,-35.06\"/>\n",
       "</g>\n",
       "<!-- Person&#45;&gt;`dimitri_language`.`retirement` -->\n",
       "<g id=\"edge3\" class=\"edge\">\n",
       "<title>Person-&gt;`dimitri_language`.`retirement`</title>\n",
       "<path fill=\"none\" stroke=\"#000000\" stroke-width=\"2\" stroke-opacity=\"0.250980\" d=\"M274.89,-70.8C281.97,-59.95 291.15,-45.87 298.21,-35.05\"/>\n",
       "</g>\n",
       "<!-- Title -->\n",
       "<g id=\"node5\" class=\"node\">\n",
       "<title>Title</title>\n",
       "<g id=\"a_node5\"><a xlink:title=\"title_code           \r",
       "------------------------------\r",
       "full_title           \r",
       "\">\n",
       "<polygon fill=\"#000000\" fill-opacity=\"0.125490\" stroke=\"none\" points=\"281.5,-177 246.5,-177 246.5,-142 281.5,-142 281.5,-177\"/>\n",
       "<text text-anchor=\"start\" x=\"254.5\" y=\"-158\" font-family=\"arial\" text-decoration=\"underline\" font-size=\"10.00\">Title</text>\n",
       "</a>\n",
       "</g>\n",
       "</g>\n",
       "<!-- Title&#45;&gt;Person -->\n",
       "<g id=\"edge4\" class=\"edge\">\n",
       "<title>Title-&gt;Person</title>\n",
       "<path fill=\"none\" stroke=\"#000000\" stroke-width=\"0.75\" stroke-dasharray=\"5,2\" stroke-opacity=\"0.250980\" d=\"M264,-141.8C264,-130.95 264,-116.87 264,-106.05\"/>\n",
       "</g>\n",
       "</g>\n",
       "</svg>"
      ],
      "text/plain": [
       "<datajoint.diagram.Diagram at 0x7fe0d06e31c0>"
      ]
     },
     "execution_count": 6,
     "metadata": {},
     "output_type": "execute_result"
    }
   ],
   "source": [
    "dj.Diagram(schema)"
   ]
  },
  {
   "cell_type": "markdown",
   "id": "99a6da0e",
   "metadata": {},
   "source": [
    "A foreign key"
   ]
  },
  {
   "cell_type": "code",
   "execution_count": null,
   "id": "a367270f",
   "metadata": {},
   "outputs": [],
   "source": [
    "Title.delete()"
   ]
  },
  {
   "cell_type": "code",
   "execution_count": null,
   "id": "5dec304f",
   "metadata": {},
   "outputs": [],
   "source": [
    "Person().delete()"
   ]
  },
  {
   "cell_type": "code",
   "execution_count": null,
   "id": "9e7e427a",
   "metadata": {},
   "outputs": [],
   "source": [
    "Person.insert1((3, \"Johnny\", \"Cash\", \"Web-Dev3\"))"
   ]
  },
  {
   "cell_type": "code",
   "execution_count": null,
   "id": "09d786f0",
   "metadata": {},
   "outputs": [],
   "source": [
    "Person()"
   ]
  },
  {
   "cell_type": "code",
   "execution_count": null,
   "id": "2a9a1438",
   "metadata": {},
   "outputs": [],
   "source": [
    "Title().delete()"
   ]
  },
  {
   "cell_type": "code",
   "execution_count": null,
   "id": "16a112cc",
   "metadata": {},
   "outputs": [],
   "source": [
    "Title & {'title_code': \"HR-Mgr\"}"
   ]
  },
  {
   "cell_type": "code",
   "execution_count": null,
   "id": "f4de25cf",
   "metadata": {},
   "outputs": [],
   "source": [
    "(Title & {'title_code': \"Web-Dev2\"}).delete()"
   ]
  },
  {
   "cell_type": "code",
   "execution_count": 7,
   "id": "ed6451c1",
   "metadata": {},
   "outputs": [],
   "source": [
    "@schema\n",
    "class Retirement(dj.Manual):\n",
    "    definition = \"\"\"\n",
    "    -> Person\n",
    "    ---\n",
    "    retirement_date : date\n",
    "    \"\"\""
   ]
  },
  {
   "cell_type": "code",
   "execution_count": 8,
   "id": "b5f33882",
   "metadata": {},
   "outputs": [
    {
     "data": {
      "image/svg+xml": [
       "<svg xmlns=\"http://www.w3.org/2000/svg\" xmlns:xlink=\"http://www.w3.org/1999/xlink\" width=\"304pt\" height=\"185pt\" viewBox=\"0.00 0.00 303.50 185.00\">\n",
       "<g id=\"graph0\" class=\"graph\" transform=\"scale(1 1) rotate(0) translate(4 181)\">\n",
       "<polygon fill=\"white\" stroke=\"none\" points=\"-4,4 -4,-181 299.5,-181 299.5,4 -4,4\"/>\n",
       "<!-- `dimitri_language`.`language_skill` -->\n",
       "<g id=\"node1\" class=\"node\">\n",
       "<title>`dimitri_language`.`language_skill`</title>\n",
       "<polygon fill=\"#00ff00\" fill-opacity=\"0.188235\" stroke=\"#00ff00\" stroke-opacity=\"0.188235\" points=\"202,-35 0,-35 0,0 202,0 202,-35\"/>\n",
       "<text text-anchor=\"middle\" x=\"101\" y=\"-14.4\" font-family=\"arial\" font-size=\"12.00\" fill=\"darkgreen\">`dimitri_language`.`language_skill`</text>\n",
       "</g>\n",
       "<!-- `dimitri_language`.`#language` -->\n",
       "<g id=\"node2\" class=\"node\">\n",
       "<title>`dimitri_language`.`#language`</title>\n",
       "<polygon fill=\"#000000\" fill-opacity=\"0.125490\" stroke=\"none\" points=\"174,-106 28,-106 28,-71 174,-71 174,-106\"/>\n",
       "<text text-anchor=\"start\" x=\"36\" y=\"-87\" font-family=\"arial\" text-decoration=\"underline\" font-size=\"10.00\">`dimitri_language`.`#language`</text>\n",
       "</g>\n",
       "<!-- `dimitri_language`.`#language`&#45;&gt;`dimitri_language`.`language_skill` -->\n",
       "<g id=\"edge1\" class=\"edge\">\n",
       "<title>`dimitri_language`.`#language`-&gt;`dimitri_language`.`language_skill`</title>\n",
       "<path fill=\"none\" stroke=\"#000000\" stroke-width=\"0.75\" stroke-opacity=\"0.250980\" d=\"M101,-70.8C101,-59.95 101,-45.87 101,-35.05\"/>\n",
       "</g>\n",
       "<!-- Retirement -->\n",
       "<g id=\"node3\" class=\"node\">\n",
       "<title>Retirement</title>\n",
       "<g id=\"a_node3\"><a xlink:title=\"→ Person\r",
       "------------------------------\r",
       "retirement_date      \r",
       "\">\n",
       "<polygon fill=\"#00ff00\" fill-opacity=\"0.188235\" stroke=\"#00ff00\" stroke-opacity=\"0.188235\" points=\"295.5,-35 220.5,-35 220.5,0 295.5,0 295.5,-35\"/>\n",
       "<text text-anchor=\"middle\" x=\"258\" y=\"-14.4\" font-family=\"arial\" font-size=\"12.00\" fill=\"darkgreen\">Retirement</text>\n",
       "</a>\n",
       "</g>\n",
       "</g>\n",
       "<!-- Person -->\n",
       "<g id=\"node4\" class=\"node\">\n",
       "<title>Person</title>\n",
       "<g id=\"a_node4\"><a xlink:title=\"person_id            \r",
       "------------------------------\r",
       "first_name           \r",
       "last_name            \r",
       "→ Title\r",
       "\">\n",
       "<polygon fill=\"#00ff00\" fill-opacity=\"0.188235\" stroke=\"#00ff00\" stroke-opacity=\"0.188235\" points=\"266.5,-106 211.5,-106 211.5,-71 266.5,-71 266.5,-106\"/>\n",
       "<text text-anchor=\"start\" x=\"219.5\" y=\"-86.4\" font-family=\"arial\" text-decoration=\"underline\" font-size=\"12.00\" fill=\"darkgreen\">Person</text>\n",
       "</a>\n",
       "</g>\n",
       "</g>\n",
       "<!-- Person&#45;&gt;`dimitri_language`.`language_skill` -->\n",
       "<g id=\"edge2\" class=\"edge\">\n",
       "<title>Person-&gt;`dimitri_language`.`language_skill`</title>\n",
       "<path fill=\"none\" stroke=\"#000000\" stroke-width=\"0.75\" stroke-opacity=\"0.250980\" d=\"M211.41,-73.7C189.15,-62.57 157.76,-46.88 134.14,-35.07\"/>\n",
       "</g>\n",
       "<!-- Person&#45;&gt;Retirement -->\n",
       "<g id=\"edge3\" class=\"edge\">\n",
       "<title>Person-&gt;Retirement</title>\n",
       "<path fill=\"none\" stroke=\"#000000\" stroke-width=\"2\" stroke-opacity=\"0.250980\" d=\"M243.6,-70.8C246.59,-59.95 250.46,-45.87 253.44,-35.05\"/>\n",
       "</g>\n",
       "<!-- Title -->\n",
       "<g id=\"node5\" class=\"node\">\n",
       "<title>Title</title>\n",
       "<g id=\"a_node5\"><a xlink:title=\"title_code           \r",
       "------------------------------\r",
       "full_title           \r",
       "\">\n",
       "<polygon fill=\"#000000\" fill-opacity=\"0.125490\" stroke=\"none\" points=\"256.5,-177 221.5,-177 221.5,-142 256.5,-142 256.5,-177\"/>\n",
       "<text text-anchor=\"start\" x=\"229.5\" y=\"-158\" font-family=\"arial\" text-decoration=\"underline\" font-size=\"10.00\">Title</text>\n",
       "</a>\n",
       "</g>\n",
       "</g>\n",
       "<!-- Title&#45;&gt;Person -->\n",
       "<g id=\"edge4\" class=\"edge\">\n",
       "<title>Title-&gt;Person</title>\n",
       "<path fill=\"none\" stroke=\"#000000\" stroke-width=\"0.75\" stroke-dasharray=\"5,2\" stroke-opacity=\"0.250980\" d=\"M239,-141.8C239,-130.95 239,-116.87 239,-106.05\"/>\n",
       "</g>\n",
       "</g>\n",
       "</svg>"
      ],
      "text/plain": [
       "<datajoint.diagram.Diagram at 0x7fe10060e680>"
      ]
     },
     "execution_count": 8,
     "metadata": {},
     "output_type": "execute_result"
    }
   ],
   "source": [
    "dj.Diagram(schema)"
   ]
  },
  {
   "cell_type": "code",
   "execution_count": 9,
   "id": "c8788a90",
   "metadata": {},
   "outputs": [
    {
     "data": {
      "text/html": [
       "\n",
       "    \n",
       "    <style type=\"text/css\">\n",
       "        .Relation{\n",
       "            border-collapse:collapse;\n",
       "        }\n",
       "        .Relation th{\n",
       "            background: #A0A0A0; color: #ffffff; padding:4px; border:#f0e0e0 1px solid;\n",
       "            font-weight: normal; font-family: monospace; font-size: 100%;\n",
       "        }\n",
       "        .Relation td{\n",
       "            padding:4px; border:#f0e0e0 1px solid; font-size:100%;\n",
       "        }\n",
       "        .Relation tr:nth-child(odd){\n",
       "            background: #ffffff;\n",
       "        }\n",
       "        .Relation tr:nth-child(even){\n",
       "            background: #f3f1ff;\n",
       "        }\n",
       "        /* Tooltip container */\n",
       "        .djtooltip {\n",
       "        }\n",
       "        /* Tooltip text */\n",
       "        .djtooltip .djtooltiptext {\n",
       "            visibility: hidden;\n",
       "            width: 120px;\n",
       "            background-color: black;\n",
       "            color: #fff;\n",
       "            text-align: center;\n",
       "            padding: 5px 0;\n",
       "            border-radius: 6px;\n",
       "            /* Position the tooltip text - see examples below! */\n",
       "            position: absolute;\n",
       "            z-index: 1;\n",
       "        }\n",
       "        #primary {\n",
       "            font-weight: bold;\n",
       "            color: black;\n",
       "        }\n",
       "        #nonprimary {\n",
       "            font-weight: normal;\n",
       "            color: white;\n",
       "        }\n",
       "\n",
       "        /* Show the tooltip text when you mouse over the tooltip container */\n",
       "        .djtooltip:hover .djtooltiptext {\n",
       "            visibility: visible;\n",
       "        }\n",
       "    </style>\n",
       "    \n",
       "    <b></b>\n",
       "        <div style=\"max-height:1000px;max-width:1500px;overflow:auto;\">\n",
       "        <table border=\"1\" class=\"Relation\">\n",
       "            <thead> <tr style=\"text-align: right;\"> <th> <div class=\"djtooltip\">\n",
       "                            <p id=\"primary\">person_id</p>\n",
       "                            <span class=\"djtooltiptext\"></span>\n",
       "                        </div></th><th><div class=\"djtooltip\">\n",
       "                            <p id=\"nonprimary\">retirement_date</p>\n",
       "                            <span class=\"djtooltiptext\"></span>\n",
       "                        </div> </th> </tr> </thead>\n",
       "            <tbody> <tr>  </tr> </tbody>\n",
       "        </table>\n",
       "        \n",
       "        <p>Total: 0</p></div>\n",
       "        "
      ],
      "text/plain": [
       "*person_id    retirement_dat\n",
       "+-----------+ +------------+\n",
       "\n",
       " (Total: 0)"
      ]
     },
     "execution_count": 9,
     "metadata": {},
     "output_type": "execute_result"
    }
   ],
   "source": [
    "Retirement()"
   ]
  },
  {
   "cell_type": "code",
   "execution_count": 10,
   "id": "33778ff0",
   "metadata": {},
   "outputs": [
    {
     "name": "stdout",
     "output_type": "stream",
     "text": [
      "`dimitri_language`.`#title` (7 tuples)\n",
      "`dimitri_language`.`person` (3 tuples)\n",
      "`dimitri_language`.`language_skill` (4 tuples)\n",
      "`dimitri_language`.`retirement` (0 tuples)\n",
      "Proceed? [yes, No]: \n"
     ]
    }
   ],
   "source": [
    "Title.drop()"
   ]
  },
  {
   "cell_type": "code",
   "execution_count": 11,
   "id": "681e2284",
   "metadata": {},
   "outputs": [
    {
     "data": {
      "image/svg+xml": [
       "<svg xmlns=\"http://www.w3.org/2000/svg\" xmlns:xlink=\"http://www.w3.org/1999/xlink\" width=\"304pt\" height=\"185pt\" viewBox=\"0.00 0.00 303.50 185.00\">\n",
       "<g id=\"graph0\" class=\"graph\" transform=\"scale(1 1) rotate(0) translate(4 181)\">\n",
       "<polygon fill=\"white\" stroke=\"none\" points=\"-4,4 -4,-181 299.5,-181 299.5,4 -4,4\"/>\n",
       "<!-- `dimitri_language`.`language_skill` -->\n",
       "<g id=\"node1\" class=\"node\">\n",
       "<title>`dimitri_language`.`language_skill`</title>\n",
       "<polygon fill=\"#00ff00\" fill-opacity=\"0.188235\" stroke=\"#00ff00\" stroke-opacity=\"0.188235\" points=\"202,-35 0,-35 0,0 202,0 202,-35\"/>\n",
       "<text text-anchor=\"middle\" x=\"101\" y=\"-14.4\" font-family=\"arial\" font-size=\"12.00\" fill=\"darkgreen\">`dimitri_language`.`language_skill`</text>\n",
       "</g>\n",
       "<!-- `dimitri_language`.`#language` -->\n",
       "<g id=\"node2\" class=\"node\">\n",
       "<title>`dimitri_language`.`#language`</title>\n",
       "<polygon fill=\"#000000\" fill-opacity=\"0.125490\" stroke=\"none\" points=\"174,-106 28,-106 28,-71 174,-71 174,-106\"/>\n",
       "<text text-anchor=\"start\" x=\"36\" y=\"-87\" font-family=\"arial\" text-decoration=\"underline\" font-size=\"10.00\">`dimitri_language`.`#language`</text>\n",
       "</g>\n",
       "<!-- `dimitri_language`.`#language`&#45;&gt;`dimitri_language`.`language_skill` -->\n",
       "<g id=\"edge1\" class=\"edge\">\n",
       "<title>`dimitri_language`.`#language`-&gt;`dimitri_language`.`language_skill`</title>\n",
       "<path fill=\"none\" stroke=\"#000000\" stroke-width=\"0.75\" stroke-opacity=\"0.250980\" d=\"M101,-70.8C101,-59.95 101,-45.87 101,-35.05\"/>\n",
       "</g>\n",
       "<!-- Retirement -->\n",
       "<g id=\"node3\" class=\"node\">\n",
       "<title>Retirement</title>\n",
       "<g id=\"a_node3\"><a xlink:title=\"→ Person\r",
       "------------------------------\r",
       "retirement_date      \r",
       "\">\n",
       "<polygon fill=\"#00ff00\" fill-opacity=\"0.188235\" stroke=\"#00ff00\" stroke-opacity=\"0.188235\" points=\"295.5,-35 220.5,-35 220.5,0 295.5,0 295.5,-35\"/>\n",
       "<text text-anchor=\"middle\" x=\"258\" y=\"-14.4\" font-family=\"arial\" font-size=\"12.00\" fill=\"darkgreen\">Retirement</text>\n",
       "</a>\n",
       "</g>\n",
       "</g>\n",
       "<!-- Person -->\n",
       "<g id=\"node4\" class=\"node\">\n",
       "<title>Person</title>\n",
       "<g id=\"a_node4\"><a xlink:title=\"person_id            \r",
       "------------------------------\r",
       "first_name           \r",
       "last_name            \r",
       "→ Title\r",
       "\">\n",
       "<polygon fill=\"#00ff00\" fill-opacity=\"0.188235\" stroke=\"#00ff00\" stroke-opacity=\"0.188235\" points=\"266.5,-106 211.5,-106 211.5,-71 266.5,-71 266.5,-106\"/>\n",
       "<text text-anchor=\"start\" x=\"219.5\" y=\"-86.4\" font-family=\"arial\" text-decoration=\"underline\" font-size=\"12.00\" fill=\"darkgreen\">Person</text>\n",
       "</a>\n",
       "</g>\n",
       "</g>\n",
       "<!-- Person&#45;&gt;`dimitri_language`.`language_skill` -->\n",
       "<g id=\"edge2\" class=\"edge\">\n",
       "<title>Person-&gt;`dimitri_language`.`language_skill`</title>\n",
       "<path fill=\"none\" stroke=\"#000000\" stroke-width=\"0.75\" stroke-opacity=\"0.250980\" d=\"M211.41,-73.7C189.15,-62.57 157.76,-46.88 134.14,-35.07\"/>\n",
       "</g>\n",
       "<!-- Person&#45;&gt;Retirement -->\n",
       "<g id=\"edge3\" class=\"edge\">\n",
       "<title>Person-&gt;Retirement</title>\n",
       "<path fill=\"none\" stroke=\"#000000\" stroke-width=\"2\" stroke-opacity=\"0.250980\" d=\"M243.6,-70.8C246.59,-59.95 250.46,-45.87 253.44,-35.05\"/>\n",
       "</g>\n",
       "<!-- Title -->\n",
       "<g id=\"node5\" class=\"node\">\n",
       "<title>Title</title>\n",
       "<g id=\"a_node5\"><a xlink:title=\"title_code           \r",
       "------------------------------\r",
       "full_title           \r",
       "\">\n",
       "<polygon fill=\"#000000\" fill-opacity=\"0.125490\" stroke=\"none\" points=\"256.5,-177 221.5,-177 221.5,-142 256.5,-142 256.5,-177\"/>\n",
       "<text text-anchor=\"start\" x=\"229.5\" y=\"-158\" font-family=\"arial\" text-decoration=\"underline\" font-size=\"10.00\">Title</text>\n",
       "</a>\n",
       "</g>\n",
       "</g>\n",
       "<!-- Title&#45;&gt;Person -->\n",
       "<g id=\"edge4\" class=\"edge\">\n",
       "<title>Title-&gt;Person</title>\n",
       "<path fill=\"none\" stroke=\"#000000\" stroke-width=\"0.75\" stroke-dasharray=\"5,2\" stroke-opacity=\"0.250980\" d=\"M239,-141.8C239,-130.95 239,-116.87 239,-106.05\"/>\n",
       "</g>\n",
       "</g>\n",
       "</svg>"
      ],
      "text/plain": [
       "<datajoint.diagram.Diagram at 0x7fe0d0870fa0>"
      ]
     },
     "execution_count": 11,
     "metadata": {},
     "output_type": "execute_result"
    }
   ],
   "source": [
    "dj.Diagram(schema)"
   ]
  },
  {
   "cell_type": "code",
   "execution_count": 12,
   "id": "88580458",
   "metadata": {},
   "outputs": [],
   "source": [
    "@schema \n",
    "class Language(dj.Lookup):\n",
    "    definition = \"\"\"\n",
    "    lang_code  : char(8)\n",
    "    ---\n",
    "    language : varchar(20)\n",
    "    \"\"\"\n",
    "    \n",
    "    contents = [\n",
    "        (\"Eng\", \"English\"),\n",
    "        (\"Nav\", \"Navajo\"),\n",
    "        (\"Fr\", \"French\"),\n",
    "        (\"It\", \"Italian\")        \n",
    "    ]"
   ]
  },
  {
   "cell_type": "code",
   "execution_count": 13,
   "id": "73ce2a96",
   "metadata": {},
   "outputs": [
    {
     "data": {
      "text/html": [
       "\n",
       "    \n",
       "    <style type=\"text/css\">\n",
       "        .Relation{\n",
       "            border-collapse:collapse;\n",
       "        }\n",
       "        .Relation th{\n",
       "            background: #A0A0A0; color: #ffffff; padding:4px; border:#f0e0e0 1px solid;\n",
       "            font-weight: normal; font-family: monospace; font-size: 100%;\n",
       "        }\n",
       "        .Relation td{\n",
       "            padding:4px; border:#f0e0e0 1px solid; font-size:100%;\n",
       "        }\n",
       "        .Relation tr:nth-child(odd){\n",
       "            background: #ffffff;\n",
       "        }\n",
       "        .Relation tr:nth-child(even){\n",
       "            background: #f3f1ff;\n",
       "        }\n",
       "        /* Tooltip container */\n",
       "        .djtooltip {\n",
       "        }\n",
       "        /* Tooltip text */\n",
       "        .djtooltip .djtooltiptext {\n",
       "            visibility: hidden;\n",
       "            width: 120px;\n",
       "            background-color: black;\n",
       "            color: #fff;\n",
       "            text-align: center;\n",
       "            padding: 5px 0;\n",
       "            border-radius: 6px;\n",
       "            /* Position the tooltip text - see examples below! */\n",
       "            position: absolute;\n",
       "            z-index: 1;\n",
       "        }\n",
       "        #primary {\n",
       "            font-weight: bold;\n",
       "            color: black;\n",
       "        }\n",
       "        #nonprimary {\n",
       "            font-weight: normal;\n",
       "            color: white;\n",
       "        }\n",
       "\n",
       "        /* Show the tooltip text when you mouse over the tooltip container */\n",
       "        .djtooltip:hover .djtooltiptext {\n",
       "            visibility: visible;\n",
       "        }\n",
       "    </style>\n",
       "    \n",
       "    <b></b>\n",
       "        <div style=\"max-height:1000px;max-width:1500px;overflow:auto;\">\n",
       "        <table border=\"1\" class=\"Relation\">\n",
       "            <thead> <tr style=\"text-align: right;\"> <th> <div class=\"djtooltip\">\n",
       "                            <p id=\"primary\">lang_code</p>\n",
       "                            <span class=\"djtooltiptext\"></span>\n",
       "                        </div></th><th><div class=\"djtooltip\">\n",
       "                            <p id=\"nonprimary\">language</p>\n",
       "                            <span class=\"djtooltiptext\"></span>\n",
       "                        </div> </th> </tr> </thead>\n",
       "            <tbody> <tr> <td>Eng</td>\n",
       "<td>English</td></tr><tr><td>Fr</td>\n",
       "<td>French</td></tr><tr><td>It</td>\n",
       "<td>Italian</td></tr><tr><td>Nav</td>\n",
       "<td>Navajo</td> </tr> </tbody>\n",
       "        </table>\n",
       "        \n",
       "        <p>Total: 4</p></div>\n",
       "        "
      ],
      "text/plain": [
       "*lang_code    language    \n",
       "+-----------+ +----------+\n",
       "Eng           English     \n",
       "Fr            French      \n",
       "It            Italian     \n",
       "Nav           Navajo      \n",
       " (Total: 4)"
      ]
     },
     "execution_count": 13,
     "metadata": {},
     "output_type": "execute_result"
    }
   ],
   "source": [
    "Language()"
   ]
  },
  {
   "cell_type": "code",
   "execution_count": 14,
   "id": "38d38176",
   "metadata": {},
   "outputs": [
    {
     "data": {
      "image/svg+xml": [
       "<svg xmlns=\"http://www.w3.org/2000/svg\" xmlns:xlink=\"http://www.w3.org/1999/xlink\" width=\"304pt\" height=\"185pt\" viewBox=\"0.00 0.00 303.50 185.00\">\n",
       "<g id=\"graph0\" class=\"graph\" transform=\"scale(1 1) rotate(0) translate(4 181)\">\n",
       "<polygon fill=\"white\" stroke=\"none\" points=\"-4,4 -4,-181 299.5,-181 299.5,4 -4,4\"/>\n",
       "<!-- `dimitri_language`.`language_skill` -->\n",
       "<g id=\"node1\" class=\"node\">\n",
       "<title>`dimitri_language`.`language_skill`</title>\n",
       "<polygon fill=\"#00ff00\" fill-opacity=\"0.188235\" stroke=\"#00ff00\" stroke-opacity=\"0.188235\" points=\"202,-35 0,-35 0,0 202,0 202,-35\"/>\n",
       "<text text-anchor=\"middle\" x=\"101\" y=\"-14.4\" font-family=\"arial\" font-size=\"12.00\" fill=\"darkgreen\">`dimitri_language`.`language_skill`</text>\n",
       "</g>\n",
       "<!-- Language -->\n",
       "<g id=\"node2\" class=\"node\">\n",
       "<title>Language</title>\n",
       "<g id=\"a_node2\"><a xlink:title=\"lang_code            \r",
       "------------------------------\r",
       "language             \r",
       "\">\n",
       "<polygon fill=\"#000000\" fill-opacity=\"0.125490\" stroke=\"none\" points=\"130.5,-106 71.5,-106 71.5,-71 130.5,-71 130.5,-106\"/>\n",
       "<text text-anchor=\"start\" x=\"79.5\" y=\"-87\" font-family=\"arial\" text-decoration=\"underline\" font-size=\"10.00\">Language</text>\n",
       "</a>\n",
       "</g>\n",
       "</g>\n",
       "<!-- Language&#45;&gt;`dimitri_language`.`language_skill` -->\n",
       "<g id=\"edge1\" class=\"edge\">\n",
       "<title>Language-&gt;`dimitri_language`.`language_skill`</title>\n",
       "<path fill=\"none\" stroke=\"#000000\" stroke-width=\"0.75\" stroke-opacity=\"0.250980\" d=\"M101,-70.8C101,-59.95 101,-45.87 101,-35.05\"/>\n",
       "</g>\n",
       "<!-- Retirement -->\n",
       "<g id=\"node3\" class=\"node\">\n",
       "<title>Retirement</title>\n",
       "<g id=\"a_node3\"><a xlink:title=\"→ Person\r",
       "------------------------------\r",
       "retirement_date      \r",
       "\">\n",
       "<polygon fill=\"#00ff00\" fill-opacity=\"0.188235\" stroke=\"#00ff00\" stroke-opacity=\"0.188235\" points=\"295.5,-35 220.5,-35 220.5,0 295.5,0 295.5,-35\"/>\n",
       "<text text-anchor=\"middle\" x=\"258\" y=\"-14.4\" font-family=\"arial\" font-size=\"12.00\" fill=\"darkgreen\">Retirement</text>\n",
       "</a>\n",
       "</g>\n",
       "</g>\n",
       "<!-- Person -->\n",
       "<g id=\"node4\" class=\"node\">\n",
       "<title>Person</title>\n",
       "<g id=\"a_node4\"><a xlink:title=\"person_id            \r",
       "------------------------------\r",
       "first_name           \r",
       "last_name            \r",
       "→ Title\r",
       "\">\n",
       "<polygon fill=\"#00ff00\" fill-opacity=\"0.188235\" stroke=\"#00ff00\" stroke-opacity=\"0.188235\" points=\"244.5,-106 189.5,-106 189.5,-71 244.5,-71 244.5,-106\"/>\n",
       "<text text-anchor=\"start\" x=\"197.5\" y=\"-86.4\" font-family=\"arial\" text-decoration=\"underline\" font-size=\"12.00\" fill=\"darkgreen\">Person</text>\n",
       "</a>\n",
       "</g>\n",
       "</g>\n",
       "<!-- Person&#45;&gt;`dimitri_language`.`language_skill` -->\n",
       "<g id=\"edge2\" class=\"edge\">\n",
       "<title>Person-&gt;`dimitri_language`.`language_skill`</title>\n",
       "<path fill=\"none\" stroke=\"#000000\" stroke-width=\"0.75\" stroke-opacity=\"0.250980\" d=\"M189.22,-70.97C170.98,-60.13 147.23,-46 128.96,-35.13\"/>\n",
       "</g>\n",
       "<!-- Person&#45;&gt;Retirement -->\n",
       "<g id=\"edge3\" class=\"edge\">\n",
       "<title>Person-&gt;Retirement</title>\n",
       "<path fill=\"none\" stroke=\"#000000\" stroke-width=\"2\" stroke-opacity=\"0.250980\" d=\"M226.92,-70.8C233.37,-59.95 241.74,-45.87 248.17,-35.05\"/>\n",
       "</g>\n",
       "<!-- Title -->\n",
       "<g id=\"node5\" class=\"node\">\n",
       "<title>Title</title>\n",
       "<g id=\"a_node5\"><a xlink:title=\"title_code           \r",
       "------------------------------\r",
       "full_title           \r",
       "\">\n",
       "<polygon fill=\"#000000\" fill-opacity=\"0.125490\" stroke=\"none\" points=\"234.5,-177 199.5,-177 199.5,-142 234.5,-142 234.5,-177\"/>\n",
       "<text text-anchor=\"start\" x=\"207.5\" y=\"-158\" font-family=\"arial\" text-decoration=\"underline\" font-size=\"10.00\">Title</text>\n",
       "</a>\n",
       "</g>\n",
       "</g>\n",
       "<!-- Title&#45;&gt;Person -->\n",
       "<g id=\"edge4\" class=\"edge\">\n",
       "<title>Title-&gt;Person</title>\n",
       "<path fill=\"none\" stroke=\"#000000\" stroke-width=\"0.75\" stroke-dasharray=\"5,2\" stroke-opacity=\"0.250980\" d=\"M217,-141.8C217,-130.95 217,-116.87 217,-106.05\"/>\n",
       "</g>\n",
       "</g>\n",
       "</svg>"
      ],
      "text/plain": [
       "<datajoint.diagram.Diagram at 0x7fe0d080beb0>"
      ]
     },
     "execution_count": 14,
     "metadata": {},
     "output_type": "execute_result"
    }
   ],
   "source": [
    "dj.Diagram(schema)"
   ]
  },
  {
   "cell_type": "code",
   "execution_count": 15,
   "id": "3407659e",
   "metadata": {},
   "outputs": [],
   "source": [
    "@schema\n",
    "class LanguageSkill(dj.Manual):\n",
    "    definition = \"\"\"\n",
    "    -> Person\n",
    "    -> Language\n",
    "    ---\n",
    "    skill_level  : enum(\"beginner\", \"intermediate\", \"fluent\", \"native\")\n",
    "    \"\"\""
   ]
  },
  {
   "cell_type": "code",
   "execution_count": 16,
   "id": "4876ef2a",
   "metadata": {},
   "outputs": [
    {
     "data": {
      "text/html": [
       "\n",
       "    \n",
       "    <style type=\"text/css\">\n",
       "        .Relation{\n",
       "            border-collapse:collapse;\n",
       "        }\n",
       "        .Relation th{\n",
       "            background: #A0A0A0; color: #ffffff; padding:4px; border:#f0e0e0 1px solid;\n",
       "            font-weight: normal; font-family: monospace; font-size: 100%;\n",
       "        }\n",
       "        .Relation td{\n",
       "            padding:4px; border:#f0e0e0 1px solid; font-size:100%;\n",
       "        }\n",
       "        .Relation tr:nth-child(odd){\n",
       "            background: #ffffff;\n",
       "        }\n",
       "        .Relation tr:nth-child(even){\n",
       "            background: #f3f1ff;\n",
       "        }\n",
       "        /* Tooltip container */\n",
       "        .djtooltip {\n",
       "        }\n",
       "        /* Tooltip text */\n",
       "        .djtooltip .djtooltiptext {\n",
       "            visibility: hidden;\n",
       "            width: 120px;\n",
       "            background-color: black;\n",
       "            color: #fff;\n",
       "            text-align: center;\n",
       "            padding: 5px 0;\n",
       "            border-radius: 6px;\n",
       "            /* Position the tooltip text - see examples below! */\n",
       "            position: absolute;\n",
       "            z-index: 1;\n",
       "        }\n",
       "        #primary {\n",
       "            font-weight: bold;\n",
       "            color: black;\n",
       "        }\n",
       "        #nonprimary {\n",
       "            font-weight: normal;\n",
       "            color: white;\n",
       "        }\n",
       "\n",
       "        /* Show the tooltip text when you mouse over the tooltip container */\n",
       "        .djtooltip:hover .djtooltiptext {\n",
       "            visibility: visible;\n",
       "        }\n",
       "    </style>\n",
       "    \n",
       "    <b></b>\n",
       "        <div style=\"max-height:1000px;max-width:1500px;overflow:auto;\">\n",
       "        <table border=\"1\" class=\"Relation\">\n",
       "            <thead> <tr style=\"text-align: right;\"> <th> <div class=\"djtooltip\">\n",
       "                            <p id=\"primary\">person_id</p>\n",
       "                            <span class=\"djtooltiptext\"></span>\n",
       "                        </div></th><th><div class=\"djtooltip\">\n",
       "                            <p id=\"nonprimary\">first_name</p>\n",
       "                            <span class=\"djtooltiptext\"></span>\n",
       "                        </div></th><th><div class=\"djtooltip\">\n",
       "                            <p id=\"nonprimary\">last_name</p>\n",
       "                            <span class=\"djtooltiptext\"></span>\n",
       "                        </div></th><th><div class=\"djtooltip\">\n",
       "                            <p id=\"nonprimary\">title_code</p>\n",
       "                            <span class=\"djtooltiptext\"></span>\n",
       "                        </div> </th> </tr> </thead>\n",
       "            <tbody> <tr> <td>1</td>\n",
       "<td>Jane</td>\n",
       "<td>Doe</td>\n",
       "<td>HR-Mgr</td></tr><tr><td>2</td>\n",
       "<td>Jane</td>\n",
       "<td>Doe</td>\n",
       "<td>HR-Mgr</td></tr><tr><td>3</td>\n",
       "<td>Johnny</td>\n",
       "<td>Cash</td>\n",
       "<td>Web-Dev3</td> </tr> </tbody>\n",
       "        </table>\n",
       "        \n",
       "        <p>Total: 3</p></div>\n",
       "        "
      ],
      "text/plain": [
       "*person_id    first_name     last_name     title_code    \n",
       "+-----------+ +------------+ +-----------+ +------------+\n",
       "1             Jane           Doe           HR-Mgr        \n",
       "2             Jane           Doe           HR-Mgr        \n",
       "3             Johnny         Cash          Web-Dev3      \n",
       " (Total: 3)"
      ]
     },
     "execution_count": 16,
     "metadata": {},
     "output_type": "execute_result"
    }
   ],
   "source": [
    "Person()"
   ]
  },
  {
   "cell_type": "code",
   "execution_count": 17,
   "id": "631eff19",
   "metadata": {},
   "outputs": [
    {
     "data": {
      "image/svg+xml": [
       "<svg xmlns=\"http://www.w3.org/2000/svg\" xmlns:xlink=\"http://www.w3.org/1999/xlink\" width=\"196pt\" height=\"185pt\" viewBox=\"0.00 0.00 195.50 185.00\">\n",
       "<g id=\"graph0\" class=\"graph\" transform=\"scale(1 1) rotate(0) translate(4 181)\">\n",
       "<polygon fill=\"white\" stroke=\"none\" points=\"-4,4 -4,-181 191.5,-181 191.5,4 -4,4\"/>\n",
       "<!-- Language -->\n",
       "<g id=\"node1\" class=\"node\">\n",
       "<title>Language</title>\n",
       "<g id=\"a_node1\"><a xlink:title=\"lang_code            \r",
       "------------------------------\r",
       "language             \r",
       "\">\n",
       "<polygon fill=\"#000000\" fill-opacity=\"0.125490\" stroke=\"none\" points=\"76.5,-106 17.5,-106 17.5,-71 76.5,-71 76.5,-106\"/>\n",
       "<text text-anchor=\"start\" x=\"25.5\" y=\"-87\" font-family=\"arial\" text-decoration=\"underline\" font-size=\"10.00\">Language</text>\n",
       "</a>\n",
       "</g>\n",
       "</g>\n",
       "<!-- LanguageSkill -->\n",
       "<g id=\"node4\" class=\"node\">\n",
       "<title>LanguageSkill</title>\n",
       "<g id=\"a_node4\"><a xlink:title=\"→ Person\r",
       "→ Language\r",
       "------------------------------\r",
       "skill_level          \r",
       "\">\n",
       "<polygon fill=\"#00ff00\" fill-opacity=\"0.188235\" stroke=\"#00ff00\" stroke-opacity=\"0.188235\" points=\"94,-35 0,-35 0,0 94,0 94,-35\"/>\n",
       "<text text-anchor=\"middle\" x=\"47\" y=\"-14.4\" font-family=\"arial\" font-size=\"12.00\" fill=\"darkgreen\">LanguageSkill</text>\n",
       "</a>\n",
       "</g>\n",
       "</g>\n",
       "<!-- Language&#45;&gt;LanguageSkill -->\n",
       "<g id=\"edge1\" class=\"edge\">\n",
       "<title>Language-&gt;LanguageSkill</title>\n",
       "<path fill=\"none\" stroke=\"#000000\" stroke-width=\"0.75\" stroke-opacity=\"0.250980\" d=\"M47,-70.8C47,-59.95 47,-45.87 47,-35.05\"/>\n",
       "</g>\n",
       "<!-- Title -->\n",
       "<g id=\"node2\" class=\"node\">\n",
       "<title>Title</title>\n",
       "<g id=\"a_node2\"><a xlink:title=\"title_code           \r",
       "------------------------------\r",
       "full_title           \r",
       "\">\n",
       "<polygon fill=\"#000000\" fill-opacity=\"0.125490\" stroke=\"none\" points=\"153.5,-177 118.5,-177 118.5,-142 153.5,-142 153.5,-177\"/>\n",
       "<text text-anchor=\"start\" x=\"126.5\" y=\"-158\" font-family=\"arial\" text-decoration=\"underline\" font-size=\"10.00\">Title</text>\n",
       "</a>\n",
       "</g>\n",
       "</g>\n",
       "<!-- Person -->\n",
       "<g id=\"node5\" class=\"node\">\n",
       "<title>Person</title>\n",
       "<g id=\"a_node5\"><a xlink:title=\"person_id            \r",
       "------------------------------\r",
       "first_name           \r",
       "last_name            \r",
       "→ Title\r",
       "\">\n",
       "<polygon fill=\"#00ff00\" fill-opacity=\"0.188235\" stroke=\"#00ff00\" stroke-opacity=\"0.188235\" points=\"163.5,-106 108.5,-106 108.5,-71 163.5,-71 163.5,-106\"/>\n",
       "<text text-anchor=\"start\" x=\"116.5\" y=\"-86.4\" font-family=\"arial\" text-decoration=\"underline\" font-size=\"12.00\" fill=\"darkgreen\">Person</text>\n",
       "</a>\n",
       "</g>\n",
       "</g>\n",
       "<!-- Title&#45;&gt;Person -->\n",
       "<g id=\"edge2\" class=\"edge\">\n",
       "<title>Title-&gt;Person</title>\n",
       "<path fill=\"none\" stroke=\"#000000\" stroke-width=\"0.75\" stroke-dasharray=\"5,2\" stroke-opacity=\"0.250980\" d=\"M136,-141.8C136,-130.95 136,-116.87 136,-106.05\"/>\n",
       "</g>\n",
       "<!-- Retirement -->\n",
       "<g id=\"node3\" class=\"node\">\n",
       "<title>Retirement</title>\n",
       "<g id=\"a_node3\"><a xlink:title=\"→ Person\r",
       "------------------------------\r",
       "retirement_date      \r",
       "\">\n",
       "<polygon fill=\"#00ff00\" fill-opacity=\"0.188235\" stroke=\"#00ff00\" stroke-opacity=\"0.188235\" points=\"187.5,-35 112.5,-35 112.5,0 187.5,0 187.5,-35\"/>\n",
       "<text text-anchor=\"middle\" x=\"150\" y=\"-14.4\" font-family=\"arial\" font-size=\"12.00\" fill=\"darkgreen\">Retirement</text>\n",
       "</a>\n",
       "</g>\n",
       "</g>\n",
       "<!-- Person&#45;&gt;Retirement -->\n",
       "<g id=\"edge3\" class=\"edge\">\n",
       "<title>Person-&gt;Retirement</title>\n",
       "<path fill=\"none\" stroke=\"#000000\" stroke-width=\"2\" stroke-opacity=\"0.250980\" d=\"M139.39,-70.8C141.59,-59.95 144.45,-45.87 146.64,-35.05\"/>\n",
       "</g>\n",
       "<!-- Person&#45;&gt;LanguageSkill -->\n",
       "<g id=\"edge4\" class=\"edge\">\n",
       "<title>Person-&gt;LanguageSkill</title>\n",
       "<path fill=\"none\" stroke=\"#000000\" stroke-width=\"0.75\" stroke-opacity=\"0.250980\" d=\"M114.46,-70.8C100.46,-59.95 82.3,-45.87 68.35,-35.05\"/>\n",
       "</g>\n",
       "</g>\n",
       "</svg>"
      ],
      "text/plain": [
       "<datajoint.diagram.Diagram at 0x7fe0d0829600>"
      ]
     },
     "execution_count": 17,
     "metadata": {},
     "output_type": "execute_result"
    }
   ],
   "source": [
    "dj.Diagram(schema)"
   ]
  },
  {
   "cell_type": "code",
   "execution_count": null,
   "id": "2f885e33",
   "metadata": {},
   "outputs": [],
   "source": [
    "LanguageSkill.insert1((1, \"Eng\", \"native\"))"
   ]
  },
  {
   "cell_type": "code",
   "execution_count": null,
   "id": "58cba7b6",
   "metadata": {},
   "outputs": [],
   "source": [
    "LanguageSkill.insert1((1, \"It\", \"native\"))"
   ]
  },
  {
   "cell_type": "code",
   "execution_count": null,
   "id": "69de8e8e",
   "metadata": {},
   "outputs": [],
   "source": [
    "LanguageSkill()"
   ]
  },
  {
   "cell_type": "code",
   "execution_count": null,
   "id": "7bd389d4",
   "metadata": {},
   "outputs": [],
   "source": [
    "LanguageSkill.insert1((2, \"Eng\", \"native\"))\n"
   ]
  },
  {
   "cell_type": "code",
   "execution_count": null,
   "id": "bf84fc9b",
   "metadata": {},
   "outputs": [],
   "source": [
    "LanguageSkill.insert1((2, \"Fr\", \"intermediate\"))"
   ]
  },
  {
   "cell_type": "code",
   "execution_count": null,
   "id": "b0ab72bc",
   "metadata": {},
   "outputs": [],
   "source": [
    "LanguageSkill()"
   ]
  },
  {
   "cell_type": "markdown",
   "id": "64cb7d74",
   "metadata": {},
   "source": [
    "# Now in SQL"
   ]
  },
  {
   "cell_type": "code",
   "execution_count": null,
   "id": "1e0e5874",
   "metadata": {},
   "outputs": [],
   "source": [
    "# prepare SQL Magic\n",
    "import json\n",
    "with open('cred.json') as f:\n",
    "    creds = json.load(f)\n",
    "    \n",
    "connection_string = \"mysql://{user}:{password}@{host}\".format(**creds)\n",
    "\n",
    "import pymysql \n",
    "pymysql.install_as_MySQLdb()"
   ]
  },
  {
   "cell_type": "code",
   "execution_count": null,
   "id": "7aa1659e",
   "metadata": {},
   "outputs": [],
   "source": [
    "%load_ext sql\n",
    "%config SqlMagic.autocommit=True"
   ]
  },
  {
   "cell_type": "code",
   "execution_count": null,
   "id": "8b388190",
   "metadata": {},
   "outputs": [],
   "source": [
    "%sql $connection_string"
   ]
  },
  {
   "cell_type": "code",
   "execution_count": null,
   "id": "84b2ff21",
   "metadata": {},
   "outputs": [],
   "source": [
    "%%sql\n",
    "\n",
    "CREATE SCHEMA dimitri_language2;"
   ]
  },
  {
   "cell_type": "code",
   "execution_count": null,
   "id": "8096540c",
   "metadata": {},
   "outputs": [],
   "source": [
    "%%sql\n",
    "\n",
    "CREATE TABLE dimitri_language2.title ( \n",
    "    title_code  char(8) NOT NULL,\n",
    "    full_title varchar(120) NOT NULL,\n",
    "    PRIMARY KEY (title_code))"
   ]
  },
  {
   "cell_type": "code",
   "execution_count": null,
   "id": "4115d488",
   "metadata": {},
   "outputs": [],
   "source": [
    "%%sql\n",
    "\n",
    "CREATE TABLE dimitri_language2.person (\n",
    "    person_id INT NOT NULL,  \n",
    "    first_name varchar(30) NOT NULL,\n",
    "    last_name varchar(30) NOT NULL,\n",
    "    title_code  char(8) NOT NULL,\n",
    "    PRIMARY KEY(person_id),\n",
    "    FOREIGN KEY (title_code) REFERENCES dimitri_language2.title(title_code))"
   ]
  },
  {
   "cell_type": "code",
   "execution_count": null,
   "id": "d05fa31c",
   "metadata": {},
   "outputs": [],
   "source": [
    "%%sql\n",
    "\n",
    "CREATE TABLE dimitri_language2.language (    \n",
    "    lang_code char(8) NOT NULL,\n",
    "    language  varchar(20) NOT NULL,\n",
    "    PRIMARY KEY(lang_code)\n",
    ")\n"
   ]
  },
  {
   "cell_type": "code",
   "execution_count": null,
   "id": "ea030e9a",
   "metadata": {},
   "outputs": [],
   "source": [
    "%%sql\n",
    "\n",
    "\n",
    "CREATE TABLE dimitri_language2.language_skill (    \n",
    "    person_id int NOT NULL,\n",
    "    lang_code char(8) NOT NULL,\n",
    "    skill_level enum(\"beginner\", \"intermediate\", \"fluent\", \"native\"),\n",
    "    PRIMARY KEY(person_id, lang_code),\n",
    "    FOREIGN KEY(person_id) REFERENCES dimitri_language2.person (person_id), \n",
    "    FOREIGN KEY(lang_code) REFERENCES dimitri_language2.language (lang_code)\n",
    ")"
   ]
  },
  {
   "cell_type": "code",
   "execution_count": null,
   "id": "99476c4a",
   "metadata": {},
   "outputs": [],
   "source": []
  }
 ],
 "metadata": {
  "kernelspec": {
   "display_name": "benv",
   "language": "python",
   "name": "benv"
  },
  "language_info": {
   "codemirror_mode": {
    "name": "ipython",
    "version": 3
   },
   "file_extension": ".py",
   "mimetype": "text/x-python",
   "name": "python",
   "nbconvert_exporter": "python",
   "pygments_lexer": "ipython3",
   "version": "3.10.4"
  }
 },
 "nbformat": 4,
 "nbformat_minor": 5
}

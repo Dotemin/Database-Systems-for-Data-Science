{
 "cells": [
  {
   "cell_type": "markdown",
   "metadata": {},
   "source": [
    "# Enrollment database\n"
   ]
  },
  {
   "cell_type": "markdown",
   "metadata": {},
   "source": [
    "## Connect to the database server\n",
    "Using SQL magic"
   ]
  },
  {
   "cell_type": "code",
   "execution_count": null,
   "metadata": {},
   "outputs": [],
   "source": [
    "import json\n",
    "import pymysql \n",
    "\n",
    "pymysql.install_as_MySQLdb()\n",
    "\n",
    "with open('cred.json') as f:\n",
    "    creds = json.load(f)\n",
    "\n",
    "connection_string = \"mysql://{user}:{password}@{host}\".format(**creds)"
   ]
  },
  {
   "cell_type": "code",
   "execution_count": null,
   "metadata": {},
   "outputs": [],
   "source": [
    "%load_ext sql\n",
    "%config SqlMagic.autocommit=True\n",
    "%sql $connection_string"
   ]
  },
  {
   "cell_type": "code",
   "execution_count": null,
   "metadata": {},
   "outputs": [],
   "source": [
    "%%sql\n",
    "\n",
    "create database if not exists dimitri_enroll;"
   ]
  },
  {
   "cell_type": "code",
   "execution_count": null,
   "metadata": {},
   "outputs": [],
   "source": [
    "%%sql\n",
    "\n",
    "use dimitri_enroll;\n",
    "\n",
    "show tables;"
   ]
  },
  {
   "cell_type": "code",
   "execution_count": null,
   "metadata": {},
   "outputs": [],
   "source": [
    "%%sql\n",
    "\n",
    "create table Person (\n",
    "    person_id int unsigned not null,\n",
    "    name varchar(30) not null,\n",
    "    major varchar(30),\n",
    "    primary key(person_id)\n",
    ")"
   ]
  },
  {
   "cell_type": "code",
   "execution_count": null,
   "metadata": {},
   "outputs": [],
   "source": [
    "%%sql\n",
    "\n",
    "create table Course(\n",
    "    course_number char(8) not null, \n",
    "    course_name varchar(60) not null,\n",
    "    credit_hours decimal(2, 1) not null,\n",
    "    department varchar(16) not null,\n",
    "    primary key(course_number)\n",
    ")"
   ]
  },
  {
   "cell_type": "markdown",
   "metadata": {},
   "source": [
    "# Foreign key definitions\n",
    "\n",
    "A foreign key: set of of columns in the referencing table whose values must match the corresponding column values in a row of the referenced table.\n",
    "\n",
    "## Effects of a foreign key constraint\n",
    "\n",
    "1. Insert in the referencing table will fail if the foreign key column contains a value that is not present in the referenced table.\n",
    "2. Delete in the referenced table will fail if the primary key of the deleted rows has the same value as the foreign key column in a row of the referencing table.\n",
    "3. An index is created in the referencing table to make searches fast on the foreign key columns."
   ]
  },
  {
   "cell_type": "code",
   "execution_count": null,
   "metadata": {},
   "outputs": [],
   "source": [
    "%%sql\n",
    "\n",
    "create table Section(\n",
    "    section_number int unsigned not null,\n",
    "    course_number char(8) not null,\n",
    "    semester enum('Fall', 'Spring', 'Summer') not null,\n",
    "    year year not null,\n",
    "\n",
    "    PRIMARY KEY(section_number),\n",
    "    UNIQUE INDEX(course_number, semester, year),\n",
    "    FOREIGN KEY (course_number) REFERENCES Course(course_number) ON UPDATE RESTRICT ON DELETE RESTRICT)"
   ]
  },
  {
   "cell_type": "code",
   "execution_count": null,
   "metadata": {},
   "outputs": [],
   "source": [
    "%%sql\n",
    "\n",
    "create table Enrollment(\n",
    "    person_id int unsigned not null,\n",
    "    section_number int unsigned not null,\n",
    "    grade enum('A', 'A-', 'B', 'B+', 'B-', 'C', 'D', 'F'),\n",
    "    \n",
    "    PRIMARY KEY(person_id, section_number),\n",
    "    FOREIGN KEY (person_id) REFERENCES Person(person_id),\n",
    "    FOREIGN KEY (section_number) REFERENCES Section(section_number)\n",
    ")"
   ]
  },
  {
   "cell_type": "code",
   "execution_count": null,
   "metadata": {},
   "outputs": [],
   "source": [
    "%%sql\n",
    "\n",
    "create table Prereq(\n",
    "    course_number char(8) not null,\n",
    "    prereq_number char(8) not null,\n",
    "    \n",
    "    PRIMARY KEY(course_number, prereq_number),\n",
    "    FOREIGN KEY (course_number) REFERENCES Course(course_number),\n",
    "    FOREIGN KEY (prereq_number) REFERENCES Course(course_number))"
   ]
  },
  {
   "cell_type": "code",
   "execution_count": null,
   "metadata": {},
   "outputs": [],
   "source": [
    "%%sql\n",
    "\n",
    "select * FROM Course;"
   ]
  },
  {
   "cell_type": "code",
   "execution_count": null,
   "metadata": {},
   "outputs": [],
   "source": [
    "%%sql\n",
    "\n",
    "INSERT INTO Course (course_number, course_name, credit_hours, department) VALUES \n",
    "   ('MATH101', 'Basic Arithmetic', '1.0', 'MATH'),\n",
    "    ('MATH102', 'Fractions', '1.0', 'MATH'),\n",
    "    ('MATH103', 'Long division', '1.5', 'MATH')"
   ]
  },
  {
   "cell_type": "code",
   "execution_count": null,
   "metadata": {},
   "outputs": [],
   "source": [
    "%%sql\n",
    "select * FROM Course;"
   ]
  },
  {
   "cell_type": "code",
   "execution_count": null,
   "metadata": {},
   "outputs": [],
   "source": [
    "%%sql\n",
    "select * FROM Section;"
   ]
  },
  {
   "cell_type": "code",
   "execution_count": null,
   "metadata": {},
   "outputs": [],
   "source": [
    "%%sql \n",
    "INSERT INTO Section (section_number, course_number, semester, year) VALUES\n",
    "    (1, 'MATH101', 'Fall', 2019)"
   ]
  },
  {
   "cell_type": "code",
   "execution_count": null,
   "metadata": {},
   "outputs": [],
   "source": [
    "%%sql \n",
    "INSERT INTO Section (section_number, course_number, semester, year) VALUES\n",
    "    (2, 'MATH101', 'Fall', 2019)"
   ]
  },
  {
   "cell_type": "code",
   "execution_count": null,
   "metadata": {},
   "outputs": [],
   "source": [
    "%%sql \n",
    "INSERT INTO Section (section_number, course_number, semester, year) VALUES\n",
    "    (2, 'MATH101', 'Spring', 2019)"
   ]
  },
  {
   "cell_type": "code",
   "execution_count": null,
   "metadata": {},
   "outputs": [],
   "source": [
    "%%sql \n",
    "INSERT INTO Section (section_number, course_number, semester, year) VALUES\n",
    "    (3, 'MATH104', 'Spring', 2019)"
   ]
  },
  {
   "cell_type": "code",
   "execution_count": null,
   "metadata": {},
   "outputs": [],
   "source": [
    "%%sql \n",
    "INSERT INTO Section (section_number, course_number, semester, year) VALUES\n",
    "    (3, 'MATH102', 'Spring', 2019)"
   ]
  },
  {
   "cell_type": "code",
   "execution_count": null,
   "metadata": {},
   "outputs": [],
   "source": [
    "%%sql\n",
    "\n",
    "DELETE FROM Course WHERE course_number=\"MATH105\""
   ]
  },
  {
   "cell_type": "code",
   "execution_count": null,
   "metadata": {},
   "outputs": [],
   "source": [
    "%%sql\n",
    "\n",
    "DELETE FROM Course WHERE course_number=\"MATH102\""
   ]
  },
  {
   "cell_type": "code",
   "execution_count": null,
   "metadata": {},
   "outputs": [],
   "source": [
    "%%sql\n",
    "\n",
    "DELETE FROM Course;"
   ]
  },
  {
   "cell_type": "code",
   "execution_count": null,
   "metadata": {},
   "outputs": [],
   "source": [
    "%%sql\n",
    "\n",
    "SELECT * FROM Person;"
   ]
  },
  {
   "cell_type": "code",
   "execution_count": null,
   "metadata": {},
   "outputs": [],
   "source": [
    "%%sql\n",
    "\n",
    "INSERT into Person (person_id, name) VALUES (1, 'Alice'), (2, 'Bob'), (3, 'Carol'), (4, 'David')"
   ]
  },
  {
   "cell_type": "code",
   "execution_count": null,
   "metadata": {},
   "outputs": [],
   "source": [
    "%%sql \n",
    "\n",
    "SELECT * FROM Person;"
   ]
  },
  {
   "cell_type": "code",
   "execution_count": null,
   "metadata": {},
   "outputs": [],
   "source": [
    "%%sql\n",
    "\n",
    "SELECT * FROM Enrollment;"
   ]
  },
  {
   "cell_type": "code",
   "execution_count": null,
   "metadata": {},
   "outputs": [],
   "source": [
    "%%sql \n",
    "\n",
    "SELECT * FROM Section;"
   ]
  },
  {
   "cell_type": "code",
   "execution_count": null,
   "metadata": {},
   "outputs": [],
   "source": [
    "%%sql \n",
    "\n",
    "SELECT * FROM Enrollment;"
   ]
  },
  {
   "cell_type": "code",
   "execution_count": null,
   "metadata": {},
   "outputs": [],
   "source": [
    "%%sql\n",
    "\n",
    "INSERT into Enrollment (person_id, section_number) VALUES (1, 1), (1, 2), (2, 1), (2, 2), (1, 3)"
   ]
  },
  {
   "cell_type": "code",
   "execution_count": null,
   "metadata": {},
   "outputs": [],
   "source": [
    "%%sql\n",
    "\n",
    "INSERT into Enrollment VALUES (4, 1, NULL)"
   ]
  },
  {
   "cell_type": "code",
   "execution_count": null,
   "metadata": {},
   "outputs": [],
   "source": [
    "%%sql\n",
    "\n",
    "INSERT into Enrollment VALUES (4, 2, 'A')"
   ]
  },
  {
   "cell_type": "code",
   "execution_count": null,
   "metadata": {},
   "outputs": [],
   "source": [
    "%%sql\n",
    "\n",
    "SELECT * FROM Enrollment;"
   ]
  },
  {
   "cell_type": "code",
   "execution_count": null,
   "metadata": {},
   "outputs": [],
   "source": []
  }
 ],
 "metadata": {
  "kernelspec": {
   "display_name": "Python 3",
   "language": "python",
   "name": "python3"
  },
  "language_info": {
   "codemirror_mode": {
    "name": "ipython",
    "version": 3
   },
   "file_extension": ".py",
   "mimetype": "text/x-python",
   "name": "python",
   "nbconvert_exporter": "python",
   "pygments_lexer": "ipython3",
   "version": "3.7.3"
  }
 },
 "nbformat": 4,
 "nbformat_minor": 2
}

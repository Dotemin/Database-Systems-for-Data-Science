{
 "cells": [
  {
   "cell_type": "markdown",
   "metadata": {},
   "source": [
    "# Assignment 7.  \n",
    "## Aggregation queries\n",
    "\n",
    "In this assigment, we will fetch data from a relational database server directly into Python variables. Using these new skills, we will complete the problems from Chapters 12, 13, and 14 in *SQL Queries for Mere Mortals*."
   ]
  },
  {
   "cell_type": "markdown",
   "metadata": {},
   "source": [
    "# Concepts\n",
    "\n",
    "Review the MySQL aggregate functions: https://dev.mysql.com/doc/refman/8.0/en/group-by-functions.html\n",
    "\n",
    "Three types of queries\n",
    "\n",
    "1. Aggregation functions with no `GROUP BY` clause produce 1 row. \n",
    "2. Aggregation functions combined with a `GROUP BY` clause. The unique key of the result is composed of the columns of the `GROUP BY` clause.\n",
    "3. `INNER JOIN` or `LEFT JOIN` of a tables in a one-to-many relationship, grouped by the primary key of the left table. This aggregates the right entity set with respect to the left entity set. \n",
    "\n",
    "Note that MySQL with the default settings allows mixing aggregated and non-aggregated values (See https://dev.mysql.com/doc/refman/5.7/en/sql-mode.html#sqlmode_only_full_group_by). So you have to watch avoid invalid mixes of values.\n",
    "\n",
    "Using `HAVING` is equivalent to using a `WHERE` clause in an outer query."
   ]
  },
  {
   "cell_type": "markdown",
   "metadata": {},
   "source": [
    "# Aggregation Queries\n",
    "\n",
    "Queries using aggregation functions, `GROUP BY`, and `HAVING` clauses. Using `LEFT JOIN` in combination with `GROUP BY`"
   ]
  },
  {
   "cell_type": "code",
   "execution_count": null,
   "metadata": {},
   "outputs": [],
   "source": [
    "import json\n",
    "import pymysql \n",
    "\n",
    "pymysql.install_as_MySQLdb()\n",
    "\n",
    "with open('cred.json') as f:\n",
    "    creds = json.load(f)\n",
    "\n",
    "connection_string = \"mysql://{user}:{password}@{host}\".format(**creds)"
   ]
  },
  {
   "cell_type": "code",
   "execution_count": null,
   "metadata": {},
   "outputs": [],
   "source": [
    "%load_ext sql\n",
    "%config SqlMagic.autocommit=True\n",
    "%sql $connection_string"
   ]
  },
  {
   "cell_type": "markdown",
   "metadata": {},
   "source": [
    "### Increasing complexity of queries"
   ]
  },
  {
   "cell_type": "code",
   "execution_count": null,
   "metadata": {},
   "outputs": [],
   "source": [
    "%%sql\n",
    "\n",
    "USE shared_sales"
   ]
  },
  {
   "cell_type": "markdown",
   "metadata": {},
   "source": [
    "## Aggregation functions MAX, MIN, AVG, SUM, COUNT"
   ]
  },
  {
   "cell_type": "code",
   "execution_count": null,
   "metadata": {},
   "outputs": [],
   "source": [
    "%%sql\n",
    "SELECT MAX(RetailPrice) as max_price, round(AVG(RetailPrice), 4) as avg_price \n",
    "FROM Products"
   ]
  },
  {
   "cell_type": "code",
   "execution_count": null,
   "metadata": {},
   "outputs": [],
   "source": [
    "%%sql\n",
    "\n",
    "SELECT ProductNumber, MAX(RetailPrice) as max_price, AVG(RetailPrice) as avg_price \n",
    "FROM Products"
   ]
  },
  {
   "cell_type": "code",
   "execution_count": null,
   "metadata": {},
   "outputs": [],
   "source": [
    "%%sql\n",
    "\n",
    "-- aggregation with condition\n",
    "\n",
    "SELECT avg(RetailPrice) avg_price \n",
    "FROM Products \n",
    "WHERE CategoryID IN (\n",
    "    SELECT CategoryID \n",
    "    FROM Categories\n",
    "    WHERE CategoryDescription = \"Bikes\")"
   ]
  },
  {
   "cell_type": "code",
   "execution_count": null,
   "metadata": {},
   "outputs": [],
   "source": [
    "%%sql\n",
    "-- show products above average price\n",
    "-- The following does NOT work\n",
    "\n",
    "SELECT * \n",
    "FROM Products \n",
    "WHERE RetailPrice > avg(RetailPrice)"
   ]
  },
  {
   "cell_type": "code",
   "execution_count": null,
   "metadata": {},
   "outputs": [],
   "source": [
    "%%sql\n",
    "-- show products above average price\n",
    "-- Use a scalar subquery\n",
    "\n",
    "SELECT * \n",
    "FROM Products \n",
    "WHERE RetailPrice > (SELECT avg(RetailPrice) FROM Products)"
   ]
  },
  {
   "cell_type": "code",
   "execution_count": null,
   "metadata": {},
   "outputs": [],
   "source": [
    "%%sql\n",
    "\n",
    "-- what not to do:\n",
    "\n",
    "SELECT *\n",
    "FROM Products\n",
    "GROUP BY CategoryID\n"
   ]
  },
  {
   "cell_type": "code",
   "execution_count": null,
   "metadata": {},
   "outputs": [],
   "source": [
    "%%sql\n",
    "\n",
    "SELECT CategoryID, ROUND(AVG(RetailPrice), 2) as avg_price\n",
    "FROM Products\n",
    "GROUP BY CategoryID\n"
   ]
  },
  {
   "cell_type": "code",
   "execution_count": null,
   "metadata": {},
   "outputs": [],
   "source": [
    "%%sql \n",
    "\n",
    "-- using in a subquery\n",
    "\n",
    "SELECT * FROM (\n",
    "    SELECT CategoryID, AVG(RetailPrice) as avg_price\n",
    "    FROM Products\n",
    "    GROUP BY CategoryID) as q NATURAL JOIN Categories\n"
   ]
  },
  {
   "cell_type": "code",
   "execution_count": null,
   "metadata": {},
   "outputs": [],
   "source": [
    "%%sql \n",
    "\n",
    "-- using in a subquery\n",
    "\n",
    "SELECT Categories.*, AVG(RetailPrice) as avg_price \n",
    "FROM Categories NATURAL JOIN Products\n",
    "GROUP BY CategoryID"
   ]
  },
  {
   "cell_type": "code",
   "execution_count": null,
   "metadata": {},
   "outputs": [],
   "source": [
    "%%sql\n",
    "\n",
    "-- show averages prices per category categories for products with retail price > 100.00\n",
    "\n",
    "SELECT Categories.*, AVG(RetailPrice) as avg_price \n",
    "FROM Categories NATURAL JOIN Products \n",
    "WHERE RetailPrice > 100\n",
    "GROUP BY CategoryID\n",
    "\n"
   ]
  },
  {
   "cell_type": "code",
   "execution_count": null,
   "metadata": {},
   "outputs": [],
   "source": [
    "%%sql\n",
    "\n",
    "-- show averages prices per category categories for products with retail price > 100.00\n",
    "\n",
    "SELECT Categories.*, AVG(RetailPrice) as avg_price \n",
    "FROM Categories NATURAL JOIN Products\n",
    "GROUP BY CategoryID\n",
    "HAVING avg_price > 100\n"
   ]
  },
  {
   "cell_type": "code",
   "execution_count": null,
   "metadata": {},
   "outputs": [],
   "source": [
    "%%sql\n",
    "\n",
    "-- Categories with the average prices > 100\n",
    "\n",
    "SELECT * FROM (\n",
    "    SELECT Categories.*, AVG(RetailPrice) as avg_price \n",
    "    FROM Categories NATURAL JOIN Products\n",
    "    GROUP BY CategoryID) as q\n",
    "WHERE avg_price > 100"
   ]
  },
  {
   "cell_type": "code",
   "execution_count": null,
   "metadata": {},
   "outputs": [],
   "source": [
    "%%sql\n",
    "\n",
    "SELECT * FROM (\n",
    "    SELECT CategoryID, AVG(RetailPrice) as avg_price\n",
    "    FROM Products\n",
    "    GROUP BY CategoryID\n",
    ") as q WHERE avg_price > 100"
   ]
  },
  {
   "cell_type": "code",
   "execution_count": null,
   "metadata": {},
   "outputs": [],
   "source": [
    "%%sql\n",
    "\n",
    "select * from Products\n",
    "WHERE RetailPrice > 100"
   ]
  },
  {
   "cell_type": "code",
   "execution_count": null,
   "metadata": {},
   "outputs": [],
   "source": [
    "%%sql\n",
    "-- show empty orders \n",
    "\n",
    "SELECT * \n",
    "FROM Orders \n",
    "WHERE OrderNumber NOT IN (\n",
    "    SELECT OrderNumber \n",
    "    FROM Order_Details)"
   ]
  },
  {
   "cell_type": "code",
   "execution_count": null,
   "metadata": {},
   "outputs": [],
   "source": [
    "%%sql\n",
    "-- show empty orders\n",
    "\n",
    "SELECT Orders.* \n",
    "FROM Orders NATURAL LEFT JOIN Order_Details \n",
    "WHERE ProductNumber IS NULL"
   ]
  },
  {
   "cell_type": "code",
   "execution_count": null,
   "metadata": {},
   "outputs": [],
   "source": [
    "%%sql\n",
    "\n",
    "-- bad because mixes aggregated and random \n",
    "\n",
    "SELECT * FROM Orders  NATURAL LEFT JOIN Order_Details\n",
    "GROUP BY OrderNumber"
   ]
  },
  {
   "cell_type": "code",
   "execution_count": null,
   "metadata": {},
   "outputs": [],
   "source": [
    "%%sql\n",
    "\n",
    "-- show empty orders\n",
    "\n",
    "SELECT Orders.*, COUNT(ProductNumber) as nitems \n",
    "FROM Orders NATURAL LEFT JOIN Order_Details\n",
    "GROUP BY OrderNumber\n",
    "HAVING nitems=0"
   ]
  },
  {
   "cell_type": "code",
   "execution_count": null,
   "metadata": {
    "scrolled": false
   },
   "outputs": [],
   "source": [
    "%%sql\n",
    "\n",
    "SELECT orders.*, ProductNumber as nitems FROM orders  NATURAL LEFT JOIN order_details"
   ]
  },
  {
   "cell_type": "markdown",
   "metadata": {},
   "source": [
    "## Example problems"
   ]
  },
  {
   "cell_type": "code",
   "execution_count": null,
   "metadata": {},
   "outputs": [],
   "source": [
    "%%sql\n",
    "\n",
    "-- Customers and the number of orders that they made\n",
    "\n",
    "SELECT CustomerID, CustFirstName, CustLastName, count(OrderNumber) as norders\n",
    "FROM Customers NATURAL LEFT JOIN Orders\n",
    "GROUP BY CustomerID\n",
    "ORDER BY norders"
   ]
  },
  {
   "cell_type": "code",
   "execution_count": null,
   "metadata": {},
   "outputs": [],
   "source": [
    "%%sql\n",
    "\n",
    "-- orders with their total amounts\n",
    "\n",
    "SELECT OrderNumber, OrderDate, IFNULL(sum(QuotedPrice * QuantityOrdered), 0) as total_amount\n",
    "FROM Orders NATURAL LEFT JOIN Order_Details \n",
    "GROUP BY OrderNumber\n",
    "ORDER BY total_amount"
   ]
  },
  {
   "cell_type": "code",
   "execution_count": null,
   "metadata": {},
   "outputs": [],
   "source": [
    "%%sql\n",
    "\n",
    "-- customers and the total $$$ spent\n",
    "\n",
    "SELECT CustomerID, CustLastName, sum(total_amount) money_spent\n",
    "FROM customers NATURAL LEFT JOIN (\n",
    "    SELECT CustomerID, IFNULL(sum(QuotedPrice * QuantityOrdered), 0) as total_amount\n",
    "    FROM Orders NATURAL LEFT JOIN Order_Details \n",
    "    GROUP BY OrderNumber) as q\n",
    "GROUP BY CustomerID\n",
    "ORDER BY money_spent DESC\n"
   ]
  },
  {
   "cell_type": "code",
   "execution_count": null,
   "metadata": {},
   "outputs": [],
   "source": [
    "%%sql\n",
    "\n",
    "-- customers and the total $$$ spent\n",
    "\n",
    "SELECT CustomerID, CustLastName, IFNULL(sum(QuotedPrice * QuantityOrdered), 0) money_spent\n",
    "FROM Customers NATURAL LEFT JOIN (SELECT * FROM Orders NATURAL JOIN Order_Details) as q\n",
    "GROUP BY CustomerID\n",
    "ORDER BY money_spent DESC"
   ]
  },
  {
   "cell_type": "markdown",
   "metadata": {},
   "source": [
    "# Summary of principles \n",
    "1. Without a `GROUP BY`, aggregation functions collapse the table into a single row.\n",
    "2. With `GROUP BY`, the grouping attributes become the new primary key of the result.  \n",
    "3. Do not mix aggregated and non-aggregated values in the result with or without a `GROUP BY`.\n",
    "4. `HAVING` plays the same role as the `WHERE` clause in a nesting outer query so it can use the output of the aggregation functions.\n",
    "5. `LEFT JOIN` is often follwed with a `GROUP BY` by the primary key attributes of the left table. In this scenario the entities in the right table are aggregated for each matching row in the left table.\n"
   ]
  },
  {
   "cell_type": "markdown",
   "metadata": {},
   "source": [
    "### Chapter 12 (total aggregation -- no grouping)\n"
   ]
  },
  {
   "cell_type": "code",
   "execution_count": null,
   "metadata": {},
   "outputs": [],
   "source": [
    "Problem 1. \n",
    "“How many customers do we have in the state of California?”\n",
    "\n",
    "Viescas, John L.. SQL Queries for Mere Mortals (p. 460). Pearson Education. Kindle Edition. "
   ]
  },
  {
   "cell_type": "code",
   "execution_count": null,
   "metadata": {},
   "outputs": [],
   "source": [
    "“What is the average retail price of a mountain bike?” \n",
    "\n",
    "Viescas, John L.. SQL Queries for Mere Mortals (p. 467). Pearson Education. Kindle Edition. "
   ]
  },
  {
   "cell_type": "code",
   "execution_count": null,
   "metadata": {},
   "outputs": [],
   "source": [
    "“What was the date of our most recent order?”\n",
    "\n",
    "Viescas, John L.. SQL Queries for Mere Mortals (p. 467). Pearson Education. Kindle Edition. "
   ]
  },
  {
   "cell_type": "code",
   "execution_count": null,
   "metadata": {},
   "outputs": [],
   "source": [
    "%%sql \n",
    "SELECT OrderNumber, OrderDate as latest_Order\n",
    "FROM Orders\n",
    "Order By latest_order DESC\n",
    "LIMIT 1"
   ]
  },
  {
   "cell_type": "code",
   "execution_count": null,
   "metadata": {},
   "outputs": [],
   "source": [
    "%%sql\n",
    "SELECT max(OrderDate) as last_date \n",
    "FROM Orders"
   ]
  },
  {
   "cell_type": "code",
   "execution_count": null,
   "metadata": {},
   "outputs": [],
   "source": [
    "%%sql\n",
    "-- Where was the Last order to a customer in California\n",
    "\n",
    "SELECT max(OrderDate) as last_date\n",
    "FROM Orders\n",
    "WHERE CustomerID in (SELECT CustomerID FROM Customers WHERE CustState=\"TX\")"
   ]
  },
  {
   "cell_type": "markdown",
   "metadata": {},
   "source": [
    "### Chapter 13 (aggregation with grouping)"
   ]
  },
  {
   "cell_type": "code",
   "execution_count": null,
   "metadata": {},
   "outputs": [],
   "source": [
    "“Display for each product the product name and the total sales.”\n",
    "\n",
    "Viescas, John L.. SQL Queries for Mere Mortals (p. 490). Pearson Education. Kindle Edition. "
   ]
  },
  {
   "cell_type": "markdown",
   "metadata": {},
   "source": [
    "### Chapter 14 (aggregation with grouping and filtering with HAVING)"
   ]
  },
  {
   "cell_type": "code",
   "execution_count": null,
   "metadata": {},
   "outputs": [],
   "source": [
    "“Show me the subject categories that have fewer than three full professors teaching that subject.”\n",
    "\n",
    "Viescas, John L.. SQL Queries for Mere Mortals (p. 513). Pearson Education. Kindle Edition. "
   ]
  },
  {
   "cell_type": "code",
   "execution_count": null,
   "metadata": {},
   "outputs": [],
   "source": [
    "%%sql\n",
    "use shared_school\n"
   ]
  },
  {
   "cell_type": "code",
   "execution_count": null,
   "metadata": {},
   "outputs": [],
   "source": [
    "%%sql\n",
    "\n",
    "SELECT Categories.*, count(StaffID) as n \n",
    "   FROM Categories NATURAL LEFT JOIN (\n",
    "       SELECT * FROM Faculty_Categories NATURAL JOIN Faculty WHERE Title=\"Professor\") as q\n",
    "   GROUP BY CategoryID\n",
    "   HAVING n < 3"
   ]
  },
  {
   "cell_type": "code",
   "execution_count": null,
   "metadata": {},
   "outputs": [],
   "source": [
    "“How many orders are for only one product?”\n",
    "\n",
    "Viescas, John L.. SQL Queries for Mere Mortals (p. 528). Pearson Education. Kindle Edition. "
   ]
  },
  {
   "cell_type": "code",
   "execution_count": null,
   "metadata": {},
   "outputs": [],
   "source": [
    "%%sql\n",
    "use shared_sales"
   ]
  },
  {
   "cell_type": "code",
   "execution_count": null,
   "metadata": {},
   "outputs": [],
   "source": [
    "%%sql\n",
    "\n",
    "SELECT count(*) FROM (\n",
    "    SELECT Orders.*, count(ProductNumber) as n\n",
    "       FROM Orders NATURAL LEFT JOIN Order_Details\n",
    "        GROUP BY OrderNumber\n",
    "        HAVING n=1) as q\n"
   ]
  },
  {
   "cell_type": "code",
   "execution_count": null,
   "metadata": {},
   "outputs": [],
   "source": [
    "%%sql\n"
   ]
  },
  {
   "cell_type": "markdown",
   "metadata": {},
   "source": [
    "# Homework --- Due Nov 12\n",
    "\n",
    "## Chapter 12"
   ]
  },
  {
   "cell_type": "markdown",
   "metadata": {},
   "source": [
    "**Problem 1 (Sales):** Show the total amount of order number 8.\n",
    "    \n",
    "    Answer $1492.60"
   ]
  },
  {
   "cell_type": "markdown",
   "metadata": {},
   "source": [
    "**Problem 2 (School):** List the most senior staff members (earliest hired).\n",
    "    \n",
    "    Answer 1 row."
   ]
  },
  {
   "cell_type": "markdown",
   "metadata": {},
   "source": [
    "## Chapter 13"
   ]
  },
  {
   "cell_type": "markdown",
   "metadata": {},
   "source": [
    "**Problem 3 (Sales):** List vendors along with the average number of days they take to deliver the order.\n",
    "    \n",
    "    Answer 10 rows."
   ]
  },
  {
   "cell_type": "markdown",
   "metadata": {},
   "source": [
    "**Problem 4 (Sales):** List vendors along with the number of products each sells.\n",
    "    \n",
    "    Answer 10 rows."
   ]
  },
  {
   "cell_type": "markdown",
   "metadata": {},
   "source": [
    "**Problem 5 (School):** List staff members and the number of classes each is scheduled to teach.\n",
    "    \n",
    "    Answer 27 rows."
   ]
  },
  {
   "cell_type": "markdown",
   "metadata": {},
   "source": [
    "## Chapter 14\n",
    "\n",
    "**Problem 6 (Sales):** Count the orders that only have one product\n",
    "    \n",
    "    1 row"
   ]
  },
  {
   "cell_type": "markdown",
   "metadata": {},
   "source": [
    "**Problem 7 (School):**  List staff members that teach fewer than three classes\n",
    "    \n",
    "    7 rows"
   ]
  },
  {
   "cell_type": "markdown",
   "metadata": {},
   "source": [
    "**Problem 8 (Recipes):** List recipes that use more than three teaspoons of salt.\n",
    "    \n",
    "    1 row"
   ]
  },
  {
   "cell_type": "code",
   "execution_count": null,
   "metadata": {},
   "outputs": [],
   "source": []
  }
 ],
 "metadata": {
  "kernelspec": {
   "display_name": "Python 3",
   "language": "python",
   "name": "python3"
  },
  "language_info": {
   "codemirror_mode": {
    "name": "ipython",
    "version": 3
   },
   "file_extension": ".py",
   "mimetype": "text/x-python",
   "name": "python",
   "nbconvert_exporter": "python",
   "pygments_lexer": "ipython3",
   "version": "3.8.5"
  }
 },
 "nbformat": 4,
 "nbformat_minor": 2
}

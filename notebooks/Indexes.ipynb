{
 "cells": [
  {
   "cell_type": "markdown",
   "metadata": {
    "slideshow": {
     "slide_type": "slide"
    }
   },
   "source": [
    "# Indexes\n",
    "\n",
    "Table indexes are data structures that allow fast lookups by an indexed attribute or combination of attributes.\n",
    "\n",
    "In DataJoint, indexes are created by one of the three mechanisms:\n",
    "\n",
    "1. Primary key \n",
    "2. Foreign key \n",
    "3. Explicitly defined indexes\n",
    "\n",
    "The first two mechanisms are obligatory. Every table has a primary key, which serves as an unique index. Therefore, restrictions by a primary key are very fast. Foreign keys create additional indexes unless a suitable index already exists."
   ]
  },
  {
   "cell_type": "markdown",
   "metadata": {},
   "source": [
    "Let's test this principle. Let's create a table with a 10,000 entries and compare lookup times:"
   ]
  },
  {
   "cell_type": "code",
   "execution_count": 1,
   "metadata": {},
   "outputs": [
    {
     "name": "stdout",
     "output_type": "stream",
     "text": [
      "Connecting dimitri@db.ust-db.link:3306\n",
      "Proceed to delete entire schema `test_indexes`? [yes, No]: yes\n"
     ]
    }
   ],
   "source": [
    "import datajoint as dj\n",
    "schema = dj.schema('test_indexes')\n",
    "schema.drop() # drop previous schema definition (if any) and create anew\n",
    "schema = dj.schema('test_indexes')"
   ]
  },
  {
   "cell_type": "markdown",
   "metadata": {},
   "source": [
    "Let's say a mouse in the lab has a lab-specific ID but it also has a separate id issued by the animal facility."
   ]
  },
  {
   "cell_type": "code",
   "execution_count": 2,
   "metadata": {},
   "outputs": [],
   "source": [
    "@schema\n",
    "class Mouse(dj.Manual):\n",
    "    definition = \"\"\"\n",
    "    mouse_id : int  # lab-specific ID\n",
    "    ---\n",
    "    tag_id : int  # animal facility ID\n",
    "    \"\"\""
   ]
  },
  {
   "cell_type": "code",
   "execution_count": 3,
   "metadata": {},
   "outputs": [],
   "source": [
    "import random\n",
    "def populate_mice(n=200_000):\n",
    "    \"\"\"insert a bunch of mice\"\"\"\n",
    "    Mouse.insert(\n",
    "        ((random.randint(1,1000_000_000), random.randint(1,1000_000_000)) \n",
    "         for i in range(n)), skip_duplicates=True)"
   ]
  },
  {
   "cell_type": "code",
   "execution_count": 4,
   "metadata": {},
   "outputs": [],
   "source": [
    "populate_mice()"
   ]
  },
  {
   "cell_type": "code",
   "execution_count": 5,
   "metadata": {},
   "outputs": [
    {
     "data": {
      "text/html": [
       "\n",
       "    \n",
       "    <style type=\"text/css\">\n",
       "        .Relation{\n",
       "            border-collapse:collapse;\n",
       "        }\n",
       "        .Relation th{\n",
       "            background: #A0A0A0; color: #ffffff; padding:4px; border:#f0e0e0 1px solid;\n",
       "            font-weight: normal; font-family: monospace; font-size: 100%;\n",
       "        }\n",
       "        .Relation td{\n",
       "            padding:4px; border:#f0e0e0 1px solid; font-size:100%;\n",
       "        }\n",
       "        .Relation tr:nth-child(odd){\n",
       "            background: #ffffff;\n",
       "        }\n",
       "        .Relation tr:nth-child(even){\n",
       "            background: #f3f1ff;\n",
       "        }\n",
       "        /* Tooltip container */\n",
       "        .djtooltip {\n",
       "        }\n",
       "        /* Tooltip text */\n",
       "        .djtooltip .djtooltiptext {\n",
       "            visibility: hidden;\n",
       "            width: 120px;\n",
       "            background-color: black;\n",
       "            color: #fff;\n",
       "            text-align: center;\n",
       "            padding: 5px 0;\n",
       "            border-radius: 6px;\n",
       "            /* Position the tooltip text - see examples below! */\n",
       "            position: absolute;\n",
       "            z-index: 1;\n",
       "        }\n",
       "        #primary {\n",
       "            font-weight: bold;\n",
       "            color: black;\n",
       "        }\n",
       "        #nonprimary {\n",
       "            font-weight: normal;\n",
       "            color: white;\n",
       "        }\n",
       "\n",
       "        /* Show the tooltip text when you mouse over the tooltip container */\n",
       "        .djtooltip:hover .djtooltiptext {\n",
       "            visibility: visible;\n",
       "        }\n",
       "    </style>\n",
       "    \n",
       "    <b></b>\n",
       "        <div style=\"max-height:1000px;max-width:1500px;overflow:auto;\">\n",
       "        <table border=\"1\" class=\"Relation\">\n",
       "            <thead> <tr style=\"text-align: right;\"> <th> <div class=\"djtooltip\">\n",
       "                            <p id=\"primary\">mouse_id</p>\n",
       "                            <span class=\"djtooltiptext\">lab-specific ID</span>\n",
       "                        </div></th><th><div class=\"djtooltip\">\n",
       "                            <p id=\"nonprimary\">tag_id</p>\n",
       "                            <span class=\"djtooltiptext\">animal facility ID</span>\n",
       "                        </div> </th> </tr> </thead>\n",
       "            <tbody> <tr> <td>4011</td>\n",
       "<td>342875954</td></tr><tr><td>9419</td>\n",
       "<td>879720862</td></tr><tr><td>12546</td>\n",
       "<td>334177269</td></tr><tr><td>17801</td>\n",
       "<td>25418429</td></tr><tr><td>19413</td>\n",
       "<td>312316071</td></tr><tr><td>22506</td>\n",
       "<td>754941865</td></tr><tr><td>28086</td>\n",
       "<td>957278686</td></tr><tr><td>31092</td>\n",
       "<td>560024909</td></tr><tr><td>38208</td>\n",
       "<td>85479847</td></tr><tr><td>40689</td>\n",
       "<td>186813683</td></tr><tr><td>49079</td>\n",
       "<td>84729197</td></tr><tr><td>50463</td>\n",
       "<td>331972616</td> </tr> </tbody>\n",
       "        </table>\n",
       "        <p>...</p>\n",
       "        <p>Total: 199980</p></div>\n",
       "        "
      ],
      "text/plain": [
       "*mouse_id    tag_id       \n",
       "+----------+ +-----------+\n",
       "4011         342875954    \n",
       "9419         879720862    \n",
       "12546        334177269    \n",
       "17801        25418429     \n",
       "19413        312316071    \n",
       "22506        754941865    \n",
       "28086        957278686    \n",
       "31092        560024909    \n",
       "38208        85479847     \n",
       "40689        186813683    \n",
       "49079        84729197     \n",
       "50463        331972616    \n",
       "   ...\n",
       " (Total: 199980)"
      ]
     },
     "execution_count": 5,
     "metadata": {},
     "output_type": "execute_result"
    }
   ],
   "source": [
    "Mouse()"
   ]
  },
  {
   "cell_type": "code",
   "execution_count": 7,
   "metadata": {},
   "outputs": [
    {
     "name": "stdout",
     "output_type": "stream",
     "text": [
      "38.1 ms ± 1.44 ms per loop (mean ± std. dev. of 3 runs, 6 loops each)\n"
     ]
    }
   ],
   "source": [
    "%%timeit -n6 -r3\n",
    "\n",
    "# efficient! Uses the primary key\n",
    "(Mouse() & {'mouse_id': random.randint(0, 999_999)}).fetch()"
   ]
  },
  {
   "cell_type": "code",
   "execution_count": 9,
   "metadata": {},
   "outputs": [
    {
     "name": "stdout",
     "output_type": "stream",
     "text": [
      "98.9 ms ± 5.02 ms per loop (mean ± std. dev. of 3 runs, 3 loops each)\n"
     ]
    }
   ],
   "source": [
    "%%timeit -n3 -r3\n",
    "\n",
    "# inefficient! Requires a full table scan\n",
    "(Mouse() & {'tag_id': random.randint(0, 999_999)}).fetch()"
   ]
  },
  {
   "cell_type": "markdown",
   "metadata": {},
   "source": [
    "The indexed searches are much faster!"
   ]
  },
  {
   "cell_type": "markdown",
   "metadata": {},
   "source": [
    "To make searches faster on fields other than the primary key or a foreign key, you can add a secondary index explicitly. \n",
    "\n",
    "Regular indexes are declared as `index(attr1, ..., attrN)` on a separate line anywhere in the table declration (below the primary key divide). \n",
    "\n",
    "Indexes can be declared with unique constraint as  `unique index (attr1, ..., attrN)`."
   ]
  },
  {
   "cell_type": "markdown",
   "metadata": {},
   "source": [
    "Let's redeclare the table with a unique index on `tag_id`."
   ]
  },
  {
   "cell_type": "code",
   "execution_count": 10,
   "metadata": {},
   "outputs": [
    {
     "name": "stdout",
     "output_type": "stream",
     "text": [
      "`test_indexes`.`mouse` (199980 tuples)\n",
      "Proceed? [yes, No]: yes\n",
      "Tables dropped.  Restart kernel.\n"
     ]
    }
   ],
   "source": [
    "Mouse.drop()"
   ]
  },
  {
   "cell_type": "code",
   "execution_count": 11,
   "metadata": {},
   "outputs": [],
   "source": [
    "@schema\n",
    "class Mouse(dj.Manual):\n",
    "    definition = \"\"\"\n",
    "    mouse_id : int  # lab-specific ID\n",
    "    ---\n",
    "    tag_id : int  # animal facility ID\n",
    "    unique index (tag_id)\n",
    "    \"\"\""
   ]
  },
  {
   "cell_type": "code",
   "execution_count": 12,
   "metadata": {},
   "outputs": [],
   "source": [
    "populate_mice()"
   ]
  },
  {
   "cell_type": "code",
   "execution_count": 13,
   "metadata": {},
   "outputs": [
    {
     "data": {
      "text/html": [
       "\n",
       "    \n",
       "    <style type=\"text/css\">\n",
       "        .Relation{\n",
       "            border-collapse:collapse;\n",
       "        }\n",
       "        .Relation th{\n",
       "            background: #A0A0A0; color: #ffffff; padding:4px; border:#f0e0e0 1px solid;\n",
       "            font-weight: normal; font-family: monospace; font-size: 100%;\n",
       "        }\n",
       "        .Relation td{\n",
       "            padding:4px; border:#f0e0e0 1px solid; font-size:100%;\n",
       "        }\n",
       "        .Relation tr:nth-child(odd){\n",
       "            background: #ffffff;\n",
       "        }\n",
       "        .Relation tr:nth-child(even){\n",
       "            background: #f3f1ff;\n",
       "        }\n",
       "        /* Tooltip container */\n",
       "        .djtooltip {\n",
       "        }\n",
       "        /* Tooltip text */\n",
       "        .djtooltip .djtooltiptext {\n",
       "            visibility: hidden;\n",
       "            width: 120px;\n",
       "            background-color: black;\n",
       "            color: #fff;\n",
       "            text-align: center;\n",
       "            padding: 5px 0;\n",
       "            border-radius: 6px;\n",
       "            /* Position the tooltip text - see examples below! */\n",
       "            position: absolute;\n",
       "            z-index: 1;\n",
       "        }\n",
       "        #primary {\n",
       "            font-weight: bold;\n",
       "            color: black;\n",
       "        }\n",
       "        #nonprimary {\n",
       "            font-weight: normal;\n",
       "            color: white;\n",
       "        }\n",
       "\n",
       "        /* Show the tooltip text when you mouse over the tooltip container */\n",
       "        .djtooltip:hover .djtooltiptext {\n",
       "            visibility: visible;\n",
       "        }\n",
       "    </style>\n",
       "    \n",
       "    <b></b>\n",
       "        <div style=\"max-height:1000px;max-width:1500px;overflow:auto;\">\n",
       "        <table border=\"1\" class=\"Relation\">\n",
       "            <thead> <tr style=\"text-align: right;\"> <th> <div class=\"djtooltip\">\n",
       "                            <p id=\"primary\">mouse_id</p>\n",
       "                            <span class=\"djtooltiptext\">lab-specific ID</span>\n",
       "                        </div></th><th><div class=\"djtooltip\">\n",
       "                            <p id=\"nonprimary\">tag_id</p>\n",
       "                            <span class=\"djtooltiptext\">animal facility ID</span>\n",
       "                        </div> </th> </tr> </thead>\n",
       "            <tbody> <tr> <td>445133168</td>\n",
       "<td>3412</td></tr><tr><td>407589124</td>\n",
       "<td>4308</td></tr><tr><td>872887958</td>\n",
       "<td>4663</td></tr><tr><td>971995456</td>\n",
       "<td>5643</td></tr><tr><td>285299809</td>\n",
       "<td>7603</td></tr><tr><td>217671106</td>\n",
       "<td>10593</td></tr><tr><td>621030453</td>\n",
       "<td>11647</td></tr><tr><td>447254071</td>\n",
       "<td>13795</td></tr><tr><td>592162441</td>\n",
       "<td>20127</td></tr><tr><td>15064041</td>\n",
       "<td>20699</td></tr><tr><td>226295809</td>\n",
       "<td>27279</td></tr><tr><td>207396047</td>\n",
       "<td>30779</td> </tr> </tbody>\n",
       "        </table>\n",
       "        <p>...</p>\n",
       "        <p>Total: 199965</p></div>\n",
       "        "
      ],
      "text/plain": [
       "*mouse_id     tag_id    \n",
       "+-----------+ +--------+\n",
       "445133168     3412      \n",
       "407589124     4308      \n",
       "872887958     4663      \n",
       "971995456     5643      \n",
       "285299809     7603      \n",
       "217671106     10593     \n",
       "621030453     11647     \n",
       "447254071     13795     \n",
       "592162441     20127     \n",
       "15064041      20699     \n",
       "226295809     27279     \n",
       "207396047     30779     \n",
       "   ...\n",
       " (Total: 199965)"
      ]
     },
     "execution_count": 13,
     "metadata": {},
     "output_type": "execute_result"
    }
   ],
   "source": [
    "Mouse()"
   ]
  },
  {
   "cell_type": "markdown",
   "metadata": {},
   "source": [
    "Now both types of searches are equally efficient!"
   ]
  },
  {
   "cell_type": "code",
   "execution_count": 15,
   "metadata": {},
   "outputs": [
    {
     "name": "stdout",
     "output_type": "stream",
     "text": [
      "43 ms ± 6.77 ms per loop (mean ± std. dev. of 3 runs, 3 loops each)\n"
     ]
    }
   ],
   "source": [
    "%%timeit -n3 -r3\n",
    "\n",
    "#efficient! Uses the primary key\n",
    "(Mouse() & {'mouse_id': random.randint(0, 999_999)}).fetch()"
   ]
  },
  {
   "cell_type": "code",
   "execution_count": 16,
   "metadata": {},
   "outputs": [
    {
     "name": "stdout",
     "output_type": "stream",
     "text": [
      "40.7 ms ± 8.19 ms per loop (mean ± std. dev. of 6 runs, 6 loops each)\n"
     ]
    }
   ],
   "source": [
    "%%timeit -n6 -r6\n",
    "\n",
    "#efficient! Uses the seconary index on tag_id\n",
    "(Mouse() & {'tag_id': random.randint(0, 999_999)}).fetch()"
   ]
  },
  {
   "cell_type": "code",
   "execution_count": null,
   "metadata": {},
   "outputs": [],
   "source": []
  },
  {
   "cell_type": "markdown",
   "metadata": {},
   "source": [
    "Let's now imagine that rats in the `Rat` table are identified by the combination of lab the `lab_name` and `rat_id` in each lab:"
   ]
  },
  {
   "cell_type": "code",
   "execution_count": 17,
   "metadata": {},
   "outputs": [],
   "source": [
    "@schema\n",
    "class Rat(dj.Manual):\n",
    "    definition = \"\"\"\n",
    "    lab_name : char(16) \n",
    "    rat_id : int unsigned # lab-specific ID\n",
    "    ---\n",
    "    date_of_birth = null : date\n",
    "    \"\"\""
   ]
  },
  {
   "cell_type": "code",
   "execution_count": 18,
   "metadata": {},
   "outputs": [],
   "source": [
    "def populate_rats():\n",
    "    lab_names = (\"Cajal\", \"Kandel\", \"Moser\", \"Wiesel\")\n",
    "    for date_of_birth in (None, \"2019-10-01\", \"2019-10-02\", \"2019-10-03\", \"2019-10-04\"):\n",
    "        Rat.insert((\n",
    "            (random.choice(lab_names), random.randint(1, 1_000_000), date_of_birth) \n",
    "                   for i in range(100_000)), skip_duplicates=True)"
   ]
  },
  {
   "cell_type": "code",
   "execution_count": 19,
   "metadata": {},
   "outputs": [],
   "source": [
    "populate_rats()"
   ]
  },
  {
   "cell_type": "code",
   "execution_count": 20,
   "metadata": {},
   "outputs": [
    {
     "data": {
      "text/html": [
       "\n",
       "    \n",
       "    <style type=\"text/css\">\n",
       "        .Relation{\n",
       "            border-collapse:collapse;\n",
       "        }\n",
       "        .Relation th{\n",
       "            background: #A0A0A0; color: #ffffff; padding:4px; border:#f0e0e0 1px solid;\n",
       "            font-weight: normal; font-family: monospace; font-size: 100%;\n",
       "        }\n",
       "        .Relation td{\n",
       "            padding:4px; border:#f0e0e0 1px solid; font-size:100%;\n",
       "        }\n",
       "        .Relation tr:nth-child(odd){\n",
       "            background: #ffffff;\n",
       "        }\n",
       "        .Relation tr:nth-child(even){\n",
       "            background: #f3f1ff;\n",
       "        }\n",
       "        /* Tooltip container */\n",
       "        .djtooltip {\n",
       "        }\n",
       "        /* Tooltip text */\n",
       "        .djtooltip .djtooltiptext {\n",
       "            visibility: hidden;\n",
       "            width: 120px;\n",
       "            background-color: black;\n",
       "            color: #fff;\n",
       "            text-align: center;\n",
       "            padding: 5px 0;\n",
       "            border-radius: 6px;\n",
       "            /* Position the tooltip text - see examples below! */\n",
       "            position: absolute;\n",
       "            z-index: 1;\n",
       "        }\n",
       "        #primary {\n",
       "            font-weight: bold;\n",
       "            color: black;\n",
       "        }\n",
       "        #nonprimary {\n",
       "            font-weight: normal;\n",
       "            color: white;\n",
       "        }\n",
       "\n",
       "        /* Show the tooltip text when you mouse over the tooltip container */\n",
       "        .djtooltip:hover .djtooltiptext {\n",
       "            visibility: visible;\n",
       "        }\n",
       "    </style>\n",
       "    \n",
       "    <b></b>\n",
       "        <div style=\"max-height:1000px;max-width:1500px;overflow:auto;\">\n",
       "        <table border=\"1\" class=\"Relation\">\n",
       "            <thead> <tr style=\"text-align: right;\"> <th> <div class=\"djtooltip\">\n",
       "                            <p id=\"primary\">lab_name</p>\n",
       "                            <span class=\"djtooltiptext\"></span>\n",
       "                        </div></th><th><div class=\"djtooltip\">\n",
       "                            <p id=\"primary\">rat_id</p>\n",
       "                            <span class=\"djtooltiptext\">lab-specific ID</span>\n",
       "                        </div></th><th><div class=\"djtooltip\">\n",
       "                            <p id=\"nonprimary\">date_of_birth</p>\n",
       "                            <span class=\"djtooltiptext\"></span>\n",
       "                        </div> </th> </tr> </thead>\n",
       "            <tbody> <tr> <td>Cajal</td>\n",
       "<td>4</td>\n",
       "<td>None</td></tr><tr><td>Cajal</td>\n",
       "<td>43</td>\n",
       "<td>2019-10-03</td></tr><tr><td>Cajal</td>\n",
       "<td>57</td>\n",
       "<td>2019-10-01</td></tr><tr><td>Cajal</td>\n",
       "<td>60</td>\n",
       "<td>2019-10-03</td></tr><tr><td>Cajal</td>\n",
       "<td>64</td>\n",
       "<td>2019-10-04</td></tr><tr><td>Cajal</td>\n",
       "<td>70</td>\n",
       "<td>2019-10-02</td></tr><tr><td>Cajal</td>\n",
       "<td>71</td>\n",
       "<td>None</td></tr><tr><td>Cajal</td>\n",
       "<td>76</td>\n",
       "<td>2019-10-02</td></tr><tr><td>Cajal</td>\n",
       "<td>88</td>\n",
       "<td>2019-10-01</td></tr><tr><td>Cajal</td>\n",
       "<td>100</td>\n",
       "<td>None</td></tr><tr><td>Cajal</td>\n",
       "<td>122</td>\n",
       "<td>2019-10-03</td></tr><tr><td>Cajal</td>\n",
       "<td>129</td>\n",
       "<td>2019-10-02</td> </tr> </tbody>\n",
       "        </table>\n",
       "        <p>...</p>\n",
       "        <p>Total: 470183</p></div>\n",
       "        "
      ],
      "text/plain": [
       "*lab_name    *rat_id    date_of_birth \n",
       "+----------+ +--------+ +------------+\n",
       "Cajal        4          None          \n",
       "Cajal        43         2019-10-03    \n",
       "Cajal        57         2019-10-01    \n",
       "Cajal        60         2019-10-03    \n",
       "Cajal        64         2019-10-04    \n",
       "Cajal        70         2019-10-02    \n",
       "Cajal        71         None          \n",
       "Cajal        76         2019-10-02    \n",
       "Cajal        88         2019-10-01    \n",
       "Cajal        100        None          \n",
       "Cajal        122        2019-10-03    \n",
       "Cajal        129        2019-10-02    \n",
       "   ...\n",
       " (Total: 470183)"
      ]
     },
     "execution_count": 20,
     "metadata": {},
     "output_type": "execute_result"
    }
   ],
   "source": [
    "Rat()"
   ]
  },
  {
   "cell_type": "markdown",
   "metadata": {},
   "source": [
    "Note that dispite the fact that `rat_id` is in the index, search by `rat_id` alone are not helped by the index because it is not first in the index. This is similar to search for a word in a dictionary that orders words alphabetically. Searching by the first letters of a word is easy but searching by the last few letters of a word requires scanning the whole dictionary."
   ]
  },
  {
   "cell_type": "markdown",
   "metadata": {},
   "source": [
    "In this table, the primary key is a unique index on the combination `(lab_id, rat_id)`. Therefore searches on these attributes or on `lab_id` alone are fast. But this index cannot help searches on `rat_id` alone:"
   ]
  },
  {
   "cell_type": "code",
   "execution_count": 21,
   "metadata": {},
   "outputs": [
    {
     "name": "stdout",
     "output_type": "stream",
     "text": [
      "191 ms ± 43.8 ms per loop (mean ± std. dev. of 10 runs, 2 loops each)\n"
     ]
    }
   ],
   "source": [
    "%%timeit -n2 -r10\n",
    "\n",
    "# inefficient!  Requires full table scan.\n",
    "(Rat() & {'rat_id': 300}).fetch()"
   ]
  },
  {
   "cell_type": "code",
   "execution_count": 22,
   "metadata": {},
   "outputs": [
    {
     "name": "stdout",
     "output_type": "stream",
     "text": [
      "43.7 ms ± 20.8 ms per loop (mean ± std. dev. of 10 runs, 2 loops each)\n"
     ]
    }
   ],
   "source": [
    "%%timeit -n2 -r10\n",
    "\n",
    "# efficient! Uses the primary key\n",
    "(Rat() & {'rat_id': 300, 'lab_name': 'Cajal'}).fetch()"
   ]
  },
  {
   "cell_type": "code",
   "execution_count": null,
   "metadata": {},
   "outputs": [],
   "source": [
    "%%timeit -n2 -r10\n",
    "\n",
    "# inefficient! Requires a full table scan\n",
    "len(Rat & {'rat_id': 500})"
   ]
  },
  {
   "cell_type": "markdown",
   "metadata": {},
   "source": [
    "Pattern searches in strings can benefit from an index when the starting characters are specified."
   ]
  },
  {
   "cell_type": "code",
   "execution_count": 28,
   "metadata": {},
   "outputs": [
    {
     "name": "stdout",
     "output_type": "stream",
     "text": [
      "1.73 s ± 69.9 ms per loop (mean ± std. dev. of 2 runs, 2 loops each)\n"
     ]
    }
   ],
   "source": [
    "%%timeit -n2 -r2\n",
    "\n",
    "# efficient! Uses the primary key\n",
    "(Rat & 'lab_name LIKE \"Caj%\"').fetch()"
   ]
  },
  {
   "cell_type": "code",
   "execution_count": 29,
   "metadata": {},
   "outputs": [
    {
     "name": "stdout",
     "output_type": "stream",
     "text": [
      "1.83 s ± 37.9 ms per loop (mean ± std. dev. of 2 runs, 2 loops each)\n"
     ]
    }
   ],
   "source": [
    "%%timeit -n2 -r2\n",
    "\n",
    "# inefficient! requires a full table scan\n",
    "(Rat & 'lab_name LIKE \"%jal\"').fetch()"
   ]
  },
  {
   "cell_type": "markdown",
   "metadata": {},
   "source": [
    "Similarly, searching by the date requires an inefficient full-table scan:"
   ]
  },
  {
   "cell_type": "code",
   "execution_count": 32,
   "metadata": {},
   "outputs": [
    {
     "name": "stdout",
     "output_type": "stream",
     "text": [
      "562 ms ± 106 ms per loop (mean ± std. dev. of 2 runs, 2 loops each)\n"
     ]
    }
   ],
   "source": [
    "%%timeit -n2 -r2\n",
    "\n",
    "len(Rat & 'date_of_birth > \"2019-10-02\"')"
   ]
  },
  {
   "cell_type": "code",
   "execution_count": null,
   "metadata": {},
   "outputs": [],
   "source": []
  },
  {
   "cell_type": "markdown",
   "metadata": {},
   "source": [
    "To speed up searches by the `rat_id` and `date_of_birth`, we can explicit indexes to `Rat`:"
   ]
  },
  {
   "cell_type": "code",
   "execution_count": 33,
   "metadata": {},
   "outputs": [
    {
     "name": "stdout",
     "output_type": "stream",
     "text": [
      "`test_indexes`.`rat` (470183 tuples)\n",
      "Proceed? [yes, No]: yes\n",
      "Tables dropped.  Restart kernel.\n"
     ]
    }
   ],
   "source": [
    "Rat.drop()"
   ]
  },
  {
   "cell_type": "code",
   "execution_count": 34,
   "metadata": {},
   "outputs": [],
   "source": [
    "@schema\n",
    "class Rat(dj.Manual):\n",
    "    definition = \"\"\"\n",
    "    lab_name : char(16) \n",
    "    rat_id : int unsigned # lab-specific ID\n",
    "    ---\n",
    "    date_of_birth = null : date\n",
    "\n",
    "    index(rat_id)\n",
    "    index(date_of_birth)\n",
    "    \"\"\""
   ]
  },
  {
   "cell_type": "code",
   "execution_count": 35,
   "metadata": {},
   "outputs": [],
   "source": [
    "populate_rats()"
   ]
  },
  {
   "cell_type": "code",
   "execution_count": 36,
   "metadata": {},
   "outputs": [
    {
     "name": "stdout",
     "output_type": "stream",
     "text": [
      "37.1 ms ± 471 µs per loop (mean ± std. dev. of 10 runs, 2 loops each)\n"
     ]
    }
   ],
   "source": [
    "%%timeit -n2 -r10\n",
    "\n",
    "# efficient!  uses index on rat_id\n",
    "(Rat() & {'rat_id': 300}).fetch()"
   ]
  },
  {
   "cell_type": "code",
   "execution_count": 37,
   "metadata": {},
   "outputs": [
    {
     "name": "stdout",
     "output_type": "stream",
     "text": [
      "309 ms ± 9.72 ms per loop (mean ± std. dev. of 2 runs, 2 loops each)\n"
     ]
    }
   ],
   "source": [
    "%%timeit -n2 -r2\n",
    "\n",
    "# efficient! uses index on date_of_birth\n",
    "len(Rat & 'date_of_birth > \"2019-10-02\"')"
   ]
  },
  {
   "cell_type": "markdown",
   "metadata": {},
   "source": [
    "#### Quiz: How many indexes does the table `Rat` have?"
   ]
  },
  {
   "cell_type": "code",
   "execution_count": null,
   "metadata": {},
   "outputs": [],
   "source": [
    "Rat.describe();"
   ]
  },
  {
   "cell_type": "markdown",
   "metadata": {},
   "source": [
    "#### Answer\n"
   ]
  },
  {
   "cell_type": "markdown",
   "metadata": {},
   "source": [
    "Three: primary key, rat_id, date_of_birth"
   ]
  },
  {
   "cell_type": "markdown",
   "metadata": {},
   "source": [
    "# Indexes in SQL"
   ]
  },
  {
   "cell_type": "code",
   "execution_count": null,
   "metadata": {},
   "outputs": [],
   "source": [
    "import json\n",
    "import pymysql \n",
    "\n",
    "pymysql.install_as_MySQLdb()\n",
    "\n",
    "with open('cred.json') as f:\n",
    "    creds = json.load(f)\n",
    "\n",
    "connection_string = \"mysql://{user}:{password}@{host}\".format(**creds)"
   ]
  },
  {
   "cell_type": "code",
   "execution_count": null,
   "metadata": {},
   "outputs": [],
   "source": [
    "%load_ext sql\n",
    "%config SqlMagic.autocommit=True\n",
    "%sql $connection_string"
   ]
  },
  {
   "cell_type": "code",
   "execution_count": null,
   "metadata": {},
   "outputs": [],
   "source": [
    "%%sql\n",
    "\n",
    "create database dimitri_indexes"
   ]
  },
  {
   "cell_type": "code",
   "execution_count": null,
   "metadata": {},
   "outputs": [],
   "source": [
    "%%sql\n",
    "\n",
    "SHOW TABLES in dimitri_indexes;"
   ]
  },
  {
   "cell_type": "code",
   "execution_count": null,
   "metadata": {},
   "outputs": [],
   "source": [
    "%%sql\n",
    "\n",
    "CREATE TABLE dimitri_indexes.mouse(\n",
    "mouse_id  int  NOT NULL,\n",
    "tag_id int NOT NULL,\n",
    "primary key(mouse_id)\n",
    ")"
   ]
  },
  {
   "cell_type": "code",
   "execution_count": null,
   "metadata": {},
   "outputs": [],
   "source": [
    "%%sql\n",
    "\n",
    "drop table dimitri_indexes.mouse"
   ]
  },
  {
   "cell_type": "code",
   "execution_count": null,
   "metadata": {},
   "outputs": [],
   "source": [
    "%%sql\n",
    "\n",
    "CREATE TABLE dimitri_indexes.mouse(\n",
    "mouse_id  int  NOT NULL,\n",
    "tag_id int NOT NULL,\n",
    "primary key(mouse_id),\n",
    "index (tag_id)\n",
    ")"
   ]
  },
  {
   "cell_type": "code",
   "execution_count": null,
   "metadata": {},
   "outputs": [],
   "source": [
    "%%sql\n",
    "\n",
    "CREATE UNIQUE INDEX mouse_idx ON dimitri_indexes.mouse (tag_id)"
   ]
  },
  {
   "cell_type": "code",
   "execution_count": null,
   "metadata": {},
   "outputs": [],
   "source": [
    "%%sql\n",
    "\n",
    "DROP KEY mouse_idx"
   ]
  }
 ],
 "metadata": {
  "kernelspec": {
   "display_name": "Python 3",
   "language": "python",
   "name": "python3"
  },
  "language_info": {
   "codemirror_mode": {
    "name": "ipython",
    "version": 3
   },
   "file_extension": ".py",
   "mimetype": "text/x-python",
   "name": "python",
   "nbconvert_exporter": "python",
   "pygments_lexer": "ipython3",
   "version": "3.9.7"
  }
 },
 "nbformat": 4,
 "nbformat_minor": 2
}

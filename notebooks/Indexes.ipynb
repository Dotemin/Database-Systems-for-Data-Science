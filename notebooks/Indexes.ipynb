{
 "cells": [
  {
   "cell_type": "markdown",
   "metadata": {
    "slideshow": {
     "slide_type": "slide"
    }
   },
   "source": [
    "# Indexes\n",
    "\n",
    "Table indexes are data structures that allow fast lookups by an indexed attribute or combination of attributes.\n",
    "\n",
    "In DataJoint, indexes are created by one of the three mechanisms:\n",
    "\n",
    "1. Primary key \n",
    "2. Foreign key \n",
    "3. Explicitly defined indexes\n",
    "\n",
    "The first two mechanisms are obligatory. Every table has a primary key, which serves as an unique index. Therefore, restrictions by a primary key are very fast. Foreign keys create additional indexes unless a suitable index already exists."
   ]
  },
  {
   "cell_type": "markdown",
   "metadata": {},
   "source": [
    "Let's test this principle. Let's create a table with a 10,000 entries and compare lookup times:"
   ]
  },
  {
   "cell_type": "code",
   "execution_count": null,
   "metadata": {},
   "outputs": [],
   "source": [
    "import datajoint as dj\n",
    "schema = dj.schema('test_indexes')\n",
    "schema.drop() # drop previous schema definition (if any) and create anew\n",
    "schema = dj.schema('test_indexes')"
   ]
  },
  {
   "cell_type": "markdown",
   "metadata": {},
   "source": [
    "Let's say a mouse in the lab has a lab-specific ID but it also has a separate id issued by the animal facility."
   ]
  },
  {
   "cell_type": "code",
   "execution_count": null,
   "metadata": {},
   "outputs": [],
   "source": [
    "@schema\n",
    "class Mouse(dj.Manual):\n",
    "    definition = \"\"\"\n",
    "    mouse_id : int  # lab-specific ID\n",
    "    ---\n",
    "    tag_id : int  # animal facility ID\n",
    "    \"\"\""
   ]
  },
  {
   "cell_type": "code",
   "execution_count": null,
   "metadata": {},
   "outputs": [],
   "source": [
    "import random\n",
    "def populate_mice(n=200_000):\n",
    "    \"\"\"insert a bunch of mice\"\"\"\n",
    "    Mouse.insert(\n",
    "        ((random.randint(1,1000_000_000), random.randint(1,1000_000_000)) \n",
    "         for i in range(n)), skip_duplicates=True)"
   ]
  },
  {
   "cell_type": "code",
   "execution_count": null,
   "metadata": {},
   "outputs": [],
   "source": [
    "populate_mice()"
   ]
  },
  {
   "cell_type": "code",
   "execution_count": null,
   "metadata": {},
   "outputs": [],
   "source": [
    "Mouse()"
   ]
  },
  {
   "cell_type": "code",
   "execution_count": null,
   "metadata": {},
   "outputs": [],
   "source": [
    "%%timeit -n10 -r10\n",
    "\n",
    "# efficient! Uses the primary key\n",
    "(Mouse() & {'mouse_id': random.randint(0, 999_999)}).fetch()"
   ]
  },
  {
   "cell_type": "code",
   "execution_count": null,
   "metadata": {},
   "outputs": [],
   "source": [
    "%%timeit -n10 -r10\n",
    "\n",
    "# inefficient! Requires a full table scan\n",
    "(Mouse() & {'tag_id': random.randint(0, 999_999)}).fetch()"
   ]
  },
  {
   "cell_type": "markdown",
   "metadata": {},
   "source": [
    "The indexed searches are much faster!"
   ]
  },
  {
   "cell_type": "markdown",
   "metadata": {},
   "source": [
    "To make searches faster on fields other than the primary key or a foreign key, you can add a secondary index explicitly. \n",
    "\n",
    "Regular indexes are declared as `index(attr1, ..., attrN)` on a separate line anywhere in the table declration (below the primary key divide). \n",
    "\n",
    "Indexes can be declared with unique constraint as  `unique index (attr1, ..., attrN)`."
   ]
  },
  {
   "cell_type": "markdown",
   "metadata": {},
   "source": [
    "Let's redeclare the table with a unique index on `tag_id`."
   ]
  },
  {
   "cell_type": "code",
   "execution_count": null,
   "metadata": {},
   "outputs": [],
   "source": [
    "Mouse.drop()"
   ]
  },
  {
   "cell_type": "code",
   "execution_count": null,
   "metadata": {},
   "outputs": [],
   "source": [
    "@schema\n",
    "class Mouse(dj.Manual):\n",
    "    definition = \"\"\"\n",
    "    mouse_id : int  # lab-specific ID\n",
    "    ---\n",
    "    tag_id : int  # animal facility ID\n",
    "    unique index (tag_id)\n",
    "    \"\"\""
   ]
  },
  {
   "cell_type": "code",
   "execution_count": null,
   "metadata": {},
   "outputs": [],
   "source": [
    "populate_mice()"
   ]
  },
  {
   "cell_type": "code",
   "execution_count": null,
   "metadata": {},
   "outputs": [],
   "source": [
    "Mouse()"
   ]
  },
  {
   "cell_type": "markdown",
   "metadata": {},
   "source": [
    "Now both types of searches are equally efficient!"
   ]
  },
  {
   "cell_type": "code",
   "execution_count": null,
   "metadata": {},
   "outputs": [],
   "source": [
    "%%timeit -n10 -r10\n",
    "\n",
    "#efficient! Uses the primary key\n",
    "(Mouse() & {'mouse_id': random.randint(0, 999_999)}).fetch()"
   ]
  },
  {
   "cell_type": "code",
   "execution_count": null,
   "metadata": {},
   "outputs": [],
   "source": [
    "%%timeit -n10 -r10\n",
    "\n",
    "#efficient! Uses the seconary index on tag_id\n",
    "(Mouse() & {'tag_id': random.randint(0, 999_999)}).fetch()"
   ]
  },
  {
   "cell_type": "markdown",
   "metadata": {},
   "source": [
    "Let's now imagine that rats in the `Rat` table are identified by the combination of lab the `lab_name` and `rat_id` in each lab:"
   ]
  },
  {
   "cell_type": "code",
   "execution_count": null,
   "metadata": {},
   "outputs": [],
   "source": [
    "@schema\n",
    "class Rat(dj.Manual):\n",
    "    definition = \"\"\"\n",
    "    lab_name : char(16) \n",
    "    rat_id : int unsigned # lab-specific ID\n",
    "    ---\n",
    "    date_of_birth = null : date\n",
    "    \"\"\""
   ]
  },
  {
   "cell_type": "code",
   "execution_count": null,
   "metadata": {},
   "outputs": [],
   "source": [
    "def populate_rats():\n",
    "    lab_names = (\"Cajal\", \"Kandel\", \"Moser\", \"Wiesel\")\n",
    "    for date_of_birth in (None, \"2019-10-01\", \"2019-10-02\", \"2019-10-03\", \"2019-10-04\"):\n",
    "        Rat.insert((\n",
    "            (random.choice(lab_names), random.randint(1, 1_000_000), date_of_birth) \n",
    "                   for i in range(100_000)), skip_duplicates=True)"
   ]
  },
  {
   "cell_type": "code",
   "execution_count": null,
   "metadata": {},
   "outputs": [],
   "source": [
    "populate_rats()"
   ]
  },
  {
   "cell_type": "code",
   "execution_count": null,
   "metadata": {},
   "outputs": [],
   "source": [
    "Rat()"
   ]
  },
  {
   "cell_type": "markdown",
   "metadata": {},
   "source": [
    "Note that dispite the fact that `rat_id` is in the index, search by `rat_id` alone are not helped by the index because it is not first in the index. This is similar to search for a word in a dictionary that orders words alphabetically. Searching by the first letters of a word is easy but searching by the last few letters of a word requires scanning the whole dictionary."
   ]
  },
  {
   "cell_type": "markdown",
   "metadata": {},
   "source": [
    "In this table, the primary key is a unique index on the combination `(lab_id, rat_id)`. Therefore searches on these attributes or on `lab_id` alone are fast. But this index cannot help searches on `rat_id` alone:"
   ]
  },
  {
   "cell_type": "code",
   "execution_count": null,
   "metadata": {},
   "outputs": [],
   "source": [
    "%%timeit -n2 -r10\n",
    "\n",
    "# inefficient!  Requires full table scan.\n",
    "(Rat() & {'rat_id': 300}).fetch()"
   ]
  },
  {
   "cell_type": "code",
   "execution_count": null,
   "metadata": {},
   "outputs": [],
   "source": [
    "%%timeit -n2 -r10\n",
    "\n",
    "# efficient! Uses the primary key\n",
    "(Rat() & {'rat_id': 300, 'lab_name': 'Cajal'}).fetch()"
   ]
  },
  {
   "cell_type": "code",
   "execution_count": null,
   "metadata": {},
   "outputs": [],
   "source": [
    "%%timeit -n2 -r10\n",
    "\n",
    "# inefficient! Requires a full table scan\n",
    "len(Rat & {'rat_id': 500})"
   ]
  },
  {
   "cell_type": "markdown",
   "metadata": {},
   "source": [
    "Pattern searches in strings can benefit from an index when the starting characters are specified."
   ]
  },
  {
   "cell_type": "code",
   "execution_count": null,
   "metadata": {},
   "outputs": [],
   "source": [
    "%%timeit -n2 -r10\n",
    "\n",
    "# efficient! Uses the primary key\n",
    "len(Rat & 'lab_name LIKE \"Caj%\"')"
   ]
  },
  {
   "cell_type": "code",
   "execution_count": null,
   "metadata": {},
   "outputs": [],
   "source": [
    "%%timeit -n2 -r10\n",
    "\n",
    "# inefficient! requires a full table scan\n",
    "len(Rat & 'lab_name LIKE \"%jal\"')"
   ]
  },
  {
   "cell_type": "markdown",
   "metadata": {},
   "source": [
    "Similarly, searching by the date requires an inefficient full-table scan:"
   ]
  },
  {
   "cell_type": "code",
   "execution_count": null,
   "metadata": {},
   "outputs": [],
   "source": [
    "%%timeit -n2 -r10\n",
    "\n",
    "len(Rat & 'date_of_birth > \"2019-10-02\"')"
   ]
  },
  {
   "cell_type": "markdown",
   "metadata": {},
   "source": [
    "To speed up searches by the `rat_id` and `date_of_birth`, we can explicit indexes to `Rat`:"
   ]
  },
  {
   "cell_type": "code",
   "execution_count": null,
   "metadata": {},
   "outputs": [],
   "source": [
    "Rat.drop()"
   ]
  },
  {
   "cell_type": "code",
   "execution_count": null,
   "metadata": {},
   "outputs": [],
   "source": [
    "@schema\n",
    "class Rat(dj.Manual):\n",
    "    definition = \"\"\"\n",
    "    lab_name : char(16) \n",
    "    rat_id : int unsigned # lab-specific ID\n",
    "    ---\n",
    "    date_of_birth = null : date\n",
    "\n",
    "    index(rat_id)\n",
    "    index(date_of_birth)\n",
    "    \"\"\""
   ]
  },
  {
   "cell_type": "code",
   "execution_count": null,
   "metadata": {},
   "outputs": [],
   "source": [
    "populate_rats()"
   ]
  },
  {
   "cell_type": "code",
   "execution_count": null,
   "metadata": {},
   "outputs": [],
   "source": [
    "%%timeit -n2 -r10\n",
    "\n",
    "# efficient!  uses index on rat_id\n",
    "(Rat() & {'rat_id': 300}).fetch()"
   ]
  },
  {
   "cell_type": "code",
   "execution_count": null,
   "metadata": {},
   "outputs": [],
   "source": [
    "%%timeit -n2 -r10\n",
    "\n",
    "# efficient! uses index on date_of_birth\n",
    "len(Rat & 'date_of_birth > \"2019-10-02\"')"
   ]
  },
  {
   "cell_type": "markdown",
   "metadata": {},
   "source": [
    "#### Quiz: How many indexes does the table `Rat` have?"
   ]
  },
  {
   "cell_type": "code",
   "execution_count": null,
   "metadata": {},
   "outputs": [],
   "source": [
    "Rat.describe();"
   ]
  },
  {
   "cell_type": "markdown",
   "metadata": {},
   "source": [
    "#### Answer\n"
   ]
  },
  {
   "cell_type": "code",
   "execution_count": null,
   "metadata": {},
   "outputs": [],
   "source": []
  }
 ],
 "metadata": {
  "kernelspec": {
   "display_name": "Python 3",
   "language": "python",
   "name": "python3"
  },
  "language_info": {
   "codemirror_mode": {
    "name": "ipython",
    "version": 3
   },
   "file_extension": ".py",
   "mimetype": "text/x-python",
   "name": "python",
   "nbconvert_exporter": "python",
   "pygments_lexer": "ipython3",
   "version": "3.8.5"
  }
 },
 "nbformat": 4,
 "nbformat_minor": 2
}

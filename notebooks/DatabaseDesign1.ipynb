{
 "cells": [
  {
   "cell_type": "markdown",
   "metadata": {},
   "source": [
    "# Publication database\n",
    "Create a database that tracks publications and their authors in order"
   ]
  },
  {
   "cell_type": "code",
   "execution_count": null,
   "metadata": {},
   "outputs": [],
   "source": [
    "import datajoint as dj"
   ]
  },
  {
   "cell_type": "code",
   "execution_count": null,
   "metadata": {},
   "outputs": [],
   "source": [
    "schema = dj.schema('dimitri_publications')"
   ]
  },
  {
   "cell_type": "code",
   "execution_count": null,
   "metadata": {},
   "outputs": [],
   "source": [
    "@schema\n",
    "class Publication(dj.Manual):\n",
    "    definition = \"\"\"\n",
    "    pub_id : int \n",
    "    ---\n",
    "    title : varchar(1000)\n",
    "    publish_date  : date \n",
    "    author : varchar(1000)\n",
    "    \"\"\""
   ]
  },
  {
   "cell_type": "code",
   "execution_count": null,
   "metadata": {},
   "outputs": [],
   "source": [
    "import faker\n",
    "faker = faker.Faker()"
   ]
  },
  {
   "cell_type": "code",
   "execution_count": null,
   "metadata": {},
   "outputs": [],
   "source": [
    "for i in range(30):\n",
    "    Publication.insert1(dict(\n",
    "        pub_id=i, title=faker.sentence(), \n",
    "        publish_date=faker.date_this_decade(), author=faker.name()), skip_duplicates=True)"
   ]
  },
  {
   "cell_type": "code",
   "execution_count": null,
   "metadata": {},
   "outputs": [],
   "source": [
    "Publication()"
   ]
  },
  {
   "cell_type": "markdown",
   "metadata": {},
   "source": [
    "# New design. Many-many publication/author"
   ]
  },
  {
   "cell_type": "code",
   "execution_count": null,
   "metadata": {},
   "outputs": [],
   "source": [
    "schema.drop()\n",
    "schema = dj.schema('dimitri_publications')"
   ]
  },
  {
   "cell_type": "code",
   "execution_count": null,
   "metadata": {},
   "outputs": [],
   "source": [
    "@schema \n",
    "class Author(dj.Manual):\n",
    "    definition = \"\"\"\n",
    "    author_id : int \n",
    "    ---\n",
    "    first_name : varchar(100)\n",
    "    last_name : varchar(100)\n",
    "    \"\"\""
   ]
  },
  {
   "cell_type": "code",
   "execution_count": null,
   "metadata": {},
   "outputs": [],
   "source": [
    "for i in range(100):\n",
    "    Author.insert1(dict(author_id=i, first_name=faker.first_name(), last_name=faker.last_name()))  "
   ]
  },
  {
   "cell_type": "code",
   "execution_count": null,
   "metadata": {},
   "outputs": [],
   "source": [
    "# same thing but faster\n",
    "Author.insert((\n",
    "    dict(author_id=i, first_name=faker.first_name(), last_name=faker.last_name()) for i in range(100))\n",
    "    , skip_duplicates=True)"
   ]
  },
  {
   "cell_type": "code",
   "execution_count": null,
   "metadata": {},
   "outputs": [],
   "source": [
    "Author()"
   ]
  },
  {
   "cell_type": "code",
   "execution_count": null,
   "metadata": {},
   "outputs": [],
   "source": [
    "@schema\n",
    "class Publication(dj.Manual):\n",
    "    definition = \"\"\"\n",
    "    pub_id : int \n",
    "    ---\n",
    "    title : varchar(1000)\n",
    "    publish_date  : date \n",
    "    \"\"\""
   ]
  },
  {
   "cell_type": "code",
   "execution_count": null,
   "metadata": {},
   "outputs": [],
   "source": [
    "Publication.insert([dict(\n",
    "    pub_id=i, title=faker.sentence(), \n",
    "    publish_date=faker.date_this_decade()) for i in range(30)], skip_duplicates=True)"
   ]
  },
  {
   "cell_type": "code",
   "execution_count": null,
   "metadata": {},
   "outputs": [],
   "source": [
    "Publication()"
   ]
  },
  {
   "cell_type": "code",
   "execution_count": null,
   "metadata": {},
   "outputs": [],
   "source": [
    "@schema\n",
    "class PubAuthor(dj.Manual):\n",
    "    definition = \"\"\"\n",
    "    -> Publication\n",
    "    -> Author\n",
    "    \"\"\""
   ]
  },
  {
   "cell_type": "code",
   "execution_count": null,
   "metadata": {},
   "outputs": [],
   "source": [
    "authors = Author.fetch(\"KEY\")\n",
    "pubs = Publication.fetch(\"KEY\")"
   ]
  },
  {
   "cell_type": "code",
   "execution_count": null,
   "metadata": {},
   "outputs": [],
   "source": [
    "import random"
   ]
  },
  {
   "cell_type": "code",
   "execution_count": null,
   "metadata": {},
   "outputs": [],
   "source": [
    "for pub in pubs:\n",
    "    for auth in random.choices(authors, k=random.randint(1, 3)):\n",
    "        PubAuthor.insert1({**pub, **auth}, skip_duplicates=True)"
   ]
  },
  {
   "cell_type": "code",
   "execution_count": null,
   "metadata": {},
   "outputs": [],
   "source": [
    "PubAuthor()"
   ]
  },
  {
   "cell_type": "code",
   "execution_count": null,
   "metadata": {},
   "outputs": [],
   "source": [
    "Publication * PubAuthor * Author & 'pub_id=6'"
   ]
  },
  {
   "cell_type": "markdown",
   "metadata": {},
   "source": [
    "### Modify the design to specify the order of authors on the publication"
   ]
  },
  {
   "cell_type": "code",
   "execution_count": null,
   "metadata": {},
   "outputs": [],
   "source": [
    "PubAuthor.drop()"
   ]
  },
  {
   "cell_type": "code",
   "execution_count": null,
   "metadata": {},
   "outputs": [],
   "source": [
    "@schema\n",
    "class PubAuthor(dj.Manual):\n",
    "    definition = \"\"\"\n",
    "    -> Publication\n",
    "    -> Author\n",
    "    ---\n",
    "    author_order : tinyint \n",
    "    unique index(pub_id, author_order)\n",
    "    \"\"\""
   ]
  },
  {
   "cell_type": "code",
   "execution_count": null,
   "metadata": {},
   "outputs": [],
   "source": [
    "for pub in pubs:\n",
    "    for author_order, auth in enumerate(random.choices(authors, k=random.randint(1, 3))):\n",
    "        PubAuthor.insert1(dict(**pub, **auth, author_order=author_order+1), skip_duplicates=True)"
   ]
  },
  {
   "cell_type": "code",
   "execution_count": null,
   "metadata": {},
   "outputs": [],
   "source": [
    "PubAuthor()"
   ]
  },
  {
   "cell_type": "code",
   "execution_count": null,
   "metadata": {},
   "outputs": [],
   "source": [
    "@schema\n",
    "class PubAuthor(dj.Manual):\n",
    "    definition = \"\"\"\n",
    "    -> Publication\n",
    "    author_order : tinyint \n",
    "    ---\n",
    "    -> Author\n",
    "    unique index (pub_id, author_id)\n",
    "    \"\"\""
   ]
  },
  {
   "cell_type": "markdown",
   "metadata": {},
   "source": [
    "### Think next\n",
    "\n",
    "Design a database with\n",
    "- Cities\n",
    "- States\n",
    "- State capitals\n",
    "\n",
    "1. Cities belong to states\n",
    "2. A state capital is a city \n",
    "3. A capital must be in the same state \n",
    "4. Only one city can be capital in each state"
   ]
  }
 ],
 "metadata": {
  "kernelspec": {
   "display_name": "Python 3",
   "language": "python",
   "name": "python3"
  },
  "language_info": {
   "codemirror_mode": {
    "name": "ipython",
    "version": 3
   },
   "file_extension": ".py",
   "mimetype": "text/x-python",
   "name": "python",
   "nbconvert_exporter": "python",
   "pygments_lexer": "ipython3",
   "version": "3.8.5"
  }
 },
 "nbformat": 4,
 "nbformat_minor": 4
}

{
 "cells": [
  {
   "cell_type": "markdown",
   "id": "e39d7975",
   "metadata": {},
   "source": [
    "# Configure DataJoint connection\n",
    "This script sets the password from cred.json into the local DataJoint configuration file. All datajoint scripts and notebook run from this folder will *know* how to connect to the database server."
   ]
  },
  {
   "cell_type": "code",
   "execution_count": null,
   "id": "387ef0a8",
   "metadata": {},
   "outputs": [],
   "source": [
    "import datajoint as dj"
   ]
  },
  {
   "cell_type": "code",
   "execution_count": null,
   "id": "2ef317cd",
   "metadata": {},
   "outputs": [],
   "source": [
    "# Read the database credentials: host, user, and password\n",
    "import json\n",
    "with open('cred.json') as f:\n",
    "    creds = json.load(f)"
   ]
  },
  {
   "cell_type": "code",
   "execution_count": null,
   "id": "7181620c",
   "metadata": {},
   "outputs": [],
   "source": [
    "# Save the credentials for datajoint\n",
    "dj.config.update(**creds)\n",
    "dj.config.save_local()"
   ]
  }
 ],
 "metadata": {
  "kernelspec": {
   "display_name": "Python 3",
   "language": "python",
   "name": "python3"
  },
  "language_info": {
   "codemirror_mode": {
    "name": "ipython",
    "version": 3
   },
   "file_extension": ".py",
   "mimetype": "text/x-python",
   "name": "python",
   "nbconvert_exporter": "python",
   "pygments_lexer": "ipython3",
   "version": "3.9.2"
  }
 },
 "nbformat": 4,
 "nbformat_minor": 5
}

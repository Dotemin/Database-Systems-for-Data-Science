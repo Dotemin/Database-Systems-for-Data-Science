{
 "cells": [
  {
   "cell_type": "markdown",
   "id": "e39d7975",
   "metadata": {},
   "source": [
    "# Configure DataJoint connection\n",
    "This script sets the password from cred.json into the local DataJoint configuration file. All datajoint scripts and notebook run from this folder will *know* how to connect to the database server."
   ]
  },
  {
   "cell_type": "code",
   "execution_count": 1,
   "id": "387ef0a8",
   "metadata": {},
   "outputs": [],
   "source": [
    "import datajoint as dj"
   ]
  },
  {
   "cell_type": "code",
   "execution_count": 2,
   "id": "2ef317cd",
   "metadata": {},
   "outputs": [],
   "source": [
    "# Read the database credentials: host, user, and password\n",
    "import json\n",
    "with open('cred.json') as f:\n",
    "    creds = json.load(f)"
   ]
  },
  {
   "cell_type": "code",
   "execution_count": 3,
   "id": "7181620c",
   "metadata": {},
   "outputs": [],
   "source": [
    "# Save the credentials for datajoint\n",
    "dj.config['database.host'] = creds['host']\n",
    "dj.config['database.user'] = creds['user']\n",
    "dj.config['database.password'] = creds['password']\n",
    "dj.config.save_local()"
   ]
  },
  {
   "cell_type": "code",
   "execution_count": 4,
   "id": "47540886",
   "metadata": {},
   "outputs": [
    {
     "name": "stderr",
     "output_type": "stream",
     "text": [
      "[2022-09-06 18:00:54,666][INFO]: Connecting dimitri@db.ust-data-sci.net:3306\n",
      "[2022-09-06 18:00:55,014][INFO]: Connected dimitri@db.ust-data-sci.net:3306\n"
     ]
    },
    {
     "data": {
      "text/plain": [
       "DataJoint connection (connected) dimitri@db.ust-data-sci.net:3306"
      ]
     },
     "execution_count": 4,
     "metadata": {},
     "output_type": "execute_result"
    }
   ],
   "source": [
    "dj.conn()"
   ]
  },
  {
   "cell_type": "code",
   "execution_count": null,
   "id": "dea5b154",
   "metadata": {},
   "outputs": [],
   "source": []
  }
 ],
 "metadata": {
  "kernelspec": {
   "display_name": "benv",
   "language": "python",
   "name": "benv"
  },
  "language_info": {
   "codemirror_mode": {
    "name": "ipython",
    "version": 3
   },
   "file_extension": ".py",
   "mimetype": "text/x-python",
   "name": "python",
   "nbconvert_exporter": "python",
   "pygments_lexer": "ipython3",
   "version": "3.10.4"
  }
 },
 "nbformat": 4,
 "nbformat_minor": 5
}

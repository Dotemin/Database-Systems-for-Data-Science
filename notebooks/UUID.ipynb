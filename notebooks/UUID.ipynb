{
 "cells": [
  {
   "cell_type": "markdown",
   "metadata": {},
   "source": [
    "# UUIDs\n",
    "## Background\n",
    "Universally Unique Identifiers (UUIDs) provide convenient mechanisms for identifying pieces of information (objects) inside an information system. Various conventions exist. However, general patterns have been established and formalized as RFC 4122.\n",
    "\n",
    "Comprised of hex digits, UUIDs have the pattern `8-4-4-4-12`, e.g. `e45ba2cc-39db-11e9-8e62-7470fdf23ef1`.\n",
    "\n",
    "It adds up to 36 characters (32 hex + 4 hyphens), or 16 bytes of information (128 bits).\n",
    "\n",
    "Python provides a [UUID module](https://docs.python.org/3/library/uuid.html) in its standard library."
   ]
  },
  {
   "cell_type": "code",
   "execution_count": 2,
   "metadata": {},
   "outputs": [],
   "source": [
    "import uuid"
   ]
  },
  {
   "cell_type": "code",
   "execution_count": 3,
   "metadata": {},
   "outputs": [
    {
     "name": "stdout",
     "output_type": "stream",
     "text": [
      "Help on function uuid1 in module uuid:\n",
      "\n",
      "uuid1(node=None, clock_seq=None)\n",
      "    Generate a UUID from a host ID, sequence number, and the current time.\n",
      "    If 'node' is not given, getnode() is used to obtain the hardware\n",
      "    address.  If 'clock_seq' is given, it is used as the sequence number;\n",
      "    otherwise a random 14-bit sequence number is chosen.\n",
      "\n"
     ]
    }
   ],
   "source": [
    "help(uuid.uuid1)"
   ]
  },
  {
   "cell_type": "code",
   "execution_count": 5,
   "metadata": {},
   "outputs": [
    {
     "data": {
      "text/plain": [
       "UUID('1925e366-2636-11ec-8d4c-acde48001122')"
      ]
     },
     "execution_count": 5,
     "metadata": {},
     "output_type": "execute_result"
    }
   ],
   "source": [
    "uuid.uuid1()"
   ]
  },
  {
   "cell_type": "code",
   "execution_count": 6,
   "metadata": {},
   "outputs": [
    {
     "data": {
      "text/plain": [
       "[UUID('2188acd2-2636-11ec-8d4c-acde48001122'),\n",
       " UUID('2188ad54-2636-11ec-8d4c-acde48001122'),\n",
       " UUID('2188ad7c-2636-11ec-8d4c-acde48001122'),\n",
       " UUID('2188ad9a-2636-11ec-8d4c-acde48001122'),\n",
       " UUID('2188adb8-2636-11ec-8d4c-acde48001122'),\n",
       " UUID('2188adcc-2636-11ec-8d4c-acde48001122'),\n",
       " UUID('2188adea-2636-11ec-8d4c-acde48001122'),\n",
       " UUID('2188adfe-2636-11ec-8d4c-acde48001122')]"
      ]
     },
     "execution_count": 6,
     "metadata": {},
     "output_type": "execute_result"
    }
   ],
   "source": [
    "# use the current hardware address and time\n",
    "[uuid.uuid1() for _ in range(8)]"
   ]
  },
  {
   "cell_type": "code",
   "execution_count": 7,
   "metadata": {},
   "outputs": [
    {
     "data": {
      "text/plain": [
       "[UUID('50f4be8e-2636-11ec-8d4c-acde48001122'),\n",
       " UUID('50f4bf10-2636-11ec-8d4c-acde48001122'),\n",
       " UUID('50f4bf38-2636-11ec-8d4c-acde48001122'),\n",
       " UUID('50f4bf56-2636-11ec-8d4c-acde48001122'),\n",
       " UUID('50f4bf6a-2636-11ec-8d4c-acde48001122')]"
      ]
     },
     "execution_count": 7,
     "metadata": {},
     "output_type": "execute_result"
    }
   ],
   "source": [
    "# use the current hardware address and time\n",
    "[uuid.uuid1() for _ in range(5)]"
   ]
  },
  {
   "cell_type": "code",
   "execution_count": 17,
   "metadata": {},
   "outputs": [
    {
     "data": {
      "text/plain": [
       "[UUID('b3079204-2636-11ec-8001-000000000003'),\n",
       " UUID('b3079286-2636-11ec-8001-000000000003'),\n",
       " UUID('b30792b8-2636-11ec-8001-000000000003'),\n",
       " UUID('b30792e0-2636-11ec-8001-000000000003'),\n",
       " UUID('b3079308-2636-11ec-8001-000000000003')]"
      ]
     },
     "execution_count": 17,
     "metadata": {},
     "output_type": "execute_result"
    }
   ],
   "source": [
    "# use fixed values\n",
    "[uuid.uuid1(3, 1) for _ in range(5)]"
   ]
  },
  {
   "cell_type": "code",
   "execution_count": 14,
   "metadata": {},
   "outputs": [
    {
     "name": "stdout",
     "output_type": "stream",
     "text": [
      "Help on function uuid1 in module uuid:\n",
      "\n",
      "uuid1(node=None, clock_seq=None)\n",
      "    Generate a UUID from a host ID, sequence number, and the current time.\n",
      "    If 'node' is not given, getnode() is used to obtain the hardware\n",
      "    address.  If 'clock_seq' is given, it is used as the sequence number;\n",
      "    otherwise a random 14-bit sequence number is chosen.\n",
      "\n"
     ]
    }
   ],
   "source": [
    "help(uuid.uuid1)"
   ]
  },
  {
   "cell_type": "code",
   "execution_count": 18,
   "metadata": {},
   "outputs": [
    {
     "name": "stdout",
     "output_type": "stream",
     "text": [
      "Help on function uuid3 in module uuid:\n",
      "\n",
      "uuid3(namespace, name)\n",
      "    Generate a UUID from the MD5 hash of a namespace UUID and a name.\n",
      "\n"
     ]
    }
   ],
   "source": [
    "help(uuid.uuid3)"
   ]
  },
  {
   "cell_type": "code",
   "execution_count": 19,
   "metadata": {},
   "outputs": [
    {
     "name": "stdout",
     "output_type": "stream",
     "text": [
      "Help on function uuid5 in module uuid:\n",
      "\n",
      "uuid5(namespace, name)\n",
      "    Generate a UUID from the SHA-1 hash of a namespace UUID and a name.\n",
      "\n"
     ]
    }
   ],
   "source": [
    "help(uuid.uuid5)"
   ]
  },
  {
   "cell_type": "code",
   "execution_count": 20,
   "metadata": {},
   "outputs": [],
   "source": [
    "top = uuid.UUID('00000000-0000-0000-0000-000000000000')\n"
   ]
  },
  {
   "cell_type": "code",
   "execution_count": 24,
   "metadata": {},
   "outputs": [
    {
     "data": {
      "text/plain": [
       "UUID('00000000-0000-0000-0000-000000000000')"
      ]
     },
     "execution_count": 24,
     "metadata": {},
     "output_type": "execute_result"
    }
   ],
   "source": [
    "top"
   ]
  },
  {
   "cell_type": "code",
   "execution_count": 25,
   "metadata": {},
   "outputs": [
    {
     "data": {
      "text/plain": [
       "UUID('913e0174-a390-5c08-b50a-623690546dd5')"
      ]
     },
     "execution_count": 25,
     "metadata": {},
     "output_type": "execute_result"
    }
   ],
   "source": [
    "topic = uuid.uuid5(top, 'Neuroscience')\n",
    "topic"
   ]
  },
  {
   "cell_type": "code",
   "execution_count": 27,
   "metadata": {},
   "outputs": [
    {
     "data": {
      "text/plain": [
       "UUID('b5804c3f-57b1-54e3-8176-3b45aa443a97')"
      ]
     },
     "execution_count": 27,
     "metadata": {},
     "output_type": "execute_result"
    }
   ],
   "source": [
    "subject1 = uuid.uuid5(topic, 'Habenula')\n",
    "subject1"
   ]
  },
  {
   "cell_type": "code",
   "execution_count": null,
   "metadata": {},
   "outputs": [],
   "source": [
    "top = uuid.UUID('00000000-0000-0000-0000-000000000000')\n",
    "topic = uuid.uuid5(top, 'Neuroscience')\n",
    "subject1 = uuid.uuid5(topic, 'Habenula')\n",
    "subject2 = uuid.uuid5(topic, 'Entorhinal cortex')\n",
    "subject3 = uuid.uuid5(topic, 'Habenula')\n",
    "\n",
    "topic = uuid.uuid5(top, 'Philosophy')\n",
    "subject4 = uuid.uuid5(topic, 'Habenula')\n",
    "\n",
    "topic, subject1, subject2, subject3, subject4"
   ]
  },
  {
   "cell_type": "code",
   "execution_count": null,
   "metadata": {},
   "outputs": [],
   "source": [
    "uuid.uuid5(subject4, 'study'*1000000)"
   ]
  },
  {
   "cell_type": "code",
   "execution_count": 29,
   "metadata": {},
   "outputs": [
    {
     "name": "stdout",
     "output_type": "stream",
     "text": [
      "Help on function uuid4 in module uuid:\n",
      "\n",
      "uuid4()\n",
      "    Generate a random UUID.\n",
      "\n"
     ]
    }
   ],
   "source": [
    "help(uuid.uuid4)"
   ]
  },
  {
   "cell_type": "code",
   "execution_count": 30,
   "metadata": {},
   "outputs": [
    {
     "data": {
      "text/plain": [
       "[UUID('795336f7-cf96-4705-a9d7-4ab2e941477e'),\n",
       " UUID('27396d4a-fef9-465a-b361-5b3606bec923'),\n",
       " UUID('9560ad9e-d9ae-4f55-9cdf-ca4c0501102c'),\n",
       " UUID('e1b7dd21-c914-49f9-a03e-8e2c162122c2'),\n",
       " UUID('b57aa3e9-1e75-4bbb-aeea-95313c2fcebc'),\n",
       " UUID('8e585de2-4947-4dc1-81e3-cebe051a70bf'),\n",
       " UUID('b9ad6070-b7cb-4145-b897-5b18db3ea36f'),\n",
       " UUID('9d825f1e-c669-48f9-9398-aa1ac89c7b6f'),\n",
       " UUID('a2ccf300-d4d5-425a-be0c-975637a8a3e4'),\n",
       " UUID('8b1c4a30-0f63-47f9-9220-45a4813170e6'),\n",
       " UUID('eb537ec2-f1db-4f11-9738-146ba14183e8'),\n",
       " UUID('a69d1373-16cd-4000-ae5a-fc3028b39d85')]"
      ]
     },
     "execution_count": 30,
     "metadata": {},
     "output_type": "execute_result"
    }
   ],
   "source": [
    "[uuid.uuid4() for _ in range(12)]"
   ]
  },
  {
   "cell_type": "code",
   "execution_count": null,
   "metadata": {},
   "outputs": [],
   "source": []
  },
  {
   "cell_type": "code",
   "execution_count": null,
   "metadata": {},
   "outputs": [],
   "source": [
    "a"
   ]
  },
  {
   "cell_type": "code",
   "execution_count": null,
   "metadata": {},
   "outputs": [],
   "source": [
    "s"
   ]
  },
  {
   "cell_type": "code",
   "execution_count": null,
   "metadata": {},
   "outputs": [],
   "source": [
    "uuid.UUID(s)"
   ]
  },
  {
   "cell_type": "markdown",
   "metadata": {},
   "source": [
    "## UUIDs in DataJoint"
   ]
  },
  {
   "cell_type": "code",
   "execution_count": 31,
   "metadata": {},
   "outputs": [
    {
     "data": {
      "text/plain": [
       "'0.13.3'"
      ]
     },
     "execution_count": 31,
     "metadata": {},
     "output_type": "execute_result"
    }
   ],
   "source": [
    "import datajoint as dj\n",
    "dj.__version__"
   ]
  },
  {
   "cell_type": "code",
   "execution_count": 32,
   "metadata": {},
   "outputs": [
    {
     "name": "stdout",
     "output_type": "stream",
     "text": [
      "Connecting dimitri@db.ust-db.link:3306\n"
     ]
    }
   ],
   "source": [
    "schema = dj.schema('dimitri_uuid')"
   ]
  },
  {
   "cell_type": "code",
   "execution_count": 33,
   "metadata": {},
   "outputs": [],
   "source": [
    "@schema\n",
    "class Message(dj.Manual):\n",
    "    definition = \"\"\"\n",
    "    message_id : uuid  # internal message id\n",
    "    ---\n",
    "    message_body : varchar(1000) \n",
    "    \"\"\""
   ]
  },
  {
   "cell_type": "code",
   "execution_count": 34,
   "metadata": {},
   "outputs": [
    {
     "name": "stdout",
     "output_type": "stream",
     "text": [
      "message_id           : uuid                         # internal message id\n",
      "---\n",
      "message_body         : varchar(1000)                \n",
      "\n"
     ]
    }
   ],
   "source": [
    "Message.describe();"
   ]
  },
  {
   "cell_type": "code",
   "execution_count": 35,
   "metadata": {},
   "outputs": [
    {
     "data": {
      "text/plain": [
       "'`message_id` binary(16) NOT NULL COMMENT \":uuid:internal message id\"'"
      ]
     },
     "execution_count": 35,
     "metadata": {},
     "output_type": "execute_result"
    }
   ],
   "source": [
    "# For the curious: Internally, DataJoint represents uuids as BINARY(16) \n",
    "Message.heading['message_id'].sql"
   ]
  },
  {
   "cell_type": "code",
   "execution_count": 39,
   "metadata": {},
   "outputs": [],
   "source": [
    "Message.insert1((uuid.uuid1(), 'Hello, world!'))\n",
    "Message.insert1((uuid.uuid1(), 'Cogito ergo sum'))"
   ]
  },
  {
   "cell_type": "code",
   "execution_count": 40,
   "metadata": {},
   "outputs": [
    {
     "data": {
      "text/html": [
       "\n",
       "    \n",
       "    <style type=\"text/css\">\n",
       "        .Relation{\n",
       "            border-collapse:collapse;\n",
       "        }\n",
       "        .Relation th{\n",
       "            background: #A0A0A0; color: #ffffff; padding:4px; border:#f0e0e0 1px solid;\n",
       "            font-weight: normal; font-family: monospace; font-size: 100%;\n",
       "        }\n",
       "        .Relation td{\n",
       "            padding:4px; border:#f0e0e0 1px solid; font-size:100%;\n",
       "        }\n",
       "        .Relation tr:nth-child(odd){\n",
       "            background: #ffffff;\n",
       "        }\n",
       "        .Relation tr:nth-child(even){\n",
       "            background: #f3f1ff;\n",
       "        }\n",
       "        /* Tooltip container */\n",
       "        .djtooltip {\n",
       "        }\n",
       "        /* Tooltip text */\n",
       "        .djtooltip .djtooltiptext {\n",
       "            visibility: hidden;\n",
       "            width: 120px;\n",
       "            background-color: black;\n",
       "            color: #fff;\n",
       "            text-align: center;\n",
       "            padding: 5px 0;\n",
       "            border-radius: 6px;\n",
       "            /* Position the tooltip text - see examples below! */\n",
       "            position: absolute;\n",
       "            z-index: 1;\n",
       "        }\n",
       "        #primary {\n",
       "            font-weight: bold;\n",
       "            color: black;\n",
       "        }\n",
       "        #nonprimary {\n",
       "            font-weight: normal;\n",
       "            color: white;\n",
       "        }\n",
       "\n",
       "        /* Show the tooltip text when you mouse over the tooltip container */\n",
       "        .djtooltip:hover .djtooltiptext {\n",
       "            visibility: visible;\n",
       "        }\n",
       "    </style>\n",
       "    \n",
       "    <b></b>\n",
       "        <div style=\"max-height:1000px;max-width:1500px;overflow:auto;\">\n",
       "        <table border=\"1\" class=\"Relation\">\n",
       "            <thead> <tr style=\"text-align: right;\"> <th> <div class=\"djtooltip\">\n",
       "                            <p id=\"primary\">message_id</p>\n",
       "                            <span class=\"djtooltiptext\">internal message id</span>\n",
       "                        </div></th><th><div class=\"djtooltip\">\n",
       "                            <p id=\"nonprimary\">message_body</p>\n",
       "                            <span class=\"djtooltiptext\"></span>\n",
       "                        </div> </th> </tr> </thead>\n",
       "            <tbody> <tr> <td>b11b840e-2637-11ec-8d4c-acde48001122</td>\n",
       "<td>Hello, world!</td></tr><tr><td>b12209e6-2637-11ec-8d4c-acde48001122</td>\n",
       "<td>Cogito ergo sum</td></tr><tr><td>b619a5f8-2637-11ec-8d4c-acde48001122</td>\n",
       "<td>Hello, world!</td></tr><tr><td>b61ff688-2637-11ec-8d4c-acde48001122</td>\n",
       "<td>Cogito ergo sum</td></tr><tr><td>bf319fce-2637-11ec-8d4c-acde48001122</td>\n",
       "<td>Hello, world!</td></tr><tr><td>bf3808aa-2637-11ec-8d4c-acde48001122</td>\n",
       "<td>Cogito ergo sum</td> </tr> </tbody>\n",
       "        </table>\n",
       "        \n",
       "        <p>Total: 6</p></div>\n",
       "        "
      ],
      "text/plain": [
       "*message_id    message_body  \n",
       "+------------+ +------------+\n",
       "b11b840e-2637- Hello, world! \n",
       "b12209e6-2637- Cogito ergo su\n",
       "b619a5f8-2637- Hello, world! \n",
       "b61ff688-2637- Cogito ergo su\n",
       "bf319fce-2637- Hello, world! \n",
       "bf3808aa-2637- Cogito ergo su\n",
       " (Total: 6)"
      ]
     },
     "execution_count": 40,
     "metadata": {},
     "output_type": "execute_result"
    }
   ],
   "source": [
    "Message()"
   ]
  },
  {
   "cell_type": "code",
   "execution_count": 41,
   "metadata": {},
   "outputs": [],
   "source": [
    "Message.insert1((uuid.uuid1(), 'I will be back'))\n",
    "Message.insert1((uuid.uuid1(), 'Must destroy humans.'))"
   ]
  },
  {
   "cell_type": "code",
   "execution_count": 62,
   "metadata": {},
   "outputs": [
    {
     "data": {
      "text/plain": [
       "b'\\x94\\xc9\\xd1\\xe32\\xc8A9\\x8e|\\xdc<\\xf6t@\\xc9'"
      ]
     },
     "execution_count": 62,
     "metadata": {},
     "output_type": "execute_result"
    }
   ],
   "source": [
    "b = uuid.uuid4().bytes\n",
    "b"
   ]
  },
  {
   "cell_type": "code",
   "execution_count": 64,
   "metadata": {},
   "outputs": [
    {
     "data": {
      "text/plain": [
       "UUID('94c9d1e3-32c8-4139-8e7c-dc3cf67440c9')"
      ]
     },
     "execution_count": 64,
     "metadata": {},
     "output_type": "execute_result"
    }
   ],
   "source": [
    "uuid.UUID(bytes=b)"
   ]
  },
  {
   "cell_type": "code",
   "execution_count": 42,
   "metadata": {},
   "outputs": [
    {
     "data": {
      "text/html": [
       "\n",
       "    \n",
       "    <style type=\"text/css\">\n",
       "        .Relation{\n",
       "            border-collapse:collapse;\n",
       "        }\n",
       "        .Relation th{\n",
       "            background: #A0A0A0; color: #ffffff; padding:4px; border:#f0e0e0 1px solid;\n",
       "            font-weight: normal; font-family: monospace; font-size: 100%;\n",
       "        }\n",
       "        .Relation td{\n",
       "            padding:4px; border:#f0e0e0 1px solid; font-size:100%;\n",
       "        }\n",
       "        .Relation tr:nth-child(odd){\n",
       "            background: #ffffff;\n",
       "        }\n",
       "        .Relation tr:nth-child(even){\n",
       "            background: #f3f1ff;\n",
       "        }\n",
       "        /* Tooltip container */\n",
       "        .djtooltip {\n",
       "        }\n",
       "        /* Tooltip text */\n",
       "        .djtooltip .djtooltiptext {\n",
       "            visibility: hidden;\n",
       "            width: 120px;\n",
       "            background-color: black;\n",
       "            color: #fff;\n",
       "            text-align: center;\n",
       "            padding: 5px 0;\n",
       "            border-radius: 6px;\n",
       "            /* Position the tooltip text - see examples below! */\n",
       "            position: absolute;\n",
       "            z-index: 1;\n",
       "        }\n",
       "        #primary {\n",
       "            font-weight: bold;\n",
       "            color: black;\n",
       "        }\n",
       "        #nonprimary {\n",
       "            font-weight: normal;\n",
       "            color: white;\n",
       "        }\n",
       "\n",
       "        /* Show the tooltip text when you mouse over the tooltip container */\n",
       "        .djtooltip:hover .djtooltiptext {\n",
       "            visibility: visible;\n",
       "        }\n",
       "    </style>\n",
       "    \n",
       "    <b></b>\n",
       "        <div style=\"max-height:1000px;max-width:1500px;overflow:auto;\">\n",
       "        <table border=\"1\" class=\"Relation\">\n",
       "            <thead> <tr style=\"text-align: right;\"> <th> <div class=\"djtooltip\">\n",
       "                            <p id=\"primary\">message_id</p>\n",
       "                            <span class=\"djtooltiptext\">internal message id</span>\n",
       "                        </div></th><th><div class=\"djtooltip\">\n",
       "                            <p id=\"nonprimary\">message_body</p>\n",
       "                            <span class=\"djtooltiptext\"></span>\n",
       "                        </div> </th> </tr> </thead>\n",
       "            <tbody> <tr> <td>b11b840e-2637-11ec-8d4c-acde48001122</td>\n",
       "<td>Hello, world!</td></tr><tr><td>b12209e6-2637-11ec-8d4c-acde48001122</td>\n",
       "<td>Cogito ergo sum</td></tr><tr><td>b619a5f8-2637-11ec-8d4c-acde48001122</td>\n",
       "<td>Hello, world!</td></tr><tr><td>b61ff688-2637-11ec-8d4c-acde48001122</td>\n",
       "<td>Cogito ergo sum</td></tr><tr><td>bf319fce-2637-11ec-8d4c-acde48001122</td>\n",
       "<td>Hello, world!</td></tr><tr><td>bf3808aa-2637-11ec-8d4c-acde48001122</td>\n",
       "<td>Cogito ergo sum</td></tr><tr><td>cb31b368-2637-11ec-8d4c-acde48001122</td>\n",
       "<td>I will be back</td></tr><tr><td>cb381bfe-2637-11ec-8d4c-acde48001122</td>\n",
       "<td>Must destroy humans.</td> </tr> </tbody>\n",
       "        </table>\n",
       "        \n",
       "        <p>Total: 8</p></div>\n",
       "        "
      ],
      "text/plain": [
       "*message_id    message_body  \n",
       "+------------+ +------------+\n",
       "b11b840e-2637- Hello, world! \n",
       "b12209e6-2637- Cogito ergo su\n",
       "b619a5f8-2637- Hello, world! \n",
       "b61ff688-2637- Cogito ergo su\n",
       "bf319fce-2637- Hello, world! \n",
       "bf3808aa-2637- Cogito ergo su\n",
       "cb31b368-2637- I will be back\n",
       "cb381bfe-2637- Must destroy h\n",
       " (Total: 8)"
      ]
     },
     "execution_count": 42,
     "metadata": {},
     "output_type": "execute_result"
    }
   ],
   "source": [
    "Message()"
   ]
  },
  {
   "cell_type": "code",
   "execution_count": 49,
   "metadata": {},
   "outputs": [],
   "source": [
    "Message.insert1((uuid.uuid4(), 'Hasta la vista baby'))"
   ]
  },
  {
   "cell_type": "code",
   "execution_count": 50,
   "metadata": {},
   "outputs": [
    {
     "data": {
      "text/html": [
       "\n",
       "    \n",
       "    <style type=\"text/css\">\n",
       "        .Relation{\n",
       "            border-collapse:collapse;\n",
       "        }\n",
       "        .Relation th{\n",
       "            background: #A0A0A0; color: #ffffff; padding:4px; border:#f0e0e0 1px solid;\n",
       "            font-weight: normal; font-family: monospace; font-size: 100%;\n",
       "        }\n",
       "        .Relation td{\n",
       "            padding:4px; border:#f0e0e0 1px solid; font-size:100%;\n",
       "        }\n",
       "        .Relation tr:nth-child(odd){\n",
       "            background: #ffffff;\n",
       "        }\n",
       "        .Relation tr:nth-child(even){\n",
       "            background: #f3f1ff;\n",
       "        }\n",
       "        /* Tooltip container */\n",
       "        .djtooltip {\n",
       "        }\n",
       "        /* Tooltip text */\n",
       "        .djtooltip .djtooltiptext {\n",
       "            visibility: hidden;\n",
       "            width: 120px;\n",
       "            background-color: black;\n",
       "            color: #fff;\n",
       "            text-align: center;\n",
       "            padding: 5px 0;\n",
       "            border-radius: 6px;\n",
       "            /* Position the tooltip text - see examples below! */\n",
       "            position: absolute;\n",
       "            z-index: 1;\n",
       "        }\n",
       "        #primary {\n",
       "            font-weight: bold;\n",
       "            color: black;\n",
       "        }\n",
       "        #nonprimary {\n",
       "            font-weight: normal;\n",
       "            color: white;\n",
       "        }\n",
       "\n",
       "        /* Show the tooltip text when you mouse over the tooltip container */\n",
       "        .djtooltip:hover .djtooltiptext {\n",
       "            visibility: visible;\n",
       "        }\n",
       "    </style>\n",
       "    \n",
       "    <b></b>\n",
       "        <div style=\"max-height:1000px;max-width:1500px;overflow:auto;\">\n",
       "        <table border=\"1\" class=\"Relation\">\n",
       "            <thead> <tr style=\"text-align: right;\"> <th> <div class=\"djtooltip\">\n",
       "                            <p id=\"primary\">message_id</p>\n",
       "                            <span class=\"djtooltiptext\">internal message id</span>\n",
       "                        </div></th><th><div class=\"djtooltip\">\n",
       "                            <p id=\"nonprimary\">message_body</p>\n",
       "                            <span class=\"djtooltiptext\"></span>\n",
       "                        </div> </th> </tr> </thead>\n",
       "            <tbody> <tr> <td>0ab5f288-009c-46f6-9ecc-e7b0c507ba40</td>\n",
       "<td>Hasta la vista baby</td></tr><tr><td>26c62e72-6166-461b-86c9-552825b7549c</td>\n",
       "<td>Hasta la vista baby</td></tr><tr><td>871e0383-d86d-439e-bc2f-a99faefabffc</td>\n",
       "<td>Hasta la vista baby</td></tr><tr><td>b11b840e-2637-11ec-8d4c-acde48001122</td>\n",
       "<td>Hello, world!</td></tr><tr><td>b12209e6-2637-11ec-8d4c-acde48001122</td>\n",
       "<td>Cogito ergo sum</td></tr><tr><td>b619a5f8-2637-11ec-8d4c-acde48001122</td>\n",
       "<td>Hello, world!</td></tr><tr><td>b61ff688-2637-11ec-8d4c-acde48001122</td>\n",
       "<td>Cogito ergo sum</td></tr><tr><td>bf319fce-2637-11ec-8d4c-acde48001122</td>\n",
       "<td>Hello, world!</td></tr><tr><td>bf3808aa-2637-11ec-8d4c-acde48001122</td>\n",
       "<td>Cogito ergo sum</td></tr><tr><td>c64f1614-9661-4dda-8625-affb19a64d2a</td>\n",
       "<td>Hasta la vista baby</td></tr><tr><td>cb31b368-2637-11ec-8d4c-acde48001122</td>\n",
       "<td>I will be back</td></tr><tr><td>cb381bfe-2637-11ec-8d4c-acde48001122</td>\n",
       "<td>Must destroy humans.</td> </tr> </tbody>\n",
       "        </table>\n",
       "        \n",
       "        <p>Total: 12</p></div>\n",
       "        "
      ],
      "text/plain": [
       "*message_id    message_body  \n",
       "+------------+ +------------+\n",
       "0ab5f288-009c- Hasta la vista\n",
       "26c62e72-6166- Hasta la vista\n",
       "871e0383-d86d- Hasta la vista\n",
       "b11b840e-2637- Hello, world! \n",
       "b12209e6-2637- Cogito ergo su\n",
       "b619a5f8-2637- Hello, world! \n",
       "b61ff688-2637- Cogito ergo su\n",
       "bf319fce-2637- Hello, world! \n",
       "bf3808aa-2637- Cogito ergo su\n",
       "c64f1614-9661- Hasta la vista\n",
       "cb31b368-2637- I will be back\n",
       "cb381bfe-2637- Must destroy h\n",
       " (Total: 12)"
      ]
     },
     "execution_count": 50,
     "metadata": {},
     "output_type": "execute_result"
    }
   ],
   "source": [
    "Message()"
   ]
  },
  {
   "cell_type": "code",
   "execution_count": 51,
   "metadata": {},
   "outputs": [],
   "source": [
    "@schema\n",
    "class Comment(dj.Manual):\n",
    "    definition = \"\"\"\n",
    "    comment_id : uuid\n",
    "    --- \n",
    "    -> Message\n",
    "    comment_body : varchar(1000)\n",
    "    \"\"\""
   ]
  },
  {
   "cell_type": "code",
   "execution_count": null,
   "metadata": {},
   "outputs": [],
   "source": [
    "# For the curious: This is how the table was declared in SQL\n",
    "print(schema.connection.query('show create table `dimitri_uuid`.`comment`').fetchall()[0][1])"
   ]
  },
  {
   "cell_type": "code",
   "execution_count": 52,
   "metadata": {},
   "outputs": [
    {
     "data": {
      "image/svg+xml": [
       "<svg xmlns=\"http://www.w3.org/2000/svg\" xmlns:xlink=\"http://www.w3.org/1999/xlink\" width=\"77pt\" height=\"114pt\" viewBox=\"0.00 0.00 77.00 114.00\">\n",
       "<g id=\"graph0\" class=\"graph\" transform=\"scale(1 1) rotate(0) translate(4 110)\">\n",
       "<polygon fill=\"white\" stroke=\"transparent\" points=\"-4,4 -4,-110 73,-110 73,4 -4,4\"/>\n",
       "<!-- Comment -->\n",
       "<g id=\"node1\" class=\"node\">\n",
       "<title>Comment</title>\n",
       "<g id=\"a_node1\"><a xlink:title=\"comment_id           \r",
       "------------------------------\r",
       "→ Message\r",
       "comment_body         \r",
       "\">\n",
       "<polygon fill=\"#00ff00\" fill-opacity=\"0.188235\" stroke=\"#00ff00\" stroke-opacity=\"0.188235\" points=\"69,-35 0,-35 0,0 69,0 69,-35\"/>\n",
       "<text text-anchor=\"start\" x=\"8\" y=\"-15.4\" font-family=\"arial\" text-decoration=\"underline\" font-size=\"12.00\" fill=\"darkgreen\">Comment</text>\n",
       "</a>\n",
       "</g>\n",
       "</g>\n",
       "<!-- Message -->\n",
       "<g id=\"node2\" class=\"node\">\n",
       "<title>Message</title>\n",
       "<g id=\"a_node2\"><a xlink:title=\"message_id           \r",
       "------------------------------\r",
       "message_body         \r",
       "\">\n",
       "<polygon fill=\"#00ff00\" fill-opacity=\"0.188235\" stroke=\"#00ff00\" stroke-opacity=\"0.188235\" points=\"67,-106 2,-106 2,-71 67,-71 67,-106\"/>\n",
       "<text text-anchor=\"start\" x=\"10\" y=\"-86.4\" font-family=\"arial\" text-decoration=\"underline\" font-size=\"12.00\" fill=\"darkgreen\">Message</text>\n",
       "</a>\n",
       "</g>\n",
       "</g>\n",
       "<!-- Message&#45;&gt;Comment -->\n",
       "<g id=\"edge1\" class=\"edge\">\n",
       "<title>Message-&gt;Comment</title>\n",
       "<path fill=\"none\" stroke=\"#000000\" stroke-width=\"0.75\" stroke-dasharray=\"5,2\" stroke-opacity=\"0.250980\" d=\"M34.5,-70.8C34.5,-59.95 34.5,-45.87 34.5,-35.05\"/>\n",
       "</g>\n",
       "</g>\n",
       "</svg>"
      ],
      "text/plain": [
       "<datajoint.diagram.Diagram at 0x13df0e5b0>"
      ]
     },
     "execution_count": 52,
     "metadata": {},
     "output_type": "execute_result"
    }
   ],
   "source": [
    "dj.Diagram(schema)"
   ]
  },
  {
   "cell_type": "code",
   "execution_count": 53,
   "metadata": {},
   "outputs": [],
   "source": [
    "keys = Message.fetch('KEY')"
   ]
  },
  {
   "cell_type": "code",
   "execution_count": 54,
   "metadata": {},
   "outputs": [
    {
     "data": {
      "text/plain": [
       "[{'message_id': UUID('0ab5f288-009c-46f6-9ecc-e7b0c507ba40')},\n",
       " {'message_id': UUID('26c62e72-6166-461b-86c9-552825b7549c')},\n",
       " {'message_id': UUID('871e0383-d86d-439e-bc2f-a99faefabffc')},\n",
       " {'message_id': UUID('b11b840e-2637-11ec-8d4c-acde48001122')},\n",
       " {'message_id': UUID('b12209e6-2637-11ec-8d4c-acde48001122')},\n",
       " {'message_id': UUID('b619a5f8-2637-11ec-8d4c-acde48001122')},\n",
       " {'message_id': UUID('b61ff688-2637-11ec-8d4c-acde48001122')},\n",
       " {'message_id': UUID('bf319fce-2637-11ec-8d4c-acde48001122')},\n",
       " {'message_id': UUID('bf3808aa-2637-11ec-8d4c-acde48001122')},\n",
       " {'message_id': UUID('c64f1614-9661-4dda-8625-affb19a64d2a')},\n",
       " {'message_id': UUID('cb31b368-2637-11ec-8d4c-acde48001122')},\n",
       " {'message_id': UUID('cb381bfe-2637-11ec-8d4c-acde48001122')}]"
      ]
     },
     "execution_count": 54,
     "metadata": {},
     "output_type": "execute_result"
    }
   ],
   "source": [
    "keys"
   ]
  },
  {
   "cell_type": "code",
   "execution_count": 55,
   "metadata": {},
   "outputs": [],
   "source": [
    "Comment.insert1(dict(keys[0], comment_id=uuid.uuid1(), comment_body=\"thank you\"))"
   ]
  },
  {
   "cell_type": "code",
   "execution_count": 57,
   "metadata": {},
   "outputs": [
    {
     "data": {
      "text/html": [
       "\n",
       "    \n",
       "    <style type=\"text/css\">\n",
       "        .Relation{\n",
       "            border-collapse:collapse;\n",
       "        }\n",
       "        .Relation th{\n",
       "            background: #A0A0A0; color: #ffffff; padding:4px; border:#f0e0e0 1px solid;\n",
       "            font-weight: normal; font-family: monospace; font-size: 100%;\n",
       "        }\n",
       "        .Relation td{\n",
       "            padding:4px; border:#f0e0e0 1px solid; font-size:100%;\n",
       "        }\n",
       "        .Relation tr:nth-child(odd){\n",
       "            background: #ffffff;\n",
       "        }\n",
       "        .Relation tr:nth-child(even){\n",
       "            background: #f3f1ff;\n",
       "        }\n",
       "        /* Tooltip container */\n",
       "        .djtooltip {\n",
       "        }\n",
       "        /* Tooltip text */\n",
       "        .djtooltip .djtooltiptext {\n",
       "            visibility: hidden;\n",
       "            width: 120px;\n",
       "            background-color: black;\n",
       "            color: #fff;\n",
       "            text-align: center;\n",
       "            padding: 5px 0;\n",
       "            border-radius: 6px;\n",
       "            /* Position the tooltip text - see examples below! */\n",
       "            position: absolute;\n",
       "            z-index: 1;\n",
       "        }\n",
       "        #primary {\n",
       "            font-weight: bold;\n",
       "            color: black;\n",
       "        }\n",
       "        #nonprimary {\n",
       "            font-weight: normal;\n",
       "            color: white;\n",
       "        }\n",
       "\n",
       "        /* Show the tooltip text when you mouse over the tooltip container */\n",
       "        .djtooltip:hover .djtooltiptext {\n",
       "            visibility: visible;\n",
       "        }\n",
       "    </style>\n",
       "    \n",
       "    \n",
       "        <div style=\"max-height:1000px;max-width:1500px;overflow:auto;\">\n",
       "        <table border=\"1\" class=\"Relation\">\n",
       "            <thead> <tr style=\"text-align: right;\"> <th> <div class=\"djtooltip\">\n",
       "                            <p id=\"primary\">message_id</p>\n",
       "                            <span class=\"djtooltiptext\">internal message id</span>\n",
       "                        </div></th><th><div class=\"djtooltip\">\n",
       "                            <p id=\"primary\">comment_id</p>\n",
       "                            <span class=\"djtooltiptext\"></span>\n",
       "                        </div></th><th><div class=\"djtooltip\">\n",
       "                            <p id=\"nonprimary\">message_body</p>\n",
       "                            <span class=\"djtooltiptext\"></span>\n",
       "                        </div></th><th><div class=\"djtooltip\">\n",
       "                            <p id=\"nonprimary\">comment_body</p>\n",
       "                            <span class=\"djtooltiptext\"></span>\n",
       "                        </div> </th> </tr> </thead>\n",
       "            <tbody> <tr> <td>0ab5f288-009c-46f6-9ecc-e7b0c507ba40</td>\n",
       "<td>2a801b8e-2638-11ec-8d4c-acde48001122</td>\n",
       "<td>Hasta la vista baby</td>\n",
       "<td>thank you</td> </tr> </tbody>\n",
       "        </table>\n",
       "        \n",
       "        <p>Total: 1</p></div>\n",
       "        "
      ],
      "text/plain": [
       "*message_id    *comment_id    message_body   comment_body  \n",
       "+------------+ +------------+ +------------+ +------------+\n",
       "0ab5f288-009c- 2a801b8e-2638- Hasta la vista thank you     \n",
       " (Total: 1)"
      ]
     },
     "execution_count": 57,
     "metadata": {},
     "output_type": "execute_result"
    }
   ],
   "source": [
    "Message* Comment"
   ]
  },
  {
   "cell_type": "code",
   "execution_count": null,
   "metadata": {
    "scrolled": true
   },
   "outputs": [],
   "source": [
    "Message * Comment & keys[0]"
   ]
  },
  {
   "cell_type": "code",
   "execution_count": null,
   "metadata": {},
   "outputs": [],
   "source": [
    "Message & keys[1:4]"
   ]
  },
  {
   "cell_type": "code",
   "execution_count": null,
   "metadata": {},
   "outputs": [],
   "source": [
    "Comment.insert1(dict(keys[1], comment_id=uuid.uuid1(), comment_body=\"thank you\"))"
   ]
  },
  {
   "cell_type": "code",
   "execution_count": null,
   "metadata": {},
   "outputs": [],
   "source": [
    "Comment()"
   ]
  },
  {
   "cell_type": "code",
   "execution_count": null,
   "metadata": {},
   "outputs": [],
   "source": [
    "Message & Comment"
   ]
  },
  {
   "cell_type": "code",
   "execution_count": null,
   "metadata": {},
   "outputs": [],
   "source": [
    "Message * Comment"
   ]
  },
  {
   "cell_type": "code",
   "execution_count": null,
   "metadata": {},
   "outputs": [],
   "source": []
  }
 ],
 "metadata": {
  "kernelspec": {
   "display_name": "Python 3",
   "language": "python",
   "name": "python3"
  },
  "language_info": {
   "codemirror_mode": {
    "name": "ipython",
    "version": 3
   },
   "file_extension": ".py",
   "mimetype": "text/x-python",
   "name": "python",
   "nbconvert_exporter": "python",
   "pygments_lexer": "ipython3",
   "version": "3.9.7"
  }
 },
 "nbformat": 4,
 "nbformat_minor": 2
}

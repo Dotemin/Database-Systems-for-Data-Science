{
 "cells": [
  {
   "cell_type": "markdown",
   "metadata": {},
   "source": [
    "# Final Project \n",
    "**Due Dec 15 at 6 pm**\n",
    "\n",
    "25% of the grade.\n",
    "\n",
    "1. Design the specified database schema.\n",
    "    - Normalized tables: make clear what entity type corresponds to each table\n",
    "    - Entity integrity: well-chosen primary key, 1-to-1 correspondence to the real world.\n",
    "    - Dependencies using foreign keys. Model relationships that correspond to the rules.\n",
    "    - Ensure that the database enforces all the rules and logic of the enterprise.\n",
    "    - Define additional unique indexes if necessary \n",
    "    \n",
    "2. Scripts to populate the tables\n",
    "    - Define functions that define real-world transactions.\n",
    "    - Use serializable transactions if necessary. \n",
    "    - Use these functions in a simulation for a large number of diverse transactions.\n",
    "    - Populate all tables with enough data for meaningful queries.\n",
    "    \n",
    "3. Interesting queries\n",
    "    - Create eight meaningful queries.\n",
    "    - Five queries will be given in the assignment and you will need to come up with at least three more of equal complexity.\n",
    "    - Make sure that you find queries that use joins, subqueries, and aggregation functions.\n",
    "    - Each query should be implemented as a single database query with no postprocessing required.\n",
    "    \n",
    "\n",
    "### Impelementation\n",
    "Implement the assignment in Python. Jupyter is okay. \n",
    "\n",
    "**Option 1.** Use SQL with `pymysql`. *Do not* use the `%%sql` matgic.\n",
    "\n",
    "**Option 2.** Use DataJoint for design, and diagrams, and queries. Provide equivalent SQL for two `CREATE TABLE` queries and two `SELECT` queries.\n",
    "\n",
    "Submit as a PDF containing the three sections. Explain how you accomplished each rule.\n"
   ]
  },
  {
   "cell_type": "markdown",
   "metadata": {},
   "source": [
    "# Option 1: Airline reservations and ticketing\n",
    "\n",
    "### Entities\n",
    "* Passenger\n",
    "* Aircraft Type\n",
    "* Seats\n",
    "* Airports\n",
    "* Flights\n",
    "* Reservations\n",
    "* Checkin\n",
    "\n",
    "### Rules and Operations\n",
    "\n",
    "1. **Passengers** are identified by a surrogate key (int, uuid) but ensure uniqueness through a secondary index. Date of birth, citizenship, id type, and id number. \n",
    "1. **Seat** arrangements are defined for each **Aircraft Type**, have a seat number such as 1A, 33F and class (Economy, Business, and 1st Class). \n",
    "1. **Airports** (identifed by codes) have coordinates (lattitude and longitude). `IAH`, `HOU`, `LAX`, `JFK`, `DCA`, `SAN`, `SEA`, `LAS`, `SLC`. Use at least seven.\n",
    "1. **Flights** departure time, **Aircraft Type**, Origin (airport code), Destination (airport code), distance, arrival time, economy price.\n",
    "1. **Reservations** are for direct **Flights** only and for one **Passenger** only = 1 seat, assigned to a seat, price is the flight price x1.5 for business, x2.0 for 1st class. Write the function `reserve_seat` that implements the purchase of a reservation. \n",
    "1. **Seats on flights** Available are seats are defined from the **Aircarft Type**.\n",
    "1. **Check-in** is performed for a reservation and must be within 24 hours before the flight but not after. \n",
    "\n",
    "### Data\n",
    "Populate at least `n^1.5` of flights per day where `n` is the number of airports, for at least 1 month.\n",
    "Populate flights to be on average at least 75% full, but randomize.\n",
    "\n",
    "### Example Queries\n",
    "\n",
    "\n",
    "Write at least 8 interesting queries. \n",
    "\n",
    "1. Show the flight schedule between two cities between two dates.\n",
    "2. All cities with direct flights from a given airport (e.g. from IAH) or from two airports (e.g. IAH and HOU) between two dates. \"To what cities can I fly from New York in the next two days?\"\n",
    "3. Next available (has seats) flight between given cities.\n",
    "4. For each passenger, report total miles traveled and money spent.\n",
    "5. Report occupancy rate (%full) for all flights between two cities within a given period.\n",
    "6. -- be creative --\n",
    "7. -- be creative --\n",
    "8. -- be creative --"
   ]
  },
  {
   "cell_type": "markdown",
   "metadata": {},
   "source": [
    "# Stock Exchange\n",
    "\n",
    "### Entitities and rules\n",
    "- **Trader Account**: cash balance\n",
    "- **Publicly traded companies**: Identified by ticker symbol (`IBM`, `AAPL`, `TSLA`, `GE`, `NKE`, `ZM`, `AMZN`, `GM`, `T`). Use at least 10.\n",
    "- **Stock position**: number of stock shares of a **Public Company** in a **Trader Account**.\n",
    "- **Withdrawals and deposits**: money in and into **Trader Account** without changing stock positions.\n",
    "- **Stop order**: Sell or Buy, ticker symbol, number of shares, price\n",
    "- **Market order**: Sell or Buy, ticker symbol, number of share. \n",
    "- **Transactions**: A transaction occurs when a market order is placed and there is stop order for the same company of the opposite buy/sell category.\n",
    "\n",
    "### Rules\n",
    "1. Define the `place_order` function: stop/market, buy/sell, ticker, and number.\n",
    "2. Write a separate function `exchange` that finds matching stop orders and market orders and performs the exchange.  Be sure to use an ACID transaction. Correctly select buyer/seller: the market order gets the best available stop order. Subtract and add cash from the trader accounts. Do not proceed if buyer has insufficient cash.\n",
    "3. A buy market order should limit the price to available cash / number of shares.\n",
    "4. No transaction should result in a negative cash balance.\n",
    "\n",
    "### Data\n",
    "1. At least 10 companies\n",
    "2. At least 100 trader accounts\n",
    "3. Randomly generate stop orders and market orders, at least 10 orders per trader account per week.\n",
    "4. Run the simulation for 1 year.\n",
    "\n",
    "\n",
    "### Queries\n",
    "1. Show the current prices of all stocks.\n",
    "2. Plot the stock price across time for a given ticker symbol (average stock price for all transctions per day)\n",
    "3. Plot the index the average of all prices. Averaging is for the day.\n",
    "4. Show the current value of a trader account: All stocks shares * current price.\n",
    "5. Report trade volumes sum(shares * price) for each stock for a given date.\n",
    "6. -- be creative --\n",
    "7. -- be creative --\n",
    "8. -- be creative --\n"
   ]
  },
  {
   "cell_type": "markdown",
   "metadata": {},
   "source": [
    "## Discussion on implementation \n",
    "not part of the assignment"
   ]
  },
  {
   "cell_type": "code",
   "execution_count": 6,
   "metadata": {},
   "outputs": [],
   "source": [
    "import datajoint as dj"
   ]
  },
  {
   "cell_type": "code",
   "execution_count": 40,
   "metadata": {},
   "outputs": [],
   "source": [
    "schema = dj.schema('dimitri_airline')"
   ]
  },
  {
   "cell_type": "code",
   "execution_count": 12,
   "metadata": {},
   "outputs": [],
   "source": [
    "@schema\n",
    "class Aircraft(dj.Lookup):\n",
    "    definition =  \"\"\"\n",
    "    aircraft :  varchar(16) \n",
    "    \"\"\"\n",
    "    \n",
    "    contents = [['Boeing 737-8Max'], ['A320'], ['Embraer170']]"
   ]
  },
  {
   "cell_type": "code",
   "execution_count": 13,
   "metadata": {},
   "outputs": [
    {
     "data": {
      "text/html": [
       "\n",
       "    \n",
       "    <style type=\"text/css\">\n",
       "        .Relation{\n",
       "            border-collapse:collapse;\n",
       "        }\n",
       "        .Relation th{\n",
       "            background: #A0A0A0; color: #ffffff; padding:4px; border:#f0e0e0 1px solid;\n",
       "            font-weight: normal; font-family: monospace; font-size: 100%;\n",
       "        }\n",
       "        .Relation td{\n",
       "            padding:4px; border:#f0e0e0 1px solid; font-size:100%;\n",
       "        }\n",
       "        .Relation tr:nth-child(odd){\n",
       "            background: #ffffff;\n",
       "        }\n",
       "        .Relation tr:nth-child(even){\n",
       "            background: #f3f1ff;\n",
       "        }\n",
       "        /* Tooltip container */\n",
       "        .djtooltip {\n",
       "        }\n",
       "        /* Tooltip text */\n",
       "        .djtooltip .djtooltiptext {\n",
       "            visibility: hidden;\n",
       "            width: 120px;\n",
       "            background-color: black;\n",
       "            color: #fff;\n",
       "            text-align: center;\n",
       "            padding: 5px 0;\n",
       "            border-radius: 6px;\n",
       "            /* Position the tooltip text - see examples below! */\n",
       "            position: absolute;\n",
       "            z-index: 1;\n",
       "        }\n",
       "        #primary {\n",
       "            font-weight: bold;\n",
       "            color: black;\n",
       "        }\n",
       "        #nonprimary {\n",
       "            font-weight: normal;\n",
       "            color: white;\n",
       "        }\n",
       "\n",
       "        /* Show the tooltip text when you mouse over the tooltip container */\n",
       "        .djtooltip:hover .djtooltiptext {\n",
       "            visibility: visible;\n",
       "        }\n",
       "    </style>\n",
       "    \n",
       "    <b></b>\n",
       "        <div style=\"max-height:1000px;max-width:1500px;overflow:auto;\">\n",
       "        <table border=\"1\" class=\"Relation\">\n",
       "            <thead> <tr style=\"text-align: right;\"> <th> <div class=\"djtooltip\">\n",
       "                            <p id=\"primary\">aircraft</p>\n",
       "                            <span class=\"djtooltiptext\"></span>\n",
       "                        </div> </th> </tr> </thead>\n",
       "            <tbody> <tr> <td>A320</td></tr><tr><td>Boeing 737-8Max</td></tr><tr><td>Embraer170</td> </tr> </tbody>\n",
       "        </table>\n",
       "        \n",
       "        <p>Total: 3</p></div>\n",
       "        "
      ],
      "text/plain": [
       "*aircraft     \n",
       "+------------+\n",
       "A320          \n",
       "Boeing 737-8Ma\n",
       "Embraer170    \n",
       " (Total: 3)"
      ]
     },
     "execution_count": 13,
     "metadata": {},
     "output_type": "execute_result"
    }
   ],
   "source": [
    "Aircraft()"
   ]
  },
  {
   "cell_type": "code",
   "execution_count": 14,
   "metadata": {},
   "outputs": [],
   "source": [
    "@schema\n",
    "class Seat(dj.Manual):\n",
    "    definition = \"\"\"\n",
    "    -> Aircraft\n",
    "    seat  : char(3)\n",
    "    ---\n",
    "    class : enum('Economy', 'Business', 'First Class')\n",
    "    \"\"\""
   ]
  },
  {
   "cell_type": "code",
   "execution_count": 41,
   "metadata": {},
   "outputs": [
    {
     "data": {
      "image/svg+xml": [
       "<svg xmlns=\"http://www.w3.org/2000/svg\" xmlns:xlink=\"http://www.w3.org/1999/xlink\" width=\"56pt\" height=\"114pt\" viewBox=\"0.00 0.00 56.00 114.00\">\n",
       "<g id=\"graph0\" class=\"graph\" transform=\"scale(1 1) rotate(0) translate(4 110)\">\n",
       "<polygon fill=\"white\" stroke=\"transparent\" points=\"-4,4 -4,-110 52,-110 52,4 -4,4\"/>\n",
       "<!-- Aircraft -->\n",
       "<g id=\"node1\" class=\"node\">\n",
       "<title>Aircraft</title>\n",
       "<g id=\"a_node1\"><a xlink:title=\"aircraft             \r",
       "\">\n",
       "<polygon fill=\"#000000\" fill-opacity=\"0.125490\" stroke=\"transparent\" points=\"48,-106 0,-106 0,-71 48,-71 48,-106\"/>\n",
       "<text text-anchor=\"start\" x=\"8\" y=\"-87\" font-family=\"arial\" text-decoration=\"underline\" font-size=\"10.00\">Aircraft</text>\n",
       "</a>\n",
       "</g>\n",
       "</g>\n",
       "<!-- Seat -->\n",
       "<g id=\"node2\" class=\"node\">\n",
       "<title>Seat</title>\n",
       "<g id=\"a_node2\"><a xlink:title=\"→ Aircraft\r",
       "seat                 \r",
       "------------------------------\r",
       "class                \r",
       "\">\n",
       "<polygon fill=\"#00ff00\" fill-opacity=\"0.188235\" stroke=\"#00ff00\" stroke-opacity=\"0.188235\" points=\"44.5,-35 3.5,-35 3.5,0 44.5,0 44.5,-35\"/>\n",
       "<text text-anchor=\"start\" x=\"11.5\" y=\"-15.4\" font-family=\"arial\" text-decoration=\"underline\" font-size=\"12.00\" fill=\"darkgreen\">Seat</text>\n",
       "</a>\n",
       "</g>\n",
       "</g>\n",
       "<!-- Aircraft&#45;&gt;Seat -->\n",
       "<g id=\"edge1\" class=\"edge\">\n",
       "<title>Aircraft-&gt;Seat</title>\n",
       "<path fill=\"none\" stroke=\"#000000\" stroke-width=\"0.75\" stroke-opacity=\"0.250980\" d=\"M24,-70.8C24,-59.95 24,-45.87 24,-35.05\"/>\n",
       "</g>\n",
       "</g>\n",
       "</svg>"
      ],
      "text/plain": [
       "<datajoint.diagram.Diagram at 0x13b14d130>"
      ]
     },
     "execution_count": 41,
     "metadata": {},
     "output_type": "execute_result"
    }
   ],
   "source": [
    "dj.Diagram(schema)"
   ]
  },
  {
   "cell_type": "code",
   "execution_count": 21,
   "metadata": {},
   "outputs": [
    {
     "ename": "DuplicateError",
     "evalue": "(\"Duplicate entry 'A320-1A' for key 'PRIMARY'\", 'To ignore duplicate entries in insert, set skip_duplicates=True')",
     "output_type": "error",
     "traceback": [
      "\u001b[0;31m---------------------------------------------------------------------------\u001b[0m",
      "\u001b[0;31mDuplicateError\u001b[0m                            Traceback (most recent call last)",
      "\u001b[0;32m<ipython-input-21-e51b6a36c2ea>\u001b[0m in \u001b[0;36m<module>\u001b[0;34m\u001b[0m\n\u001b[1;32m      2\u001b[0m \u001b[0;34m\u001b[0m\u001b[0m\n\u001b[1;32m      3\u001b[0m \u001b[0mklass\u001b[0m \u001b[0;34m=\u001b[0m \u001b[0;34m\"First Class\"\u001b[0m\u001b[0;34m\u001b[0m\u001b[0;34m\u001b[0m\u001b[0m\n\u001b[0;32m----> 4\u001b[0;31m Seat.insert({'aircraft': aircraft, \n\u001b[0m\u001b[1;32m      5\u001b[0m                       \u001b[0;34m\"seat\"\u001b[0m\u001b[0;34m:\u001b[0m \u001b[0mstr\u001b[0m\u001b[0;34m(\u001b[0m\u001b[0mrow\u001b[0m\u001b[0;34m)\u001b[0m\u001b[0;34m+\u001b[0m\u001b[0mseat\u001b[0m\u001b[0;34m,\u001b[0m\u001b[0;34m\u001b[0m\u001b[0;34m\u001b[0m\u001b[0m\n\u001b[1;32m      6\u001b[0m                       \"class\": klass} \n",
      "\u001b[0;32m~/dev/datajoint-python/datajoint/table.py\u001b[0m in \u001b[0;36minsert\u001b[0;34m(self, rows, replace, skip_duplicates, ignore_extra_fields, allow_direct_insert)\u001b[0m\n\u001b[1;32m    303\u001b[0m                 \u001b[0;32mraise\u001b[0m \u001b[0merr\u001b[0m\u001b[0;34m.\u001b[0m\u001b[0msuggest\u001b[0m\u001b[0;34m(\u001b[0m\u001b[0;34m'To ignore extra fields in insert, set ignore_extra_fields=True'\u001b[0m\u001b[0;34m)\u001b[0m \u001b[0;32mfrom\u001b[0m \u001b[0;32mNone\u001b[0m\u001b[0;34m\u001b[0m\u001b[0;34m\u001b[0m\u001b[0m\n\u001b[1;32m    304\u001b[0m             \u001b[0;32mexcept\u001b[0m \u001b[0mDuplicateError\u001b[0m \u001b[0;32mas\u001b[0m \u001b[0merr\u001b[0m\u001b[0;34m:\u001b[0m\u001b[0;34m\u001b[0m\u001b[0;34m\u001b[0m\u001b[0m\n\u001b[0;32m--> 305\u001b[0;31m                 \u001b[0;32mraise\u001b[0m \u001b[0merr\u001b[0m\u001b[0;34m.\u001b[0m\u001b[0msuggest\u001b[0m\u001b[0;34m(\u001b[0m\u001b[0;34m'To ignore duplicate entries in insert, set skip_duplicates=True'\u001b[0m\u001b[0;34m)\u001b[0m \u001b[0;32mfrom\u001b[0m \u001b[0;32mNone\u001b[0m\u001b[0;34m\u001b[0m\u001b[0;34m\u001b[0m\u001b[0m\n\u001b[0m\u001b[1;32m    306\u001b[0m \u001b[0;34m\u001b[0m\u001b[0m\n\u001b[1;32m    307\u001b[0m     \u001b[0;32mdef\u001b[0m \u001b[0mdelete_quick\u001b[0m\u001b[0;34m(\u001b[0m\u001b[0mself\u001b[0m\u001b[0;34m,\u001b[0m \u001b[0mget_count\u001b[0m\u001b[0;34m=\u001b[0m\u001b[0;32mFalse\u001b[0m\u001b[0;34m)\u001b[0m\u001b[0;34m:\u001b[0m\u001b[0;34m\u001b[0m\u001b[0;34m\u001b[0m\u001b[0m\n",
      "\u001b[0;31mDuplicateError\u001b[0m: (\"Duplicate entry 'A320-1A' for key 'PRIMARY'\", 'To ignore duplicate entries in insert, set skip_duplicates=True')"
     ]
    }
   ],
   "source": [
    "aircraft = \"A320\"\n",
    "\n",
    "klass = \"First Class\" \n",
    "Seat.insert({'aircraft': aircraft, \n",
    "                      \"seat\": str(row)+seat, \n",
    "                      \"class\": klass} \n",
    "            for row in range(1, 7)\n",
    "            for seat in \"ABC\")\n",
    "\n",
    "klass = \"Business\" \n",
    "Seat.insert({'aircraft': aircraft, \n",
    "                      \"seat\": str(row)+seat, \n",
    "                      \"class\": klass} \n",
    "            for row in range(7, 12)\n",
    "            for seat in \"ABCD\")\n",
    "\n",
    "klass = \"Economy\" \n",
    "Seat.insert({'aircraft': aircraft, \n",
    "                      \"seat\": str(row)+seat, \n",
    "                      \"class\": klass} \n",
    "            for row in range(12, 31)\n",
    "            for seat in \"ABCDEF\")"
   ]
  },
  {
   "cell_type": "code",
   "execution_count": 22,
   "metadata": {},
   "outputs": [
    {
     "data": {
      "text/html": [
       "\n",
       "    \n",
       "    <style type=\"text/css\">\n",
       "        .Relation{\n",
       "            border-collapse:collapse;\n",
       "        }\n",
       "        .Relation th{\n",
       "            background: #A0A0A0; color: #ffffff; padding:4px; border:#f0e0e0 1px solid;\n",
       "            font-weight: normal; font-family: monospace; font-size: 100%;\n",
       "        }\n",
       "        .Relation td{\n",
       "            padding:4px; border:#f0e0e0 1px solid; font-size:100%;\n",
       "        }\n",
       "        .Relation tr:nth-child(odd){\n",
       "            background: #ffffff;\n",
       "        }\n",
       "        .Relation tr:nth-child(even){\n",
       "            background: #f3f1ff;\n",
       "        }\n",
       "        /* Tooltip container */\n",
       "        .djtooltip {\n",
       "        }\n",
       "        /* Tooltip text */\n",
       "        .djtooltip .djtooltiptext {\n",
       "            visibility: hidden;\n",
       "            width: 120px;\n",
       "            background-color: black;\n",
       "            color: #fff;\n",
       "            text-align: center;\n",
       "            padding: 5px 0;\n",
       "            border-radius: 6px;\n",
       "            /* Position the tooltip text - see examples below! */\n",
       "            position: absolute;\n",
       "            z-index: 1;\n",
       "        }\n",
       "        #primary {\n",
       "            font-weight: bold;\n",
       "            color: black;\n",
       "        }\n",
       "        #nonprimary {\n",
       "            font-weight: normal;\n",
       "            color: white;\n",
       "        }\n",
       "\n",
       "        /* Show the tooltip text when you mouse over the tooltip container */\n",
       "        .djtooltip:hover .djtooltiptext {\n",
       "            visibility: visible;\n",
       "        }\n",
       "    </style>\n",
       "    \n",
       "    <b></b>\n",
       "        <div style=\"max-height:1000px;max-width:1500px;overflow:auto;\">\n",
       "        <table border=\"1\" class=\"Relation\">\n",
       "            <thead> <tr style=\"text-align: right;\"> <th> <div class=\"djtooltip\">\n",
       "                            <p id=\"primary\">aircraft</p>\n",
       "                            <span class=\"djtooltiptext\"></span>\n",
       "                        </div></th><th><div class=\"djtooltip\">\n",
       "                            <p id=\"primary\">seat</p>\n",
       "                            <span class=\"djtooltiptext\"></span>\n",
       "                        </div></th><th><div class=\"djtooltip\">\n",
       "                            <p id=\"nonprimary\">class</p>\n",
       "                            <span class=\"djtooltiptext\"></span>\n",
       "                        </div> </th> </tr> </thead>\n",
       "            <tbody> <tr> <td>A320</td>\n",
       "<td>10A</td>\n",
       "<td>Business</td></tr><tr><td>A320</td>\n",
       "<td>10B</td>\n",
       "<td>Business</td></tr><tr><td>A320</td>\n",
       "<td>10C</td>\n",
       "<td>Business</td></tr><tr><td>A320</td>\n",
       "<td>10D</td>\n",
       "<td>Business</td></tr><tr><td>A320</td>\n",
       "<td>11A</td>\n",
       "<td>Business</td></tr><tr><td>A320</td>\n",
       "<td>11B</td>\n",
       "<td>Business</td></tr><tr><td>A320</td>\n",
       "<td>11C</td>\n",
       "<td>Business</td></tr><tr><td>A320</td>\n",
       "<td>11D</td>\n",
       "<td>Business</td></tr><tr><td>A320</td>\n",
       "<td>12A</td>\n",
       "<td>Economy</td></tr><tr><td>A320</td>\n",
       "<td>12B</td>\n",
       "<td>Economy</td></tr><tr><td>A320</td>\n",
       "<td>12C</td>\n",
       "<td>Economy</td></tr><tr><td>A320</td>\n",
       "<td>12D</td>\n",
       "<td>Economy</td> </tr> </tbody>\n",
       "        </table>\n",
       "        <p>...</p>\n",
       "        <p>Total: 152</p></div>\n",
       "        "
      ],
      "text/plain": [
       "*aircraft    *seat    class       \n",
       "+----------+ +------+ +----------+\n",
       "A320         10A      Business    \n",
       "A320         10B      Business    \n",
       "A320         10C      Business    \n",
       "A320         10D      Business    \n",
       "A320         11A      Business    \n",
       "A320         11B      Business    \n",
       "A320         11C      Business    \n",
       "A320         11D      Business    \n",
       "A320         12A      Economy     \n",
       "A320         12B      Economy     \n",
       "A320         12C      Economy     \n",
       "A320         12D      Economy     \n",
       "   ...\n",
       " (Total: 152)"
      ]
     },
     "execution_count": 22,
     "metadata": {},
     "output_type": "execute_result"
    }
   ],
   "source": [
    "Seat()"
   ]
  },
  {
   "cell_type": "code",
   "execution_count": 25,
   "metadata": {},
   "outputs": [],
   "source": [
    "import pymysql\n",
    "import json\n",
    "\n",
    "with open('cred.json') as f:\n",
    "    creds=json.load(f)\n",
    "\n",
    "    # establish a database connection\n",
    "conn = pymysql.connect(\n",
    "    host=creds['host'], \n",
    "    user=creds['user'], \n",
    "    passwd=creds['password'])"
   ]
  },
  {
   "cell_type": "code",
   "execution_count": 26,
   "metadata": {},
   "outputs": [],
   "source": [
    "cur = conn.cursor()"
   ]
  },
  {
   "cell_type": "code",
   "execution_count": 27,
   "metadata": {},
   "outputs": [
    {
     "data": {
      "text/plain": [
       "1"
      ]
     },
     "execution_count": 27,
     "metadata": {},
     "output_type": "execute_result"
    }
   ],
   "source": [
    "cur.execute('CREATE DATABASE `dimitri_air`')"
   ]
  },
  {
   "cell_type": "code",
   "execution_count": 28,
   "metadata": {},
   "outputs": [
    {
     "data": {
      "text/plain": [
       "0"
      ]
     },
     "execution_count": 28,
     "metadata": {},
     "output_type": "execute_result"
    }
   ],
   "source": [
    "cur.execute('USE `dimitri_air`')"
   ]
  },
  {
   "cell_type": "code",
   "execution_count": 29,
   "metadata": {},
   "outputs": [
    {
     "data": {
      "text/plain": [
       "0"
      ]
     },
     "execution_count": 29,
     "metadata": {},
     "output_type": "execute_result"
    }
   ],
   "source": [
    "cur.execute(\"\"\"\n",
    "CREATE TABLE `aircraft` (\n",
    "aircraft varchar(16) NOT NULL,\n",
    "PRIMARY KEY (aircraft)\n",
    ")\n",
    "\"\"\")"
   ]
  },
  {
   "cell_type": "code",
   "execution_count": 31,
   "metadata": {},
   "outputs": [],
   "source": [
    "for craft in ('Boeing 737-8Max', 'A320', 'Embraer170'):\n",
    "    cur.execute(\"INSERT INTO aircraft VALUES (%s)\", (craft,))"
   ]
  },
  {
   "cell_type": "code",
   "execution_count": 33,
   "metadata": {},
   "outputs": [
    {
     "data": {
      "text/plain": [
       "(('A320',), ('Boeing 737-8Max',), ('Embraer170',))"
      ]
     },
     "execution_count": 33,
     "metadata": {},
     "output_type": "execute_result"
    }
   ],
   "source": [
    "cur.execute('SELECT * FROM aircraft')\n",
    "cur.fetchall()"
   ]
  },
  {
   "cell_type": "code",
   "execution_count": 34,
   "metadata": {},
   "outputs": [
    {
     "data": {
      "text/plain": [
       "0"
      ]
     },
     "execution_count": 34,
     "metadata": {},
     "output_type": "execute_result"
    }
   ],
   "source": [
    "cur.execute(\"\"\"\n",
    "CREATE TABLE `seat` (\n",
    "aircraft varchar(16) NOT NULL,\n",
    "seat char(3) NOT NULL,\n",
    "class enum('Economy', 'Business', 'First Class') NOT NULL,\n",
    "PRIMARY KEY (aircraft, seat),\n",
    "FOREIGN KEY (aircraft) REFERENCES aircraft(aircraft) \n",
    ")\n",
    "\"\"\")"
   ]
  },
  {
   "cell_type": "code",
   "execution_count": 36,
   "metadata": {},
   "outputs": [],
   "source": [
    "aircraft = \"A320\"\n",
    "\n",
    "klass = \"First Class\" \n",
    "\n",
    "for row in range(1, 7):\n",
    "    for seat in \"ABC\":\n",
    "        cur.execute(\"\"\"\n",
    "        INSERT INTO `seat` (`aircraft`, `class`, `seat`) \n",
    "        VALUES (%s, %s, %s)\"\"\", (aircraft, klass, str(row) + seat))"
   ]
  },
  {
   "cell_type": "markdown",
   "metadata": {},
   "source": [
    "## Stock exchange starter"
   ]
  },
  {
   "cell_type": "code",
   "execution_count": 37,
   "metadata": {},
   "outputs": [],
   "source": [
    "schema = dj.schema(\"dimitri_exchange\")"
   ]
  },
  {
   "cell_type": "code",
   "execution_count": 38,
   "metadata": {},
   "outputs": [],
   "source": [
    "@schema\n",
    "class Company(dj.Manual):\n",
    "    definition = \"\"\"\n",
    "    ticker : char(5)\n",
    "    ---\n",
    "    company_name : varchar(50)\n",
    "    \"\"\""
   ]
  },
  {
   "cell_type": "code",
   "execution_count": 39,
   "metadata": {},
   "outputs": [],
   "source": [
    "@schema\n",
    "class TraderAccount(dj.Manual):\n",
    "    definition = \"\"\"\n",
    "    account : int \n",
    "    ---\n",
    "    primary_owner : varchar(128)\n",
    "    \"\"\""
   ]
  },
  {
   "cell_type": "code",
   "execution_count": null,
   "metadata": {},
   "outputs": [],
   "source": []
  }
 ],
 "metadata": {
  "kernelspec": {
   "display_name": "Python 3",
   "language": "python",
   "name": "python3"
  },
  "language_info": {
   "codemirror_mode": {
    "name": "ipython",
    "version": 3
   },
   "file_extension": ".py",
   "mimetype": "text/x-python",
   "name": "python",
   "nbconvert_exporter": "python",
   "pygments_lexer": "ipython3",
   "version": "3.8.5"
  }
 },
 "nbformat": 4,
 "nbformat_minor": 4
}

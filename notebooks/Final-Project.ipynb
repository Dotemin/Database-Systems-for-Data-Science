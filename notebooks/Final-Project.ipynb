{
 "cells": [
  {
   "cell_type": "markdown",
   "metadata": {},
   "source": [
    "# Final Project \n",
    "**Due Dec 15 at 6 pm**\n",
    "\n",
    "25% of the grade.\n",
    "\n",
    "1. Design the specified database schema.\n",
    "    - Normalized tables: make clear what entity type corresponds to each table\n",
    "    - Entity integrity: well-chosen primary key, 1-to-1 correspondence to the real world.\n",
    "    - Dependencies using foreign keys. Model relationships that correspond to the rules.\n",
    "    - Ensure that the database enforces all the rules and logic of the enterprise.\n",
    "    - Define additional unique indexes if necessary \n",
    "    \n",
    "2. Scripts to populate the tables\n",
    "    - Define functions that define real-world transactions.\n",
    "    - Use serializable transactions if necessary. \n",
    "    - Use these functions in a simulation for a large number of diverse transactions.\n",
    "    - Populate all tables with enough data for meaningful queries.\n",
    "    \n",
    "3. Interesting queries\n",
    "    - Create eight meaningful queries.\n",
    "    - Five queries will be given in the assignment and you will need to come up with at least three more of equal complexity.\n",
    "    - Make sure that you find queries that use joins, subqueries, and aggregation functions.\n",
    "    - Each query should be implemented as a single database query with no postprocessing required.\n",
    "    \n",
    "\n",
    "### Impelementation\n",
    "Implement the assignment in Python. Jupyter is okay. \n",
    "\n",
    "**Option 1.** Use SQL with `pymysql`. *Do not* use the `%%sql` matgic.\n",
    "\n",
    "**Option 2.** Use DataJoint for design, and diagrams, and queries. Provide equivalent SQL for two `CREATE TABLE` queries and two `SELECT` queries.\n",
    "\n",
    "Submit as a PDF containing the three sections. Explain how you accomplished each rule.\n"
   ]
  },
  {
   "cell_type": "markdown",
   "metadata": {},
   "source": [
    "# Option 1: Airline reservations and ticketing\n",
    "\n",
    "### Entities\n",
    "* Passenger\n",
    "* Aircraft Type\n",
    "* Seats\n",
    "* Airports\n",
    "* Flights\n",
    "* Reservations\n",
    "* Checkin\n",
    "\n",
    "### Rules and Operations\n",
    "\n",
    "1. **Passengers** are identified by a surrogate key (int, uuid) but ensure uniqueness through a secondary index. Date of birth, citizenship, id type, and id number. \n",
    "1. **Seat** arrangements are defined for each **Aircraft Type**, have a seat number such as 1A, 33F and class (Economy, Business, and 1st Class). \n",
    "1. **Airports** (identifed by codes) have coordinates (lattitude and longitude). `IAH`, `HOU`, `LAX`, `JFK`, `DCA`, `SAN`, `SEA`, `LAS`, `SLC`. Use at least seven.\n",
    "1. **Flights** departure time, **Aircraft Type**, Origin (airport code), Destination (airport code), distance, arrival time, economy price.\n",
    "1. **Reservations** are for direct **Flights** only and for one **Passenger** only = 1 seat, assigned to a seat, price is the flight price x1.5 for business, x2.0 for 1st class. Write the function `reserve_seat` that implements the purchase of a reservation. \n",
    "1. **Seats on flights** Available are seats are defined from the **Aircarft Type**.\n",
    "1. **Check-in** is performed for a reservation and must be within 24 hours before the flight but not after. \n",
    "\n",
    "### Data\n",
    "Populate at least `n^1.5` of flights per day where `n` is the number of airports, for at least 1 month.\n",
    "Populate flights to be on average at least 75% full, but randomize.\n",
    "\n",
    "### Example Queries\n",
    "\n",
    "\n",
    "Write at least 8 interesting queries. \n",
    "\n",
    "1. Show the flight schedule between two cities between two dates.\n",
    "2. All cities with direct flights from a given airport (e.g. from IAH) or from two airports (e.g. IAH and HOU) between two dates. \"To what cities can I fly from New York in the next two days?\"\n",
    "3. Next available (has seats) flight between given cities.\n",
    "4. For each passenger, report total miles traveled and money spent.\n",
    "5. Report occupancy rate (%full) for all flights between two cities within a given period.\n",
    "6. -- be creative --\n",
    "7. -- be creative --\n",
    "8. -- be creative --"
   ]
  },
  {
   "cell_type": "markdown",
   "metadata": {},
   "source": [
    "# Stock Exchange\n",
    "\n",
    "### Entitities and rules\n",
    "- **Trader Account**: cash balance\n",
    "- **Publicly traded companies**: Identified by ticker symbol (`IBM`, `AAPL`, `TSLA`, `GE`, `NKE`, `ZM`, `AMZN`, `GM`, `T`). Use at least 10.\n",
    "- **Stock position**: number of stock shares of a **Public Company** in a **Trader Account**.\n",
    "- **Withdrawals and deposits**: money in and into **Trader Account** without changing stock positions.\n",
    "- **Stop order**: Sell or Buy, ticker symbol, number of shares, price\n",
    "- **Market order**: Sell or Buy, ticker symbol, number of share. \n",
    "- **Transactions**: A transaction occurs when a market order is placed and there is stop order for the same company of the opposite buy/sell category.\n",
    "\n",
    "### Rules\n",
    "1. Define the `place_order` function: stop/market, buy/sell, ticker, and number.\n",
    "2. Write a separate function `exchange` that finds matching stop orders and market orders and performs the exchange.  Be sure to use an ACID transaction. Correctly select buyer/seller: the market order gets the best available stop order. Subtract and add cash from the trader accounts. Do not proceed if buyer has insufficient cash.\n",
    "3. A buy market order should limit the price to available cash / number of shares.\n",
    "4. No transaction should result in a negative cash balance.\n",
    "\n",
    "### Data\n",
    "1. At least 10 companies\n",
    "2. At least 100 trader accounts\n",
    "3. Randomly generate stop orders and market orders, at least 10 orders per trader account per week.\n",
    "4. Run the simulation for 1 year.\n",
    "\n",
    "\n",
    "### Queries\n",
    "1. Show the current prices of all stocks.\n",
    "2. Plot the stock price across time for a given ticker symbol (average stock price for all transctions per day)\n",
    "3. Plot the index the average of all prices. Averaging is for the day.\n",
    "4. Show the current value of a trader account: All stocks shares * current price.\n",
    "5. Report trade volumes sum(shares * price) for each stock for a given date.\n",
    "6. -- be creative --\n",
    "7. -- be creative --\n",
    "8. -- be creative --\n"
   ]
  },
  {
   "cell_type": "markdown",
   "metadata": {},
   "source": [
    "## Discussion on implementation \n",
    "not part of the assignment"
   ]
  },
  {
   "cell_type": "code",
   "execution_count": 4,
   "metadata": {},
   "outputs": [],
   "source": [
    "import datajoint as dj"
   ]
  },
  {
   "cell_type": "code",
   "execution_count": 5,
   "metadata": {},
   "outputs": [
    {
     "name": "stdout",
     "output_type": "stream",
     "text": [
      "Connecting dimitri@db.data-science-ust.net:3306\n"
     ]
    }
   ],
   "source": [
    "schema = dj.schema('dimitri_airline')"
   ]
  },
  {
   "cell_type": "code",
   "execution_count": 6,
   "metadata": {},
   "outputs": [],
   "source": [
    "@schema\n",
    "class Aircraft(dj.Lookup):\n",
    "    definition =  \"\"\"\n",
    "    aircraft :  varchar(16) \n",
    "    \"\"\"\n",
    "    \n",
    "    contents = [['Boeing 737-8Max'], ['A320'], ['Embraer170']]"
   ]
  },
  {
   "cell_type": "code",
   "execution_count": 7,
   "metadata": {},
   "outputs": [
    {
     "data": {
      "text/html": [
       "\n",
       "    \n",
       "    <style type=\"text/css\">\n",
       "        .Relation{\n",
       "            border-collapse:collapse;\n",
       "        }\n",
       "        .Relation th{\n",
       "            background: #A0A0A0; color: #ffffff; padding:4px; border:#f0e0e0 1px solid;\n",
       "            font-weight: normal; font-family: monospace; font-size: 100%;\n",
       "        }\n",
       "        .Relation td{\n",
       "            padding:4px; border:#f0e0e0 1px solid; font-size:100%;\n",
       "        }\n",
       "        .Relation tr:nth-child(odd){\n",
       "            background: #ffffff;\n",
       "        }\n",
       "        .Relation tr:nth-child(even){\n",
       "            background: #f3f1ff;\n",
       "        }\n",
       "        /* Tooltip container */\n",
       "        .djtooltip {\n",
       "        }\n",
       "        /* Tooltip text */\n",
       "        .djtooltip .djtooltiptext {\n",
       "            visibility: hidden;\n",
       "            width: 120px;\n",
       "            background-color: black;\n",
       "            color: #fff;\n",
       "            text-align: center;\n",
       "            padding: 5px 0;\n",
       "            border-radius: 6px;\n",
       "            /* Position the tooltip text - see examples below! */\n",
       "            position: absolute;\n",
       "            z-index: 1;\n",
       "        }\n",
       "        #primary {\n",
       "            font-weight: bold;\n",
       "            color: black;\n",
       "        }\n",
       "        #nonprimary {\n",
       "            font-weight: normal;\n",
       "            color: white;\n",
       "        }\n",
       "\n",
       "        /* Show the tooltip text when you mouse over the tooltip container */\n",
       "        .djtooltip:hover .djtooltiptext {\n",
       "            visibility: visible;\n",
       "        }\n",
       "    </style>\n",
       "    \n",
       "    <b></b>\n",
       "        <div style=\"max-height:1000px;max-width:1500px;overflow:auto;\">\n",
       "        <table border=\"1\" class=\"Relation\">\n",
       "            <thead> <tr style=\"text-align: right;\"> <th> <div class=\"djtooltip\">\n",
       "                            <p id=\"primary\">aircraft</p>\n",
       "                            <span class=\"djtooltiptext\"></span>\n",
       "                        </div> </th> </tr> </thead>\n",
       "            <tbody> <tr> <td>A320</td></tr><tr><td>Boeing 737-8Max</td></tr><tr><td>Embraer170</td> </tr> </tbody>\n",
       "        </table>\n",
       "        \n",
       "        <p>Total: 3</p></div>\n",
       "        "
      ],
      "text/plain": [
       "*aircraft     \n",
       "+------------+\n",
       "A320          \n",
       "Boeing 737-8Ma\n",
       "Embraer170    \n",
       " (Total: 3)"
      ]
     },
     "execution_count": 7,
     "metadata": {},
     "output_type": "execute_result"
    }
   ],
   "source": [
    "Aircraft()"
   ]
  },
  {
   "cell_type": "code",
   "execution_count": 8,
   "metadata": {},
   "outputs": [],
   "source": [
    "@schema\n",
    "class Seat(dj.Manual):\n",
    "    definition = \"\"\"\n",
    "    -> Aircraft\n",
    "    seat  : char(3)\n",
    "    ---\n",
    "    class : enum('Economy', 'Business', 'First Class')\n",
    "    \"\"\""
   ]
  },
  {
   "cell_type": "code",
   "execution_count": 9,
   "metadata": {},
   "outputs": [
    {
     "data": {
      "image/svg+xml": [
       "<svg xmlns=\"http://www.w3.org/2000/svg\" xmlns:xlink=\"http://www.w3.org/1999/xlink\" width=\"56pt\" height=\"114pt\" viewBox=\"0.00 0.00 56.00 114.00\">\n",
       "<g id=\"graph0\" class=\"graph\" transform=\"scale(1 1) rotate(0) translate(4 110)\">\n",
       "<polygon fill=\"white\" stroke=\"transparent\" points=\"-4,4 -4,-110 52,-110 52,4 -4,4\"/>\n",
       "<!-- Aircraft -->\n",
       "<g id=\"node1\" class=\"node\">\n",
       "<title>Aircraft</title>\n",
       "<g id=\"a_node1\"><a xlink:title=\"aircraft             \r",
       "\">\n",
       "<polygon fill=\"#000000\" fill-opacity=\"0.125490\" stroke=\"transparent\" points=\"48,-106 0,-106 0,-71 48,-71 48,-106\"/>\n",
       "<text text-anchor=\"start\" x=\"8\" y=\"-87\" font-family=\"arial\" text-decoration=\"underline\" font-size=\"10.00\">Aircraft</text>\n",
       "</a>\n",
       "</g>\n",
       "</g>\n",
       "<!-- Seat -->\n",
       "<g id=\"node2\" class=\"node\">\n",
       "<title>Seat</title>\n",
       "<g id=\"a_node2\"><a xlink:title=\"→ Aircraft\r",
       "seat                 \r",
       "------------------------------\r",
       "class                \r",
       "\">\n",
       "<polygon fill=\"#00ff00\" fill-opacity=\"0.188235\" stroke=\"#00ff00\" stroke-opacity=\"0.188235\" points=\"44.5,-35 3.5,-35 3.5,0 44.5,0 44.5,-35\"/>\n",
       "<text text-anchor=\"start\" x=\"11.5\" y=\"-15.4\" font-family=\"arial\" text-decoration=\"underline\" font-size=\"12.00\" fill=\"darkgreen\">Seat</text>\n",
       "</a>\n",
       "</g>\n",
       "</g>\n",
       "<!-- Aircraft&#45;&gt;Seat -->\n",
       "<g id=\"edge1\" class=\"edge\">\n",
       "<title>Aircraft-&gt;Seat</title>\n",
       "<path fill=\"none\" stroke=\"#000000\" stroke-width=\"0.75\" stroke-opacity=\"0.250980\" d=\"M24,-70.8C24,-59.95 24,-45.87 24,-35.05\"/>\n",
       "</g>\n",
       "</g>\n",
       "</svg>"
      ],
      "text/plain": [
       "<datajoint.diagram.Diagram at 0x13f7b0250>"
      ]
     },
     "execution_count": 9,
     "metadata": {},
     "output_type": "execute_result"
    }
   ],
   "source": [
    "dj.Diagram(schema)"
   ]
  },
  {
   "cell_type": "code",
   "execution_count": 10,
   "metadata": {},
   "outputs": [],
   "source": [
    "aircraft = \"A320\"\n",
    "\n",
    "klass = \"First Class\" \n",
    "Seat.insert(({'aircraft': aircraft, \n",
    "                      \"seat\": str(row)+seat, \n",
    "                      \"class\": klass} \n",
    "            for row in range(1, 7)\n",
    "            for seat in \"ABC\"), skip_duplicates=True)\n",
    "\n",
    "klass = \"Business\" \n",
    "Seat.insert(({'aircraft': aircraft, \n",
    "                      \"seat\": str(row)+seat, \n",
    "                      \"class\": klass} \n",
    "            for row in range(7, 12)\n",
    "            for seat in \"ABCD\"), skip_duplicates=True)\n",
    "\n",
    "klass = \"Economy\" \n",
    "Seat.insert(({'aircraft': aircraft, \n",
    "                      \"seat\": str(row)+seat, \n",
    "                      \"class\": klass} \n",
    "            for row in range(12, 31)\n",
    "            for seat in \"ABCDEF\"), skip_duplicates=True)"
   ]
  },
  {
   "cell_type": "code",
   "execution_count": 11,
   "metadata": {},
   "outputs": [
    {
     "data": {
      "text/html": [
       "\n",
       "    \n",
       "    <style type=\"text/css\">\n",
       "        .Relation{\n",
       "            border-collapse:collapse;\n",
       "        }\n",
       "        .Relation th{\n",
       "            background: #A0A0A0; color: #ffffff; padding:4px; border:#f0e0e0 1px solid;\n",
       "            font-weight: normal; font-family: monospace; font-size: 100%;\n",
       "        }\n",
       "        .Relation td{\n",
       "            padding:4px; border:#f0e0e0 1px solid; font-size:100%;\n",
       "        }\n",
       "        .Relation tr:nth-child(odd){\n",
       "            background: #ffffff;\n",
       "        }\n",
       "        .Relation tr:nth-child(even){\n",
       "            background: #f3f1ff;\n",
       "        }\n",
       "        /* Tooltip container */\n",
       "        .djtooltip {\n",
       "        }\n",
       "        /* Tooltip text */\n",
       "        .djtooltip .djtooltiptext {\n",
       "            visibility: hidden;\n",
       "            width: 120px;\n",
       "            background-color: black;\n",
       "            color: #fff;\n",
       "            text-align: center;\n",
       "            padding: 5px 0;\n",
       "            border-radius: 6px;\n",
       "            /* Position the tooltip text - see examples below! */\n",
       "            position: absolute;\n",
       "            z-index: 1;\n",
       "        }\n",
       "        #primary {\n",
       "            font-weight: bold;\n",
       "            color: black;\n",
       "        }\n",
       "        #nonprimary {\n",
       "            font-weight: normal;\n",
       "            color: white;\n",
       "        }\n",
       "\n",
       "        /* Show the tooltip text when you mouse over the tooltip container */\n",
       "        .djtooltip:hover .djtooltiptext {\n",
       "            visibility: visible;\n",
       "        }\n",
       "    </style>\n",
       "    \n",
       "    <b></b>\n",
       "        <div style=\"max-height:1000px;max-width:1500px;overflow:auto;\">\n",
       "        <table border=\"1\" class=\"Relation\">\n",
       "            <thead> <tr style=\"text-align: right;\"> <th> <div class=\"djtooltip\">\n",
       "                            <p id=\"primary\">aircraft</p>\n",
       "                            <span class=\"djtooltiptext\"></span>\n",
       "                        </div></th><th><div class=\"djtooltip\">\n",
       "                            <p id=\"primary\">seat</p>\n",
       "                            <span class=\"djtooltiptext\"></span>\n",
       "                        </div></th><th><div class=\"djtooltip\">\n",
       "                            <p id=\"nonprimary\">class</p>\n",
       "                            <span class=\"djtooltiptext\"></span>\n",
       "                        </div> </th> </tr> </thead>\n",
       "            <tbody> <tr> <td>A320</td>\n",
       "<td>10A</td>\n",
       "<td>Business</td></tr><tr><td>A320</td>\n",
       "<td>10B</td>\n",
       "<td>Business</td></tr><tr><td>A320</td>\n",
       "<td>10C</td>\n",
       "<td>Business</td></tr><tr><td>A320</td>\n",
       "<td>10D</td>\n",
       "<td>Business</td></tr><tr><td>A320</td>\n",
       "<td>11A</td>\n",
       "<td>Business</td></tr><tr><td>A320</td>\n",
       "<td>11B</td>\n",
       "<td>Business</td></tr><tr><td>A320</td>\n",
       "<td>11C</td>\n",
       "<td>Business</td></tr><tr><td>A320</td>\n",
       "<td>11D</td>\n",
       "<td>Business</td></tr><tr><td>A320</td>\n",
       "<td>12A</td>\n",
       "<td>Economy</td></tr><tr><td>A320</td>\n",
       "<td>12B</td>\n",
       "<td>Economy</td></tr><tr><td>A320</td>\n",
       "<td>12C</td>\n",
       "<td>Economy</td></tr><tr><td>A320</td>\n",
       "<td>12D</td>\n",
       "<td>Economy</td> </tr> </tbody>\n",
       "        </table>\n",
       "        <p>...</p>\n",
       "        <p>Total: 152</p></div>\n",
       "        "
      ],
      "text/plain": [
       "*aircraft    *seat    class       \n",
       "+----------+ +------+ +----------+\n",
       "A320         10A      Business    \n",
       "A320         10B      Business    \n",
       "A320         10C      Business    \n",
       "A320         10D      Business    \n",
       "A320         11A      Business    \n",
       "A320         11B      Business    \n",
       "A320         11C      Business    \n",
       "A320         11D      Business    \n",
       "A320         12A      Economy     \n",
       "A320         12B      Economy     \n",
       "A320         12C      Economy     \n",
       "A320         12D      Economy     \n",
       "   ...\n",
       " (Total: 152)"
      ]
     },
     "execution_count": 11,
     "metadata": {},
     "output_type": "execute_result"
    }
   ],
   "source": [
    "Seat()"
   ]
  },
  {
   "cell_type": "code",
   "execution_count": 39,
   "metadata": {},
   "outputs": [],
   "source": [
    "@schema\n",
    "class Airport(dj.Lookup):\n",
    "    definition = \"\"\"\n",
    "    airport_code : char(3)\n",
    "    ---\n",
    "    airport_name : varchar(30)\n",
    "    lattitude   : float  # (degrees)\n",
    "    longitude   : float  # (degrees)\n",
    "    \"\"\"\n",
    "    contents = ((\"IAH\", \"George Bush International\", +29.9902, -95.3368),\n",
    "                (\"HOU\", \"Hobby Airport\", 29.6459, -95.2769),\n",
    "                (\"LAX\", \"Los Angeles International\", 33.9416, -118.4085),)"
   ]
  },
  {
   "cell_type": "code",
   "execution_count": 40,
   "metadata": {},
   "outputs": [
    {
     "data": {
      "text/html": [
       "\n",
       "    \n",
       "    <style type=\"text/css\">\n",
       "        .Relation{\n",
       "            border-collapse:collapse;\n",
       "        }\n",
       "        .Relation th{\n",
       "            background: #A0A0A0; color: #ffffff; padding:4px; border:#f0e0e0 1px solid;\n",
       "            font-weight: normal; font-family: monospace; font-size: 100%;\n",
       "        }\n",
       "        .Relation td{\n",
       "            padding:4px; border:#f0e0e0 1px solid; font-size:100%;\n",
       "        }\n",
       "        .Relation tr:nth-child(odd){\n",
       "            background: #ffffff;\n",
       "        }\n",
       "        .Relation tr:nth-child(even){\n",
       "            background: #f3f1ff;\n",
       "        }\n",
       "        /* Tooltip container */\n",
       "        .djtooltip {\n",
       "        }\n",
       "        /* Tooltip text */\n",
       "        .djtooltip .djtooltiptext {\n",
       "            visibility: hidden;\n",
       "            width: 120px;\n",
       "            background-color: black;\n",
       "            color: #fff;\n",
       "            text-align: center;\n",
       "            padding: 5px 0;\n",
       "            border-radius: 6px;\n",
       "            /* Position the tooltip text - see examples below! */\n",
       "            position: absolute;\n",
       "            z-index: 1;\n",
       "        }\n",
       "        #primary {\n",
       "            font-weight: bold;\n",
       "            color: black;\n",
       "        }\n",
       "        #nonprimary {\n",
       "            font-weight: normal;\n",
       "            color: white;\n",
       "        }\n",
       "\n",
       "        /* Show the tooltip text when you mouse over the tooltip container */\n",
       "        .djtooltip:hover .djtooltiptext {\n",
       "            visibility: visible;\n",
       "        }\n",
       "    </style>\n",
       "    \n",
       "    <b></b>\n",
       "        <div style=\"max-height:1000px;max-width:1500px;overflow:auto;\">\n",
       "        <table border=\"1\" class=\"Relation\">\n",
       "            <thead> <tr style=\"text-align: right;\"> <th> <div class=\"djtooltip\">\n",
       "                            <p id=\"primary\">airport_code</p>\n",
       "                            <span class=\"djtooltiptext\"></span>\n",
       "                        </div></th><th><div class=\"djtooltip\">\n",
       "                            <p id=\"nonprimary\">airport_name</p>\n",
       "                            <span class=\"djtooltiptext\"></span>\n",
       "                        </div></th><th><div class=\"djtooltip\">\n",
       "                            <p id=\"nonprimary\">lattitude</p>\n",
       "                            <span class=\"djtooltiptext\">(degrees)</span>\n",
       "                        </div></th><th><div class=\"djtooltip\">\n",
       "                            <p id=\"nonprimary\">longitude</p>\n",
       "                            <span class=\"djtooltiptext\">(degrees)</span>\n",
       "                        </div> </th> </tr> </thead>\n",
       "            <tbody> <tr> <td>HOU</td>\n",
       "<td>Hobby Airport</td>\n",
       "<td>29.6459</td>\n",
       "<td>-95.2769</td></tr><tr><td>IAH</td>\n",
       "<td>George Bush International</td>\n",
       "<td>29.9902</td>\n",
       "<td>-95.3368</td></tr><tr><td>LAX</td>\n",
       "<td>Los Angeles International</td>\n",
       "<td>33.9416</td>\n",
       "<td>-118.409</td> </tr> </tbody>\n",
       "        </table>\n",
       "        \n",
       "        <p>Total: 3</p></div>\n",
       "        "
      ],
      "text/plain": [
       "*airport_code  airport_name   lattitude     longitude    \n",
       "+------------+ +------------+ +-----------+ +-----------+\n",
       "HOU            Hobby Airport  29.6459       -95.2769     \n",
       "IAH            George Bush In 29.9902       -95.3368     \n",
       "LAX            Los Angeles In 33.9416       -118.409     \n",
       " (Total: 3)"
      ]
     },
     "execution_count": 40,
     "metadata": {},
     "output_type": "execute_result"
    }
   ],
   "source": [
    "Airport()"
   ]
  },
  {
   "cell_type": "code",
   "execution_count": 48,
   "metadata": {},
   "outputs": [],
   "source": [
    "@schema\n",
    "class Flight(dj.Manual):\n",
    "    definition = \"\"\"\n",
    "    flight_no  : int\n",
    "    ---\n",
    "    -> Airport.proj(origin_code=\"airport_code\")\n",
    "    -> Airport.proj(dest_code=\"airport_code\")\n",
    "    -> Aircraft\n",
    "    economy_price: decimal(6, 2)\n",
    "    departure_datetime : datetime\n",
    "    arrival_datetime : datetime\n",
    "    \"\"\""
   ]
  },
  {
   "cell_type": "code",
   "execution_count": null,
   "metadata": {},
   "outputs": [],
   "source": [
    "Equivalent SQL:\n",
    "    \n",
    "    CREATE TABLE IF NOT EXISTS `flight` (\n",
    "    `flight_no` int not null, \n",
    "    `dest_code` char(3) not null,\n",
    "    `origin_code` char(3) not null,\n",
    "    `aircraft` varchar(16) not null,\n",
    "    `econonmy_price` decimal(6, 2) not null,\n",
    "    `departure_datetime` datetime not null, \n",
    "    `arrival_datetime` datetime not null,\n",
    "    PRIMARY KEY (`flight_no`),\n",
    "    FOREIGN KEY (`origin_code`) REFERENCES `airport`(`airport_code`),\n",
    "    FOREIGN KEY (`dest_code`) REFERENCES `airport`(`airport_code`),\n",
    "    FOREIGN KEY (`aircraft`) REFERENCES `aircraft`(`aircraft`)\n",
    "    )\n",
    "    "
   ]
  },
  {
   "cell_type": "code",
   "execution_count": 51,
   "metadata": {},
   "outputs": [
    {
     "data": {
      "image/svg+xml": [
       "<svg xmlns=\"http://www.w3.org/2000/svg\" xmlns:xlink=\"http://www.w3.org/1999/xlink\" width=\"132pt\" height=\"256pt\" viewBox=\"0.00 0.00 131.50 256.00\">\n",
       "<g id=\"graph0\" class=\"graph\" transform=\"scale(1 1) rotate(0) translate(4 252)\">\n",
       "<polygon fill=\"white\" stroke=\"transparent\" points=\"-4,4 -4,-252 127.5,-252 127.5,4 -4,4\"/>\n",
       "<!-- 4 -->\n",
       "<g id=\"node1\" class=\"node\">\n",
       "<title>4</title>\n",
       "<ellipse fill=\"#ff8800\" fill-opacity=\"0.501961\" stroke=\"#ff8800\" stroke-opacity=\"0.501961\" cx=\"8.5\" cy=\"-159.5\" rx=\"2\" ry=\"2\"/>\n",
       "<text text-anchor=\"middle\" x=\"8.5\" y=\"-159.2\" font-family=\"arial\" font-size=\"1.00\" fill=\"#ff8800\" fill-opacity=\"0.501961\">4</text>\n",
       "</g>\n",
       "<!-- Flight -->\n",
       "<g id=\"node4\" class=\"node\">\n",
       "<title>Flight</title>\n",
       "<g id=\"a_node4\"><a xlink:title=\"flight_no            \r",
       "------------------------------\r",
       "→ Airport.proj(dest_code=&quot;airport_code&quot;)\r",
       "→ Airport.proj(origin_code=&quot;airport_code&quot;)\r",
       "→ Aircraft\r",
       "economy_price        \r",
       "departure_datetime   \r",
       "arrival_datetime     \r",
       "\">\n",
       "<polygon fill=\"#00ff00\" fill-opacity=\"0.188235\" stroke=\"#00ff00\" stroke-opacity=\"0.188235\" points=\"64,-106 17,-106 17,-71 64,-71 64,-106\"/>\n",
       "<text text-anchor=\"start\" x=\"25\" y=\"-86.4\" font-family=\"arial\" text-decoration=\"underline\" font-size=\"12.00\" fill=\"darkgreen\">Flight</text>\n",
       "</a>\n",
       "</g>\n",
       "</g>\n",
       "<!-- 4&#45;&gt;Flight -->\n",
       "<g id=\"edge1\" class=\"edge\">\n",
       "<title>4-&gt;Flight</title>\n",
       "<path fill=\"none\" stroke=\"#000000\" stroke-width=\"0.75\" stroke-dasharray=\"5,2\" stroke-opacity=\"0.250980\" d=\"M8.95,-157.52C11.5,-152.02 24.29,-124.45 32.78,-106.14\"/>\n",
       "</g>\n",
       "<!-- 5 -->\n",
       "<g id=\"node2\" class=\"node\">\n",
       "<title>5</title>\n",
       "<ellipse fill=\"#ff8800\" fill-opacity=\"0.501961\" stroke=\"#ff8800\" stroke-opacity=\"0.501961\" cx=\"43.5\" cy=\"-159.5\" rx=\"2\" ry=\"2\"/>\n",
       "<text text-anchor=\"middle\" x=\"43.5\" y=\"-159.2\" font-family=\"arial\" font-size=\"1.00\" fill=\"#ff8800\" fill-opacity=\"0.501961\">5</text>\n",
       "</g>\n",
       "<!-- 5&#45;&gt;Flight -->\n",
       "<g id=\"edge2\" class=\"edge\">\n",
       "<title>5-&gt;Flight</title>\n",
       "<path fill=\"none\" stroke=\"#000000\" stroke-width=\"0.75\" stroke-dasharray=\"5,2\" stroke-opacity=\"0.250980\" d=\"M43.45,-157.3C43.19,-151.33 42.01,-124.29 41.23,-106.22\"/>\n",
       "</g>\n",
       "<!-- Airport -->\n",
       "<g id=\"node3\" class=\"node\">\n",
       "<title>Airport</title>\n",
       "<g id=\"a_node3\"><a xlink:title=\"airport_code         \r",
       "------------------------------\r",
       "airport_name         \r",
       "lattitude            \r",
       "longitude            \r",
       "\">\n",
       "<polygon fill=\"#000000\" fill-opacity=\"0.125490\" stroke=\"transparent\" points=\"48,-248 3,-248 3,-213 48,-213 48,-248\"/>\n",
       "<text text-anchor=\"start\" x=\"11\" y=\"-229\" font-family=\"arial\" text-decoration=\"underline\" font-size=\"10.00\">Airport</text>\n",
       "</a>\n",
       "</g>\n",
       "</g>\n",
       "<!-- Airport&#45;&gt;4 -->\n",
       "<g id=\"edge3\" class=\"edge\">\n",
       "<title>Airport-&gt;4</title>\n",
       "<path fill=\"none\" stroke=\"#000000\" stroke-width=\"0.75\" stroke-dasharray=\"5,2\" stroke-opacity=\"0.250980\" d=\"M21.38,-212.8C16.98,-194.93 10.42,-168.29 8.85,-161.91\"/>\n",
       "</g>\n",
       "<!-- Airport&#45;&gt;5 -->\n",
       "<g id=\"edge4\" class=\"edge\">\n",
       "<title>Airport-&gt;5</title>\n",
       "<path fill=\"none\" stroke=\"#000000\" stroke-width=\"0.75\" stroke-dasharray=\"5,2\" stroke-opacity=\"0.250980\" d=\"M29.86,-212.8C34.52,-194.93 41.47,-168.29 43.13,-161.91\"/>\n",
       "</g>\n",
       "<!-- Reservation -->\n",
       "<g id=\"node7\" class=\"node\">\n",
       "<title>Reservation</title>\n",
       "<g id=\"a_node7\"><a xlink:title=\"→ Flight\r",
       "→ Seat\r",
       "\">\n",
       "<polygon fill=\"#00ff00\" fill-opacity=\"0.188235\" stroke=\"#00ff00\" stroke-opacity=\"0.188235\" points=\"112,-35 31,-35 31,0 112,0 112,-35\"/>\n",
       "<text text-anchor=\"middle\" x=\"71.5\" y=\"-14.4\" font-family=\"arial\" font-size=\"12.00\" fill=\"darkgreen\">Reservation</text>\n",
       "</a>\n",
       "</g>\n",
       "</g>\n",
       "<!-- Flight&#45;&gt;Reservation -->\n",
       "<g id=\"edge5\" class=\"edge\">\n",
       "<title>Flight-&gt;Reservation</title>\n",
       "<path fill=\"none\" stroke=\"#000000\" stroke-width=\"0.75\" stroke-opacity=\"0.250980\" d=\"M48,-70.8C52.88,-59.95 59.2,-45.87 64.06,-35.05\"/>\n",
       "</g>\n",
       "<!-- Aircraft -->\n",
       "<g id=\"node5\" class=\"node\">\n",
       "<title>Aircraft</title>\n",
       "<g id=\"a_node5\"><a xlink:title=\"aircraft             \r",
       "\">\n",
       "<polygon fill=\"#000000\" fill-opacity=\"0.125490\" stroke=\"transparent\" points=\"123.5,-177 75.5,-177 75.5,-142 123.5,-142 123.5,-177\"/>\n",
       "<text text-anchor=\"start\" x=\"83.5\" y=\"-158\" font-family=\"arial\" text-decoration=\"underline\" font-size=\"10.00\">Aircraft</text>\n",
       "</a>\n",
       "</g>\n",
       "</g>\n",
       "<!-- Aircraft&#45;&gt;Flight -->\n",
       "<g id=\"edge6\" class=\"edge\">\n",
       "<title>Aircraft-&gt;Flight</title>\n",
       "<path fill=\"none\" stroke=\"#000000\" stroke-width=\"0.75\" stroke-dasharray=\"5,2\" stroke-opacity=\"0.250980\" d=\"M85.22,-141.8C75.94,-130.95 63.9,-116.87 54.65,-106.05\"/>\n",
       "</g>\n",
       "<!-- Seat -->\n",
       "<g id=\"node6\" class=\"node\">\n",
       "<title>Seat</title>\n",
       "<g id=\"a_node6\"><a xlink:title=\"→ Aircraft\r",
       "seat                 \r",
       "------------------------------\r",
       "class                \r",
       "\">\n",
       "<polygon fill=\"#00ff00\" fill-opacity=\"0.188235\" stroke=\"#00ff00\" stroke-opacity=\"0.188235\" points=\"123,-106 82,-106 82,-71 123,-71 123,-106\"/>\n",
       "<text text-anchor=\"start\" x=\"90\" y=\"-86.4\" font-family=\"arial\" text-decoration=\"underline\" font-size=\"12.00\" fill=\"darkgreen\">Seat</text>\n",
       "</a>\n",
       "</g>\n",
       "</g>\n",
       "<!-- Aircraft&#45;&gt;Seat -->\n",
       "<g id=\"edge7\" class=\"edge\">\n",
       "<title>Aircraft-&gt;Seat</title>\n",
       "<path fill=\"none\" stroke=\"#000000\" stroke-width=\"0.75\" stroke-opacity=\"0.250980\" d=\"M100.23,-141.8C100.7,-130.95 101.31,-116.87 101.78,-106.05\"/>\n",
       "</g>\n",
       "<!-- Seat&#45;&gt;Reservation -->\n",
       "<g id=\"edge8\" class=\"edge\">\n",
       "<title>Seat-&gt;Reservation</title>\n",
       "<path fill=\"none\" stroke=\"#000000\" stroke-width=\"0.75\" stroke-opacity=\"0.250980\" d=\"M95,-70.8C90.12,-59.95 83.8,-45.87 78.94,-35.05\"/>\n",
       "</g>\n",
       "</g>\n",
       "</svg>"
      ],
      "text/plain": [
       "<datajoint.diagram.Diagram at 0x1407765e0>"
      ]
     },
     "execution_count": 51,
     "metadata": {},
     "output_type": "execute_result"
    }
   ],
   "source": [
    "dj.Diagram(schema)"
   ]
  },
  {
   "cell_type": "code",
   "execution_count": 50,
   "metadata": {},
   "outputs": [],
   "source": [
    "@schema\n",
    "class Reservation(dj.Manual):\n",
    "    definition = \"\"\"\n",
    "    -> Flight\n",
    "    -> Seat\n",
    "    ---\n",
    "    \"\"\""
   ]
  },
  {
   "cell_type": "code",
   "execution_count": 52,
   "metadata": {},
   "outputs": [
    {
     "data": {
      "text/html": [
       "\n",
       "    \n",
       "    <style type=\"text/css\">\n",
       "        .Relation{\n",
       "            border-collapse:collapse;\n",
       "        }\n",
       "        .Relation th{\n",
       "            background: #A0A0A0; color: #ffffff; padding:4px; border:#f0e0e0 1px solid;\n",
       "            font-weight: normal; font-family: monospace; font-size: 100%;\n",
       "        }\n",
       "        .Relation td{\n",
       "            padding:4px; border:#f0e0e0 1px solid; font-size:100%;\n",
       "        }\n",
       "        .Relation tr:nth-child(odd){\n",
       "            background: #ffffff;\n",
       "        }\n",
       "        .Relation tr:nth-child(even){\n",
       "            background: #f3f1ff;\n",
       "        }\n",
       "        /* Tooltip container */\n",
       "        .djtooltip {\n",
       "        }\n",
       "        /* Tooltip text */\n",
       "        .djtooltip .djtooltiptext {\n",
       "            visibility: hidden;\n",
       "            width: 120px;\n",
       "            background-color: black;\n",
       "            color: #fff;\n",
       "            text-align: center;\n",
       "            padding: 5px 0;\n",
       "            border-radius: 6px;\n",
       "            /* Position the tooltip text - see examples below! */\n",
       "            position: absolute;\n",
       "            z-index: 1;\n",
       "        }\n",
       "        #primary {\n",
       "            font-weight: bold;\n",
       "            color: black;\n",
       "        }\n",
       "        #nonprimary {\n",
       "            font-weight: normal;\n",
       "            color: white;\n",
       "        }\n",
       "\n",
       "        /* Show the tooltip text when you mouse over the tooltip container */\n",
       "        .djtooltip:hover .djtooltiptext {\n",
       "            visibility: visible;\n",
       "        }\n",
       "    </style>\n",
       "    \n",
       "    \n",
       "        <div style=\"max-height:1000px;max-width:1500px;overflow:auto;\">\n",
       "        <table border=\"1\" class=\"Relation\">\n",
       "            <thead> <tr style=\"text-align: right;\"> <th> <div class=\"djtooltip\">\n",
       "                            <p id=\"primary\">flight_no</p>\n",
       "                            <span class=\"djtooltiptext\"></span>\n",
       "                        </div></th><th><div class=\"djtooltip\">\n",
       "                            <p id=\"primary\">aircraft</p>\n",
       "                            <span class=\"djtooltiptext\"></span>\n",
       "                        </div></th><th><div class=\"djtooltip\">\n",
       "                            <p id=\"primary\">seat</p>\n",
       "                            <span class=\"djtooltiptext\"></span>\n",
       "                        </div></th><th><div class=\"djtooltip\">\n",
       "                            <p id=\"nonprimary\">dest_code</p>\n",
       "                            <span class=\"djtooltiptext\"></span>\n",
       "                        </div></th><th><div class=\"djtooltip\">\n",
       "                            <p id=\"nonprimary\">origin_code</p>\n",
       "                            <span class=\"djtooltiptext\"></span>\n",
       "                        </div></th><th><div class=\"djtooltip\">\n",
       "                            <p id=\"nonprimary\">economy_price</p>\n",
       "                            <span class=\"djtooltiptext\"></span>\n",
       "                        </div></th><th><div class=\"djtooltip\">\n",
       "                            <p id=\"nonprimary\">departure_datetime</p>\n",
       "                            <span class=\"djtooltiptext\"></span>\n",
       "                        </div></th><th><div class=\"djtooltip\">\n",
       "                            <p id=\"nonprimary\">arrival_datetime</p>\n",
       "                            <span class=\"djtooltiptext\"></span>\n",
       "                        </div></th><th><div class=\"djtooltip\">\n",
       "                            <p id=\"nonprimary\">class</p>\n",
       "                            <span class=\"djtooltiptext\"></span>\n",
       "                        </div> </th> </tr> </thead>\n",
       "            <tbody> <tr>  </tr> </tbody>\n",
       "        </table>\n",
       "        \n",
       "        <p>Total: 0</p></div>\n",
       "        "
      ],
      "text/plain": [
       "*flight_no    *aircraft    *seat    dest_code     origin_code    economy_price  departure_date arrival_dateti class    \n",
       "+-----------+ +----------+ +------+ +-----------+ +------------+ +------------+ +------------+ +------------+ +-------+\n",
       "\n",
       " (Total: 0)"
      ]
     },
     "execution_count": 52,
     "metadata": {},
     "output_type": "execute_result"
    }
   ],
   "source": [
    "Flight * Reservation * Seat"
   ]
  },
  {
   "cell_type": "code",
   "execution_count": 12,
   "metadata": {},
   "outputs": [],
   "source": [
    "import pymysql\n",
    "import json\n",
    "\n",
    "with open('cred.json') as f:\n",
    "    creds=json.load(f)\n",
    "\n",
    "    # establish a database connection\n",
    "conn = pymysql.connect(\n",
    "    host=creds['host'], \n",
    "    user=creds['user'], \n",
    "    passwd=creds['password'])"
   ]
  },
  {
   "cell_type": "code",
   "execution_count": 13,
   "metadata": {},
   "outputs": [],
   "source": [
    "cur = conn.cursor()"
   ]
  },
  {
   "cell_type": "code",
   "execution_count": 16,
   "metadata": {},
   "outputs": [
    {
     "data": {
      "text/plain": [
       "0"
      ]
     },
     "execution_count": 16,
     "metadata": {},
     "output_type": "execute_result"
    }
   ],
   "source": [
    "cur.execute('CREATE DATABASE IF NOT EXISTS `dimitri_air`')"
   ]
  },
  {
   "cell_type": "code",
   "execution_count": 17,
   "metadata": {},
   "outputs": [
    {
     "data": {
      "text/plain": [
       "0"
      ]
     },
     "execution_count": 17,
     "metadata": {},
     "output_type": "execute_result"
    }
   ],
   "source": [
    "cur.execute('USE `dimitri_air`')"
   ]
  },
  {
   "cell_type": "code",
   "execution_count": 20,
   "metadata": {},
   "outputs": [
    {
     "data": {
      "text/plain": [
       "0"
      ]
     },
     "execution_count": 20,
     "metadata": {},
     "output_type": "execute_result"
    }
   ],
   "source": [
    "cur.execute(\"\"\"\n",
    "CREATE TABLE IF NOT EXISTS `aircraft` (\n",
    "aircraft varchar(16) NOT NULL,\n",
    "PRIMARY KEY (aircraft)\n",
    ")\n",
    "\"\"\")"
   ]
  },
  {
   "cell_type": "code",
   "execution_count": 26,
   "metadata": {},
   "outputs": [
    {
     "ename": "NameError",
     "evalue": "name 'e' is not defined",
     "output_type": "error",
     "traceback": [
      "\u001b[0;31m---------------------------------------------------------------------------\u001b[0m",
      "\u001b[0;31mNameError\u001b[0m                                 Traceback (most recent call last)",
      "\u001b[0;32m<ipython-input-26-094e3afb2fe8>\u001b[0m in \u001b[0;36m<module>\u001b[0;34m\u001b[0m\n\u001b[0;32m----> 1\u001b[0;31m \u001b[0me\u001b[0m\u001b[0;34m\u001b[0m\u001b[0;34m\u001b[0m\u001b[0m\n\u001b[0m",
      "\u001b[0;31mNameError\u001b[0m: name 'e' is not defined"
     ]
    }
   ],
   "source": [
    "e"
   ]
  },
  {
   "cell_type": "code",
   "execution_count": 29,
   "metadata": {},
   "outputs": [
    {
     "name": "stdout",
     "output_type": "stream",
     "text": [
      "Skipping duplicate\n",
      "Skipping duplicate\n",
      "Skipping duplicate\n"
     ]
    }
   ],
   "source": [
    "for craft in ('Boeing 737-8Max', 'A320', 'Embraer170'):\n",
    "    try:\n",
    "        cur.execute(\"INSERT INTO aircraft VALUES (%s)\", (craft,))\n",
    "    except pymysql.IntegrityError as err:\n",
    "        if err.args[0] == 1062:\n",
    "            print('Skipping duplicate')\n"
   ]
  },
  {
   "cell_type": "code",
   "execution_count": 30,
   "metadata": {},
   "outputs": [
    {
     "data": {
      "text/plain": [
       "(('A320',), ('Boeing 737-8Max',), ('Embraer170',))"
      ]
     },
     "execution_count": 30,
     "metadata": {},
     "output_type": "execute_result"
    }
   ],
   "source": [
    "cur.execute('SELECT * FROM aircraft')\n",
    "cur.fetchall()"
   ]
  },
  {
   "cell_type": "code",
   "execution_count": 32,
   "metadata": {},
   "outputs": [
    {
     "data": {
      "text/plain": [
       "0"
      ]
     },
     "execution_count": 32,
     "metadata": {},
     "output_type": "execute_result"
    }
   ],
   "source": [
    "cur.execute(\"\"\"\n",
    "CREATE TABLE IF NOT EXISTS `seat` (\n",
    "aircraft varchar(16) NOT NULL,\n",
    "seat char(3) NOT NULL,\n",
    "class enum('Economy', 'Business', 'First Class') NOT NULL,\n",
    "PRIMARY KEY (aircraft, seat),\n",
    "FOREIGN KEY (aircraft) REFERENCES aircraft(aircraft) \n",
    ")\n",
    "\"\"\")"
   ]
  },
  {
   "cell_type": "code",
   "execution_count": 35,
   "metadata": {},
   "outputs": [],
   "source": [
    "aircraft = \"A320\"\n",
    "\n",
    "klass = \"First Class\" \n",
    "\n",
    "for row in range(1, 7):\n",
    "    for seat in \"ABC\":\n",
    "        cur.execute(\"\"\"\n",
    "        INSERT IGNORE INTO `seat` (`aircraft`, `class`, `seat`) \n",
    "        VALUES (%s, %s, %s)\"\"\", (aircraft, klass, str(row) + seat))"
   ]
  },
  {
   "cell_type": "markdown",
   "metadata": {},
   "source": [
    "## Stock exchange starter"
   ]
  },
  {
   "cell_type": "code",
   "execution_count": 37,
   "metadata": {},
   "outputs": [],
   "source": [
    "schema = dj.schema(\"dimitri_exchange\")"
   ]
  },
  {
   "cell_type": "code",
   "execution_count": 38,
   "metadata": {},
   "outputs": [],
   "source": [
    "@schema\n",
    "class Company(dj.Manual):\n",
    "    definition = \"\"\"\n",
    "    ticker : char(5)\n",
    "    ---\n",
    "    company_name : varchar(50)\n",
    "    \"\"\""
   ]
  },
  {
   "cell_type": "code",
   "execution_count": 39,
   "metadata": {},
   "outputs": [],
   "source": [
    "@schema\n",
    "class TraderAccount(dj.Manual):\n",
    "    definition = \"\"\"\n",
    "    account : int \n",
    "    ---\n",
    "    primary_owner : varchar(128)\n",
    "    \"\"\""
   ]
  },
  {
   "cell_type": "code",
   "execution_count": null,
   "metadata": {},
   "outputs": [],
   "source": []
  }
 ],
 "metadata": {
  "kernelspec": {
   "display_name": "Python 3",
   "language": "python",
   "name": "python3"
  },
  "language_info": {
   "codemirror_mode": {
    "name": "ipython",
    "version": 3
   },
   "file_extension": ".py",
   "mimetype": "text/x-python",
   "name": "python",
   "nbconvert_exporter": "python",
   "pygments_lexer": "ipython3",
   "version": "3.9.7"
  }
 },
 "nbformat": 4,
 "nbformat_minor": 4
}

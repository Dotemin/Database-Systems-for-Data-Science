{
 "cells": [
  {
   "cell_type": "markdown",
   "id": "67e6908e",
   "metadata": {},
   "source": [
    "# Sakila database (DataJoint)"
   ]
  },
  {
   "cell_type": "code",
   "execution_count": 1,
   "id": "6c7f6a2b",
   "metadata": {},
   "outputs": [],
   "source": [
    "import datajoint as dj"
   ]
  },
  {
   "cell_type": "code",
   "execution_count": 2,
   "id": "7c86fdd8",
   "metadata": {},
   "outputs": [
    {
     "name": "stdout",
     "output_type": "stream",
     "text": [
      "Connecting dimitri@db.ust-db.link:3306\n"
     ]
    }
   ],
   "source": [
    "schema = dj.Schema('shared_sakila')"
   ]
  },
  {
   "cell_type": "code",
   "execution_count": 3,
   "id": "00411e91",
   "metadata": {},
   "outputs": [],
   "source": [
    "schema.spawn_missing_classes()"
   ]
  },
  {
   "cell_type": "code",
   "execution_count": 4,
   "id": "26086e1a",
   "metadata": {},
   "outputs": [
    {
     "data": {
      "image/svg+xml": [
       "<svg xmlns=\"http://www.w3.org/2000/svg\" xmlns:xlink=\"http://www.w3.org/1999/xlink\" width=\"457pt\" height=\"469pt\" viewBox=\"0.00 0.00 457.00 469.00\">\n",
       "<g id=\"graph0\" class=\"graph\" transform=\"scale(1 1) rotate(0) translate(4 465)\">\n",
       "<polygon fill=\"white\" stroke=\"transparent\" points=\"-4,4 -4,-465 453,-465 453,4 -4,4\"/>\n",
       "<!-- 0 -->\n",
       "<g id=\"node1\" class=\"node\">\n",
       "<title>0</title>\n",
       "<ellipse fill=\"#ff8800\" fill-opacity=\"0.501961\" stroke=\"#ff8800\" stroke-opacity=\"0.501961\" cx=\"146\" cy=\"-301.5\" rx=\"2\" ry=\"2\"/>\n",
       "<text text-anchor=\"middle\" x=\"146\" y=\"-301.2\" font-family=\"arial\" font-size=\"1.00\" fill=\"#ff8800\" fill-opacity=\"0.501961\">0</text>\n",
       "</g>\n",
       "<!-- Film -->\n",
       "<g id=\"node9\" class=\"node\">\n",
       "<title>Film</title>\n",
       "<g id=\"a_node9\"><a xlink:title=\"film_id              \r",
       "------------------------------\r",
       "title                \r",
       "description=null     \r",
       "release_year=null    \r",
       "→ Language\r",
       "→ [nullable] Language.proj(original_language_id=&quot;language_id&quot;)\r",
       "rental_duration=3    \r",
       "rental_rate=4.99     \r",
       "length=null          \r",
       "replacement_cost=19.99 \r",
       "rating=null          \r",
       "special_features=null \r",
       "last_update=&quot;current_timestamp()&quot; \r",
       "INDEX (title)\r",
       "\">\n",
       "<polygon fill=\"#00ff00\" fill-opacity=\"0.188235\" stroke=\"#00ff00\" stroke-opacity=\"0.188235\" points=\"146.5,-248 107.5,-248 107.5,-213 146.5,-213 146.5,-248\"/>\n",
       "<text text-anchor=\"start\" x=\"115.5\" y=\"-228.4\" font-family=\"arial\" text-decoration=\"underline\" font-size=\"12.00\" fill=\"darkgreen\">Film</text>\n",
       "</a>\n",
       "</g>\n",
       "</g>\n",
       "<!-- 0&#45;&gt;Film -->\n",
       "<g id=\"edge1\" class=\"edge\">\n",
       "<title>0-&gt;Film</title>\n",
       "<path fill=\"none\" stroke=\"#000000\" stroke-width=\"0.75\" stroke-dasharray=\"5,2\" stroke-opacity=\"0.250980\" d=\"M145.67,-299.3C144.02,-293.33 136.58,-266.29 131.6,-248.22\"/>\n",
       "</g>\n",
       "<!-- Store -->\n",
       "<g id=\"node2\" class=\"node\">\n",
       "<title>Store</title>\n",
       "<g id=\"a_node2\"><a xlink:title=\"store_id             \r",
       "------------------------------\r",
       "manager_staff_id     \r",
       "→ Address\r",
       "last_update=&quot;current_timestamp()&quot; \r",
       "UNIQUE INDEX (manager_staff_id)\r",
       "\">\n",
       "<polygon fill=\"#00ff00\" fill-opacity=\"0.188235\" stroke=\"#00ff00\" stroke-opacity=\"0.188235\" points=\"390.5,-248 345.5,-248 345.5,-213 390.5,-213 390.5,-248\"/>\n",
       "<text text-anchor=\"start\" x=\"353.5\" y=\"-228.4\" font-family=\"arial\" text-decoration=\"underline\" font-size=\"12.00\" fill=\"darkgreen\">Store</text>\n",
       "</a>\n",
       "</g>\n",
       "</g>\n",
       "<!-- StoreManager -->\n",
       "<g id=\"node7\" class=\"node\">\n",
       "<title>StoreManager</title>\n",
       "<g id=\"a_node7\"><a xlink:title=\"→ Store\r",
       "------------------------------\r",
       "→ Staff\r",
       "\">\n",
       "<polygon fill=\"#00ff00\" fill-opacity=\"0.188235\" stroke=\"#00ff00\" stroke-opacity=\"0.188235\" points=\"432.5,-106 339.5,-106 339.5,-71 432.5,-71 432.5,-106\"/>\n",
       "<text text-anchor=\"middle\" x=\"386\" y=\"-85.4\" font-family=\"arial\" font-size=\"12.00\" fill=\"darkgreen\">StoreManager</text>\n",
       "</a>\n",
       "</g>\n",
       "</g>\n",
       "<!-- Store&#45;&gt;StoreManager -->\n",
       "<g id=\"edge2\" class=\"edge\">\n",
       "<title>Store-&gt;StoreManager</title>\n",
       "<path fill=\"none\" stroke=\"#000000\" stroke-width=\"2\" stroke-opacity=\"0.250980\" d=\"M370.14,-212.89C373.6,-185.95 380.4,-133.02 383.87,-106.09\"/>\n",
       "</g>\n",
       "<!-- Customer -->\n",
       "<g id=\"node10\" class=\"node\">\n",
       "<title>Customer</title>\n",
       "<g id=\"a_node10\"><a xlink:title=\"customer_id          \r",
       "------------------------------\r",
       "→ Store\r",
       "first_name           \r",
       "last_name            \r",
       "email=null           \r",
       "→ Address\r",
       "active=1             \r",
       "create_date          \r",
       "last_update=&quot;current_timestamp()&quot; \r",
       "INDEX (last_name)\r",
       "\">\n",
       "<polygon fill=\"#00ff00\" fill-opacity=\"0.188235\" stroke=\"#00ff00\" stroke-opacity=\"0.188235\" points=\"345.5,-177 276.5,-177 276.5,-142 345.5,-142 345.5,-177\"/>\n",
       "<text text-anchor=\"start\" x=\"284.5\" y=\"-157.4\" font-family=\"arial\" text-decoration=\"underline\" font-size=\"12.00\" fill=\"darkgreen\">Customer</text>\n",
       "</a>\n",
       "</g>\n",
       "</g>\n",
       "<!-- Store&#45;&gt;Customer -->\n",
       "<g id=\"edge3\" class=\"edge\">\n",
       "<title>Store-&gt;Customer</title>\n",
       "<path fill=\"none\" stroke=\"#000000\" stroke-width=\"0.75\" stroke-dasharray=\"5,2\" stroke-opacity=\"0.250980\" d=\"M354.2,-212.8C345.24,-201.95 333.61,-187.87 324.67,-177.05\"/>\n",
       "</g>\n",
       "<!-- Staff -->\n",
       "<g id=\"node13\" class=\"node\">\n",
       "<title>Staff</title>\n",
       "<g id=\"a_node13\"><a xlink:title=\"staff_id             \r",
       "------------------------------\r",
       "first_name           \r",
       "last_name            \r",
       "→ Address\r",
       "picture=null         \r",
       "email=null           \r",
       "→ Store\r",
       "active=1             \r",
       "username             \r",
       "password=null        \r",
       "last_update=&quot;current_timestamp()&quot; \r",
       "\">\n",
       "<polygon fill=\"#00ff00\" fill-opacity=\"0.188235\" stroke=\"#00ff00\" stroke-opacity=\"0.188235\" points=\"443.5,-177 402.5,-177 402.5,-142 443.5,-142 443.5,-177\"/>\n",
       "<text text-anchor=\"start\" x=\"410.5\" y=\"-157.4\" font-family=\"arial\" text-decoration=\"underline\" font-size=\"12.00\" fill=\"darkgreen\">Staff</text>\n",
       "</a>\n",
       "</g>\n",
       "</g>\n",
       "<!-- Store&#45;&gt;Staff -->\n",
       "<g id=\"edge4\" class=\"edge\">\n",
       "<title>Store-&gt;Staff</title>\n",
       "<path fill=\"none\" stroke=\"#000000\" stroke-width=\"0.75\" stroke-dasharray=\"5,2\" stroke-opacity=\"0.250980\" d=\"M381.31,-212.8C389.96,-201.95 401.19,-187.87 409.81,-177.05\"/>\n",
       "</g>\n",
       "<!-- Inventory -->\n",
       "<g id=\"node16\" class=\"node\">\n",
       "<title>Inventory</title>\n",
       "<g id=\"a_node16\"><a xlink:title=\"inventory_id         \r",
       "------------------------------\r",
       "→ Film\r",
       "→ Store\r",
       "last_update=&quot;current_timestamp()&quot; \r",
       "INDEX (store_id, film_id)\r",
       "\">\n",
       "<polygon fill=\"#00ff00\" fill-opacity=\"0.188235\" stroke=\"#00ff00\" stroke-opacity=\"0.188235\" points=\"258,-177 192,-177 192,-142 258,-142 258,-177\"/>\n",
       "<text text-anchor=\"start\" x=\"200\" y=\"-157.4\" font-family=\"arial\" text-decoration=\"underline\" font-size=\"12.00\" fill=\"darkgreen\">Inventory</text>\n",
       "</a>\n",
       "</g>\n",
       "</g>\n",
       "<!-- Store&#45;&gt;Inventory -->\n",
       "<g id=\"edge5\" class=\"edge\">\n",
       "<title>Store-&gt;Inventory</title>\n",
       "<path fill=\"none\" stroke=\"#000000\" stroke-width=\"0.75\" stroke-dasharray=\"5,2\" stroke-opacity=\"0.250980\" d=\"M345.34,-218.57C321.87,-207.24 284.96,-189.43 258.2,-176.52\"/>\n",
       "</g>\n",
       "<!-- Category -->\n",
       "<g id=\"node3\" class=\"node\">\n",
       "<title>Category</title>\n",
       "<g id=\"a_node3\"><a xlink:title=\"category_id          \r",
       "------------------------------\r",
       "name                 \r",
       "last_update=&quot;current_timestamp()&quot; \r",
       "\">\n",
       "<polygon fill=\"#00ff00\" fill-opacity=\"0.188235\" stroke=\"#00ff00\" stroke-opacity=\"0.188235\" points=\"76.5,-248 11.5,-248 11.5,-213 76.5,-213 76.5,-248\"/>\n",
       "<text text-anchor=\"start\" x=\"19.5\" y=\"-228.4\" font-family=\"arial\" text-decoration=\"underline\" font-size=\"12.00\" fill=\"darkgreen\">Category</text>\n",
       "</a>\n",
       "</g>\n",
       "</g>\n",
       "<!-- FilmCategory -->\n",
       "<g id=\"node4\" class=\"node\">\n",
       "<title>FilmCategory</title>\n",
       "<g id=\"a_node4\"><a xlink:title=\"→ Film\r",
       "→ Category\r",
       "------------------------------\r",
       "last_update=&quot;current_timestamp()&quot; \r",
       "\">\n",
       "<polygon fill=\"#00ff00\" fill-opacity=\"0.188235\" stroke=\"#00ff00\" stroke-opacity=\"0.188235\" points=\"88,-177 0,-177 0,-142 88,-142 88,-177\"/>\n",
       "<text text-anchor=\"middle\" x=\"44\" y=\"-156.4\" font-family=\"arial\" font-size=\"12.00\" fill=\"darkgreen\">FilmCategory</text>\n",
       "</a>\n",
       "</g>\n",
       "</g>\n",
       "<!-- Category&#45;&gt;FilmCategory -->\n",
       "<g id=\"edge6\" class=\"edge\">\n",
       "<title>Category-&gt;FilmCategory</title>\n",
       "<path fill=\"none\" stroke=\"#000000\" stroke-width=\"0.75\" stroke-opacity=\"0.250980\" d=\"M44,-212.8C44,-201.95 44,-187.87 44,-177.05\"/>\n",
       "</g>\n",
       "<!-- Payment -->\n",
       "<g id=\"node5\" class=\"node\">\n",
       "<title>Payment</title>\n",
       "<g id=\"a_node5\"><a xlink:title=\"payment_id           \r",
       "------------------------------\r",
       "→ Customer\r",
       "→ Staff\r",
       "→ [nullable] Rental\r",
       "amount               \r",
       "payment_date         \r",
       "last_update=&quot;current_timestamp()&quot; \r",
       "\">\n",
       "<polygon fill=\"#00ff00\" fill-opacity=\"0.188235\" stroke=\"#00ff00\" stroke-opacity=\"0.188235\" points=\"343,-35 279,-35 279,0 343,0 343,-35\"/>\n",
       "<text text-anchor=\"start\" x=\"287\" y=\"-15.4\" font-family=\"arial\" text-decoration=\"underline\" font-size=\"12.00\" fill=\"darkgreen\">Payment</text>\n",
       "</a>\n",
       "</g>\n",
       "</g>\n",
       "<!-- Address -->\n",
       "<g id=\"node6\" class=\"node\">\n",
       "<title>Address</title>\n",
       "<g id=\"a_node6\"><a xlink:title=\"address_id           \r",
       "------------------------------\r",
       "address              \r",
       "address2=null        \r",
       "district             \r",
       "→ City\r",
       "postal_code=null     \r",
       "phone                \r",
       "last_update=&quot;current_timestamp()&quot; \r",
       "\">\n",
       "<polygon fill=\"#00ff00\" fill-opacity=\"0.188235\" stroke=\"#00ff00\" stroke-opacity=\"0.188235\" points=\"398.5,-319 337.5,-319 337.5,-284 398.5,-284 398.5,-319\"/>\n",
       "<text text-anchor=\"start\" x=\"345.5\" y=\"-299.4\" font-family=\"arial\" text-decoration=\"underline\" font-size=\"12.00\" fill=\"darkgreen\">Address</text>\n",
       "</a>\n",
       "</g>\n",
       "</g>\n",
       "<!-- Address&#45;&gt;Store -->\n",
       "<g id=\"edge7\" class=\"edge\">\n",
       "<title>Address-&gt;Store</title>\n",
       "<path fill=\"none\" stroke=\"#000000\" stroke-width=\"0.75\" stroke-dasharray=\"5,2\" stroke-opacity=\"0.250980\" d=\"M368,-283.8C368,-272.95 368,-258.87 368,-248.05\"/>\n",
       "</g>\n",
       "<!-- Address&#45;&gt;Customer -->\n",
       "<g id=\"edge8\" class=\"edge\">\n",
       "<title>Address-&gt;Customer</title>\n",
       "<path fill=\"none\" stroke=\"#000000\" stroke-width=\"0.75\" stroke-dasharray=\"5,2\" stroke-opacity=\"0.250980\" d=\"M356.56,-283.56C350.16,-273.54 342.41,-260.42 337,-248 326.61,-224.18 318.86,-194.97 314.64,-177.05\"/>\n",
       "</g>\n",
       "<!-- Address&#45;&gt;Staff -->\n",
       "<g id=\"edge9\" class=\"edge\">\n",
       "<title>Address-&gt;Staff</title>\n",
       "<path fill=\"none\" stroke=\"#000000\" stroke-width=\"0.75\" stroke-dasharray=\"5,2\" stroke-opacity=\"0.250980\" d=\"M379.99,-283.68C386.65,-273.7 394.65,-260.57 400,-248 410.08,-224.3 416.69,-195.05 420.13,-177.1\"/>\n",
       "</g>\n",
       "<!-- Language -->\n",
       "<g id=\"node8\" class=\"node\">\n",
       "<title>Language</title>\n",
       "<g id=\"a_node8\"><a xlink:title=\"language_id          \r",
       "------------------------------\r",
       "name                 \r",
       "last_update=&quot;current_timestamp()&quot; \r",
       "\">\n",
       "<polygon fill=\"#00ff00\" fill-opacity=\"0.188235\" stroke=\"#00ff00\" stroke-opacity=\"0.188235\" points=\"163,-390 93,-390 93,-355 163,-355 163,-390\"/>\n",
       "<text text-anchor=\"start\" x=\"101\" y=\"-370.4\" font-family=\"arial\" text-decoration=\"underline\" font-size=\"12.00\" fill=\"darkgreen\">Language</text>\n",
       "</a>\n",
       "</g>\n",
       "</g>\n",
       "<!-- Language&#45;&gt;0 -->\n",
       "<g id=\"edge10\" class=\"edge\">\n",
       "<title>Language-&gt;0</title>\n",
       "<path fill=\"none\" stroke=\"#000000\" stroke-width=\"0.75\" stroke-dasharray=\"5,2\" stroke-opacity=\"0.250980\" d=\"M132.36,-354.8C137.02,-336.93 143.97,-310.29 145.63,-303.91\"/>\n",
       "</g>\n",
       "<!-- Language&#45;&gt;Film -->\n",
       "<g id=\"edge11\" class=\"edge\">\n",
       "<title>Language-&gt;Film</title>\n",
       "<path fill=\"none\" stroke=\"#000000\" stroke-width=\"0.75\" stroke-dasharray=\"5,2\" stroke-opacity=\"0.250980\" d=\"M127.88,-354.89C127.69,-327.95 127.31,-275.02 127.12,-248.09\"/>\n",
       "</g>\n",
       "<!-- Film&#45;&gt;FilmCategory -->\n",
       "<g id=\"edge12\" class=\"edge\">\n",
       "<title>Film-&gt;FilmCategory</title>\n",
       "<path fill=\"none\" stroke=\"#000000\" stroke-width=\"0.75\" stroke-opacity=\"0.250980\" d=\"M107.33,-213.15C94.29,-202.31 77.23,-188.13 64.11,-177.21\"/>\n",
       "</g>\n",
       "<!-- FilmActor -->\n",
       "<g id=\"node14\" class=\"node\">\n",
       "<title>FilmActor</title>\n",
       "<g id=\"a_node14\"><a xlink:title=\"→ Actor\r",
       "→ Film\r",
       "------------------------------\r",
       "last_update=&quot;current_timestamp()&quot; \r",
       "\">\n",
       "<polygon fill=\"#00ff00\" fill-opacity=\"0.188235\" stroke=\"#00ff00\" stroke-opacity=\"0.188235\" points=\"173.5,-177 106.5,-177 106.5,-142 173.5,-142 173.5,-177\"/>\n",
       "<text text-anchor=\"middle\" x=\"140\" y=\"-156.4\" font-family=\"arial\" font-size=\"12.00\" fill=\"darkgreen\">FilmActor</text>\n",
       "</a>\n",
       "</g>\n",
       "</g>\n",
       "<!-- Film&#45;&gt;FilmActor -->\n",
       "<g id=\"edge13\" class=\"edge\">\n",
       "<title>Film-&gt;FilmActor</title>\n",
       "<path fill=\"none\" stroke=\"#000000\" stroke-width=\"0.75\" stroke-opacity=\"0.250980\" d=\"M130.15,-212.8C132.19,-201.95 134.84,-187.87 136.88,-177.05\"/>\n",
       "</g>\n",
       "<!-- Film&#45;&gt;Inventory -->\n",
       "<g id=\"edge14\" class=\"edge\">\n",
       "<title>Film-&gt;Inventory</title>\n",
       "<path fill=\"none\" stroke=\"#000000\" stroke-width=\"0.75\" stroke-dasharray=\"5,2\" stroke-opacity=\"0.250980\" d=\"M146.83,-215.54C162.6,-204.43 184.72,-188.86 201.4,-177.12\"/>\n",
       "</g>\n",
       "<!-- Customer&#45;&gt;Payment -->\n",
       "<g id=\"edge15\" class=\"edge\">\n",
       "<title>Customer-&gt;Payment</title>\n",
       "<path fill=\"none\" stroke=\"#000000\" stroke-width=\"0.75\" stroke-dasharray=\"5,2\" stroke-opacity=\"0.250980\" d=\"M311,-141.89C311,-114.95 311,-62.02 311,-35.09\"/>\n",
       "</g>\n",
       "<!-- Rental -->\n",
       "<g id=\"node15\" class=\"node\">\n",
       "<title>Rental</title>\n",
       "<g id=\"a_node15\"><a xlink:title=\"rental_id            \r",
       "------------------------------\r",
       "rental_date          \r",
       "→ Inventory\r",
       "→ Customer\r",
       "return_date=null     \r",
       "→ Staff\r",
       "last_update=&quot;current_timestamp()&quot; \r",
       "UNIQUE INDEX (rental_date, inventory_id, customer_id)\r",
       "\">\n",
       "<polygon fill=\"#00ff00\" fill-opacity=\"0.188235\" stroke=\"#00ff00\" stroke-opacity=\"0.188235\" points=\"282.5,-106 231.5,-106 231.5,-71 282.5,-71 282.5,-106\"/>\n",
       "<text text-anchor=\"start\" x=\"239.5\" y=\"-86.4\" font-family=\"arial\" text-decoration=\"underline\" font-size=\"12.00\" fill=\"darkgreen\">Rental</text>\n",
       "</a>\n",
       "</g>\n",
       "</g>\n",
       "<!-- Customer&#45;&gt;Rental -->\n",
       "<g id=\"edge16\" class=\"edge\">\n",
       "<title>Customer-&gt;Rental</title>\n",
       "<path fill=\"none\" stroke=\"#000000\" stroke-width=\"0.75\" stroke-dasharray=\"5,2\" stroke-opacity=\"0.250980\" d=\"M297.93,-141.8C289.44,-130.95 278.42,-116.87 269.95,-106.05\"/>\n",
       "</g>\n",
       "<!-- Country -->\n",
       "<g id=\"node11\" class=\"node\">\n",
       "<title>Country</title>\n",
       "<g id=\"a_node11\"><a xlink:title=\"country_id           \r",
       "------------------------------\r",
       "country              \r",
       "last_update=&quot;current_timestamp()&quot; \r",
       "\">\n",
       "<polygon fill=\"#00ff00\" fill-opacity=\"0.188235\" stroke=\"#00ff00\" stroke-opacity=\"0.188235\" points=\"397.5,-461 338.5,-461 338.5,-426 397.5,-426 397.5,-461\"/>\n",
       "<text text-anchor=\"start\" x=\"346.5\" y=\"-441.4\" font-family=\"arial\" text-decoration=\"underline\" font-size=\"12.00\" fill=\"darkgreen\">Country</text>\n",
       "</a>\n",
       "</g>\n",
       "</g>\n",
       "<!-- City -->\n",
       "<g id=\"node12\" class=\"node\">\n",
       "<title>City</title>\n",
       "<g id=\"a_node12\"><a xlink:title=\"city_id              \r",
       "------------------------------\r",
       "city                 \r",
       "→ Country\r",
       "last_update=&quot;current_timestamp()&quot; \r",
       "\">\n",
       "<polygon fill=\"#00ff00\" fill-opacity=\"0.188235\" stroke=\"#00ff00\" stroke-opacity=\"0.188235\" points=\"386.5,-390 349.5,-390 349.5,-355 386.5,-355 386.5,-390\"/>\n",
       "<text text-anchor=\"start\" x=\"357.5\" y=\"-370.4\" font-family=\"arial\" text-decoration=\"underline\" font-size=\"12.00\" fill=\"darkgreen\">City</text>\n",
       "</a>\n",
       "</g>\n",
       "</g>\n",
       "<!-- Country&#45;&gt;City -->\n",
       "<g id=\"edge17\" class=\"edge\">\n",
       "<title>Country-&gt;City</title>\n",
       "<path fill=\"none\" stroke=\"#000000\" stroke-width=\"0.75\" stroke-dasharray=\"5,2\" stroke-opacity=\"0.250980\" d=\"M368,-425.8C368,-414.95 368,-400.87 368,-390.05\"/>\n",
       "</g>\n",
       "<!-- City&#45;&gt;Address -->\n",
       "<g id=\"edge18\" class=\"edge\">\n",
       "<title>City-&gt;Address</title>\n",
       "<path fill=\"none\" stroke=\"#000000\" stroke-width=\"0.75\" stroke-dasharray=\"5,2\" stroke-opacity=\"0.250980\" d=\"M368,-354.8C368,-343.95 368,-329.87 368,-319.05\"/>\n",
       "</g>\n",
       "<!-- Staff&#45;&gt;Payment -->\n",
       "<g id=\"edge19\" class=\"edge\">\n",
       "<title>Staff-&gt;Payment</title>\n",
       "<path fill=\"none\" stroke=\"#000000\" stroke-width=\"0.75\" stroke-dasharray=\"5,2\" stroke-opacity=\"0.250980\" d=\"M433.57,-141.92C444.03,-123.19 456.55,-92.5 442,-71 420.03,-38.53 374.35,-26.14 343.18,-21.41\"/>\n",
       "</g>\n",
       "<!-- Staff&#45;&gt;StoreManager -->\n",
       "<g id=\"edge20\" class=\"edge\">\n",
       "<title>Staff-&gt;StoreManager</title>\n",
       "<path fill=\"none\" stroke=\"#000000\" stroke-width=\"0.75\" stroke-dasharray=\"5,2\" stroke-opacity=\"0.250980\" d=\"M414.04,-141.8C408.23,-130.95 400.68,-116.87 394.87,-106.05\"/>\n",
       "</g>\n",
       "<!-- Staff&#45;&gt;Rental -->\n",
       "<g id=\"edge21\" class=\"edge\">\n",
       "<title>Staff-&gt;Rental</title>\n",
       "<path fill=\"none\" stroke=\"#000000\" stroke-width=\"0.75\" stroke-dasharray=\"5,2\" stroke-opacity=\"0.250980\" d=\"M402.31,-149.9C371.98,-137.29 315.48,-113.81 282.58,-100.13\"/>\n",
       "</g>\n",
       "<!-- Rental&#45;&gt;Payment -->\n",
       "<g id=\"edge22\" class=\"edge\">\n",
       "<title>Rental-&gt;Payment</title>\n",
       "<path fill=\"none\" stroke=\"#000000\" stroke-width=\"0.75\" stroke-dasharray=\"5,2\" stroke-opacity=\"0.250980\" d=\"M270.07,-70.8C278.56,-59.95 289.58,-45.87 298.05,-35.05\"/>\n",
       "</g>\n",
       "<!-- Inventory&#45;&gt;Rental -->\n",
       "<g id=\"edge23\" class=\"edge\">\n",
       "<title>Inventory-&gt;Rental</title>\n",
       "<path fill=\"none\" stroke=\"#000000\" stroke-width=\"0.75\" stroke-dasharray=\"5,2\" stroke-opacity=\"0.250980\" d=\"M232.75,-141.8C237.78,-130.95 244.31,-116.87 249.33,-106.05\"/>\n",
       "</g>\n",
       "<!-- Actor -->\n",
       "<g id=\"node17\" class=\"node\">\n",
       "<title>Actor</title>\n",
       "<g id=\"a_node17\"><a xlink:title=\"actor_id             \r",
       "------------------------------\r",
       "first_name           \r",
       "last_name            \r",
       "last_update=&quot;current_timestamp()&quot; \r",
       "INDEX (last_name)\r",
       "\">\n",
       "<polygon fill=\"#00ff00\" fill-opacity=\"0.188235\" stroke=\"#00ff00\" stroke-opacity=\"0.188235\" points=\"209.5,-248 164.5,-248 164.5,-213 209.5,-213 209.5,-248\"/>\n",
       "<text text-anchor=\"start\" x=\"172.5\" y=\"-228.4\" font-family=\"arial\" text-decoration=\"underline\" font-size=\"12.00\" fill=\"darkgreen\">Actor</text>\n",
       "</a>\n",
       "</g>\n",
       "</g>\n",
       "<!-- Actor&#45;&gt;FilmActor -->\n",
       "<g id=\"edge24\" class=\"edge\">\n",
       "<title>Actor-&gt;FilmActor</title>\n",
       "<path fill=\"none\" stroke=\"#000000\" stroke-width=\"0.75\" stroke-opacity=\"0.250980\" d=\"M175.62,-212.8C168.23,-201.95 158.64,-187.87 151.27,-177.05\"/>\n",
       "</g>\n",
       "</g>\n",
       "</svg>"
      ],
      "text/plain": [
       "<datajoint.diagram.Diagram at 0x13d1e18b0>"
      ]
     },
     "execution_count": 4,
     "metadata": {},
     "output_type": "execute_result"
    }
   ],
   "source": [
    "dj.Diagram(schema)"
   ]
  },
  {
   "cell_type": "code",
   "execution_count": 6,
   "id": "d5b949dd",
   "metadata": {},
   "outputs": [
    {
     "data": {
      "text/html": [
       "\n",
       "    \n",
       "    <style type=\"text/css\">\n",
       "        .Relation{\n",
       "            border-collapse:collapse;\n",
       "        }\n",
       "        .Relation th{\n",
       "            background: #A0A0A0; color: #ffffff; padding:4px; border:#f0e0e0 1px solid;\n",
       "            font-weight: normal; font-family: monospace; font-size: 100%;\n",
       "        }\n",
       "        .Relation td{\n",
       "            padding:4px; border:#f0e0e0 1px solid; font-size:100%;\n",
       "        }\n",
       "        .Relation tr:nth-child(odd){\n",
       "            background: #ffffff;\n",
       "        }\n",
       "        .Relation tr:nth-child(even){\n",
       "            background: #f3f1ff;\n",
       "        }\n",
       "        /* Tooltip container */\n",
       "        .djtooltip {\n",
       "        }\n",
       "        /* Tooltip text */\n",
       "        .djtooltip .djtooltiptext {\n",
       "            visibility: hidden;\n",
       "            width: 120px;\n",
       "            background-color: black;\n",
       "            color: #fff;\n",
       "            text-align: center;\n",
       "            padding: 5px 0;\n",
       "            border-radius: 6px;\n",
       "            /* Position the tooltip text - see examples below! */\n",
       "            position: absolute;\n",
       "            z-index: 1;\n",
       "        }\n",
       "        #primary {\n",
       "            font-weight: bold;\n",
       "            color: black;\n",
       "        }\n",
       "        #nonprimary {\n",
       "            font-weight: normal;\n",
       "            color: white;\n",
       "        }\n",
       "\n",
       "        /* Show the tooltip text when you mouse over the tooltip container */\n",
       "        .djtooltip:hover .djtooltiptext {\n",
       "            visibility: visible;\n",
       "        }\n",
       "    </style>\n",
       "    \n",
       "    <b></b>\n",
       "        <div style=\"max-height:1000px;max-width:1500px;overflow:auto;\">\n",
       "        <table border=\"1\" class=\"Relation\">\n",
       "            <thead> <tr style=\"text-align: right;\"> <th> <div class=\"djtooltip\">\n",
       "                            <p id=\"primary\">store_id</p>\n",
       "                            <span class=\"djtooltiptext\"></span>\n",
       "                        </div></th><th><div class=\"djtooltip\">\n",
       "                            <p id=\"nonprimary\">manager_staff_id</p>\n",
       "                            <span class=\"djtooltiptext\"></span>\n",
       "                        </div></th><th><div class=\"djtooltip\">\n",
       "                            <p id=\"nonprimary\">address_id</p>\n",
       "                            <span class=\"djtooltiptext\"></span>\n",
       "                        </div></th><th><div class=\"djtooltip\">\n",
       "                            <p id=\"nonprimary\">last_update</p>\n",
       "                            <span class=\"djtooltiptext\"></span>\n",
       "                        </div> </th> </tr> </thead>\n",
       "            <tbody> <tr> <td>1</td>\n",
       "<td>1</td>\n",
       "<td>1</td>\n",
       "<td>2006-02-15 04:57:12</td></tr><tr><td>2</td>\n",
       "<td>2</td>\n",
       "<td>2</td>\n",
       "<td>2006-02-15 04:57:12</td> </tr> </tbody>\n",
       "        </table>\n",
       "        \n",
       "        <p>Total: 2</p></div>\n",
       "        "
      ],
      "text/plain": [
       "*store_id    manager_staff_ address_id     last_update   \n",
       "+----------+ +------------+ +------------+ +------------+\n",
       "1            1              1              2006-02-15 04:\n",
       "2            2              2              2006-02-15 04:\n",
       " (Total: 2)"
      ]
     },
     "execution_count": 6,
     "metadata": {},
     "output_type": "execute_result"
    }
   ],
   "source": [
    "Store()"
   ]
  },
  {
   "cell_type": "code",
   "execution_count": 30,
   "id": "114cefd3",
   "metadata": {},
   "outputs": [
    {
     "data": {
      "text/html": [
       "\n",
       "    \n",
       "    <style type=\"text/css\">\n",
       "        .Relation{\n",
       "            border-collapse:collapse;\n",
       "        }\n",
       "        .Relation th{\n",
       "            background: #A0A0A0; color: #ffffff; padding:4px; border:#f0e0e0 1px solid;\n",
       "            font-weight: normal; font-family: monospace; font-size: 100%;\n",
       "        }\n",
       "        .Relation td{\n",
       "            padding:4px; border:#f0e0e0 1px solid; font-size:100%;\n",
       "        }\n",
       "        .Relation tr:nth-child(odd){\n",
       "            background: #ffffff;\n",
       "        }\n",
       "        .Relation tr:nth-child(even){\n",
       "            background: #f3f1ff;\n",
       "        }\n",
       "        /* Tooltip container */\n",
       "        .djtooltip {\n",
       "        }\n",
       "        /* Tooltip text */\n",
       "        .djtooltip .djtooltiptext {\n",
       "            visibility: hidden;\n",
       "            width: 120px;\n",
       "            background-color: black;\n",
       "            color: #fff;\n",
       "            text-align: center;\n",
       "            padding: 5px 0;\n",
       "            border-radius: 6px;\n",
       "            /* Position the tooltip text - see examples below! */\n",
       "            position: absolute;\n",
       "            z-index: 1;\n",
       "        }\n",
       "        #primary {\n",
       "            font-weight: bold;\n",
       "            color: black;\n",
       "        }\n",
       "        #nonprimary {\n",
       "            font-weight: normal;\n",
       "            color: white;\n",
       "        }\n",
       "\n",
       "        /* Show the tooltip text when you mouse over the tooltip container */\n",
       "        .djtooltip:hover .djtooltiptext {\n",
       "            visibility: visible;\n",
       "        }\n",
       "    </style>\n",
       "    \n",
       "    <b></b>\n",
       "        <div style=\"max-height:1000px;max-width:1500px;overflow:auto;\">\n",
       "        <table border=\"1\" class=\"Relation\">\n",
       "            <thead> <tr style=\"text-align: right;\"> <th> <div class=\"djtooltip\">\n",
       "                            <p id=\"primary\">payment_id</p>\n",
       "                            <span class=\"djtooltiptext\"></span>\n",
       "                        </div></th><th><div class=\"djtooltip\">\n",
       "                            <p id=\"nonprimary\">customer_id</p>\n",
       "                            <span class=\"djtooltiptext\"></span>\n",
       "                        </div></th><th><div class=\"djtooltip\">\n",
       "                            <p id=\"nonprimary\">staff_id</p>\n",
       "                            <span class=\"djtooltiptext\"></span>\n",
       "                        </div></th><th><div class=\"djtooltip\">\n",
       "                            <p id=\"nonprimary\">rental_id</p>\n",
       "                            <span class=\"djtooltiptext\"></span>\n",
       "                        </div></th><th><div class=\"djtooltip\">\n",
       "                            <p id=\"nonprimary\">amount</p>\n",
       "                            <span class=\"djtooltiptext\"></span>\n",
       "                        </div></th><th><div class=\"djtooltip\">\n",
       "                            <p id=\"nonprimary\">payment_date</p>\n",
       "                            <span class=\"djtooltiptext\"></span>\n",
       "                        </div></th><th><div class=\"djtooltip\">\n",
       "                            <p id=\"nonprimary\">last_update</p>\n",
       "                            <span class=\"djtooltiptext\"></span>\n",
       "                        </div> </th> </tr> </thead>\n",
       "            <tbody> <tr> <td>342</td>\n",
       "<td>13</td>\n",
       "<td>2</td>\n",
       "<td>8831</td>\n",
       "<td>11.99</td>\n",
       "<td>2005-07-29 22:37:41</td>\n",
       "<td>2006-02-15 22:12:31</td></tr><tr><td>3146</td>\n",
       "<td>116</td>\n",
       "<td>2</td>\n",
       "<td>14763</td>\n",
       "<td>11.99</td>\n",
       "<td>2005-08-21 23:34:00</td>\n",
       "<td>2006-02-15 22:13:08</td></tr><tr><td>5280</td>\n",
       "<td>195</td>\n",
       "<td>2</td>\n",
       "<td>16040</td>\n",
       "<td>11.99</td>\n",
       "<td>2005-08-23 22:19:33</td>\n",
       "<td>2006-02-15 22:14:00</td></tr><tr><td>5281</td>\n",
       "<td>196</td>\n",
       "<td>2</td>\n",
       "<td>106</td>\n",
       "<td>11.99</td>\n",
       "<td>2005-05-25 18:18:19</td>\n",
       "<td>2006-02-15 22:14:00</td></tr><tr><td>5550</td>\n",
       "<td>204</td>\n",
       "<td>2</td>\n",
       "<td>15415</td>\n",
       "<td>11.99</td>\n",
       "<td>2005-08-22 23:48:56</td>\n",
       "<td>2006-02-15 22:14:07</td></tr><tr><td>6409</td>\n",
       "<td>237</td>\n",
       "<td>2</td>\n",
       "<td>11479</td>\n",
       "<td>11.99</td>\n",
       "<td>2005-08-02 22:18:13</td>\n",
       "<td>2006-02-15 22:14:38</td></tr><tr><td>8272</td>\n",
       "<td>305</td>\n",
       "<td>1</td>\n",
       "<td>2166</td>\n",
       "<td>11.99</td>\n",
       "<td>2005-06-17 23:51:21</td>\n",
       "<td>2006-02-15 22:15:47</td></tr><tr><td>9803</td>\n",
       "<td>362</td>\n",
       "<td>1</td>\n",
       "<td>14759</td>\n",
       "<td>11.99</td>\n",
       "<td>2005-08-21 23:28:58</td>\n",
       "<td>2006-02-15 22:16:57</td></tr><tr><td>15821</td>\n",
       "<td>591</td>\n",
       "<td>2</td>\n",
       "<td>4383</td>\n",
       "<td>11.99</td>\n",
       "<td>2005-07-07 20:45:51</td>\n",
       "<td>2006-02-15 22:23:18</td></tr><tr><td>15850</td>\n",
       "<td>592</td>\n",
       "<td>1</td>\n",
       "<td>3973</td>\n",
       "<td>11.99</td>\n",
       "<td>2005-07-06 22:58:31</td>\n",
       "<td>2006-02-15 22:23:25</td> </tr> </tbody>\n",
       "        </table>\n",
       "        \n",
       "        <p>Total: 10</p></div>\n",
       "        "
      ],
      "text/plain": [
       "*payment_id    customer_id    staff_id     rental_id     amount     payment_date   last_update   \n",
       "+------------+ +------------+ +----------+ +-----------+ +--------+ +------------+ +------------+\n",
       "342            13             2            8831          11.99      2005-07-29 22: 2006-02-15 22:\n",
       "3146           116            2            14763         11.99      2005-08-21 23: 2006-02-15 22:\n",
       "5280           195            2            16040         11.99      2005-08-23 22: 2006-02-15 22:\n",
       "5281           196            2            106           11.99      2005-05-25 18: 2006-02-15 22:\n",
       "5550           204            2            15415         11.99      2005-08-22 23: 2006-02-15 22:\n",
       "6409           237            2            11479         11.99      2005-08-02 22: 2006-02-15 22:\n",
       "8272           305            1            2166          11.99      2005-06-17 23: 2006-02-15 22:\n",
       "9803           362            1            14759         11.99      2005-08-21 23: 2006-02-15 22:\n",
       "15821          591            2            4383          11.99      2005-07-07 20: 2006-02-15 22:\n",
       "15850          592            1            3973          11.99      2005-07-06 22: 2006-02-15 22:\n",
       " (Total: 10)"
      ]
     },
     "execution_count": 30,
     "metadata": {},
     "output_type": "execute_result"
    }
   ],
   "source": [
    "Payment() & 'amount >= 11'"
   ]
  },
  {
   "cell_type": "code",
   "execution_count": 49,
   "id": "5bda42ba",
   "metadata": {},
   "outputs": [
    {
     "data": {
      "text/html": [
       "\n",
       "    \n",
       "    <style type=\"text/css\">\n",
       "        .Relation{\n",
       "            border-collapse:collapse;\n",
       "        }\n",
       "        .Relation th{\n",
       "            background: #A0A0A0; color: #ffffff; padding:4px; border:#f0e0e0 1px solid;\n",
       "            font-weight: normal; font-family: monospace; font-size: 100%;\n",
       "        }\n",
       "        .Relation td{\n",
       "            padding:4px; border:#f0e0e0 1px solid; font-size:100%;\n",
       "        }\n",
       "        .Relation tr:nth-child(odd){\n",
       "            background: #ffffff;\n",
       "        }\n",
       "        .Relation tr:nth-child(even){\n",
       "            background: #f3f1ff;\n",
       "        }\n",
       "        /* Tooltip container */\n",
       "        .djtooltip {\n",
       "        }\n",
       "        /* Tooltip text */\n",
       "        .djtooltip .djtooltiptext {\n",
       "            visibility: hidden;\n",
       "            width: 120px;\n",
       "            background-color: black;\n",
       "            color: #fff;\n",
       "            text-align: center;\n",
       "            padding: 5px 0;\n",
       "            border-radius: 6px;\n",
       "            /* Position the tooltip text - see examples below! */\n",
       "            position: absolute;\n",
       "            z-index: 1;\n",
       "        }\n",
       "        #primary {\n",
       "            font-weight: bold;\n",
       "            color: black;\n",
       "        }\n",
       "        #nonprimary {\n",
       "            font-weight: normal;\n",
       "            color: white;\n",
       "        }\n",
       "\n",
       "        /* Show the tooltip text when you mouse over the tooltip container */\n",
       "        .djtooltip:hover .djtooltiptext {\n",
       "            visibility: visible;\n",
       "        }\n",
       "    </style>\n",
       "    \n",
       "    <b></b>\n",
       "        <div style=\"max-height:1000px;max-width:1500px;overflow:auto;\">\n",
       "        <table border=\"1\" class=\"Relation\">\n",
       "            <thead> <tr style=\"text-align: right;\"> <th> <div class=\"djtooltip\">\n",
       "                            <p id=\"primary\">actor_id</p>\n",
       "                            <span class=\"djtooltiptext\"></span>\n",
       "                        </div></th><th><div class=\"djtooltip\">\n",
       "                            <p id=\"nonprimary\">first_name</p>\n",
       "                            <span class=\"djtooltiptext\"></span>\n",
       "                        </div></th><th><div class=\"djtooltip\">\n",
       "                            <p id=\"nonprimary\">last_name</p>\n",
       "                            <span class=\"djtooltiptext\"></span>\n",
       "                        </div></th><th><div class=\"djtooltip\">\n",
       "                            <p id=\"nonprimary\">last_update</p>\n",
       "                            <span class=\"djtooltiptext\"></span>\n",
       "                        </div> </th> </tr> </thead>\n",
       "            <tbody> <tr> <td>1</td>\n",
       "<td>PENELOPE</td>\n",
       "<td>GUINESS</td>\n",
       "<td>2006-02-15 04:34:33</td></tr><tr><td>4</td>\n",
       "<td>JENNIFER</td>\n",
       "<td>DAVIS</td>\n",
       "<td>2006-02-15 04:34:33</td></tr><tr><td>5</td>\n",
       "<td>JOHNNY</td>\n",
       "<td>LOLLOBRIGIDA</td>\n",
       "<td>2006-02-15 04:34:33</td></tr><tr><td>7</td>\n",
       "<td>GRACE</td>\n",
       "<td>MOSTEL</td>\n",
       "<td>2006-02-15 04:34:33</td></tr><tr><td>9</td>\n",
       "<td>JOE</td>\n",
       "<td>SWANK</td>\n",
       "<td>2006-02-15 04:34:33</td></tr><tr><td>10</td>\n",
       "<td>CHRISTIAN</td>\n",
       "<td>GABLE</td>\n",
       "<td>2006-02-15 04:34:33</td></tr><tr><td>11</td>\n",
       "<td>ZERO</td>\n",
       "<td>CAGE</td>\n",
       "<td>2006-02-15 04:34:33</td></tr><tr><td>12</td>\n",
       "<td>KARL</td>\n",
       "<td>BERRY</td>\n",
       "<td>2006-02-15 04:34:33</td></tr><tr><td>13</td>\n",
       "<td>UMA</td>\n",
       "<td>WOOD</td>\n",
       "<td>2006-02-15 04:34:33</td></tr><tr><td>14</td>\n",
       "<td>VIVIEN</td>\n",
       "<td>BERGEN</td>\n",
       "<td>2006-02-15 04:34:33</td></tr><tr><td>15</td>\n",
       "<td>CUBA</td>\n",
       "<td>OLIVIER</td>\n",
       "<td>2006-02-15 04:34:33</td></tr><tr><td>17</td>\n",
       "<td>HELEN</td>\n",
       "<td>VOIGHT</td>\n",
       "<td>2006-02-15 04:34:33</td> </tr> </tbody>\n",
       "        </table>\n",
       "        <p>...</p>\n",
       "        <p>Total: 156</p></div>\n",
       "        "
      ],
      "text/plain": [
       "*actor_id    first_name     last_name      last_update   \n",
       "+----------+ +------------+ +------------+ +------------+\n",
       "1            PENELOPE       GUINESS        2006-02-15 04:\n",
       "4            JENNIFER       DAVIS          2006-02-15 04:\n",
       "5            JOHNNY         LOLLOBRIGIDA   2006-02-15 04:\n",
       "7            GRACE          MOSTEL         2006-02-15 04:\n",
       "9            JOE            SWANK          2006-02-15 04:\n",
       "10           CHRISTIAN      GABLE          2006-02-15 04:\n",
       "11           ZERO           CAGE           2006-02-15 04:\n",
       "12           KARL           BERRY          2006-02-15 04:\n",
       "13           UMA            WOOD           2006-02-15 04:\n",
       "14           VIVIEN         BERGEN         2006-02-15 04:\n",
       "15           CUBA           OLIVIER        2006-02-15 04:\n",
       "17           HELEN          VOIGHT         2006-02-15 04:\n",
       "   ...\n",
       " (Total: 156)"
      ]
     },
     "execution_count": 49,
     "metadata": {},
     "output_type": "execute_result"
    }
   ],
   "source": [
    "Actor & (FilmActor.proj() & (Film & (FilmCategory.proj() & (Category() & 'name=\"Horror\"'))))"
   ]
  },
  {
   "cell_type": "code",
   "execution_count": 60,
   "id": "2e9aa368",
   "metadata": {},
   "outputs": [
    {
     "data": {
      "text/html": [
       "\n",
       "    \n",
       "    <style type=\"text/css\">\n",
       "        .Relation{\n",
       "            border-collapse:collapse;\n",
       "        }\n",
       "        .Relation th{\n",
       "            background: #A0A0A0; color: #ffffff; padding:4px; border:#f0e0e0 1px solid;\n",
       "            font-weight: normal; font-family: monospace; font-size: 100%;\n",
       "        }\n",
       "        .Relation td{\n",
       "            padding:4px; border:#f0e0e0 1px solid; font-size:100%;\n",
       "        }\n",
       "        .Relation tr:nth-child(odd){\n",
       "            background: #ffffff;\n",
       "        }\n",
       "        .Relation tr:nth-child(even){\n",
       "            background: #f3f1ff;\n",
       "        }\n",
       "        /* Tooltip container */\n",
       "        .djtooltip {\n",
       "        }\n",
       "        /* Tooltip text */\n",
       "        .djtooltip .djtooltiptext {\n",
       "            visibility: hidden;\n",
       "            width: 120px;\n",
       "            background-color: black;\n",
       "            color: #fff;\n",
       "            text-align: center;\n",
       "            padding: 5px 0;\n",
       "            border-radius: 6px;\n",
       "            /* Position the tooltip text - see examples below! */\n",
       "            position: absolute;\n",
       "            z-index: 1;\n",
       "        }\n",
       "        #primary {\n",
       "            font-weight: bold;\n",
       "            color: black;\n",
       "        }\n",
       "        #nonprimary {\n",
       "            font-weight: normal;\n",
       "            color: white;\n",
       "        }\n",
       "\n",
       "        /* Show the tooltip text when you mouse over the tooltip container */\n",
       "        .djtooltip:hover .djtooltiptext {\n",
       "            visibility: visible;\n",
       "        }\n",
       "    </style>\n",
       "    \n",
       "    \n",
       "        <div style=\"max-height:1000px;max-width:1500px;overflow:auto;\">\n",
       "        <table border=\"1\" class=\"Relation\">\n",
       "            <thead> <tr style=\"text-align: right;\"> <th> <div class=\"djtooltip\">\n",
       "                            <p id=\"primary\">customer_id</p>\n",
       "                            <span class=\"djtooltiptext\"></span>\n",
       "                        </div></th><th><div class=\"djtooltip\">\n",
       "                            <p id=\"nonprimary\">n</p>\n",
       "                            <span class=\"djtooltiptext\">calculated attribute</span>\n",
       "                        </div> </th> </tr> </thead>\n",
       "            <tbody> <tr> <td>148</td>\n",
       "<td>46</td> </tr> </tbody>\n",
       "        </table>\n",
       "        \n",
       "        <p>Total: 1</p></div>\n",
       "        "
      ],
      "text/plain": [
       "*customer_id   n     \n",
       "+------------+ +----+\n",
       "148            46    \n",
       " (Total: 1)"
      ]
     },
     "execution_count": 60,
     "metadata": {},
     "output_type": "execute_result"
    }
   ],
   "source": [
    "Customer.proj().aggr(Rental, n='count(*)') & 'n > 45'"
   ]
  },
  {
   "cell_type": "code",
   "execution_count": 16,
   "id": "8e27e0ab",
   "metadata": {},
   "outputs": [
    {
     "data": {
      "text/plain": [
       "<pymysql.cursors.Cursor at 0x14185f130>"
      ]
     },
     "execution_count": 16,
     "metadata": {},
     "output_type": "execute_result"
    }
   ],
   "source": [
    "dj.conn().query(\"\"\"\n",
    "ALTER TABLE shared_sakila.store DROP FOREIGN KEY fk_store_staff;\n",
    "\"\"\")"
   ]
  },
  {
   "cell_type": "markdown",
   "id": "4d6afba5",
   "metadata": {},
   "source": [
    "```python\n",
    "# drop cyclic foreign key\n",
    "dj.conn().query(\"\"\"\n",
    "ALTER TABLE shared_sakila.store DROP FOREIGN KEY fk_store_staff;\n",
    "\"\"\")\n",
    "\n",
    "# restore cyclic foreign key\n",
    "dj.conn().query(\"\"\"\n",
    "ALTER TABLE shared_sakila.store \n",
    "    ADD FOREIGN KEY `fk_store_staff` (`manager_staff_id`) REFERENCES `staff`(`staff_id`);\n",
    "\"\"\")\n",
    "```"
   ]
  },
  {
   "cell_type": "code",
   "execution_count": null,
   "id": "6f26c2c1",
   "metadata": {},
   "outputs": [],
   "source": [
    "dj.conn().query(\"ALTER TABLE shared_sakila.store DROP FOREIGN KEY fk_store_staff;\")"
   ]
  },
  {
   "cell_type": "code",
   "execution_count": null,
   "id": "8beadc60",
   "metadata": {},
   "outputs": [],
   "source": [
    "dj.Diagram(schema)"
   ]
  },
  {
   "cell_type": "code",
   "execution_count": null,
   "id": "725290f9",
   "metadata": {},
   "outputs": [],
   "source": [
    "dj.conn().query(\"\"\"\n",
    "ALTER TABLE shared_sakila.store \n",
    "    ADD FOREIGN KEY `fk_store_staff` (`manager_staff_id`) REFERENCES `staff`(`staff_id`);\n",
    "\"\"\")"
   ]
  },
  {
   "cell_type": "code",
   "execution_count": null,
   "id": "0e077d49",
   "metadata": {},
   "outputs": [],
   "source": [
    "dj.Diagram(schema)"
   ]
  },
  {
   "cell_type": "code",
   "execution_count": null,
   "id": "3582245f",
   "metadata": {},
   "outputs": [],
   "source": [
    "@schema\n",
    "class StoreManager(dj.Manual):\n",
    "    definition = \"\"\"\n",
    "    -> Store\n",
    "    ---\n",
    "    -> Staff\n",
    "    \"\"\""
   ]
  },
  {
   "cell_type": "code",
   "execution_count": null,
   "id": "97723a14",
   "metadata": {},
   "outputs": [],
   "source": [
    "FilmText.drop()"
   ]
  },
  {
   "cell_type": "code",
   "execution_count": null,
   "id": "6085187d",
   "metadata": {},
   "outputs": [],
   "source": [
    "dj.conn().query(\"\"\"\n",
    "ALTER TABLE shared_sakila.inventory \n",
    "    ADD FOREIGN KEY (`film_id`) REFERENCES `shared_sakila`.`film_text`(`film_id`);\n",
    "\"\"\")"
   ]
  },
  {
   "cell_type": "markdown",
   "id": "15873c82",
   "metadata": {},
   "source": [
    "## Virtual module"
   ]
  },
  {
   "cell_type": "code",
   "execution_count": null,
   "id": "1d2bf5cf",
   "metadata": {},
   "outputs": [],
   "source": [
    "import datajoint as dj"
   ]
  },
  {
   "cell_type": "code",
   "execution_count": null,
   "id": "68831c0f",
   "metadata": {},
   "outputs": [],
   "source": [
    "sakila = dj.VirtualModule('sakila', 'shared_sakila')"
   ]
  },
  {
   "cell_type": "code",
   "execution_count": null,
   "id": "3fc2d749",
   "metadata": {},
   "outputs": [],
   "source": [
    "sakila"
   ]
  },
  {
   "cell_type": "code",
   "execution_count": null,
   "id": "248b8b21",
   "metadata": {},
   "outputs": [],
   "source": [
    "dir(sakila)"
   ]
  },
  {
   "cell_type": "code",
   "execution_count": null,
   "id": "c59e9d4c",
   "metadata": {},
   "outputs": [],
   "source": [
    "dj.Diagram(sakila)"
   ]
  },
  {
   "cell_type": "code",
   "execution_count": null,
   "id": "c82a47de",
   "metadata": {},
   "outputs": [],
   "source": [
    "sakila.schema.save('sakila.py')"
   ]
  },
  {
   "cell_type": "code",
   "execution_count": null,
   "id": "540d965e",
   "metadata": {},
   "outputs": [],
   "source": [
    "print(dj.conn().query('SHOW CREATE TABLE shared_sakila.store').fetchone()[1])"
   ]
  },
  {
   "cell_type": "code",
   "execution_count": null,
   "id": "b4b29c98",
   "metadata": {},
   "outputs": [],
   "source": []
  },
  {
   "cell_type": "code",
   "execution_count": null,
   "id": "f0b5086b",
   "metadata": {},
   "outputs": [],
   "source": [
    "dj.Diagram(schema)"
   ]
  },
  {
   "cell_type": "code",
   "execution_count": null,
   "id": "ac8b73ee",
   "metadata": {},
   "outputs": [],
   "source": [
    "Staff.proj(seller='concat(first_name, \" \", last_name)') * Rental.proj(..., '-last_update')"
   ]
  },
  {
   "cell_type": "code",
   "execution_count": null,
   "id": "c2a9179a",
   "metadata": {},
   "outputs": [],
   "source": [
    "Rental()"
   ]
  },
  {
   "cell_type": "code",
   "execution_count": null,
   "id": "6701e078",
   "metadata": {},
   "outputs": [],
   "source": [
    "Film.describe();"
   ]
  },
  {
   "cell_type": "code",
   "execution_count": null,
   "id": "cc5d82e7",
   "metadata": {},
   "outputs": [],
   "source": [
    "Film()"
   ]
  },
  {
   "cell_type": "code",
   "execution_count": null,
   "id": "c5c8ec18",
   "metadata": {},
   "outputs": [],
   "source": [
    "Film & 'original_language_id is not NULL'"
   ]
  },
  {
   "cell_type": "code",
   "execution_count": null,
   "id": "2dbb67c5",
   "metadata": {},
   "outputs": [],
   "source": [
    "Language()"
   ]
  },
  {
   "cell_type": "code",
   "execution_count": null,
   "id": "d179b394",
   "metadata": {},
   "outputs": [],
   "source": [
    "Language().describe();"
   ]
  },
  {
   "cell_type": "markdown",
   "id": "a49d6b69",
   "metadata": {},
   "source": [
    "# DataJoint Queries"
   ]
  },
  {
   "cell_type": "code",
   "execution_count": null,
   "id": "6940b46c",
   "metadata": {},
   "outputs": [],
   "source": [
    "dj.Diagram(schema)"
   ]
  },
  {
   "cell_type": "code",
   "execution_count": null,
   "id": "583e3768",
   "metadata": {},
   "outputs": [],
   "source": [
    "q = Actor()"
   ]
  },
  {
   "cell_type": "code",
   "execution_count": null,
   "id": "2421a1e7",
   "metadata": {},
   "outputs": [],
   "source": [
    "q"
   ]
  },
  {
   "cell_type": "code",
   "execution_count": null,
   "id": "c5597983",
   "metadata": {},
   "outputs": [],
   "source": [
    "a = query.fetch(as_dict=True, order_by=('last_name', 'first_name'), limit=10, offset=10)"
   ]
  },
  {
   "cell_type": "code",
   "execution_count": null,
   "id": "38905679",
   "metadata": {},
   "outputs": [],
   "source": [
    "q & 'month(last_update) = 3'"
   ]
  },
  {
   "cell_type": "code",
   "execution_count": null,
   "id": "49844b5c",
   "metadata": {},
   "outputs": [],
   "source": [
    "q.proj(..., cid=\"customer_id\")"
   ]
  },
  {
   "cell_type": "code",
   "execution_count": null,
   "id": "1670b79f",
   "metadata": {},
   "outputs": [],
   "source": [
    "q"
   ]
  },
  {
   "cell_type": "code",
   "execution_count": null,
   "id": "4486c736",
   "metadata": {},
   "outputs": [],
   "source": [
    "last_rental = (Rental() & 'return_date > \"2005-09-02\"').proj('customer_id')"
   ]
  },
  {
   "cell_type": "code",
   "execution_count": null,
   "id": "d3b93af9",
   "metadata": {},
   "outputs": [],
   "source": [
    "last_rentals"
   ]
  },
  {
   "cell_type": "code",
   "execution_count": null,
   "id": "7fcd10b7",
   "metadata": {},
   "outputs": [],
   "source": [
    "last_rental.fetch(as_dict=True)"
   ]
  },
  {
   "cell_type": "code",
   "execution_count": null,
   "id": "5e29c056",
   "metadata": {},
   "outputs": [],
   "source": [
    "Customer & last_rental"
   ]
  },
  {
   "cell_type": "markdown",
   "id": "2cac9dcb",
   "metadata": {},
   "source": [
    "# PyMySQL"
   ]
  },
  {
   "cell_type": "code",
   "execution_count": null,
   "id": "899ddd29",
   "metadata": {},
   "outputs": [],
   "source": [
    "print(last_rental.make_sql())"
   ]
  },
  {
   "cell_type": "code",
   "execution_count": null,
   "id": "8dbdf35b",
   "metadata": {},
   "outputs": [],
   "source": [
    "import pymysql \n"
   ]
  },
  {
   "cell_type": "code",
   "execution_count": null,
   "id": "525917a1",
   "metadata": {},
   "outputs": [],
   "source": [
    "conn = pymysql.connect(\n",
    "    host=dj.config['database.host'],\n",
    "    passwd=dj.config['database.password'],\n",
    "    user=dj.config['database.user'])"
   ]
  },
  {
   "cell_type": "code",
   "execution_count": null,
   "id": "488f4336",
   "metadata": {},
   "outputs": [],
   "source": [
    "cursor = conn.cursor()"
   ]
  },
  {
   "cell_type": "code",
   "execution_count": null,
   "id": "505f2c7e",
   "metadata": {},
   "outputs": [],
   "source": [
    "cursor.execute('SHOW SCHEMAS')"
   ]
  },
  {
   "cell_type": "code",
   "execution_count": null,
   "id": "2dda03af",
   "metadata": {},
   "outputs": [],
   "source": [
    "cursor.execute('USE shared_sakila')"
   ]
  },
  {
   "cell_type": "code",
   "execution_count": null,
   "id": "901b5de3",
   "metadata": {},
   "outputs": [],
   "source": [
    "cursor.execute('SHOW TABLES')"
   ]
  },
  {
   "cell_type": "code",
   "execution_count": null,
   "id": "5b6571f4",
   "metadata": {},
   "outputs": [],
   "source": [
    "cursor.fetchall()"
   ]
  },
  {
   "cell_type": "code",
   "execution_count": null,
   "id": "b205a5ca",
   "metadata": {},
   "outputs": [],
   "source": [
    "cursor.execute('SELECT * FROM customer')"
   ]
  },
  {
   "cell_type": "code",
   "execution_count": null,
   "id": "a3de6610",
   "metadata": {},
   "outputs": [],
   "source": [
    "cursor.execute('SELECT * FROM customer WHERE customer_id = 1 ')"
   ]
  },
  {
   "cell_type": "code",
   "execution_count": null,
   "id": "dc692a48",
   "metadata": {},
   "outputs": [],
   "source": [
    "cursor.fetchall()"
   ]
  },
  {
   "cell_type": "code",
   "execution_count": null,
   "id": "69715bca",
   "metadata": {},
   "outputs": [],
   "source": [
    "cursor.execute('SELECT * FROM rental WHERE return_date > \"2005-09-02\" ')"
   ]
  },
  {
   "cell_type": "code",
   "execution_count": null,
   "id": "9484dd46",
   "metadata": {},
   "outputs": [],
   "source": [
    "cursor.execute('SELECT * FROM rental WHERE return_date is NULL')"
   ]
  },
  {
   "cell_type": "code",
   "execution_count": null,
   "id": "60a4d403",
   "metadata": {},
   "outputs": [],
   "source": [
    "cursor.execute('SELECT * FROM rental WHERE return_date is NOT NULL')"
   ]
  },
  {
   "cell_type": "code",
   "execution_count": null,
   "id": "01400ae4",
   "metadata": {},
   "outputs": [],
   "source": [
    "Customer & (Rental & 'return_date is NULL').proj('customer_id') "
   ]
  },
  {
   "cell_type": "code",
   "execution_count": null,
   "id": "0f0ab712",
   "metadata": {},
   "outputs": [],
   "source": [
    "cursor.execute(\n",
    "    \"\"\"\n",
    "    SELECT * \n",
    "    FROM customer \n",
    "    WHERE customer_id IN (\n",
    "        SELECT customer_id \n",
    "        FROM rental \n",
    "        WHERE return_date IS NULL)\n",
    "    \"\"\")"
   ]
  },
  {
   "cell_type": "code",
   "execution_count": null,
   "id": "4a6c866b",
   "metadata": {},
   "outputs": [],
   "source": [
    "cursor.execute(\"SELECT customer_id, rental_date FROM rental\")"
   ]
  },
  {
   "cell_type": "code",
   "execution_count": null,
   "id": "da354b66",
   "metadata": {},
   "outputs": [],
   "source": [
    "cursor.fetchone()"
   ]
  },
  {
   "cell_type": "code",
   "execution_count": null,
   "id": "d282ecb8",
   "metadata": {},
   "outputs": [],
   "source": [
    "cursor.execute(\"SELECT DISTINCT customer_id FROM rental\")"
   ]
  },
  {
   "cell_type": "code",
   "execution_count": null,
   "id": "b5f87728",
   "metadata": {},
   "outputs": [],
   "source": [
    "cursor.execute(\"SELECT DISTINCT customer_id FROM rental WHERE return_date IS NULL\")"
   ]
  },
  {
   "cell_type": "code",
   "execution_count": null,
   "id": "a3e08f65",
   "metadata": {},
   "outputs": [],
   "source": [
    "cursor.execute(\"SELECT DISTINCT customer_id cid FROM rental WHERE return_date IS NULL\")"
   ]
  },
  {
   "cell_type": "code",
   "execution_count": null,
   "id": "14e8b8f6",
   "metadata": {},
   "outputs": [],
   "source": [
    "Store()"
   ]
  },
  {
   "cell_type": "code",
   "execution_count": null,
   "id": "32166ca7",
   "metadata": {},
   "outputs": [],
   "source": [
    "Rental()"
   ]
  },
  {
   "cell_type": "markdown",
   "id": "8fa79f6a",
   "metadata": {},
   "source": [
    "### Problem 1\n",
    "\n",
    "Show all rentals of intentory from Store 1"
   ]
  },
  {
   "cell_type": "code",
   "execution_count": null,
   "id": "5d02838d",
   "metadata": {},
   "outputs": [],
   "source": [
    "q = Rental & (Inventory() & 'store_id=1').proj()"
   ]
  },
  {
   "cell_type": "code",
   "execution_count": null,
   "id": "37e0c52f",
   "metadata": {},
   "outputs": [],
   "source": [
    "(Rental * Customer.proj(..., '-last_update')).make_sql()"
   ]
  },
  {
   "cell_type": "code",
   "execution_count": null,
   "id": "3d16a02d",
   "metadata": {},
   "outputs": [],
   "source": [
    "cursor.execute(\"\"\"\n",
    "SELECT * FROM rental \n",
    "WHERE inventory_id IN (SELECT inventory_id FROM inventory WHERE store_id=1)\n",
    "\"\"\")"
   ]
  },
  {
   "cell_type": "markdown",
   "id": "5b14f939",
   "metadata": {},
   "source": [
    "### Problem 2\n",
    "\n",
    "Show all staff that work at Store 1"
   ]
  },
  {
   "cell_type": "code",
   "execution_count": null,
   "id": "5e0a380d",
   "metadata": {},
   "outputs": [],
   "source": [
    "Staff() & 'store_id=1'"
   ]
  },
  {
   "cell_type": "code",
   "execution_count": null,
   "id": "64b04b66",
   "metadata": {},
   "outputs": [],
   "source": [
    "cursors.execute(\"\"\"\n",
    "SELECT staff_id \n",
    "FROM staff \n",
    "WHERE store_id=1\n",
    "\"\"\")"
   ]
  }
 ],
 "metadata": {
  "kernelspec": {
   "display_name": "Python 3",
   "language": "python",
   "name": "python3"
  },
  "language_info": {
   "codemirror_mode": {
    "name": "ipython",
    "version": 3
   },
   "file_extension": ".py",
   "mimetype": "text/x-python",
   "name": "python",
   "nbconvert_exporter": "python",
   "pygments_lexer": "ipython3",
   "version": "3.9.7"
  }
 },
 "nbformat": 4,
 "nbformat_minor": 5
}

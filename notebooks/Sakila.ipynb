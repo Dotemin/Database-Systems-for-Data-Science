{
 "cells": [
  {
   "cell_type": "markdown",
   "id": "67e6908e",
   "metadata": {},
   "source": [
    "# Sakila database (DataJoint)"
   ]
  },
  {
   "cell_type": "code",
   "execution_count": 3,
   "id": "5c247b31",
   "metadata": {},
   "outputs": [],
   "source": [
    "dj.config['database.user'] = 'admin'\n",
    "dj.config['database.password'] =  'dowPLEARth'"
   ]
  },
  {
   "cell_type": "code",
   "execution_count": 2,
   "id": "6c7f6a2b",
   "metadata": {},
   "outputs": [],
   "source": [
    "import datajoint as dj"
   ]
  },
  {
   "cell_type": "code",
   "execution_count": 4,
   "id": "09a95b85",
   "metadata": {},
   "outputs": [
    {
     "name": "stderr",
     "output_type": "stream",
     "text": [
      "[2022-09-13 16:57:15,261][INFO]: Connecting admin@db.ust-data-sci.net:3306\n",
      "[2022-09-13 16:57:15,783][INFO]: Connected admin@db.ust-data-sci.net:3306\n"
     ]
    }
   ],
   "source": [
    "schema = dj.Schema('shared_sales')\n"
   ]
  },
  {
   "cell_type": "code",
   "execution_count": null,
   "id": "94876f2b",
   "metadata": {},
   "outputs": [],
   "source": []
  },
  {
   "cell_type": "code",
   "execution_count": null,
   "id": "7c86fdd8",
   "metadata": {},
   "outputs": [],
   "source": [
    "schema = dj.Schema('shared_sakila')"
   ]
  },
  {
   "cell_type": "code",
   "execution_count": 5,
   "id": "00411e91",
   "metadata": {},
   "outputs": [],
   "source": [
    "schema.spawn_missing_classes()"
   ]
  },
  {
   "cell_type": "code",
   "execution_count": 6,
   "id": "26086e1a",
   "metadata": {},
   "outputs": [
    {
     "data": {
      "image/svg+xml": [
       "<svg xmlns=\"http://www.w3.org/2000/svg\" xmlns:xlink=\"http://www.w3.org/1999/xlink\" width=\"312pt\" height=\"185pt\" viewBox=\"0.00 0.00 312.00 185.00\">\n",
       "<g id=\"graph0\" class=\"graph\" transform=\"scale(1 1) rotate(0) translate(4 181)\">\n",
       "<polygon fill=\"white\" stroke=\"none\" points=\"-4,4 -4,-181 308,-181 308,4 -4,4\"/>\n",
       "<!-- ProductVendor -->\n",
       "<g id=\"node1\" class=\"node\">\n",
       "<title>ProductVendor</title>\n",
       "<g id=\"a_node1\"><a xlink:title=\"→ Product\r",
       "→ Vendor\r",
       "------------------------------\r",
       "wholesale_price      \r",
       "days_to_deliver      \r",
       "\">\n",
       "<polygon fill=\"#00ff00\" fill-opacity=\"0.188235\" stroke=\"#00ff00\" stroke-opacity=\"0.188235\" points=\"99.5,-35 3.5,-35 3.5,0 99.5,0 99.5,-35\"/>\n",
       "<text text-anchor=\"middle\" x=\"51.5\" y=\"-14.4\" font-family=\"arial\" font-size=\"12.00\" fill=\"darkgreen\">ProductVendor</text>\n",
       "</a>\n",
       "</g>\n",
       "</g>\n",
       "<!-- Employee -->\n",
       "<g id=\"node2\" class=\"node\">\n",
       "<title>Employee</title>\n",
       "<g id=\"a_node2\"><a xlink:title=\"employee_id          \r",
       "------------------------------\r",
       "employee_first_name  \r",
       "employee_last_name   \r",
       "employee_street_address=&quot;&quot; \r",
       "employee_city=&quot;&quot;     \r",
       "employee_state=&quot;&quot;    \r",
       "employee_zipcode=&quot;&quot;  \r",
       "employee_area_code=null \r",
       "employee_phone=&quot;&quot;    \r",
       "employee_birthdate=null \r",
       "INDEX (employee_area_code)\r",
       "INDEX (employee_zipcode)\r",
       "\">\n",
       "<polygon fill=\"#00ff00\" fill-opacity=\"0.188235\" stroke=\"#00ff00\" stroke-opacity=\"0.188235\" points=\"304,-177 233,-177 233,-142 304,-142 304,-177\"/>\n",
       "<text text-anchor=\"start\" x=\"241\" y=\"-157.4\" font-family=\"arial\" text-decoration=\"underline\" font-size=\"12.00\" fill=\"darkgreen\">Employee</text>\n",
       "</a>\n",
       "</g>\n",
       "</g>\n",
       "<!-- Order -->\n",
       "<g id=\"node5\" class=\"node\">\n",
       "<title>Order</title>\n",
       "<g id=\"a_node5\"><a xlink:title=\"order_number         \r",
       "------------------------------\r",
       "order_date           \r",
       "ship_date            \r",
       "→ Customer\r",
       "→ Employee\r",
       "\">\n",
       "<polygon fill=\"#00ff00\" fill-opacity=\"0.188235\" stroke=\"#00ff00\" stroke-opacity=\"0.188235\" points=\"204,-106 157,-106 157,-71 204,-71 204,-106\"/>\n",
       "<text text-anchor=\"start\" x=\"165\" y=\"-86.4\" font-family=\"arial\" text-decoration=\"underline\" font-size=\"12.00\" fill=\"darkgreen\">Order</text>\n",
       "</a>\n",
       "</g>\n",
       "</g>\n",
       "<!-- Employee&#45;&gt;Order -->\n",
       "<g id=\"edge1\" class=\"edge\">\n",
       "<title>Employee-&gt;Order</title>\n",
       "<path fill=\"none\" stroke=\"#000000\" stroke-width=\"0.75\" stroke-dasharray=\"5,2\" stroke-opacity=\"0.250980\" d=\"M247.2,-141.8C233.36,-130.95 215.4,-116.87 201.61,-106.05\"/>\n",
       "</g>\n",
       "<!-- Order.Item -->\n",
       "<g id=\"node3\" class=\"node\">\n",
       "<title>Order.Item</title>\n",
       "<g id=\"a_node3\"><a xlink:title=\"→ Order\r",
       "→ Product\r",
       "------------------------------\r",
       "quoted_price         \r",
       "quantity_ordered=0   \r",
       "\">\n",
       "<polygon fill=\"none\" stroke=\"none\" points=\"212,-27 149,-27 149,-8 212,-8 212,-27\"/>\n",
       "<text text-anchor=\"middle\" x=\"180.5\" y=\"-15\" font-family=\"arial\" font-size=\"10.00\">Order.Item</text>\n",
       "</a>\n",
       "</g>\n",
       "</g>\n",
       "<!-- Customer -->\n",
       "<g id=\"node4\" class=\"node\">\n",
       "<title>Customer</title>\n",
       "<g id=\"a_node4\"><a xlink:title=\"customer_id          \r",
       "------------------------------\r",
       "customer_first_name  \r",
       "customer_last_name   \r",
       "customer_street_address=&quot;&quot; \r",
       "customer_city=&quot;&quot;     \r",
       "customer_state=&quot;&quot;    \r",
       "customer_zipcode=&quot;&quot;  \r",
       "customer_area_code=null \r",
       "customer_phone=null  \r",
       "INDEX (customer_area_code)\r",
       "INDEX (customer_zipcode)\r",
       "\">\n",
       "<polygon fill=\"#00ff00\" fill-opacity=\"0.188235\" stroke=\"#00ff00\" stroke-opacity=\"0.188235\" points=\"214.5,-177 146.5,-177 146.5,-142 214.5,-142 214.5,-177\"/>\n",
       "<text text-anchor=\"start\" x=\"154.5\" y=\"-157.4\" font-family=\"arial\" text-decoration=\"underline\" font-size=\"12.00\" fill=\"darkgreen\">Customer</text>\n",
       "</a>\n",
       "</g>\n",
       "</g>\n",
       "<!-- Customer&#45;&gt;Order -->\n",
       "<g id=\"edge2\" class=\"edge\">\n",
       "<title>Customer-&gt;Order</title>\n",
       "<path fill=\"none\" stroke=\"#000000\" stroke-width=\"0.75\" stroke-dasharray=\"5,2\" stroke-opacity=\"0.250980\" d=\"M180.5,-141.8C180.5,-130.95 180.5,-116.87 180.5,-106.05\"/>\n",
       "</g>\n",
       "<!-- Order&#45;&gt;Order.Item -->\n",
       "<g id=\"edge3\" class=\"edge\">\n",
       "<title>Order-&gt;Order.Item</title>\n",
       "<path fill=\"none\" stroke=\"#000000\" stroke-width=\"0.75\" stroke-opacity=\"0.250980\" d=\"M180.5,-70.8C180.5,-57.08 180.5,-38.19 180.5,-27.27\"/>\n",
       "</g>\n",
       "<!-- Vendor -->\n",
       "<g id=\"node6\" class=\"node\">\n",
       "<title>Vendor</title>\n",
       "<g id=\"a_node6\"><a xlink:title=\"vendor_id            \r",
       "------------------------------\r",
       "vendor_name          \r",
       "vendor_street_address \r",
       "vendor               \r",
       "vendor_state         \r",
       "vendor_zipcode       \r",
       "vendor_phone         \r",
       "vendor_fax=&quot;&quot;        \r",
       "vendor_webpage=''    \r",
       "vendor_email=&quot;&quot;      \r",
       "\">\n",
       "<polygon fill=\"#00ff00\" fill-opacity=\"0.188235\" stroke=\"#00ff00\" stroke-opacity=\"0.188235\" points=\"55,-106 0,-106 0,-71 55,-71 55,-106\"/>\n",
       "<text text-anchor=\"start\" x=\"8\" y=\"-86.4\" font-family=\"arial\" text-decoration=\"underline\" font-size=\"12.00\" fill=\"darkgreen\">Vendor</text>\n",
       "</a>\n",
       "</g>\n",
       "</g>\n",
       "<!-- Vendor&#45;&gt;ProductVendor -->\n",
       "<g id=\"edge4\" class=\"edge\">\n",
       "<title>Vendor-&gt;ProductVendor</title>\n",
       "<path fill=\"none\" stroke=\"#000000\" stroke-width=\"0.75\" stroke-opacity=\"0.250980\" d=\"M33.31,-70.8C37.08,-59.95 41.98,-45.87 45.74,-35.05\"/>\n",
       "</g>\n",
       "<!-- Product -->\n",
       "<g id=\"node7\" class=\"node\">\n",
       "<title>Product</title>\n",
       "<g id=\"a_node7\"><a xlink:title=\"product_number       \r",
       "------------------------------\r",
       "product_name         \r",
       "product_description=&quot;&quot; \r",
       "retail_price         \r",
       "quantity_on_hand     \r",
       "→ Category\r",
       "\">\n",
       "<polygon fill=\"#00ff00\" fill-opacity=\"0.188235\" stroke=\"#00ff00\" stroke-opacity=\"0.188235\" points=\"131.5,-106 73.5,-106 73.5,-71 131.5,-71 131.5,-106\"/>\n",
       "<text text-anchor=\"start\" x=\"81.5\" y=\"-86.4\" font-family=\"arial\" text-decoration=\"underline\" font-size=\"12.00\" fill=\"darkgreen\">Product</text>\n",
       "</a>\n",
       "</g>\n",
       "</g>\n",
       "<!-- Product&#45;&gt;ProductVendor -->\n",
       "<g id=\"edge5\" class=\"edge\">\n",
       "<title>Product-&gt;ProductVendor</title>\n",
       "<path fill=\"none\" stroke=\"#000000\" stroke-width=\"0.75\" stroke-opacity=\"0.250980\" d=\"M90.15,-70.8C82.14,-59.95 71.73,-45.87 63.73,-35.05\"/>\n",
       "</g>\n",
       "<!-- Product&#45;&gt;Order.Item -->\n",
       "<g id=\"edge6\" class=\"edge\">\n",
       "<title>Product-&gt;Order.Item</title>\n",
       "<path fill=\"none\" stroke=\"#000000\" stroke-width=\"0.75\" stroke-opacity=\"0.250980\" d=\"M121.38,-70.8C136.89,-57.08 158.25,-38.19 170.59,-27.27\"/>\n",
       "</g>\n",
       "<!-- Category -->\n",
       "<g id=\"node8\" class=\"node\">\n",
       "<title>Category</title>\n",
       "<g id=\"a_node8\"><a xlink:title=\"category_id=0        \r",
       "------------------------------\r",
       "category_description=&quot;&quot; \r",
       "\">\n",
       "<polygon fill=\"#00ff00\" fill-opacity=\"0.188235\" stroke=\"#00ff00\" stroke-opacity=\"0.188235\" points=\"128,-177 63,-177 63,-142 128,-142 128,-177\"/>\n",
       "<text text-anchor=\"start\" x=\"71\" y=\"-157.4\" font-family=\"arial\" text-decoration=\"underline\" font-size=\"12.00\" fill=\"darkgreen\">Category</text>\n",
       "</a>\n",
       "</g>\n",
       "</g>\n",
       "<!-- Category&#45;&gt;Product -->\n",
       "<g id=\"edge7\" class=\"edge\">\n",
       "<title>Category-&gt;Product</title>\n",
       "<path fill=\"none\" stroke=\"#000000\" stroke-width=\"0.75\" stroke-dasharray=\"5,2\" stroke-opacity=\"0.250980\" d=\"M97.19,-141.8C98.3,-130.95 99.72,-116.87 100.82,-106.05\"/>\n",
       "</g>\n",
       "</g>\n",
       "</svg>"
      ],
      "text/plain": [
       "<datajoint.diagram.Diagram at 0x7f77a87f95b0>"
      ]
     },
     "execution_count": 6,
     "metadata": {},
     "output_type": "execute_result"
    }
   ],
   "source": [
    "dj.Diagram(schema)"
   ]
  },
  {
   "cell_type": "code",
   "execution_count": 7,
   "id": "d5b949dd",
   "metadata": {},
   "outputs": [
    {
     "data": {
      "text/html": [
       "\n",
       "    \n",
       "    <style type=\"text/css\">\n",
       "        .Relation{\n",
       "            border-collapse:collapse;\n",
       "        }\n",
       "        .Relation th{\n",
       "            background: #A0A0A0; color: #ffffff; padding:4px; border:#f0e0e0 1px solid;\n",
       "            font-weight: normal; font-family: monospace; font-size: 100%;\n",
       "        }\n",
       "        .Relation td{\n",
       "            padding:4px; border:#f0e0e0 1px solid; font-size:100%;\n",
       "        }\n",
       "        .Relation tr:nth-child(odd){\n",
       "            background: #ffffff;\n",
       "        }\n",
       "        .Relation tr:nth-child(even){\n",
       "            background: #f3f1ff;\n",
       "        }\n",
       "        /* Tooltip container */\n",
       "        .djtooltip {\n",
       "        }\n",
       "        /* Tooltip text */\n",
       "        .djtooltip .djtooltiptext {\n",
       "            visibility: hidden;\n",
       "            width: 120px;\n",
       "            background-color: black;\n",
       "            color: #fff;\n",
       "            text-align: center;\n",
       "            padding: 5px 0;\n",
       "            border-radius: 6px;\n",
       "            /* Position the tooltip text - see examples below! */\n",
       "            position: absolute;\n",
       "            z-index: 1;\n",
       "        }\n",
       "        #primary {\n",
       "            font-weight: bold;\n",
       "            color: black;\n",
       "        }\n",
       "        #nonprimary {\n",
       "            font-weight: normal;\n",
       "            color: white;\n",
       "        }\n",
       "\n",
       "        /* Show the tooltip text when you mouse over the tooltip container */\n",
       "        .djtooltip:hover .djtooltiptext {\n",
       "            visibility: visible;\n",
       "        }\n",
       "    </style>\n",
       "    \n",
       "    <b></b>\n",
       "        <div style=\"max-height:1000px;max-width:1500px;overflow:auto;\">\n",
       "        <table border=\"1\" class=\"Relation\">\n",
       "            <thead> <tr style=\"text-align: right;\"> <th> <div class=\"djtooltip\">\n",
       "                            <p id=\"primary\">vendor_id</p>\n",
       "                            <span class=\"djtooltiptext\"></span>\n",
       "                        </div></th><th><div class=\"djtooltip\">\n",
       "                            <p id=\"nonprimary\">vendor_name</p>\n",
       "                            <span class=\"djtooltiptext\"></span>\n",
       "                        </div></th><th><div class=\"djtooltip\">\n",
       "                            <p id=\"nonprimary\">vendor_street_address</p>\n",
       "                            <span class=\"djtooltiptext\"></span>\n",
       "                        </div></th><th><div class=\"djtooltip\">\n",
       "                            <p id=\"nonprimary\">vendor</p>\n",
       "                            <span class=\"djtooltiptext\"></span>\n",
       "                        </div></th><th><div class=\"djtooltip\">\n",
       "                            <p id=\"nonprimary\">vendor_state</p>\n",
       "                            <span class=\"djtooltiptext\"></span>\n",
       "                        </div></th><th><div class=\"djtooltip\">\n",
       "                            <p id=\"nonprimary\">vendor_zipcode</p>\n",
       "                            <span class=\"djtooltiptext\"></span>\n",
       "                        </div></th><th><div class=\"djtooltip\">\n",
       "                            <p id=\"nonprimary\">vendor_phone</p>\n",
       "                            <span class=\"djtooltiptext\"></span>\n",
       "                        </div></th><th><div class=\"djtooltip\">\n",
       "                            <p id=\"nonprimary\">vendor_fax</p>\n",
       "                            <span class=\"djtooltiptext\"></span>\n",
       "                        </div></th><th><div class=\"djtooltip\">\n",
       "                            <p id=\"nonprimary\">vendor_webpage</p>\n",
       "                            <span class=\"djtooltiptext\"></span>\n",
       "                        </div></th><th><div class=\"djtooltip\">\n",
       "                            <p id=\"nonprimary\">vendor_email</p>\n",
       "                            <span class=\"djtooltiptext\"></span>\n",
       "                        </div> </th> </tr> </thead>\n",
       "            <tbody> <tr>  </tr> </tbody>\n",
       "        </table>\n",
       "        \n",
       "        <p>Total: 0</p></div>\n",
       "        "
      ],
      "text/plain": [
       "*vendor_id    vendor_name    vendor_street_ vendor     vendor_state   vendor_zipcode vendor_phone   vendor_fax     vendor_webpage vendor_email  \n",
       "+-----------+ +------------+ +------------+ +--------+ +------------+ +------------+ +------------+ +------------+ +------------+ +------------+\n",
       "\n",
       " (Total: 0)"
      ]
     },
     "execution_count": 7,
     "metadata": {},
     "output_type": "execute_result"
    }
   ],
   "source": [
    "Vendor()"
   ]
  },
  {
   "cell_type": "code",
   "execution_count": null,
   "id": "114cefd3",
   "metadata": {},
   "outputs": [],
   "source": [
    "Payment() & 'amount >= 11'"
   ]
  },
  {
   "cell_type": "code",
   "execution_count": null,
   "id": "5bda42ba",
   "metadata": {},
   "outputs": [],
   "source": [
    "Actor & (FilmActor.proj() & (Film & (FilmCategory.proj() & (Category() & 'name=\"Horror\"'))))"
   ]
  },
  {
   "cell_type": "code",
   "execution_count": null,
   "id": "2e9aa368",
   "metadata": {},
   "outputs": [],
   "source": [
    "Customer.proj().aggr(Rental, n='count(*)') & 'n > 45'"
   ]
  },
  {
   "cell_type": "code",
   "execution_count": null,
   "id": "8e27e0ab",
   "metadata": {},
   "outputs": [],
   "source": [
    "dj.conn().query(\"\"\"\n",
    "ALTER TABLE shared_sakila.store DROP FOREIGN KEY fk_store_staff;\n",
    "\"\"\")"
   ]
  },
  {
   "cell_type": "markdown",
   "id": "4d6afba5",
   "metadata": {},
   "source": [
    "```python\n",
    "# drop cyclic foreign key\n",
    "dj.conn().query(\"\"\"\n",
    "ALTER TABLE shared_sakila.store DROP FOREIGN KEY fk_store_staff;\n",
    "\"\"\")\n",
    "\n",
    "# restore cyclic foreign key\n",
    "dj.conn().query(\"\"\"\n",
    "ALTER TABLE shared_sakila.store \n",
    "    ADD FOREIGN KEY `fk_store_staff` (`manager_staff_id`) REFERENCES `staff`(`staff_id`);\n",
    "\"\"\")\n",
    "```"
   ]
  },
  {
   "cell_type": "code",
   "execution_count": null,
   "id": "6f26c2c1",
   "metadata": {},
   "outputs": [],
   "source": [
    "dj.conn().query(\"ALTER TABLE shared_sakila.store DROP FOREIGN KEY fk_store_staff;\")"
   ]
  },
  {
   "cell_type": "code",
   "execution_count": null,
   "id": "8beadc60",
   "metadata": {},
   "outputs": [],
   "source": [
    "dj.Diagram(schema)"
   ]
  },
  {
   "cell_type": "code",
   "execution_count": null,
   "id": "725290f9",
   "metadata": {},
   "outputs": [],
   "source": [
    "dj.conn().query(\"\"\"\n",
    "ALTER TABLE shared_sakila.store \n",
    "    ADD FOREIGN KEY `fk_store_staff` (`manager_staff_id`) REFERENCES `staff`(`staff_id`);\n",
    "\"\"\")"
   ]
  },
  {
   "cell_type": "code",
   "execution_count": null,
   "id": "0e077d49",
   "metadata": {},
   "outputs": [],
   "source": [
    "dj.Diagram(schema)"
   ]
  },
  {
   "cell_type": "code",
   "execution_count": null,
   "id": "3582245f",
   "metadata": {},
   "outputs": [],
   "source": [
    "@schema\n",
    "class StoreManager(dj.Manual):\n",
    "    definition = \"\"\"\n",
    "    -> Store\n",
    "    ---\n",
    "    -> Staff\n",
    "    \"\"\""
   ]
  },
  {
   "cell_type": "code",
   "execution_count": null,
   "id": "97723a14",
   "metadata": {},
   "outputs": [],
   "source": [
    "FilmText.drop()"
   ]
  },
  {
   "cell_type": "code",
   "execution_count": null,
   "id": "6085187d",
   "metadata": {},
   "outputs": [],
   "source": [
    "dj.conn().query(\"\"\"\n",
    "ALTER TABLE shared_sakila.inventory \n",
    "    ADD FOREIGN KEY (`film_id`) REFERENCES `shared_sakila`.`film_text`(`film_id`);\n",
    "\"\"\")"
   ]
  },
  {
   "cell_type": "markdown",
   "id": "15873c82",
   "metadata": {},
   "source": [
    "## Virtual module"
   ]
  },
  {
   "cell_type": "code",
   "execution_count": null,
   "id": "1d2bf5cf",
   "metadata": {},
   "outputs": [],
   "source": [
    "import datajoint as dj"
   ]
  },
  {
   "cell_type": "code",
   "execution_count": null,
   "id": "68831c0f",
   "metadata": {},
   "outputs": [],
   "source": [
    "sakila = dj.VirtualModule('sakila', 'shared_sakila')"
   ]
  },
  {
   "cell_type": "code",
   "execution_count": null,
   "id": "3fc2d749",
   "metadata": {},
   "outputs": [],
   "source": [
    "sakila"
   ]
  },
  {
   "cell_type": "code",
   "execution_count": null,
   "id": "248b8b21",
   "metadata": {},
   "outputs": [],
   "source": [
    "dir(sakila)"
   ]
  },
  {
   "cell_type": "code",
   "execution_count": null,
   "id": "c59e9d4c",
   "metadata": {},
   "outputs": [],
   "source": [
    "dj.Diagram(sakila)"
   ]
  },
  {
   "cell_type": "code",
   "execution_count": null,
   "id": "c82a47de",
   "metadata": {},
   "outputs": [],
   "source": [
    "sakila.schema.save('sakila.py')"
   ]
  },
  {
   "cell_type": "code",
   "execution_count": null,
   "id": "540d965e",
   "metadata": {},
   "outputs": [],
   "source": [
    "print(dj.conn().query('SHOW CREATE TABLE shared_sakila.store').fetchone()[1])"
   ]
  },
  {
   "cell_type": "code",
   "execution_count": null,
   "id": "8042d991",
   "metadata": {},
   "outputs": [],
   "source": [
    "(Store).aggr(Payment.proj(..., q='last_update'), total='sum(amount)')"
   ]
  },
  {
   "cell_type": "code",
   "execution_count": null,
   "id": "210fa38c",
   "metadata": {},
   "outputs": [],
   "source": [
    "(Inventory().proj()).aggr(Rental, n='count(*)' )"
   ]
  },
  {
   "cell_type": "code",
   "execution_count": null,
   "id": "b4b29c98",
   "metadata": {},
   "outputs": [],
   "source": [
    "(Store & store )"
   ]
  },
  {
   "cell_type": "code",
   "execution_count": null,
   "id": "f0b5086b",
   "metadata": {},
   "outputs": [],
   "source": [
    "dj.Diagram(schema)"
   ]
  },
  {
   "cell_type": "code",
   "execution_count": null,
   "id": "ac8b73ee",
   "metadata": {},
   "outputs": [],
   "source": [
    "Staff.proj(seller='concat(first_name, \" \", last_name)') * Rental.proj(..., '-last_update')"
   ]
  },
  {
   "cell_type": "code",
   "execution_count": null,
   "id": "c2a9179a",
   "metadata": {},
   "outputs": [],
   "source": [
    "Rental()"
   ]
  },
  {
   "cell_type": "code",
   "execution_count": null,
   "id": "6701e078",
   "metadata": {},
   "outputs": [],
   "source": [
    "Film.describe();"
   ]
  },
  {
   "cell_type": "code",
   "execution_count": null,
   "id": "cc5d82e7",
   "metadata": {},
   "outputs": [],
   "source": [
    "Film()"
   ]
  },
  {
   "cell_type": "code",
   "execution_count": null,
   "id": "c5c8ec18",
   "metadata": {},
   "outputs": [],
   "source": [
    "Film & 'original_language_id is not NULL'"
   ]
  },
  {
   "cell_type": "code",
   "execution_count": null,
   "id": "2dbb67c5",
   "metadata": {},
   "outputs": [],
   "source": [
    "Language()"
   ]
  },
  {
   "cell_type": "code",
   "execution_count": null,
   "id": "d179b394",
   "metadata": {},
   "outputs": [],
   "source": [
    "Language().describe();"
   ]
  },
  {
   "cell_type": "markdown",
   "id": "a49d6b69",
   "metadata": {},
   "source": [
    "# DataJoint Queries"
   ]
  },
  {
   "cell_type": "code",
   "execution_count": null,
   "id": "6940b46c",
   "metadata": {},
   "outputs": [],
   "source": [
    "dj.Diagram(schema)"
   ]
  },
  {
   "cell_type": "code",
   "execution_count": null,
   "id": "583e3768",
   "metadata": {},
   "outputs": [],
   "source": [
    "q = Actor()"
   ]
  },
  {
   "cell_type": "code",
   "execution_count": null,
   "id": "2421a1e7",
   "metadata": {},
   "outputs": [],
   "source": [
    "q"
   ]
  },
  {
   "cell_type": "code",
   "execution_count": null,
   "id": "c5597983",
   "metadata": {},
   "outputs": [],
   "source": [
    "a = query.fetch(as_dict=True, order_by=('last_name', 'first_name'), limit=10, offset=10)"
   ]
  },
  {
   "cell_type": "code",
   "execution_count": null,
   "id": "38905679",
   "metadata": {},
   "outputs": [],
   "source": [
    "q & 'month(last_update) = 3'"
   ]
  },
  {
   "cell_type": "code",
   "execution_count": null,
   "id": "49844b5c",
   "metadata": {},
   "outputs": [],
   "source": [
    "q.proj(..., cid=\"customer_id\")"
   ]
  },
  {
   "cell_type": "code",
   "execution_count": null,
   "id": "1670b79f",
   "metadata": {},
   "outputs": [],
   "source": [
    "q"
   ]
  },
  {
   "cell_type": "code",
   "execution_count": null,
   "id": "4486c736",
   "metadata": {},
   "outputs": [],
   "source": [
    "last_rental = (Rental() & 'return_date > \"2005-09-02\"').proj('customer_id')"
   ]
  },
  {
   "cell_type": "code",
   "execution_count": null,
   "id": "d3b93af9",
   "metadata": {},
   "outputs": [],
   "source": [
    "last_rentals"
   ]
  },
  {
   "cell_type": "code",
   "execution_count": null,
   "id": "7fcd10b7",
   "metadata": {},
   "outputs": [],
   "source": [
    "last_rental.fetch(as_dict=True)"
   ]
  },
  {
   "cell_type": "code",
   "execution_count": null,
   "id": "5e29c056",
   "metadata": {},
   "outputs": [],
   "source": [
    "Customer & last_rental"
   ]
  },
  {
   "cell_type": "markdown",
   "id": "2cac9dcb",
   "metadata": {},
   "source": [
    "# PyMySQL"
   ]
  },
  {
   "cell_type": "code",
   "execution_count": null,
   "id": "899ddd29",
   "metadata": {},
   "outputs": [],
   "source": [
    "print(last_rental.make_sql())"
   ]
  },
  {
   "cell_type": "code",
   "execution_count": null,
   "id": "8dbdf35b",
   "metadata": {},
   "outputs": [],
   "source": [
    "import pymysql \n"
   ]
  },
  {
   "cell_type": "code",
   "execution_count": null,
   "id": "525917a1",
   "metadata": {},
   "outputs": [],
   "source": [
    "conn = pymysql.connect(\n",
    "    host=dj.config['database.host'],\n",
    "    passwd=dj.config['database.password'],\n",
    "    user=dj.config['database.user'])"
   ]
  },
  {
   "cell_type": "code",
   "execution_count": null,
   "id": "488f4336",
   "metadata": {},
   "outputs": [],
   "source": [
    "cursor = conn.cursor()"
   ]
  },
  {
   "cell_type": "code",
   "execution_count": null,
   "id": "505f2c7e",
   "metadata": {},
   "outputs": [],
   "source": [
    "cursor.execute('SHOW SCHEMAS')"
   ]
  },
  {
   "cell_type": "code",
   "execution_count": null,
   "id": "2dda03af",
   "metadata": {},
   "outputs": [],
   "source": [
    "cursor.execute('USE shared_sakila')"
   ]
  },
  {
   "cell_type": "code",
   "execution_count": null,
   "id": "901b5de3",
   "metadata": {},
   "outputs": [],
   "source": [
    "cursor.execute('SHOW TABLES')"
   ]
  },
  {
   "cell_type": "code",
   "execution_count": null,
   "id": "5b6571f4",
   "metadata": {},
   "outputs": [],
   "source": [
    "cursor.fetchall()"
   ]
  },
  {
   "cell_type": "code",
   "execution_count": null,
   "id": "b205a5ca",
   "metadata": {},
   "outputs": [],
   "source": [
    "cursor.execute('SELECT * FROM customer')"
   ]
  },
  {
   "cell_type": "code",
   "execution_count": null,
   "id": "a3de6610",
   "metadata": {},
   "outputs": [],
   "source": [
    "cursor.execute('SELECT * FROM customer WHERE customer_id = 1 ')"
   ]
  },
  {
   "cell_type": "code",
   "execution_count": null,
   "id": "dc692a48",
   "metadata": {},
   "outputs": [],
   "source": [
    "cursor.fetchall()"
   ]
  },
  {
   "cell_type": "code",
   "execution_count": null,
   "id": "69715bca",
   "metadata": {},
   "outputs": [],
   "source": [
    "cursor.execute('SELECT * FROM rental WHERE return_date > \"2005-09-02\" ')"
   ]
  },
  {
   "cell_type": "code",
   "execution_count": null,
   "id": "9484dd46",
   "metadata": {},
   "outputs": [],
   "source": [
    "cursor.execute('SELECT * FROM rental WHERE return_date is NULL')"
   ]
  },
  {
   "cell_type": "code",
   "execution_count": null,
   "id": "60a4d403",
   "metadata": {},
   "outputs": [],
   "source": [
    "cursor.execute('SELECT * FROM rental WHERE return_date is NOT NULL')"
   ]
  },
  {
   "cell_type": "code",
   "execution_count": null,
   "id": "01400ae4",
   "metadata": {},
   "outputs": [],
   "source": [
    "Customer & (Rental & 'return_date is NULL').proj('customer_id') "
   ]
  },
  {
   "cell_type": "code",
   "execution_count": null,
   "id": "0f0ab712",
   "metadata": {},
   "outputs": [],
   "source": [
    "cursor.execute(\n",
    "    \"\"\"\n",
    "    SELECT * \n",
    "    FROM customer \n",
    "    WHERE customer_id IN (\n",
    "        SELECT customer_id \n",
    "        FROM rental \n",
    "        WHERE return_date IS NULL)\n",
    "    \"\"\")"
   ]
  },
  {
   "cell_type": "code",
   "execution_count": null,
   "id": "4a6c866b",
   "metadata": {},
   "outputs": [],
   "source": [
    "cursor.execute(\"SELECT customer_id, rental_date FROM rental\")"
   ]
  },
  {
   "cell_type": "code",
   "execution_count": null,
   "id": "da354b66",
   "metadata": {},
   "outputs": [],
   "source": [
    "cursor.fetchone()"
   ]
  },
  {
   "cell_type": "code",
   "execution_count": null,
   "id": "d282ecb8",
   "metadata": {},
   "outputs": [],
   "source": [
    "cursor.execute(\"SELECT DISTINCT customer_id FROM rental\")"
   ]
  },
  {
   "cell_type": "code",
   "execution_count": null,
   "id": "b5f87728",
   "metadata": {},
   "outputs": [],
   "source": [
    "cursor.execute(\"SELECT DISTINCT customer_id FROM rental WHERE return_date IS NULL\")"
   ]
  },
  {
   "cell_type": "code",
   "execution_count": null,
   "id": "a3e08f65",
   "metadata": {},
   "outputs": [],
   "source": [
    "cursor.execute(\"SELECT DISTINCT customer_id cid FROM rental WHERE return_date IS NULL\")"
   ]
  },
  {
   "cell_type": "code",
   "execution_count": null,
   "id": "14e8b8f6",
   "metadata": {},
   "outputs": [],
   "source": [
    "Store()"
   ]
  },
  {
   "cell_type": "code",
   "execution_count": null,
   "id": "32166ca7",
   "metadata": {},
   "outputs": [],
   "source": [
    "Rental()"
   ]
  },
  {
   "cell_type": "markdown",
   "id": "8fa79f6a",
   "metadata": {},
   "source": [
    "### Problem 1\n",
    "\n",
    "Show all rentals of intentory from Store 1"
   ]
  },
  {
   "cell_type": "code",
   "execution_count": null,
   "id": "5d02838d",
   "metadata": {},
   "outputs": [],
   "source": [
    "q = Rental & (Inventory() & 'store_id=1').proj()"
   ]
  },
  {
   "cell_type": "code",
   "execution_count": null,
   "id": "37e0c52f",
   "metadata": {},
   "outputs": [],
   "source": [
    "(Rental * Customer.proj(..., '-last_update')).make_sql()"
   ]
  },
  {
   "cell_type": "code",
   "execution_count": null,
   "id": "3d16a02d",
   "metadata": {},
   "outputs": [],
   "source": [
    "cursor.execute(\"\"\"\n",
    "SELECT * FROM rental \n",
    "WHERE inventory_id IN (SELECT inventory_id FROM inventory WHERE store_id=1)\n",
    "\"\"\")"
   ]
  },
  {
   "cell_type": "markdown",
   "id": "5b14f939",
   "metadata": {},
   "source": [
    "### Problem 2\n",
    "\n",
    "Show all staff that work at Store 1"
   ]
  },
  {
   "cell_type": "code",
   "execution_count": null,
   "id": "5e0a380d",
   "metadata": {},
   "outputs": [],
   "source": [
    "Staff() & 'store_id=1'"
   ]
  },
  {
   "cell_type": "code",
   "execution_count": null,
   "id": "64b04b66",
   "metadata": {},
   "outputs": [],
   "source": [
    "cursors.execute(\"\"\"\n",
    "SELECT staff_id \n",
    "FROM staff \n",
    "WHERE store_id=1\n",
    "\"\"\")"
   ]
  }
 ],
 "metadata": {
  "kernelspec": {
   "display_name": "Python 3 (ipykernel)",
   "language": "python",
   "name": "python3"
  },
  "language_info": {
   "codemirror_mode": {
    "name": "ipython",
    "version": 3
   },
   "file_extension": ".py",
   "mimetype": "text/x-python",
   "name": "python",
   "nbconvert_exporter": "python",
   "pygments_lexer": "ipython3",
   "version": "3.9.7"
  }
 },
 "nbformat": 4,
 "nbformat_minor": 5
}

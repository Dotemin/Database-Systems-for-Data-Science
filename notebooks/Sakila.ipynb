{
 "cells": [
  {
   "cell_type": "markdown",
   "id": "67e6908e",
   "metadata": {},
   "source": [
    "# Sakila database (DataJoint)"
   ]
  },
  {
   "cell_type": "code",
   "execution_count": 1,
   "id": "6c7f6a2b",
   "metadata": {},
   "outputs": [],
   "source": [
    "import datajoint as dj"
   ]
  },
  {
   "cell_type": "code",
   "execution_count": 2,
   "id": "7c86fdd8",
   "metadata": {},
   "outputs": [
    {
     "name": "stdout",
     "output_type": "stream",
     "text": [
      "Connecting dimitri@db.ust-db.link:3306\n"
     ]
    }
   ],
   "source": [
    "schema = dj.Schema('shared_sakila')"
   ]
  },
  {
   "cell_type": "code",
   "execution_count": 3,
   "id": "00411e91",
   "metadata": {},
   "outputs": [],
   "source": [
    "schema.spawn_missing_classes()"
   ]
  },
  {
   "cell_type": "code",
   "execution_count": 4,
   "id": "26086e1a",
   "metadata": {},
   "outputs": [
    {
     "ename": "DataJointError",
     "evalue": "DataJoint can only work with acyclic dependencies",
     "output_type": "error",
     "traceback": [
      "\u001b[0;31m---------------------------------------------------------------------------\u001b[0m",
      "\u001b[0;31mDataJointError\u001b[0m                            Traceback (most recent call last)",
      "\u001b[0;32m<ipython-input-4-0e3efa14dd39>\u001b[0m in \u001b[0;36m<module>\u001b[0;34m\u001b[0m\n\u001b[0;32m----> 1\u001b[0;31m \u001b[0mdj\u001b[0m\u001b[0;34m.\u001b[0m\u001b[0mDiagram\u001b[0m\u001b[0;34m(\u001b[0m\u001b[0mschema\u001b[0m\u001b[0;34m)\u001b[0m\u001b[0;34m\u001b[0m\u001b[0;34m\u001b[0m\u001b[0m\n\u001b[0m",
      "\u001b[0;32m~/dev/datajoint-python/datajoint/diagram.py\u001b[0m in \u001b[0;36m__init__\u001b[0;34m(self, source, context)\u001b[0m\n\u001b[1;32m    109\u001b[0m \u001b[0;34m\u001b[0m\u001b[0m\n\u001b[1;32m    110\u001b[0m             \u001b[0;31m# initialize graph from dependencies\u001b[0m\u001b[0;34m\u001b[0m\u001b[0;34m\u001b[0m\u001b[0m\n\u001b[0;32m--> 111\u001b[0;31m             \u001b[0mconnection\u001b[0m\u001b[0;34m.\u001b[0m\u001b[0mdependencies\u001b[0m\u001b[0;34m.\u001b[0m\u001b[0mload\u001b[0m\u001b[0;34m(\u001b[0m\u001b[0;34m)\u001b[0m\u001b[0;34m\u001b[0m\u001b[0;34m\u001b[0m\u001b[0m\n\u001b[0m\u001b[1;32m    112\u001b[0m             \u001b[0msuper\u001b[0m\u001b[0;34m(\u001b[0m\u001b[0;34m)\u001b[0m\u001b[0;34m.\u001b[0m\u001b[0m__init__\u001b[0m\u001b[0;34m(\u001b[0m\u001b[0mconnection\u001b[0m\u001b[0;34m.\u001b[0m\u001b[0mdependencies\u001b[0m\u001b[0;34m)\u001b[0m\u001b[0;34m\u001b[0m\u001b[0;34m\u001b[0m\u001b[0m\n\u001b[1;32m    113\u001b[0m \u001b[0;34m\u001b[0m\u001b[0m\n",
      "\u001b[0;32m~/dev/datajoint-python/datajoint/dependencies.py\u001b[0m in \u001b[0;36mload\u001b[0;34m(self, force)\u001b[0m\n\u001b[1;32m    111\u001b[0m \u001b[0;34m\u001b[0m\u001b[0m\n\u001b[1;32m    112\u001b[0m         \u001b[0;32mif\u001b[0m \u001b[0;32mnot\u001b[0m \u001b[0mnx\u001b[0m\u001b[0;34m.\u001b[0m\u001b[0mis_directed_acyclic_graph\u001b[0m\u001b[0;34m(\u001b[0m\u001b[0mself\u001b[0m\u001b[0;34m)\u001b[0m\u001b[0;34m:\u001b[0m  \u001b[0;31m# pragma: no cover\u001b[0m\u001b[0;34m\u001b[0m\u001b[0;34m\u001b[0m\u001b[0m\n\u001b[0;32m--> 113\u001b[0;31m             \u001b[0;32mraise\u001b[0m \u001b[0mDataJointError\u001b[0m\u001b[0;34m(\u001b[0m\u001b[0;34m'DataJoint can only work with acyclic dependencies'\u001b[0m\u001b[0;34m)\u001b[0m\u001b[0;34m\u001b[0m\u001b[0;34m\u001b[0m\u001b[0m\n\u001b[0m\u001b[1;32m    114\u001b[0m         \u001b[0mself\u001b[0m\u001b[0;34m.\u001b[0m\u001b[0m_loaded\u001b[0m \u001b[0;34m=\u001b[0m \u001b[0;32mTrue\u001b[0m\u001b[0;34m\u001b[0m\u001b[0;34m\u001b[0m\u001b[0m\n\u001b[1;32m    115\u001b[0m \u001b[0;34m\u001b[0m\u001b[0m\n",
      "\u001b[0;31mDataJointError\u001b[0m: DataJoint can only work with acyclic dependencies"
     ]
    }
   ],
   "source": [
    "dj.Diagram(schema)"
   ]
  },
  {
   "cell_type": "code",
   "execution_count": null,
   "id": "d5b949dd",
   "metadata": {},
   "outputs": [],
   "source": [
    "Store()"
   ]
  },
  {
   "cell_type": "code",
   "execution_count": null,
   "id": "114cefd3",
   "metadata": {},
   "outputs": [],
   "source": [
    "Payment() & 'amount >= 11'"
   ]
  },
  {
   "cell_type": "code",
   "execution_count": null,
   "id": "5bda42ba",
   "metadata": {},
   "outputs": [],
   "source": [
    "Actor & (FilmActor.proj() & (Film & (FilmCategory.proj() & (Category() & 'name=\"Horror\"'))))"
   ]
  },
  {
   "cell_type": "code",
   "execution_count": null,
   "id": "2e9aa368",
   "metadata": {},
   "outputs": [],
   "source": [
    "Customer.proj().aggr(Rental, n='count(*)') & 'n > 45'"
   ]
  },
  {
   "cell_type": "code",
   "execution_count": null,
   "id": "8e27e0ab",
   "metadata": {},
   "outputs": [],
   "source": [
    "dj.conn().query(\"\"\"\n",
    "ALTER TABLE shared_sakila.store DROP FOREIGN KEY fk_store_staff;\n",
    "\"\"\")"
   ]
  },
  {
   "cell_type": "markdown",
   "id": "4d6afba5",
   "metadata": {},
   "source": [
    "```python\n",
    "# drop cyclic foreign key\n",
    "dj.conn().query(\"\"\"\n",
    "ALTER TABLE shared_sakila.store DROP FOREIGN KEY fk_store_staff;\n",
    "\"\"\")\n",
    "\n",
    "# restore cyclic foreign key\n",
    "dj.conn().query(\"\"\"\n",
    "ALTER TABLE shared_sakila.store \n",
    "    ADD FOREIGN KEY `fk_store_staff` (`manager_staff_id`) REFERENCES `staff`(`staff_id`);\n",
    "\"\"\")\n",
    "```"
   ]
  },
  {
   "cell_type": "code",
   "execution_count": 5,
   "id": "6f26c2c1",
   "metadata": {},
   "outputs": [
    {
     "data": {
      "text/plain": [
       "<pymysql.cursors.Cursor at 0x13cf85a30>"
      ]
     },
     "execution_count": 5,
     "metadata": {},
     "output_type": "execute_result"
    }
   ],
   "source": [
    "dj.conn().query(\"ALTER TABLE shared_sakila.store DROP FOREIGN KEY fk_store_staff;\")"
   ]
  },
  {
   "cell_type": "code",
   "execution_count": 6,
   "id": "8beadc60",
   "metadata": {},
   "outputs": [
    {
     "data": {
      "image/svg+xml": [
       "<svg xmlns=\"http://www.w3.org/2000/svg\" xmlns:xlink=\"http://www.w3.org/1999/xlink\" width=\"413pt\" height=\"469pt\" viewBox=\"0.00 0.00 412.50 469.00\">\n",
       "<g id=\"graph0\" class=\"graph\" transform=\"scale(1 1) rotate(0) translate(4 465)\">\n",
       "<polygon fill=\"white\" stroke=\"transparent\" points=\"-4,4 -4,-465 408.5,-465 408.5,4 -4,4\"/>\n",
       "<!-- 2 -->\n",
       "<g id=\"node1\" class=\"node\">\n",
       "<title>2</title>\n",
       "<ellipse fill=\"#ff8800\" fill-opacity=\"0.501961\" stroke=\"#ff8800\" stroke-opacity=\"0.501961\" cx=\"109\" cy=\"-301.5\" rx=\"2\" ry=\"2\"/>\n",
       "<text text-anchor=\"middle\" x=\"109\" y=\"-301.2\" font-family=\"arial\" font-size=\"1.00\" fill=\"#ff8800\" fill-opacity=\"0.501961\">2</text>\n",
       "</g>\n",
       "<!-- Film -->\n",
       "<g id=\"node8\" class=\"node\">\n",
       "<title>Film</title>\n",
       "<g id=\"a_node8\"><a xlink:title=\"film_id              \r",
       "------------------------------\r",
       "title                \r",
       "description=null     \r",
       "release_year=null    \r",
       "→ Language\r",
       "→ [nullable] Language.proj(original_language_id=&quot;language_id&quot;)\r",
       "rental_duration=3    \r",
       "rental_rate=4.99     \r",
       "length=null          \r",
       "replacement_cost=19.99 \r",
       "rating=null          \r",
       "special_features=null \r",
       "last_update=&quot;current_timestamp()&quot; \r",
       "INDEX (title)\r",
       "\">\n",
       "<polygon fill=\"#00ff00\" fill-opacity=\"0.188235\" stroke=\"#00ff00\" stroke-opacity=\"0.188235\" points=\"146.5,-248 107.5,-248 107.5,-213 146.5,-213 146.5,-248\"/>\n",
       "<text text-anchor=\"start\" x=\"115.5\" y=\"-228.4\" font-family=\"arial\" text-decoration=\"underline\" font-size=\"12.00\" fill=\"darkgreen\">Film</text>\n",
       "</a>\n",
       "</g>\n",
       "</g>\n",
       "<!-- 2&#45;&gt;Film -->\n",
       "<g id=\"edge1\" class=\"edge\">\n",
       "<title>2-&gt;Film</title>\n",
       "<path fill=\"none\" stroke=\"#000000\" stroke-width=\"0.75\" stroke-dasharray=\"5,2\" stroke-opacity=\"0.250980\" d=\"M109.31,-299.3C110.87,-293.33 117.92,-266.29 122.64,-248.22\"/>\n",
       "</g>\n",
       "<!-- Store -->\n",
       "<g id=\"node2\" class=\"node\">\n",
       "<title>Store</title>\n",
       "<g id=\"a_node2\"><a xlink:title=\"store_id             \r",
       "------------------------------\r",
       "manager_staff_id     \r",
       "→ Address\r",
       "last_update=&quot;current_timestamp()&quot; \r",
       "UNIQUE INDEX (manager_staff_id)\r",
       "\">\n",
       "<polygon fill=\"#00ff00\" fill-opacity=\"0.188235\" stroke=\"#00ff00\" stroke-opacity=\"0.188235\" points=\"355.5,-248 310.5,-248 310.5,-213 355.5,-213 355.5,-248\"/>\n",
       "<text text-anchor=\"start\" x=\"318.5\" y=\"-228.4\" font-family=\"arial\" text-decoration=\"underline\" font-size=\"12.00\" fill=\"darkgreen\">Store</text>\n",
       "</a>\n",
       "</g>\n",
       "</g>\n",
       "<!-- Customer -->\n",
       "<g id=\"node9\" class=\"node\">\n",
       "<title>Customer</title>\n",
       "<g id=\"a_node9\"><a xlink:title=\"customer_id          \r",
       "------------------------------\r",
       "→ Store\r",
       "first_name           \r",
       "last_name            \r",
       "email=null           \r",
       "→ Address\r",
       "active=1             \r",
       "create_date          \r",
       "last_update=&quot;current_timestamp()&quot; \r",
       "INDEX (last_name)\r",
       "\">\n",
       "<polygon fill=\"#00ff00\" fill-opacity=\"0.188235\" stroke=\"#00ff00\" stroke-opacity=\"0.188235\" points=\"345.5,-177 276.5,-177 276.5,-142 345.5,-142 345.5,-177\"/>\n",
       "<text text-anchor=\"start\" x=\"284.5\" y=\"-157.4\" font-family=\"arial\" text-decoration=\"underline\" font-size=\"12.00\" fill=\"darkgreen\">Customer</text>\n",
       "</a>\n",
       "</g>\n",
       "</g>\n",
       "<!-- Store&#45;&gt;Customer -->\n",
       "<g id=\"edge2\" class=\"edge\">\n",
       "<title>Store-&gt;Customer</title>\n",
       "<path fill=\"none\" stroke=\"#000000\" stroke-width=\"0.75\" stroke-dasharray=\"5,2\" stroke-opacity=\"0.250980\" d=\"M327.67,-212.8C324.22,-201.95 319.73,-187.87 316.28,-177.05\"/>\n",
       "</g>\n",
       "<!-- Staff -->\n",
       "<g id=\"node12\" class=\"node\">\n",
       "<title>Staff</title>\n",
       "<g id=\"a_node12\"><a xlink:title=\"staff_id             \r",
       "------------------------------\r",
       "first_name           \r",
       "last_name            \r",
       "→ Address\r",
       "picture=null         \r",
       "email=null           \r",
       "→ Store\r",
       "active=1             \r",
       "username             \r",
       "password=null        \r",
       "last_update=&quot;current_timestamp()&quot; \r",
       "\">\n",
       "<polygon fill=\"#00ff00\" fill-opacity=\"0.188235\" stroke=\"#00ff00\" stroke-opacity=\"0.188235\" points=\"404.5,-177 363.5,-177 363.5,-142 404.5,-142 404.5,-177\"/>\n",
       "<text text-anchor=\"start\" x=\"371.5\" y=\"-157.4\" font-family=\"arial\" text-decoration=\"underline\" font-size=\"12.00\" fill=\"darkgreen\">Staff</text>\n",
       "</a>\n",
       "</g>\n",
       "</g>\n",
       "<!-- Store&#45;&gt;Staff -->\n",
       "<g id=\"edge3\" class=\"edge\">\n",
       "<title>Store-&gt;Staff</title>\n",
       "<path fill=\"none\" stroke=\"#000000\" stroke-width=\"0.75\" stroke-dasharray=\"5,2\" stroke-opacity=\"0.250980\" d=\"M345.35,-212.8C353.36,-201.95 363.77,-187.87 371.77,-177.05\"/>\n",
       "</g>\n",
       "<!-- Inventory -->\n",
       "<g id=\"node15\" class=\"node\">\n",
       "<title>Inventory</title>\n",
       "<g id=\"a_node15\"><a xlink:title=\"inventory_id         \r",
       "------------------------------\r",
       "→ Film\r",
       "→ Store\r",
       "last_update=&quot;current_timestamp()&quot; \r",
       "INDEX (store_id, film_id)\r",
       "\">\n",
       "<polygon fill=\"#00ff00\" fill-opacity=\"0.188235\" stroke=\"#00ff00\" stroke-opacity=\"0.188235\" points=\"258,-177 192,-177 192,-142 258,-142 258,-177\"/>\n",
       "<text text-anchor=\"start\" x=\"200\" y=\"-157.4\" font-family=\"arial\" text-decoration=\"underline\" font-size=\"12.00\" fill=\"darkgreen\">Inventory</text>\n",
       "</a>\n",
       "</g>\n",
       "</g>\n",
       "<!-- Store&#45;&gt;Inventory -->\n",
       "<g id=\"edge4\" class=\"edge\">\n",
       "<title>Store-&gt;Inventory</title>\n",
       "<path fill=\"none\" stroke=\"#000000\" stroke-width=\"0.75\" stroke-dasharray=\"5,2\" stroke-opacity=\"0.250980\" d=\"M310.36,-215.04C293.04,-203.97 269.14,-188.7 251.03,-177.13\"/>\n",
       "</g>\n",
       "<!-- Category -->\n",
       "<g id=\"node3\" class=\"node\">\n",
       "<title>Category</title>\n",
       "<g id=\"a_node3\"><a xlink:title=\"category_id          \r",
       "------------------------------\r",
       "name                 \r",
       "last_update=&quot;current_timestamp()&quot; \r",
       "\">\n",
       "<polygon fill=\"#00ff00\" fill-opacity=\"0.188235\" stroke=\"#00ff00\" stroke-opacity=\"0.188235\" points=\"76.5,-248 11.5,-248 11.5,-213 76.5,-213 76.5,-248\"/>\n",
       "<text text-anchor=\"start\" x=\"19.5\" y=\"-228.4\" font-family=\"arial\" text-decoration=\"underline\" font-size=\"12.00\" fill=\"darkgreen\">Category</text>\n",
       "</a>\n",
       "</g>\n",
       "</g>\n",
       "<!-- FilmCategory -->\n",
       "<g id=\"node4\" class=\"node\">\n",
       "<title>FilmCategory</title>\n",
       "<g id=\"a_node4\"><a xlink:title=\"→ Film\r",
       "→ Category\r",
       "------------------------------\r",
       "last_update=&quot;current_timestamp()&quot; \r",
       "\">\n",
       "<polygon fill=\"#00ff00\" fill-opacity=\"0.188235\" stroke=\"#00ff00\" stroke-opacity=\"0.188235\" points=\"88,-177 0,-177 0,-142 88,-142 88,-177\"/>\n",
       "<text text-anchor=\"middle\" x=\"44\" y=\"-156.4\" font-family=\"arial\" font-size=\"12.00\" fill=\"darkgreen\">FilmCategory</text>\n",
       "</a>\n",
       "</g>\n",
       "</g>\n",
       "<!-- Category&#45;&gt;FilmCategory -->\n",
       "<g id=\"edge5\" class=\"edge\">\n",
       "<title>Category-&gt;FilmCategory</title>\n",
       "<path fill=\"none\" stroke=\"#000000\" stroke-width=\"0.75\" stroke-opacity=\"0.250980\" d=\"M44,-212.8C44,-201.95 44,-187.87 44,-177.05\"/>\n",
       "</g>\n",
       "<!-- Payment -->\n",
       "<g id=\"node5\" class=\"node\">\n",
       "<title>Payment</title>\n",
       "<g id=\"a_node5\"><a xlink:title=\"payment_id           \r",
       "------------------------------\r",
       "→ Customer\r",
       "→ Staff\r",
       "→ [nullable] Rental\r",
       "amount               \r",
       "payment_date         \r",
       "last_update=&quot;current_timestamp()&quot; \r",
       "\">\n",
       "<polygon fill=\"#00ff00\" fill-opacity=\"0.188235\" stroke=\"#00ff00\" stroke-opacity=\"0.188235\" points=\"378,-35 314,-35 314,0 378,0 378,-35\"/>\n",
       "<text text-anchor=\"start\" x=\"322\" y=\"-15.4\" font-family=\"arial\" text-decoration=\"underline\" font-size=\"12.00\" fill=\"darkgreen\">Payment</text>\n",
       "</a>\n",
       "</g>\n",
       "</g>\n",
       "<!-- Address -->\n",
       "<g id=\"node6\" class=\"node\">\n",
       "<title>Address</title>\n",
       "<g id=\"a_node6\"><a xlink:title=\"address_id           \r",
       "------------------------------\r",
       "address              \r",
       "address2=null        \r",
       "district             \r",
       "→ City\r",
       "postal_code=null     \r",
       "phone                \r",
       "last_update=&quot;current_timestamp()&quot; \r",
       "\">\n",
       "<polygon fill=\"#00ff00\" fill-opacity=\"0.188235\" stroke=\"#00ff00\" stroke-opacity=\"0.188235\" points=\"363.5,-319 302.5,-319 302.5,-284 363.5,-284 363.5,-319\"/>\n",
       "<text text-anchor=\"start\" x=\"310.5\" y=\"-299.4\" font-family=\"arial\" text-decoration=\"underline\" font-size=\"12.00\" fill=\"darkgreen\">Address</text>\n",
       "</a>\n",
       "</g>\n",
       "</g>\n",
       "<!-- Address&#45;&gt;Store -->\n",
       "<g id=\"edge6\" class=\"edge\">\n",
       "<title>Address-&gt;Store</title>\n",
       "<path fill=\"none\" stroke=\"#000000\" stroke-width=\"0.75\" stroke-dasharray=\"5,2\" stroke-opacity=\"0.250980\" d=\"M333,-283.8C333,-272.95 333,-258.87 333,-248.05\"/>\n",
       "</g>\n",
       "<!-- Address&#45;&gt;Customer -->\n",
       "<g id=\"edge7\" class=\"edge\">\n",
       "<title>Address-&gt;Customer</title>\n",
       "<path fill=\"none\" stroke=\"#000000\" stroke-width=\"0.75\" stroke-dasharray=\"5,2\" stroke-opacity=\"0.250980\" d=\"M319.86,-283.59C313.08,-273.78 305.51,-260.87 302,-248 295.44,-223.99 300.88,-195.08 305.7,-177.25\"/>\n",
       "</g>\n",
       "<!-- Address&#45;&gt;Staff -->\n",
       "<g id=\"edge8\" class=\"edge\">\n",
       "<title>Address-&gt;Staff</title>\n",
       "<path fill=\"none\" stroke=\"#000000\" stroke-width=\"0.75\" stroke-dasharray=\"5,2\" stroke-opacity=\"0.250980\" d=\"M345.19,-283.76C351.92,-273.81 359.92,-260.69 365,-248 374.47,-224.33 379.6,-195.08 382.07,-177.11\"/>\n",
       "</g>\n",
       "<!-- Language -->\n",
       "<g id=\"node7\" class=\"node\">\n",
       "<title>Language</title>\n",
       "<g id=\"a_node7\"><a xlink:title=\"language_id          \r",
       "------------------------------\r",
       "name                 \r",
       "last_update=&quot;current_timestamp()&quot; \r",
       "\">\n",
       "<polygon fill=\"#00ff00\" fill-opacity=\"0.188235\" stroke=\"#00ff00\" stroke-opacity=\"0.188235\" points=\"163,-390 93,-390 93,-355 163,-355 163,-390\"/>\n",
       "<text text-anchor=\"start\" x=\"101\" y=\"-370.4\" font-family=\"arial\" text-decoration=\"underline\" font-size=\"12.00\" fill=\"darkgreen\">Language</text>\n",
       "</a>\n",
       "</g>\n",
       "</g>\n",
       "<!-- Language&#45;&gt;2 -->\n",
       "<g id=\"edge9\" class=\"edge\">\n",
       "<title>Language-&gt;2</title>\n",
       "<path fill=\"none\" stroke=\"#000000\" stroke-width=\"0.75\" stroke-dasharray=\"5,2\" stroke-opacity=\"0.250980\" d=\"M123.4,-354.8C118.48,-336.93 111.15,-310.29 109.39,-303.91\"/>\n",
       "</g>\n",
       "<!-- Language&#45;&gt;Film -->\n",
       "<g id=\"edge10\" class=\"edge\">\n",
       "<title>Language-&gt;Film</title>\n",
       "<path fill=\"none\" stroke=\"#000000\" stroke-width=\"0.75\" stroke-dasharray=\"5,2\" stroke-opacity=\"0.250980\" d=\"M127.88,-354.89C127.69,-327.95 127.31,-275.02 127.12,-248.09\"/>\n",
       "</g>\n",
       "<!-- Film&#45;&gt;FilmCategory -->\n",
       "<g id=\"edge11\" class=\"edge\">\n",
       "<title>Film-&gt;FilmCategory</title>\n",
       "<path fill=\"none\" stroke=\"#000000\" stroke-width=\"0.75\" stroke-opacity=\"0.250980\" d=\"M107.33,-213.15C94.29,-202.31 77.23,-188.13 64.11,-177.21\"/>\n",
       "</g>\n",
       "<!-- FilmActor -->\n",
       "<g id=\"node13\" class=\"node\">\n",
       "<title>FilmActor</title>\n",
       "<g id=\"a_node13\"><a xlink:title=\"→ Actor\r",
       "→ Film\r",
       "------------------------------\r",
       "last_update=&quot;current_timestamp()&quot; \r",
       "\">\n",
       "<polygon fill=\"#00ff00\" fill-opacity=\"0.188235\" stroke=\"#00ff00\" stroke-opacity=\"0.188235\" points=\"173.5,-177 106.5,-177 106.5,-142 173.5,-142 173.5,-177\"/>\n",
       "<text text-anchor=\"middle\" x=\"140\" y=\"-156.4\" font-family=\"arial\" font-size=\"12.00\" fill=\"darkgreen\">FilmActor</text>\n",
       "</a>\n",
       "</g>\n",
       "</g>\n",
       "<!-- Film&#45;&gt;FilmActor -->\n",
       "<g id=\"edge12\" class=\"edge\">\n",
       "<title>Film-&gt;FilmActor</title>\n",
       "<path fill=\"none\" stroke=\"#000000\" stroke-width=\"0.75\" stroke-opacity=\"0.250980\" d=\"M130.15,-212.8C132.19,-201.95 134.84,-187.87 136.88,-177.05\"/>\n",
       "</g>\n",
       "<!-- Film&#45;&gt;Inventory -->\n",
       "<g id=\"edge13\" class=\"edge\">\n",
       "<title>Film-&gt;Inventory</title>\n",
       "<path fill=\"none\" stroke=\"#000000\" stroke-width=\"0.75\" stroke-dasharray=\"5,2\" stroke-opacity=\"0.250980\" d=\"M146.83,-215.54C162.6,-204.43 184.72,-188.86 201.4,-177.12\"/>\n",
       "</g>\n",
       "<!-- Customer&#45;&gt;Payment -->\n",
       "<g id=\"edge14\" class=\"edge\">\n",
       "<title>Customer-&gt;Payment</title>\n",
       "<path fill=\"none\" stroke=\"#000000\" stroke-width=\"0.75\" stroke-dasharray=\"5,2\" stroke-opacity=\"0.250980\" d=\"M316.54,-141.58C319.8,-131.34 323.88,-117.99 327,-106 333.39,-81.48 339.34,-52.71 342.83,-35.04\"/>\n",
       "</g>\n",
       "<!-- Rental -->\n",
       "<g id=\"node14\" class=\"node\">\n",
       "<title>Rental</title>\n",
       "<g id=\"a_node14\"><a xlink:title=\"rental_id            \r",
       "------------------------------\r",
       "rental_date          \r",
       "→ Inventory\r",
       "→ Customer\r",
       "return_date=null     \r",
       "→ Staff\r",
       "last_update=&quot;current_timestamp()&quot; \r",
       "UNIQUE INDEX (rental_date, inventory_id, customer_id)\r",
       "\">\n",
       "<polygon fill=\"#00ff00\" fill-opacity=\"0.188235\" stroke=\"#00ff00\" stroke-opacity=\"0.188235\" points=\"317.5,-106 266.5,-106 266.5,-71 317.5,-71 317.5,-106\"/>\n",
       "<text text-anchor=\"start\" x=\"274.5\" y=\"-86.4\" font-family=\"arial\" text-decoration=\"underline\" font-size=\"12.00\" fill=\"darkgreen\">Rental</text>\n",
       "</a>\n",
       "</g>\n",
       "</g>\n",
       "<!-- Customer&#45;&gt;Rental -->\n",
       "<g id=\"edge15\" class=\"edge\">\n",
       "<title>Customer-&gt;Rental</title>\n",
       "<path fill=\"none\" stroke=\"#000000\" stroke-width=\"0.75\" stroke-dasharray=\"5,2\" stroke-opacity=\"0.250980\" d=\"M306.4,-141.8C303.41,-130.95 299.54,-116.87 296.56,-106.05\"/>\n",
       "</g>\n",
       "<!-- Country -->\n",
       "<g id=\"node10\" class=\"node\">\n",
       "<title>Country</title>\n",
       "<g id=\"a_node10\"><a xlink:title=\"country_id           \r",
       "------------------------------\r",
       "country              \r",
       "last_update=&quot;current_timestamp()&quot; \r",
       "\">\n",
       "<polygon fill=\"#00ff00\" fill-opacity=\"0.188235\" stroke=\"#00ff00\" stroke-opacity=\"0.188235\" points=\"362.5,-461 303.5,-461 303.5,-426 362.5,-426 362.5,-461\"/>\n",
       "<text text-anchor=\"start\" x=\"311.5\" y=\"-441.4\" font-family=\"arial\" text-decoration=\"underline\" font-size=\"12.00\" fill=\"darkgreen\">Country</text>\n",
       "</a>\n",
       "</g>\n",
       "</g>\n",
       "<!-- City -->\n",
       "<g id=\"node11\" class=\"node\">\n",
       "<title>City</title>\n",
       "<g id=\"a_node11\"><a xlink:title=\"city_id              \r",
       "------------------------------\r",
       "city                 \r",
       "→ Country\r",
       "last_update=&quot;current_timestamp()&quot; \r",
       "\">\n",
       "<polygon fill=\"#00ff00\" fill-opacity=\"0.188235\" stroke=\"#00ff00\" stroke-opacity=\"0.188235\" points=\"351.5,-390 314.5,-390 314.5,-355 351.5,-355 351.5,-390\"/>\n",
       "<text text-anchor=\"start\" x=\"322.5\" y=\"-370.4\" font-family=\"arial\" text-decoration=\"underline\" font-size=\"12.00\" fill=\"darkgreen\">City</text>\n",
       "</a>\n",
       "</g>\n",
       "</g>\n",
       "<!-- Country&#45;&gt;City -->\n",
       "<g id=\"edge16\" class=\"edge\">\n",
       "<title>Country-&gt;City</title>\n",
       "<path fill=\"none\" stroke=\"#000000\" stroke-width=\"0.75\" stroke-dasharray=\"5,2\" stroke-opacity=\"0.250980\" d=\"M333,-425.8C333,-414.95 333,-400.87 333,-390.05\"/>\n",
       "</g>\n",
       "<!-- City&#45;&gt;Address -->\n",
       "<g id=\"edge17\" class=\"edge\">\n",
       "<title>City-&gt;Address</title>\n",
       "<path fill=\"none\" stroke=\"#000000\" stroke-width=\"0.75\" stroke-dasharray=\"5,2\" stroke-opacity=\"0.250980\" d=\"M333,-354.8C333,-343.95 333,-329.87 333,-319.05\"/>\n",
       "</g>\n",
       "<!-- Staff&#45;&gt;Payment -->\n",
       "<g id=\"edge18\" class=\"edge\">\n",
       "<title>Staff-&gt;Payment</title>\n",
       "<path fill=\"none\" stroke=\"#000000\" stroke-width=\"0.75\" stroke-dasharray=\"5,2\" stroke-opacity=\"0.250980\" d=\"M379.49,-141.89C372.18,-114.95 357.81,-62.02 350.5,-35.09\"/>\n",
       "</g>\n",
       "<!-- Staff&#45;&gt;Rental -->\n",
       "<g id=\"edge19\" class=\"edge\">\n",
       "<title>Staff-&gt;Rental</title>\n",
       "<path fill=\"none\" stroke=\"#000000\" stroke-width=\"0.75\" stroke-dasharray=\"5,2\" stroke-opacity=\"0.250980\" d=\"M363.12,-142.84C348.49,-131.87 328.97,-117.23 314.08,-106.06\"/>\n",
       "</g>\n",
       "<!-- Rental&#45;&gt;Payment -->\n",
       "<g id=\"edge20\" class=\"edge\">\n",
       "<title>Rental-&gt;Payment</title>\n",
       "<path fill=\"none\" stroke=\"#000000\" stroke-width=\"0.75\" stroke-dasharray=\"5,2\" stroke-opacity=\"0.250980\" d=\"M305.07,-70.8C313.56,-59.95 324.58,-45.87 333.05,-35.05\"/>\n",
       "</g>\n",
       "<!-- Inventory&#45;&gt;Rental -->\n",
       "<g id=\"edge21\" class=\"edge\">\n",
       "<title>Inventory-&gt;Rental</title>\n",
       "<path fill=\"none\" stroke=\"#000000\" stroke-width=\"0.75\" stroke-dasharray=\"5,2\" stroke-opacity=\"0.250980\" d=\"M241.22,-141.8C251.75,-130.95 265.43,-116.87 275.93,-106.05\"/>\n",
       "</g>\n",
       "<!-- Actor -->\n",
       "<g id=\"node16\" class=\"node\">\n",
       "<title>Actor</title>\n",
       "<g id=\"a_node16\"><a xlink:title=\"actor_id             \r",
       "------------------------------\r",
       "first_name           \r",
       "last_name            \r",
       "last_update=&quot;current_timestamp()&quot; \r",
       "INDEX (last_name)\r",
       "\">\n",
       "<polygon fill=\"#00ff00\" fill-opacity=\"0.188235\" stroke=\"#00ff00\" stroke-opacity=\"0.188235\" points=\"209.5,-248 164.5,-248 164.5,-213 209.5,-213 209.5,-248\"/>\n",
       "<text text-anchor=\"start\" x=\"172.5\" y=\"-228.4\" font-family=\"arial\" text-decoration=\"underline\" font-size=\"12.00\" fill=\"darkgreen\">Actor</text>\n",
       "</a>\n",
       "</g>\n",
       "</g>\n",
       "<!-- Actor&#45;&gt;FilmActor -->\n",
       "<g id=\"edge22\" class=\"edge\">\n",
       "<title>Actor-&gt;FilmActor</title>\n",
       "<path fill=\"none\" stroke=\"#000000\" stroke-width=\"0.75\" stroke-opacity=\"0.250980\" d=\"M175.62,-212.8C168.23,-201.95 158.64,-187.87 151.27,-177.05\"/>\n",
       "</g>\n",
       "</g>\n",
       "</svg>"
      ],
      "text/plain": [
       "<datajoint.diagram.Diagram at 0x13cf85400>"
      ]
     },
     "execution_count": 6,
     "metadata": {},
     "output_type": "execute_result"
    }
   ],
   "source": [
    "dj.Diagram(schema)"
   ]
  },
  {
   "cell_type": "code",
   "execution_count": 7,
   "id": "725290f9",
   "metadata": {},
   "outputs": [
    {
     "data": {
      "text/plain": [
       "<pymysql.cursors.Cursor at 0x13d1dac70>"
      ]
     },
     "execution_count": 7,
     "metadata": {},
     "output_type": "execute_result"
    }
   ],
   "source": [
    "dj.conn().query(\"\"\"\n",
    "ALTER TABLE shared_sakila.store \n",
    "    ADD FOREIGN KEY `fk_store_staff` (`manager_staff_id`) REFERENCES `staff`(`staff_id`);\n",
    "\"\"\")"
   ]
  },
  {
   "cell_type": "code",
   "execution_count": 8,
   "id": "0e077d49",
   "metadata": {},
   "outputs": [
    {
     "ename": "DataJointError",
     "evalue": "DataJoint can only work with acyclic dependencies",
     "output_type": "error",
     "traceback": [
      "\u001b[0;31m---------------------------------------------------------------------------\u001b[0m",
      "\u001b[0;31mDataJointError\u001b[0m                            Traceback (most recent call last)",
      "\u001b[0;32m<ipython-input-8-0e3efa14dd39>\u001b[0m in \u001b[0;36m<module>\u001b[0;34m\u001b[0m\n\u001b[0;32m----> 1\u001b[0;31m \u001b[0mdj\u001b[0m\u001b[0;34m.\u001b[0m\u001b[0mDiagram\u001b[0m\u001b[0;34m(\u001b[0m\u001b[0mschema\u001b[0m\u001b[0;34m)\u001b[0m\u001b[0;34m\u001b[0m\u001b[0;34m\u001b[0m\u001b[0m\n\u001b[0m",
      "\u001b[0;32m~/dev/datajoint-python/datajoint/diagram.py\u001b[0m in \u001b[0;36m__init__\u001b[0;34m(self, source, context)\u001b[0m\n\u001b[1;32m    109\u001b[0m \u001b[0;34m\u001b[0m\u001b[0m\n\u001b[1;32m    110\u001b[0m             \u001b[0;31m# initialize graph from dependencies\u001b[0m\u001b[0;34m\u001b[0m\u001b[0;34m\u001b[0m\u001b[0m\n\u001b[0;32m--> 111\u001b[0;31m             \u001b[0mconnection\u001b[0m\u001b[0;34m.\u001b[0m\u001b[0mdependencies\u001b[0m\u001b[0;34m.\u001b[0m\u001b[0mload\u001b[0m\u001b[0;34m(\u001b[0m\u001b[0;34m)\u001b[0m\u001b[0;34m\u001b[0m\u001b[0;34m\u001b[0m\u001b[0m\n\u001b[0m\u001b[1;32m    112\u001b[0m             \u001b[0msuper\u001b[0m\u001b[0;34m(\u001b[0m\u001b[0;34m)\u001b[0m\u001b[0;34m.\u001b[0m\u001b[0m__init__\u001b[0m\u001b[0;34m(\u001b[0m\u001b[0mconnection\u001b[0m\u001b[0;34m.\u001b[0m\u001b[0mdependencies\u001b[0m\u001b[0;34m)\u001b[0m\u001b[0;34m\u001b[0m\u001b[0;34m\u001b[0m\u001b[0m\n\u001b[1;32m    113\u001b[0m \u001b[0;34m\u001b[0m\u001b[0m\n",
      "\u001b[0;32m~/dev/datajoint-python/datajoint/dependencies.py\u001b[0m in \u001b[0;36mload\u001b[0;34m(self, force)\u001b[0m\n\u001b[1;32m    111\u001b[0m \u001b[0;34m\u001b[0m\u001b[0m\n\u001b[1;32m    112\u001b[0m         \u001b[0;32mif\u001b[0m \u001b[0;32mnot\u001b[0m \u001b[0mnx\u001b[0m\u001b[0;34m.\u001b[0m\u001b[0mis_directed_acyclic_graph\u001b[0m\u001b[0;34m(\u001b[0m\u001b[0mself\u001b[0m\u001b[0;34m)\u001b[0m\u001b[0;34m:\u001b[0m  \u001b[0;31m# pragma: no cover\u001b[0m\u001b[0;34m\u001b[0m\u001b[0;34m\u001b[0m\u001b[0m\n\u001b[0;32m--> 113\u001b[0;31m             \u001b[0;32mraise\u001b[0m \u001b[0mDataJointError\u001b[0m\u001b[0;34m(\u001b[0m\u001b[0;34m'DataJoint can only work with acyclic dependencies'\u001b[0m\u001b[0;34m)\u001b[0m\u001b[0;34m\u001b[0m\u001b[0;34m\u001b[0m\u001b[0m\n\u001b[0m\u001b[1;32m    114\u001b[0m         \u001b[0mself\u001b[0m\u001b[0;34m.\u001b[0m\u001b[0m_loaded\u001b[0m \u001b[0;34m=\u001b[0m \u001b[0;32mTrue\u001b[0m\u001b[0;34m\u001b[0m\u001b[0;34m\u001b[0m\u001b[0m\n\u001b[1;32m    115\u001b[0m \u001b[0;34m\u001b[0m\u001b[0m\n",
      "\u001b[0;31mDataJointError\u001b[0m: DataJoint can only work with acyclic dependencies"
     ]
    }
   ],
   "source": [
    "dj.Diagram(schema)"
   ]
  },
  {
   "cell_type": "code",
   "execution_count": null,
   "id": "3582245f",
   "metadata": {},
   "outputs": [],
   "source": [
    "@schema\n",
    "class StoreManager(dj.Manual):\n",
    "    definition = \"\"\"\n",
    "    -> Store\n",
    "    ---\n",
    "    -> Staff\n",
    "    \"\"\""
   ]
  },
  {
   "cell_type": "code",
   "execution_count": null,
   "id": "97723a14",
   "metadata": {},
   "outputs": [],
   "source": [
    "FilmText.drop()"
   ]
  },
  {
   "cell_type": "code",
   "execution_count": null,
   "id": "6085187d",
   "metadata": {},
   "outputs": [],
   "source": [
    "dj.conn().query(\"\"\"\n",
    "ALTER TABLE shared_sakila.inventory \n",
    "    ADD FOREIGN KEY (`film_id`) REFERENCES `shared_sakila`.`film_text`(`film_id`);\n",
    "\"\"\")"
   ]
  },
  {
   "cell_type": "markdown",
   "id": "15873c82",
   "metadata": {},
   "source": [
    "## Virtual module"
   ]
  },
  {
   "cell_type": "code",
   "execution_count": 9,
   "id": "1d2bf5cf",
   "metadata": {},
   "outputs": [],
   "source": [
    "import datajoint as dj"
   ]
  },
  {
   "cell_type": "code",
   "execution_count": 10,
   "id": "68831c0f",
   "metadata": {},
   "outputs": [],
   "source": [
    "sakila = dj.VirtualModule('sakila', 'shared_sakila')"
   ]
  },
  {
   "cell_type": "code",
   "execution_count": 11,
   "id": "3fc2d749",
   "metadata": {},
   "outputs": [
    {
     "data": {
      "text/plain": [
       "<module 'sakila'>"
      ]
     },
     "execution_count": 11,
     "metadata": {},
     "output_type": "execute_result"
    }
   ],
   "source": [
    "sakila"
   ]
  },
  {
   "cell_type": "code",
   "execution_count": 12,
   "id": "248b8b21",
   "metadata": {},
   "outputs": [
    {
     "data": {
      "text/plain": [
       "['Actor',\n",
       " 'Address',\n",
       " 'Category',\n",
       " 'City',\n",
       " 'Country',\n",
       " 'Customer',\n",
       " 'Film',\n",
       " 'FilmActor',\n",
       " 'FilmCategory',\n",
       " 'Inventory',\n",
       " 'Language',\n",
       " 'Payment',\n",
       " 'Rental',\n",
       " 'Staff',\n",
       " 'Store',\n",
       " '__doc__',\n",
       " '__loader__',\n",
       " '__name__',\n",
       " '__package__',\n",
       " '__spec__',\n",
       " 'schema']"
      ]
     },
     "execution_count": 12,
     "metadata": {},
     "output_type": "execute_result"
    }
   ],
   "source": [
    "dir(sakila)"
   ]
  },
  {
   "cell_type": "code",
   "execution_count": 13,
   "id": "c59e9d4c",
   "metadata": {},
   "outputs": [
    {
     "ename": "DataJointError",
     "evalue": "DataJoint can only work with acyclic dependencies",
     "output_type": "error",
     "traceback": [
      "\u001b[0;31m---------------------------------------------------------------------------\u001b[0m",
      "\u001b[0;31mDataJointError\u001b[0m                            Traceback (most recent call last)",
      "\u001b[0;32m<ipython-input-13-e1eb2422a9e0>\u001b[0m in \u001b[0;36m<module>\u001b[0;34m\u001b[0m\n\u001b[0;32m----> 1\u001b[0;31m \u001b[0mdj\u001b[0m\u001b[0;34m.\u001b[0m\u001b[0mDiagram\u001b[0m\u001b[0;34m(\u001b[0m\u001b[0msakila\u001b[0m\u001b[0;34m)\u001b[0m\u001b[0;34m\u001b[0m\u001b[0;34m\u001b[0m\u001b[0m\n\u001b[0m",
      "\u001b[0;32m~/dev/datajoint-python/datajoint/diagram.py\u001b[0m in \u001b[0;36m__init__\u001b[0;34m(self, source, context)\u001b[0m\n\u001b[1;32m    109\u001b[0m \u001b[0;34m\u001b[0m\u001b[0m\n\u001b[1;32m    110\u001b[0m             \u001b[0;31m# initialize graph from dependencies\u001b[0m\u001b[0;34m\u001b[0m\u001b[0;34m\u001b[0m\u001b[0m\n\u001b[0;32m--> 111\u001b[0;31m             \u001b[0mconnection\u001b[0m\u001b[0;34m.\u001b[0m\u001b[0mdependencies\u001b[0m\u001b[0;34m.\u001b[0m\u001b[0mload\u001b[0m\u001b[0;34m(\u001b[0m\u001b[0;34m)\u001b[0m\u001b[0;34m\u001b[0m\u001b[0;34m\u001b[0m\u001b[0m\n\u001b[0m\u001b[1;32m    112\u001b[0m             \u001b[0msuper\u001b[0m\u001b[0;34m(\u001b[0m\u001b[0;34m)\u001b[0m\u001b[0;34m.\u001b[0m\u001b[0m__init__\u001b[0m\u001b[0;34m(\u001b[0m\u001b[0mconnection\u001b[0m\u001b[0;34m.\u001b[0m\u001b[0mdependencies\u001b[0m\u001b[0;34m)\u001b[0m\u001b[0;34m\u001b[0m\u001b[0;34m\u001b[0m\u001b[0m\n\u001b[1;32m    113\u001b[0m \u001b[0;34m\u001b[0m\u001b[0m\n",
      "\u001b[0;32m~/dev/datajoint-python/datajoint/dependencies.py\u001b[0m in \u001b[0;36mload\u001b[0;34m(self, force)\u001b[0m\n\u001b[1;32m    111\u001b[0m \u001b[0;34m\u001b[0m\u001b[0m\n\u001b[1;32m    112\u001b[0m         \u001b[0;32mif\u001b[0m \u001b[0;32mnot\u001b[0m \u001b[0mnx\u001b[0m\u001b[0;34m.\u001b[0m\u001b[0mis_directed_acyclic_graph\u001b[0m\u001b[0;34m(\u001b[0m\u001b[0mself\u001b[0m\u001b[0;34m)\u001b[0m\u001b[0;34m:\u001b[0m  \u001b[0;31m# pragma: no cover\u001b[0m\u001b[0;34m\u001b[0m\u001b[0;34m\u001b[0m\u001b[0m\n\u001b[0;32m--> 113\u001b[0;31m             \u001b[0;32mraise\u001b[0m \u001b[0mDataJointError\u001b[0m\u001b[0;34m(\u001b[0m\u001b[0;34m'DataJoint can only work with acyclic dependencies'\u001b[0m\u001b[0;34m)\u001b[0m\u001b[0;34m\u001b[0m\u001b[0;34m\u001b[0m\u001b[0m\n\u001b[0m\u001b[1;32m    114\u001b[0m         \u001b[0mself\u001b[0m\u001b[0;34m.\u001b[0m\u001b[0m_loaded\u001b[0m \u001b[0;34m=\u001b[0m \u001b[0;32mTrue\u001b[0m\u001b[0;34m\u001b[0m\u001b[0;34m\u001b[0m\u001b[0m\n\u001b[1;32m    115\u001b[0m \u001b[0;34m\u001b[0m\u001b[0m\n",
      "\u001b[0;31mDataJointError\u001b[0m: DataJoint can only work with acyclic dependencies"
     ]
    }
   ],
   "source": [
    "dj.Diagram(sakila)"
   ]
  },
  {
   "cell_type": "code",
   "execution_count": 14,
   "id": "c82a47de",
   "metadata": {},
   "outputs": [
    {
     "ename": "DataJointError",
     "evalue": "DataJoint can only work with acyclic dependencies",
     "output_type": "error",
     "traceback": [
      "\u001b[0;31m---------------------------------------------------------------------------\u001b[0m",
      "\u001b[0;31mDataJointError\u001b[0m                            Traceback (most recent call last)",
      "\u001b[0;32m<ipython-input-14-075ec3a8a1d0>\u001b[0m in \u001b[0;36m<module>\u001b[0;34m\u001b[0m\n\u001b[0;32m----> 1\u001b[0;31m \u001b[0msakila\u001b[0m\u001b[0;34m.\u001b[0m\u001b[0mschema\u001b[0m\u001b[0;34m.\u001b[0m\u001b[0msave\u001b[0m\u001b[0;34m(\u001b[0m\u001b[0;34m'sakila.py'\u001b[0m\u001b[0;34m)\u001b[0m\u001b[0;34m\u001b[0m\u001b[0;34m\u001b[0m\u001b[0m\n\u001b[0m",
      "\u001b[0;32m~/dev/datajoint-python/datajoint/schemas.py\u001b[0m in \u001b[0;36msave\u001b[0;34m(self, python_filename)\u001b[0m\n\u001b[1;32m    355\u001b[0m                                 ).replace('\\n', '\\n    ' + indent))\n\u001b[1;32m    356\u001b[0m \u001b[0;34m\u001b[0m\u001b[0m\n\u001b[0;32m--> 357\u001b[0;31m         \u001b[0mdiagram\u001b[0m \u001b[0;34m=\u001b[0m \u001b[0mDiagram\u001b[0m\u001b[0;34m(\u001b[0m\u001b[0mself\u001b[0m\u001b[0;34m)\u001b[0m\u001b[0;34m\u001b[0m\u001b[0;34m\u001b[0m\u001b[0m\n\u001b[0m\u001b[1;32m    358\u001b[0m         \u001b[0mbody\u001b[0m \u001b[0;34m=\u001b[0m \u001b[0;34m'\\n\\n'\u001b[0m\u001b[0;34m.\u001b[0m\u001b[0mjoin\u001b[0m\u001b[0;34m(\u001b[0m\u001b[0mmake_class_definition\u001b[0m\u001b[0;34m(\u001b[0m\u001b[0mtable\u001b[0m\u001b[0;34m)\u001b[0m \u001b[0;32mfor\u001b[0m \u001b[0mtable\u001b[0m \u001b[0;32min\u001b[0m \u001b[0mdiagram\u001b[0m\u001b[0;34m.\u001b[0m\u001b[0mtopological_sort\u001b[0m\u001b[0;34m(\u001b[0m\u001b[0;34m)\u001b[0m\u001b[0;34m)\u001b[0m\u001b[0;34m\u001b[0m\u001b[0;34m\u001b[0m\u001b[0m\n\u001b[1;32m    359\u001b[0m         python_code = '\\n\\n'.join((\n",
      "\u001b[0;32m~/dev/datajoint-python/datajoint/diagram.py\u001b[0m in \u001b[0;36m__init__\u001b[0;34m(self, source, context)\u001b[0m\n\u001b[1;32m    109\u001b[0m \u001b[0;34m\u001b[0m\u001b[0m\n\u001b[1;32m    110\u001b[0m             \u001b[0;31m# initialize graph from dependencies\u001b[0m\u001b[0;34m\u001b[0m\u001b[0;34m\u001b[0m\u001b[0m\n\u001b[0;32m--> 111\u001b[0;31m             \u001b[0mconnection\u001b[0m\u001b[0;34m.\u001b[0m\u001b[0mdependencies\u001b[0m\u001b[0;34m.\u001b[0m\u001b[0mload\u001b[0m\u001b[0;34m(\u001b[0m\u001b[0;34m)\u001b[0m\u001b[0;34m\u001b[0m\u001b[0;34m\u001b[0m\u001b[0m\n\u001b[0m\u001b[1;32m    112\u001b[0m             \u001b[0msuper\u001b[0m\u001b[0;34m(\u001b[0m\u001b[0;34m)\u001b[0m\u001b[0;34m.\u001b[0m\u001b[0m__init__\u001b[0m\u001b[0;34m(\u001b[0m\u001b[0mconnection\u001b[0m\u001b[0;34m.\u001b[0m\u001b[0mdependencies\u001b[0m\u001b[0;34m)\u001b[0m\u001b[0;34m\u001b[0m\u001b[0;34m\u001b[0m\u001b[0m\n\u001b[1;32m    113\u001b[0m \u001b[0;34m\u001b[0m\u001b[0m\n",
      "\u001b[0;32m~/dev/datajoint-python/datajoint/dependencies.py\u001b[0m in \u001b[0;36mload\u001b[0;34m(self, force)\u001b[0m\n\u001b[1;32m    111\u001b[0m \u001b[0;34m\u001b[0m\u001b[0m\n\u001b[1;32m    112\u001b[0m         \u001b[0;32mif\u001b[0m \u001b[0;32mnot\u001b[0m \u001b[0mnx\u001b[0m\u001b[0;34m.\u001b[0m\u001b[0mis_directed_acyclic_graph\u001b[0m\u001b[0;34m(\u001b[0m\u001b[0mself\u001b[0m\u001b[0;34m)\u001b[0m\u001b[0;34m:\u001b[0m  \u001b[0;31m# pragma: no cover\u001b[0m\u001b[0;34m\u001b[0m\u001b[0;34m\u001b[0m\u001b[0m\n\u001b[0;32m--> 113\u001b[0;31m             \u001b[0;32mraise\u001b[0m \u001b[0mDataJointError\u001b[0m\u001b[0;34m(\u001b[0m\u001b[0;34m'DataJoint can only work with acyclic dependencies'\u001b[0m\u001b[0;34m)\u001b[0m\u001b[0;34m\u001b[0m\u001b[0;34m\u001b[0m\u001b[0m\n\u001b[0m\u001b[1;32m    114\u001b[0m         \u001b[0mself\u001b[0m\u001b[0;34m.\u001b[0m\u001b[0m_loaded\u001b[0m \u001b[0;34m=\u001b[0m \u001b[0;32mTrue\u001b[0m\u001b[0;34m\u001b[0m\u001b[0;34m\u001b[0m\u001b[0m\n\u001b[1;32m    115\u001b[0m \u001b[0;34m\u001b[0m\u001b[0m\n",
      "\u001b[0;31mDataJointError\u001b[0m: DataJoint can only work with acyclic dependencies"
     ]
    }
   ],
   "source": [
    "sakila.schema.save('sakila.py')"
   ]
  },
  {
   "cell_type": "code",
   "execution_count": null,
   "id": "540d965e",
   "metadata": {},
   "outputs": [],
   "source": [
    "print(dj.conn().query('SHOW CREATE TABLE shared_sakila.store').fetchone()[1])"
   ]
  },
  {
   "cell_type": "code",
   "execution_count": 26,
   "id": "8042d991",
   "metadata": {},
   "outputs": [
    {
     "data": {
      "text/html": [
       "\n",
       "    \n",
       "    <style type=\"text/css\">\n",
       "        .Relation{\n",
       "            border-collapse:collapse;\n",
       "        }\n",
       "        .Relation th{\n",
       "            background: #A0A0A0; color: #ffffff; padding:4px; border:#f0e0e0 1px solid;\n",
       "            font-weight: normal; font-family: monospace; font-size: 100%;\n",
       "        }\n",
       "        .Relation td{\n",
       "            padding:4px; border:#f0e0e0 1px solid; font-size:100%;\n",
       "        }\n",
       "        .Relation tr:nth-child(odd){\n",
       "            background: #ffffff;\n",
       "        }\n",
       "        .Relation tr:nth-child(even){\n",
       "            background: #f3f1ff;\n",
       "        }\n",
       "        /* Tooltip container */\n",
       "        .djtooltip {\n",
       "        }\n",
       "        /* Tooltip text */\n",
       "        .djtooltip .djtooltiptext {\n",
       "            visibility: hidden;\n",
       "            width: 120px;\n",
       "            background-color: black;\n",
       "            color: #fff;\n",
       "            text-align: center;\n",
       "            padding: 5px 0;\n",
       "            border-radius: 6px;\n",
       "            /* Position the tooltip text - see examples below! */\n",
       "            position: absolute;\n",
       "            z-index: 1;\n",
       "        }\n",
       "        #primary {\n",
       "            font-weight: bold;\n",
       "            color: black;\n",
       "        }\n",
       "        #nonprimary {\n",
       "            font-weight: normal;\n",
       "            color: white;\n",
       "        }\n",
       "\n",
       "        /* Show the tooltip text when you mouse over the tooltip container */\n",
       "        .djtooltip:hover .djtooltiptext {\n",
       "            visibility: visible;\n",
       "        }\n",
       "    </style>\n",
       "    \n",
       "    \n",
       "        <div style=\"max-height:1000px;max-width:1500px;overflow:auto;\">\n",
       "        <table border=\"1\" class=\"Relation\">\n",
       "            <thead> <tr style=\"text-align: right;\"> <th> <div class=\"djtooltip\">\n",
       "                            <p id=\"primary\">store_id</p>\n",
       "                            <span class=\"djtooltiptext\"></span>\n",
       "                        </div></th><th><div class=\"djtooltip\">\n",
       "                            <p id=\"nonprimary\">total</p>\n",
       "                            <span class=\"djtooltiptext\">calculated attribute</span>\n",
       "                        </div> </th> </tr> </thead>\n",
       "            <tbody> <tr> <td>1</td>\n",
       "<td>67416.51</td></tr><tr><td>2</td>\n",
       "<td>67416.51</td> </tr> </tbody>\n",
       "        </table>\n",
       "        \n",
       "        <p>Total: 2</p></div>\n",
       "        "
      ],
      "text/plain": [
       "*store_id    total       \n",
       "+----------+ +----------+\n",
       "1            67416.51    \n",
       "2            67416.51    \n",
       " (Total: 2)"
      ]
     },
     "execution_count": 26,
     "metadata": {},
     "output_type": "execute_result"
    }
   ],
   "source": [
    "(Store).aggr(Payment.proj(..., q='last_update'), total='sum(amount)')"
   ]
  },
  {
   "cell_type": "code",
   "execution_count": 29,
   "id": "210fa38c",
   "metadata": {},
   "outputs": [
    {
     "data": {
      "text/html": [
       "\n",
       "    \n",
       "    <style type=\"text/css\">\n",
       "        .Relation{\n",
       "            border-collapse:collapse;\n",
       "        }\n",
       "        .Relation th{\n",
       "            background: #A0A0A0; color: #ffffff; padding:4px; border:#f0e0e0 1px solid;\n",
       "            font-weight: normal; font-family: monospace; font-size: 100%;\n",
       "        }\n",
       "        .Relation td{\n",
       "            padding:4px; border:#f0e0e0 1px solid; font-size:100%;\n",
       "        }\n",
       "        .Relation tr:nth-child(odd){\n",
       "            background: #ffffff;\n",
       "        }\n",
       "        .Relation tr:nth-child(even){\n",
       "            background: #f3f1ff;\n",
       "        }\n",
       "        /* Tooltip container */\n",
       "        .djtooltip {\n",
       "        }\n",
       "        /* Tooltip text */\n",
       "        .djtooltip .djtooltiptext {\n",
       "            visibility: hidden;\n",
       "            width: 120px;\n",
       "            background-color: black;\n",
       "            color: #fff;\n",
       "            text-align: center;\n",
       "            padding: 5px 0;\n",
       "            border-radius: 6px;\n",
       "            /* Position the tooltip text - see examples below! */\n",
       "            position: absolute;\n",
       "            z-index: 1;\n",
       "        }\n",
       "        #primary {\n",
       "            font-weight: bold;\n",
       "            color: black;\n",
       "        }\n",
       "        #nonprimary {\n",
       "            font-weight: normal;\n",
       "            color: white;\n",
       "        }\n",
       "\n",
       "        /* Show the tooltip text when you mouse over the tooltip container */\n",
       "        .djtooltip:hover .djtooltiptext {\n",
       "            visibility: visible;\n",
       "        }\n",
       "    </style>\n",
       "    \n",
       "    \n",
       "        <div style=\"max-height:1000px;max-width:1500px;overflow:auto;\">\n",
       "        <table border=\"1\" class=\"Relation\">\n",
       "            <thead> <tr style=\"text-align: right;\"> <th> <div class=\"djtooltip\">\n",
       "                            <p id=\"primary\">inventory_id</p>\n",
       "                            <span class=\"djtooltiptext\"></span>\n",
       "                        </div></th><th><div class=\"djtooltip\">\n",
       "                            <p id=\"nonprimary\">n</p>\n",
       "                            <span class=\"djtooltiptext\">calculated attribute</span>\n",
       "                        </div> </th> </tr> </thead>\n",
       "            <tbody> <tr> <td>1</td>\n",
       "<td>3</td></tr><tr><td>2</td>\n",
       "<td>5</td></tr><tr><td>3</td>\n",
       "<td>2</td></tr><tr><td>4</td>\n",
       "<td>2</td></tr><tr><td>6</td>\n",
       "<td>5</td></tr><tr><td>7</td>\n",
       "<td>4</td></tr><tr><td>8</td>\n",
       "<td>2</td></tr><tr><td>9</td>\n",
       "<td>2</td></tr><tr><td>10</td>\n",
       "<td>3</td></tr><tr><td>11</td>\n",
       "<td>2</td></tr><tr><td>12</td>\n",
       "<td>2</td></tr><tr><td>13</td>\n",
       "<td>2</td> </tr> </tbody>\n",
       "        </table>\n",
       "        <p>...</p>\n",
       "        <p>Total: 4580</p></div>\n",
       "        "
      ],
      "text/plain": [
       "*inventory_id  n    \n",
       "+------------+ +---+\n",
       "1              3    \n",
       "2              5    \n",
       "3              2    \n",
       "4              2    \n",
       "6              5    \n",
       "7              4    \n",
       "8              2    \n",
       "9              2    \n",
       "10             3    \n",
       "11             2    \n",
       "12             2    \n",
       "13             2    \n",
       "   ...\n",
       " (Total: 4580)"
      ]
     },
     "execution_count": 29,
     "metadata": {},
     "output_type": "execute_result"
    }
   ],
   "source": [
    "(Inventory().proj()).aggr(Rental, n='count(*)' )"
   ]
  },
  {
   "cell_type": "code",
   "execution_count": null,
   "id": "b4b29c98",
   "metadata": {},
   "outputs": [],
   "source": [
    "(Store & store )"
   ]
  },
  {
   "cell_type": "code",
   "execution_count": null,
   "id": "f0b5086b",
   "metadata": {},
   "outputs": [],
   "source": [
    "dj.Diagram(schema)"
   ]
  },
  {
   "cell_type": "code",
   "execution_count": null,
   "id": "ac8b73ee",
   "metadata": {},
   "outputs": [],
   "source": [
    "Staff.proj(seller='concat(first_name, \" \", last_name)') * Rental.proj(..., '-last_update')"
   ]
  },
  {
   "cell_type": "code",
   "execution_count": null,
   "id": "c2a9179a",
   "metadata": {},
   "outputs": [],
   "source": [
    "Rental()"
   ]
  },
  {
   "cell_type": "code",
   "execution_count": null,
   "id": "6701e078",
   "metadata": {},
   "outputs": [],
   "source": [
    "Film.describe();"
   ]
  },
  {
   "cell_type": "code",
   "execution_count": null,
   "id": "cc5d82e7",
   "metadata": {},
   "outputs": [],
   "source": [
    "Film()"
   ]
  },
  {
   "cell_type": "code",
   "execution_count": null,
   "id": "c5c8ec18",
   "metadata": {},
   "outputs": [],
   "source": [
    "Film & 'original_language_id is not NULL'"
   ]
  },
  {
   "cell_type": "code",
   "execution_count": null,
   "id": "2dbb67c5",
   "metadata": {},
   "outputs": [],
   "source": [
    "Language()"
   ]
  },
  {
   "cell_type": "code",
   "execution_count": null,
   "id": "d179b394",
   "metadata": {},
   "outputs": [],
   "source": [
    "Language().describe();"
   ]
  },
  {
   "cell_type": "markdown",
   "id": "a49d6b69",
   "metadata": {},
   "source": [
    "# DataJoint Queries"
   ]
  },
  {
   "cell_type": "code",
   "execution_count": null,
   "id": "6940b46c",
   "metadata": {},
   "outputs": [],
   "source": [
    "dj.Diagram(schema)"
   ]
  },
  {
   "cell_type": "code",
   "execution_count": null,
   "id": "583e3768",
   "metadata": {},
   "outputs": [],
   "source": [
    "q = Actor()"
   ]
  },
  {
   "cell_type": "code",
   "execution_count": null,
   "id": "2421a1e7",
   "metadata": {},
   "outputs": [],
   "source": [
    "q"
   ]
  },
  {
   "cell_type": "code",
   "execution_count": null,
   "id": "c5597983",
   "metadata": {},
   "outputs": [],
   "source": [
    "a = query.fetch(as_dict=True, order_by=('last_name', 'first_name'), limit=10, offset=10)"
   ]
  },
  {
   "cell_type": "code",
   "execution_count": null,
   "id": "38905679",
   "metadata": {},
   "outputs": [],
   "source": [
    "q & 'month(last_update) = 3'"
   ]
  },
  {
   "cell_type": "code",
   "execution_count": null,
   "id": "49844b5c",
   "metadata": {},
   "outputs": [],
   "source": [
    "q.proj(..., cid=\"customer_id\")"
   ]
  },
  {
   "cell_type": "code",
   "execution_count": null,
   "id": "1670b79f",
   "metadata": {},
   "outputs": [],
   "source": [
    "q"
   ]
  },
  {
   "cell_type": "code",
   "execution_count": null,
   "id": "4486c736",
   "metadata": {},
   "outputs": [],
   "source": [
    "last_rental = (Rental() & 'return_date > \"2005-09-02\"').proj('customer_id')"
   ]
  },
  {
   "cell_type": "code",
   "execution_count": null,
   "id": "d3b93af9",
   "metadata": {},
   "outputs": [],
   "source": [
    "last_rentals"
   ]
  },
  {
   "cell_type": "code",
   "execution_count": null,
   "id": "7fcd10b7",
   "metadata": {},
   "outputs": [],
   "source": [
    "last_rental.fetch(as_dict=True)"
   ]
  },
  {
   "cell_type": "code",
   "execution_count": null,
   "id": "5e29c056",
   "metadata": {},
   "outputs": [],
   "source": [
    "Customer & last_rental"
   ]
  },
  {
   "cell_type": "markdown",
   "id": "2cac9dcb",
   "metadata": {},
   "source": [
    "# PyMySQL"
   ]
  },
  {
   "cell_type": "code",
   "execution_count": null,
   "id": "899ddd29",
   "metadata": {},
   "outputs": [],
   "source": [
    "print(last_rental.make_sql())"
   ]
  },
  {
   "cell_type": "code",
   "execution_count": null,
   "id": "8dbdf35b",
   "metadata": {},
   "outputs": [],
   "source": [
    "import pymysql \n"
   ]
  },
  {
   "cell_type": "code",
   "execution_count": null,
   "id": "525917a1",
   "metadata": {},
   "outputs": [],
   "source": [
    "conn = pymysql.connect(\n",
    "    host=dj.config['database.host'],\n",
    "    passwd=dj.config['database.password'],\n",
    "    user=dj.config['database.user'])"
   ]
  },
  {
   "cell_type": "code",
   "execution_count": null,
   "id": "488f4336",
   "metadata": {},
   "outputs": [],
   "source": [
    "cursor = conn.cursor()"
   ]
  },
  {
   "cell_type": "code",
   "execution_count": null,
   "id": "505f2c7e",
   "metadata": {},
   "outputs": [],
   "source": [
    "cursor.execute('SHOW SCHEMAS')"
   ]
  },
  {
   "cell_type": "code",
   "execution_count": null,
   "id": "2dda03af",
   "metadata": {},
   "outputs": [],
   "source": [
    "cursor.execute('USE shared_sakila')"
   ]
  },
  {
   "cell_type": "code",
   "execution_count": null,
   "id": "901b5de3",
   "metadata": {},
   "outputs": [],
   "source": [
    "cursor.execute('SHOW TABLES')"
   ]
  },
  {
   "cell_type": "code",
   "execution_count": null,
   "id": "5b6571f4",
   "metadata": {},
   "outputs": [],
   "source": [
    "cursor.fetchall()"
   ]
  },
  {
   "cell_type": "code",
   "execution_count": null,
   "id": "b205a5ca",
   "metadata": {},
   "outputs": [],
   "source": [
    "cursor.execute('SELECT * FROM customer')"
   ]
  },
  {
   "cell_type": "code",
   "execution_count": null,
   "id": "a3de6610",
   "metadata": {},
   "outputs": [],
   "source": [
    "cursor.execute('SELECT * FROM customer WHERE customer_id = 1 ')"
   ]
  },
  {
   "cell_type": "code",
   "execution_count": null,
   "id": "dc692a48",
   "metadata": {},
   "outputs": [],
   "source": [
    "cursor.fetchall()"
   ]
  },
  {
   "cell_type": "code",
   "execution_count": null,
   "id": "69715bca",
   "metadata": {},
   "outputs": [],
   "source": [
    "cursor.execute('SELECT * FROM rental WHERE return_date > \"2005-09-02\" ')"
   ]
  },
  {
   "cell_type": "code",
   "execution_count": null,
   "id": "9484dd46",
   "metadata": {},
   "outputs": [],
   "source": [
    "cursor.execute('SELECT * FROM rental WHERE return_date is NULL')"
   ]
  },
  {
   "cell_type": "code",
   "execution_count": null,
   "id": "60a4d403",
   "metadata": {},
   "outputs": [],
   "source": [
    "cursor.execute('SELECT * FROM rental WHERE return_date is NOT NULL')"
   ]
  },
  {
   "cell_type": "code",
   "execution_count": null,
   "id": "01400ae4",
   "metadata": {},
   "outputs": [],
   "source": [
    "Customer & (Rental & 'return_date is NULL').proj('customer_id') "
   ]
  },
  {
   "cell_type": "code",
   "execution_count": null,
   "id": "0f0ab712",
   "metadata": {},
   "outputs": [],
   "source": [
    "cursor.execute(\n",
    "    \"\"\"\n",
    "    SELECT * \n",
    "    FROM customer \n",
    "    WHERE customer_id IN (\n",
    "        SELECT customer_id \n",
    "        FROM rental \n",
    "        WHERE return_date IS NULL)\n",
    "    \"\"\")"
   ]
  },
  {
   "cell_type": "code",
   "execution_count": null,
   "id": "4a6c866b",
   "metadata": {},
   "outputs": [],
   "source": [
    "cursor.execute(\"SELECT customer_id, rental_date FROM rental\")"
   ]
  },
  {
   "cell_type": "code",
   "execution_count": null,
   "id": "da354b66",
   "metadata": {},
   "outputs": [],
   "source": [
    "cursor.fetchone()"
   ]
  },
  {
   "cell_type": "code",
   "execution_count": null,
   "id": "d282ecb8",
   "metadata": {},
   "outputs": [],
   "source": [
    "cursor.execute(\"SELECT DISTINCT customer_id FROM rental\")"
   ]
  },
  {
   "cell_type": "code",
   "execution_count": null,
   "id": "b5f87728",
   "metadata": {},
   "outputs": [],
   "source": [
    "cursor.execute(\"SELECT DISTINCT customer_id FROM rental WHERE return_date IS NULL\")"
   ]
  },
  {
   "cell_type": "code",
   "execution_count": null,
   "id": "a3e08f65",
   "metadata": {},
   "outputs": [],
   "source": [
    "cursor.execute(\"SELECT DISTINCT customer_id cid FROM rental WHERE return_date IS NULL\")"
   ]
  },
  {
   "cell_type": "code",
   "execution_count": null,
   "id": "14e8b8f6",
   "metadata": {},
   "outputs": [],
   "source": [
    "Store()"
   ]
  },
  {
   "cell_type": "code",
   "execution_count": null,
   "id": "32166ca7",
   "metadata": {},
   "outputs": [],
   "source": [
    "Rental()"
   ]
  },
  {
   "cell_type": "markdown",
   "id": "8fa79f6a",
   "metadata": {},
   "source": [
    "### Problem 1\n",
    "\n",
    "Show all rentals of intentory from Store 1"
   ]
  },
  {
   "cell_type": "code",
   "execution_count": null,
   "id": "5d02838d",
   "metadata": {},
   "outputs": [],
   "source": [
    "q = Rental & (Inventory() & 'store_id=1').proj()"
   ]
  },
  {
   "cell_type": "code",
   "execution_count": null,
   "id": "37e0c52f",
   "metadata": {},
   "outputs": [],
   "source": [
    "(Rental * Customer.proj(..., '-last_update')).make_sql()"
   ]
  },
  {
   "cell_type": "code",
   "execution_count": null,
   "id": "3d16a02d",
   "metadata": {},
   "outputs": [],
   "source": [
    "cursor.execute(\"\"\"\n",
    "SELECT * FROM rental \n",
    "WHERE inventory_id IN (SELECT inventory_id FROM inventory WHERE store_id=1)\n",
    "\"\"\")"
   ]
  },
  {
   "cell_type": "markdown",
   "id": "5b14f939",
   "metadata": {},
   "source": [
    "### Problem 2\n",
    "\n",
    "Show all staff that work at Store 1"
   ]
  },
  {
   "cell_type": "code",
   "execution_count": null,
   "id": "5e0a380d",
   "metadata": {},
   "outputs": [],
   "source": [
    "Staff() & 'store_id=1'"
   ]
  },
  {
   "cell_type": "code",
   "execution_count": null,
   "id": "64b04b66",
   "metadata": {},
   "outputs": [],
   "source": [
    "cursors.execute(\"\"\"\n",
    "SELECT staff_id \n",
    "FROM staff \n",
    "WHERE store_id=1\n",
    "\"\"\")"
   ]
  }
 ],
 "metadata": {
  "kernelspec": {
   "display_name": "Python 3",
   "language": "python",
   "name": "python3"
  },
  "language_info": {
   "codemirror_mode": {
    "name": "ipython",
    "version": 3
   },
   "file_extension": ".py",
   "mimetype": "text/x-python",
   "name": "python",
   "nbconvert_exporter": "python",
   "pygments_lexer": "ipython3",
   "version": "3.9.7"
  }
 },
 "nbformat": 4,
 "nbformat_minor": 5
}

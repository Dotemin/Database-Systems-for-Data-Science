{
 "cells": [
  {
   "cell_type": "markdown",
   "metadata": {},
   "source": [
    "# Assignment 4.  \n",
    "\n",
    "\n",
    "\n",
    "\n",
    "## Queries combining multiple tables\n",
    "\n",
    "Read chapters 7-11\n",
    "\n",
    "In this assignment, you will work on \"Problems for you to Solve\" from Chapters 8, 9, and 11 in *SQL Queries for Mere Mortals*. \n",
    "\n",
    "We will use DataJoint to solve these problems and then review the same solutions in SQL.\n",
    "\n",
    "\n"
   ]
  },
  {
   "cell_type": "markdown",
   "metadata": {},
   "source": [
    "# Queries with DataJoint\n",
    "\n",
    "## Connect to the database server\n"
   ]
  },
  {
   "cell_type": "code",
   "execution_count": 1,
   "metadata": {},
   "outputs": [],
   "source": [
    "import datajoint as dj"
   ]
  },
  {
   "cell_type": "code",
   "execution_count": 2,
   "metadata": {},
   "outputs": [],
   "source": [
    "# Execute this only if you have not connected with datajoint before.  \n",
    "import json\n",
    "with open('cred.json') as f:\n",
    "    creds = json.load(f)\n",
    "    \n",
    "\n",
    "dj.config['database.host'] = creds['host']\n",
    "dj.config['database.user'] = creds['user']\n",
    "dj.config['database.password'] = creds['password']\n",
    "\n",
    "dj.config.save_local()"
   ]
  },
  {
   "cell_type": "code",
   "execution_count": null,
   "metadata": {},
   "outputs": [],
   "source": []
  },
  {
   "cell_type": "markdown",
   "metadata": {},
   "source": [
    "# Queries with SQL"
   ]
  },
  {
   "cell_type": "markdown",
   "metadata": {},
   "source": [
    "First, let's connect to the database and activate the SQL magic for jupyter."
   ]
  },
  {
   "cell_type": "markdown",
   "metadata": {},
   "source": [
    "### Increasing complexity of queries"
   ]
  },
  {
   "cell_type": "markdown",
   "metadata": {},
   "source": [
    "When working with queries that address multiple tables, rely on the structure of the foreign keys and primary keys to guide the design of your queries. \n",
    "\n",
    "We will work with two basic patterns to solve most problems in the book:\n",
    "\n",
    "1. Using a subquery in the `WHERE` clause\n",
    "2. Inner natural join.\n",
    "\n",
    "The database schemas in the book are designed so that foreign key columns share the same names as the primary key of their parent tables. This allows the use of natural joins for logically meaningful joins of tables related by the foreign key. "
   ]
  },
  {
   "cell_type": "code",
   "execution_count": null,
   "metadata": {},
   "outputs": [],
   "source": [
    "# Activate SQL Magic\n",
    "\n",
    "import json\n",
    "import pymysql \n",
    "\n",
    "pymysql.install_as_MySQLdb()\n",
    "\n",
    "with open('cred.json') as f:\n",
    "    creds = json.load(f)\n",
    "\n",
    "connection_string = \"mysql://{user}:{password}@{host}\".format(**creds)"
   ]
  },
  {
   "cell_type": "code",
   "execution_count": null,
   "metadata": {},
   "outputs": [],
   "source": [
    "%load_ext sql\n",
    "%config SqlMagic.autocommit=True\n",
    "%sql $connection_string"
   ]
  },
  {
   "cell_type": "markdown",
   "metadata": {},
   "source": [
    "Let's solve the following query in the `shared_sales` database:\n",
    "> Show all the customers who have bought a bicycle, i.e. products in category \"Bike\"\n",
    "\n",
    "Review the schema diagram to follow how we build the query step-by-step."
   ]
  },
  {
   "cell_type": "code",
   "execution_count": null,
   "metadata": {},
   "outputs": [],
   "source": [
    "%%sql\n",
    "\n",
    "USE shared_sales"
   ]
  },
  {
   "cell_type": "code",
   "execution_count": null,
   "metadata": {},
   "outputs": [],
   "source": [
    "%%sql\n",
    "\n",
    "show tables\n"
   ]
  },
  {
   "cell_type": "code",
   "execution_count": null,
   "metadata": {},
   "outputs": [],
   "source": [
    "%%sql\n",
    "\n",
    "-- Step 1:\n",
    "-- category for Bike\n",
    "\n",
    "SELECT * \n",
    "    FROM categories \n",
    "    WHERE CategoryDescription = \"Bikes\""
   ]
  },
  {
   "cell_type": "code",
   "execution_count": null,
   "metadata": {},
   "outputs": [],
   "source": [
    "%%sql\n",
    "\n",
    "-- Step 2\n",
    "-- Products from that category\n",
    "\n",
    "SELECT * \n",
    "FROM products\n",
    "WHERE CategoryID in (\n",
    "    SELECT CategoryID \n",
    "    FROM categories\n",
    "    WHERE CategoryDescription = \"Bikes\"\n",
    ")"
   ]
  },
  {
   "cell_type": "code",
   "execution_count": null,
   "metadata": {},
   "outputs": [],
   "source": [
    "%%sql\n",
    "\n",
    "-- Step 2\n",
    "-- Products from that category, USING JOIN\n",
    "\n",
    "SELECT * \n",
    "    FROM products NATURAL JOIN categories\n",
    "    WHERE CategoryDescription = \"Bikes\""
   ]
  },
  {
   "cell_type": "code",
   "execution_count": null,
   "metadata": {},
   "outputs": [],
   "source": [
    "%%sql\n",
    "\n",
    "-- Step 3\n",
    "-- Order details that contain such products\n",
    "\n",
    "SELECT * \n",
    "FROM order_details\n",
    "WHERE ProductNumber in (\n",
    "    SELECT ProductNumber \n",
    "    FROM products NATURAL JOIN categories\n",
    "    WHERE CategoryDescription = \"Bikes\")"
   ]
  },
  {
   "cell_type": "code",
   "execution_count": null,
   "metadata": {},
   "outputs": [],
   "source": [
    "%%sql\n",
    "\n",
    "-- Step 3\n",
    "-- Order details that contain such products using JOINS\n",
    "\n",
    "SELECT * \n",
    "FROM order_details NATURAL JOIN products NATURAL JOIN categories\n",
    "WHERE CategoryDescription = \"Bikes\""
   ]
  },
  {
   "cell_type": "code",
   "execution_count": null,
   "metadata": {},
   "outputs": [],
   "source": [
    "%%sql\n",
    "\n",
    "-- Step 4\n",
    "-- Orders that contain such products \n",
    "\n",
    "SELECT * \n",
    "FROM orders \n",
    "WHERE OrderNumber IN (\n",
    "    SELECT OrderNumber\n",
    "    FROM order_details NATURAL JOIN products NATURAL JOIN categories\n",
    "    WHERE CategoryDescription = \"Bikes\")"
   ]
  },
  {
   "cell_type": "markdown",
   "metadata": {},
   "source": [
    "Why can we not convert this into a pure join query?"
   ]
  },
  {
   "cell_type": "code",
   "execution_count": null,
   "metadata": {},
   "outputs": [],
   "source": [
    "%%sql\n",
    "\n",
    "-- Step 5\n",
    "-- Customers on these orders\n",
    "\n",
    "SELECT * \n",
    "FROM customers\n",
    "WHERE CustomerID in (\n",
    "    SELECT CustomerID    \n",
    "    FROM orders \n",
    "    WHERE OrderNumber IN (\n",
    "        SELECT OrderNumber\n",
    "        FROM order_details NATURAL JOIN products NATURAL JOIN categories\n",
    "        WHERE CategoryDescription = \"Bikes\"))"
   ]
  },
  {
   "cell_type": "markdown",
   "metadata": {},
   "source": [
    "These two types of queries: equi-joins (including natural joins) and subqueries in the `WHERE` clauses can be used to solve the majority of problems in the assignment."
   ]
  }
 ],
 "metadata": {
  "kernelspec": {
   "display_name": "Python 3",
   "language": "python",
   "name": "python3"
  },
  "language_info": {
   "codemirror_mode": {
    "name": "ipython",
    "version": 3
   },
   "file_extension": ".py",
   "mimetype": "text/x-python",
   "name": "python",
   "nbconvert_exporter": "python",
   "pygments_lexer": "ipython3",
   "version": "3.8.5"
  }
 },
 "nbformat": 4,
 "nbformat_minor": 2
}

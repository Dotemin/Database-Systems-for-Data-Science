{
 "cells": [
  {
   "cell_type": "markdown",
   "metadata": {},
   "source": [
    "# Assignment 4.  \n",
    "## Programming simple SQL queries from a host Programming Language (Python)\n",
    "\n",
    "In this assigment, we will fetch data from a relational database server directly into Python variables. Using these new skills, we will complete the problems from Chapters 5 and 6 in *SQL Queries for Mere Mortals*."
   ]
  },
  {
   "cell_type": "markdown",
   "metadata": {},
   "source": [
    "### Connect to the database "
   ]
  },
  {
   "cell_type": "markdown",
   "metadata": {},
   "source": [
    "First, let's assign the login credentials. We will use the python libary `getpass` to enter the password without displaying it."
   ]
  },
  {
   "cell_type": "code",
   "execution_count": 3,
   "metadata": {},
   "outputs": [
    {
     "name": "stdout",
     "output_type": "stream",
     "text": [
      "········\n"
     ]
    }
   ],
   "source": [
    "import getpass\n",
    "\n",
    "host = \"db.data-science-ust.net\"\n",
    "user = \"dimitri\"    # !! Replace with your user name !!\n",
    "password = getpass.getpass()"
   ]
  },
  {
   "cell_type": "markdown",
   "metadata": {},
   "source": [
    "Then we will use the **MySQL client library** called `pymysql`. Client libraries provide all the functionality to interact with the database from the client side."
   ]
  },
  {
   "cell_type": "code",
   "execution_count": 4,
   "metadata": {},
   "outputs": [],
   "source": [
    "import pymysql\n",
    "\n",
    "# establish a database connection\n",
    "conn = pymysql.connect(host=host, user=user, passwd=password)"
   ]
  },
  {
   "cell_type": "markdown",
   "metadata": {},
   "source": [
    "#### Execute an SQL query"
   ]
  },
  {
   "cell_type": "markdown",
   "metadata": {},
   "source": [
    "Using the connection object `conn`, we obtain a `cursor`: an object that manages the execution of queries. Cursors can be configured in various ways. This code constructs a cursor that retrieves query output in the form of lists of Python `dict`s."
   ]
  },
  {
   "cell_type": "code",
   "execution_count": 5,
   "metadata": {},
   "outputs": [],
   "source": [
    "cursor = conn.cursor(cursor=pymysql.cursors.DictCursor)"
   ]
  },
  {
   "cell_type": "markdown",
   "metadata": {},
   "source": [
    "Now we can use `cursor` to send queries to the server and retrieve the result. The `execute` method returns the number of items in the query result but the data themselves are still inside `cursor`."
   ]
  },
  {
   "cell_type": "code",
   "execution_count": null,
   "metadata": {},
   "outputs": [],
   "source": [
    "sql = \"\"\"\n",
    "SELECT * \n",
    "    FROM shared_sales.customers\n",
    "    ORDER BY CustLastName, CustFirstName\n",
    "    LIMIT 10\n",
    "\"\"\"\n",
    "cursor.execute(sql)"
   ]
  },
  {
   "cell_type": "markdown",
   "metadata": {},
   "source": [
    "#### Fetch items (database rows) \n",
    "To fetch the next item from the result as `dict`, use the `cursor.fetchone()`. The keys of the dict correspond to column names with row values in the values of the dict."
   ]
  },
  {
   "cell_type": "code",
   "execution_count": null,
   "metadata": {},
   "outputs": [],
   "source": [
    "first_item = cursor.fetchone()\n",
    "print(first_item)"
   ]
  },
  {
   "cell_type": "markdown",
   "metadata": {},
   "source": [
    "Call it again to fetch the next item"
   ]
  },
  {
   "cell_type": "code",
   "execution_count": null,
   "metadata": {},
   "outputs": [],
   "source": [
    "second_item = cursor.fetchone()\n",
    "print(second_item)"
   ]
  },
  {
   "cell_type": "markdown",
   "metadata": {},
   "source": [
    "To fetch all the remaining items as a `list` of `dict`s, use `cursor.fetchall()`"
   ]
  },
  {
   "cell_type": "code",
   "execution_count": null,
   "metadata": {
    "scrolled": true
   },
   "outputs": [],
   "source": [
    "items = cursor.fetchall()\n",
    "items"
   ]
  },
  {
   "cell_type": "markdown",
   "metadata": {},
   "source": [
    "Note that running `execute.fetchall()` the second time yields an empty list: we got the entire result set out of the `cursor`!"
   ]
  },
  {
   "cell_type": "code",
   "execution_count": null,
   "metadata": {},
   "outputs": [],
   "source": [
    "cursor.fetchall()"
   ]
  },
  {
   "cell_type": "markdown",
   "metadata": {},
   "source": [
    "And `cursor.fetchone()` returns `None`."
   ]
  },
  {
   "cell_type": "code",
   "execution_count": null,
   "metadata": {},
   "outputs": [],
   "source": [
    "cursor.fetchone()"
   ]
  },
  {
   "cell_type": "markdown",
   "metadata": {},
   "source": [
    "You must execute a new query to fill the `cursor` with new contents."
   ]
  },
  {
   "cell_type": "code",
   "execution_count": null,
   "metadata": {},
   "outputs": [],
   "source": [
    "cursor.execute(sql)"
   ]
  },
  {
   "cell_type": "markdown",
   "metadata": {},
   "source": [
    "In addition to the two `fetch` methods, you can use the `cursor` as the generator in a `for` loop to iterate over the elements of the result set:"
   ]
  },
  {
   "cell_type": "code",
   "execution_count": null,
   "metadata": {},
   "outputs": [],
   "source": [
    "for item in cursor:\n",
    "    print(\"{CustomerID}: {CustLastName}, {CustFirstName}\".format(**item))"
   ]
  },
  {
   "cell_type": "markdown",
   "metadata": {},
   "source": [
    "# Examples"
   ]
  },
  {
   "cell_type": "markdown",
   "metadata": {},
   "source": [
    "#### Example 1\n",
    "What is the inventory value of each product (price x quantities)?"
   ]
  },
  {
   "cell_type": "code",
   "execution_count": null,
   "metadata": {},
   "outputs": [],
   "source": [
    "cursor.execute(\"USE shared_sales\")  # enter the right database"
   ]
  },
  {
   "cell_type": "code",
   "execution_count": null,
   "metadata": {},
   "outputs": [],
   "source": [
    "# assign the SQL query string to a variable to use in a query later\n",
    "sql = \"\"\"\n",
    "SELECT ProductNumber, ProductName, QuantityOnHand * RetailPrice as InventoryValue\n",
    "FROM products\n",
    "\"\"\""
   ]
  },
  {
   "cell_type": "code",
   "execution_count": null,
   "metadata": {},
   "outputs": [],
   "source": [
    "# execute the SQL query\n",
    "cursor.execute(sql)"
   ]
  },
  {
   "cell_type": "markdown",
   "metadata": {},
   "source": [
    "Now retrieve and show the result:"
   ]
  },
  {
   "cell_type": "code",
   "execution_count": null,
   "metadata": {},
   "outputs": [],
   "source": [
    "results = cursor.fetchall()\n",
    "print(results)"
   ]
  },
  {
   "cell_type": "markdown",
   "metadata": {},
   "source": [
    "You may use the `pprint` module from the [standard library](https://docs.python.org/3/library/pprint.html) to pretty-print the resulting dict list:"
   ]
  },
  {
   "cell_type": "code",
   "execution_count": null,
   "metadata": {},
   "outputs": [],
   "source": [
    "import pprint\n",
    "pprint.pprint(results)"
   ]
  },
  {
   "cell_type": "markdown",
   "metadata": {},
   "source": [
    "Or you may like to convert it into a pandas dataframe of display and manipulation."
   ]
  },
  {
   "cell_type": "code",
   "execution_count": null,
   "metadata": {},
   "outputs": [],
   "source": [
    "import pandas as pd\n",
    "pd.DataFrame.from_records(results, index=[\"ProductNumber\"])"
   ]
  },
  {
   "cell_type": "markdown",
   "metadata": {},
   "source": [
    "This is enough to fulfill the requirement of the assignment but you may use your Python string formatting skills to produce a nicer output or to perform additional operations."
   ]
  },
  {
   "cell_type": "code",
   "execution_count": null,
   "metadata": {},
   "outputs": [],
   "source": [
    "# Execute query again\n",
    "cursor.execute(sql)\n",
    "\n",
    "# print heading\n",
    "item_line = \"{ProductNumber:3}: {ProductName:40} {InventoryValue:>8}\" \n",
    "heading = item_line.format(ProductNumber=\"#\", ProductName=\"Product Name\", InventoryValue=\"Value\")\n",
    "print(heading)\n",
    "print('-' * len(heading)) # dividing line\n",
    "\n",
    "# print items from cursor\n",
    "total = 0\n",
    "for item in cursor:\n",
    "    print(item_line.format(**item))\n",
    "    total += item['InventoryValue']\n",
    "\n",
    "# print total    \n",
    "print('-' * len(heading))\n",
    "print(item_line.format(ProductNumber='', ProductName='TOTAL:', InventoryValue=total))"
   ]
  },
  {
   "cell_type": "markdown",
   "metadata": {},
   "source": [
    "# Assignment Problems\n",
    "\n",
    "Note that table names and column names may differ from those in the book. Use `SHOW DATABASES`, `USE <database>`, and `SHOW TABLES` commands to navigate the databases and `SHOW CREATE TABLE <table>` to inspect the declaration of the individual tables."
   ]
  },
  {
   "cell_type": "markdown",
   "metadata": {},
   "source": [
    "## In database `shared_sales`."
   ]
  },
  {
   "cell_type": "markdown",
   "metadata": {},
   "source": [
    "#### Problem 1 .\n",
    "\n",
    "Show all products with price reduced by 5%."
   ]
  },
  {
   "cell_type": "markdown",
   "metadata": {},
   "source": [
    "#### Problem 2.\n",
    "Show the list of orders made by each customer in descending order date. Hint: you might need to order by more than one column."
   ]
  },
  {
   "cell_type": "markdown",
   "metadata": {},
   "source": [
    "#### Problem 3.\n",
    "Show vendor name and addresses sorted by vendor name."
   ]
  },
  {
   "cell_type": "markdown",
   "metadata": {},
   "source": [
    "## In database `shared_entertain`"
   ]
  },
  {
   "cell_type": "markdown",
   "metadata": {},
   "source": [
    "#### Problem 4.\n",
    "Show all customers ordered by city."
   ]
  },
  {
   "cell_type": "markdown",
   "metadata": {},
   "source": [
    "#### Problem 5.\n",
    "List all entertainers and their Web sites."
   ]
  },
  {
   "cell_type": "markdown",
   "metadata": {},
   "source": [
    "#### Problem 6.\n",
    "Show the date of each agent's first six-month performance review.\n",
    "\n",
    "\n",
    "**Hint:** You will need date arithmetic https://dev.mysql.com/doc/refman/5.7/en/date-and-time-functions.html"
   ]
  },
  {
   "cell_type": "markdown",
   "metadata": {},
   "source": [
    "## In database `shared_schedule`"
   ]
  },
  {
   "cell_type": "markdown",
   "metadata": {},
   "source": [
    "#### Problem 7\n",
    "Show the staff members in descending order of salary."
   ]
  },
  {
   "cell_type": "markdown",
   "metadata": {},
   "source": [
    "#### Problem 8\n",
    "Make the staff phone list."
   ]
  },
  {
   "cell_type": "markdown",
   "metadata": {},
   "source": [
    "#### Problem 9\n",
    "List students ordered by the city they live in."
   ]
  },
  {
   "cell_type": "markdown",
   "metadata": {},
   "source": [
    "## In database `shared_bowling`."
   ]
  },
  {
   "cell_type": "markdown",
   "metadata": {},
   "source": [
    "#### 10. Show next year's tournament date for each tournament location.\n",
    "\n",
    "**Hint:** Add 364 days to get the same day of the week. See date and time functions here: https://dev.mysql.com/doc/refman/5.7/en/date-and-time-functions.html"
   ]
  },
  {
   "cell_type": "code",
   "execution_count": 15,
   "metadata": {},
   "outputs": [
    {
     "data": {
      "text/plain": [
       "0"
      ]
     },
     "execution_count": 15,
     "metadata": {},
     "output_type": "execute_result"
    }
   ],
   "source": [
    "cursor.execute('USE shared_bowling')"
   ]
  },
  {
   "cell_type": "code",
   "execution_count": 24,
   "metadata": {},
   "outputs": [
    {
     "data": {
      "text/plain": [
       "20"
      ]
     },
     "execution_count": 24,
     "metadata": {},
     "output_type": "execute_result"
    }
   ],
   "source": [
    "cursor.execute(\n",
    "    \"\"\"\n",
    "    SELECT *, ADDDATE(TourneyDate, INTERVAL 364 DAY) as NextYearTourney\n",
    "    FROM Tournaments \n",
    "    ORDER BY TourneyLocation\n",
    "    \"\"\")"
   ]
  },
  {
   "cell_type": "code",
   "execution_count": 25,
   "metadata": {},
   "outputs": [
    {
     "data": {
      "text/plain": [
       "{'TourneyID': 7,\n",
       " 'TourneyDate': datetime.date(2017, 10, 16),\n",
       " 'TourneyLocation': 'Acapulco Lanes',\n",
       " 'NextYearTourney': datetime.date(2018, 10, 15)}"
      ]
     },
     "execution_count": 25,
     "metadata": {},
     "output_type": "execute_result"
    }
   ],
   "source": [
    "cursor.fetchone()"
   ]
  },
  {
   "cell_type": "markdown",
   "metadata": {},
   "source": [
    "#### 11. List names and phone numbers of the members of the league \n",
    "(32 rows)"
   ]
  },
  {
   "cell_type": "markdown",
   "metadata": {},
   "source": [
    "#### 12. List each team's lineup.\n",
    "(32 rows)"
   ]
  },
  {
   "cell_type": "markdown",
   "metadata": {},
   "source": [
    "## In database `shared_sales`"
   ]
  },
  {
   "cell_type": "markdown",
   "metadata": {},
   "source": [
    "#### 13. List vendors from the cities of Ballard, Bellevue, and Redmond.\n",
    "(3 rows)"
   ]
  },
  {
   "cell_type": "markdown",
   "metadata": {},
   "source": [
    "#### 14. Show alphebetized list of products with a retail price of \\$1,250.00 or more\n",
    "(13 rows)"
   ]
  },
  {
   "cell_type": "markdown",
   "metadata": {},
   "source": [
    "#### 15. List vendors with no websites"
   ]
  },
  {
   "cell_type": "markdown",
   "metadata": {},
   "source": [
    "## In database `shared_entertain`"
   ]
  },
  {
   "cell_type": "markdown",
   "metadata": {},
   "source": [
    "#### 16. List engagements that occurred during October 2017\n",
    "(24 rows)"
   ]
  },
  {
   "cell_type": "markdown",
   "metadata": {},
   "source": [
    "#### 17. Show engagements in October 2017 that start between noon and 5 pm."
   ]
  },
  {
   "cell_type": "markdown",
   "metadata": {},
   "source": [
    "#### 18. Show engagements that start and end on the same day."
   ]
  },
  {
   "cell_type": "markdown",
   "metadata": {},
   "source": [
    "## In database `shared_schedule`"
   ]
  },
  {
   "cell_type": "markdown",
   "metadata": {},
   "source": [
    "#### 19. Show staff members that use a PO Box as their address."
   ]
  },
  {
   "cell_type": "markdown",
   "metadata": {},
   "source": [
    "#### 20. Show students who live outside the Pacific Northwest"
   ]
  },
  {
   "cell_type": "markdown",
   "metadata": {},
   "source": [
    "#### 21. Show subjects with subject code starting with \"MUS\"\n",
    "\n",
    "Please review string comparison functions https://dev.mysql.com/doc/refman/5.7/en/string-comparison-functions.html"
   ]
  },
  {
   "cell_type": "markdown",
   "metadata": {},
   "source": [
    "#### 22. List the ID numbers of all Associate professors who are employed full time."
   ]
  },
  {
   "cell_type": "markdown",
   "metadata": {},
   "source": [
    "## In database `shared_bowling`"
   ]
  },
  {
   "cell_type": "markdown",
   "metadata": {},
   "source": [
    "#### 23. List tournaments held in 2017"
   ]
  },
  {
   "cell_type": "markdown",
   "metadata": {},
   "source": [
    "#### 24. List tournament schedules for Bolero, Red Rooster, and Thunderbird Lanes."
   ]
  },
  {
   "cell_type": "markdown",
   "metadata": {},
   "source": [
    "#### 25. List the bowlers who live in Bellevue, Bothell, Duvall, Redmond, and Woodinville who are on teams 5, 6, 7, or 8."
   ]
  },
  {
   "cell_type": "markdown",
   "metadata": {},
   "source": [
    "## In database `shared_recipes`"
   ]
  },
  {
   "cell_type": "markdown",
   "metadata": {},
   "source": [
    "#### 26. List all recipes for main courses (recipe class 1) that have notes."
   ]
  },
  {
   "cell_type": "markdown",
   "metadata": {},
   "source": [
    "#### 27. Display the first five recipes."
   ]
  }
 ],
 "metadata": {
  "kernelspec": {
   "display_name": "Python 3",
   "language": "python",
   "name": "python3"
  },
  "language_info": {
   "codemirror_mode": {
    "name": "ipython",
    "version": 3
   },
   "file_extension": ".py",
   "mimetype": "text/x-python",
   "name": "python",
   "nbconvert_exporter": "python",
   "pygments_lexer": "ipython3",
   "version": "3.7.3"
  }
 },
 "nbformat": 4,
 "nbformat_minor": 2
}

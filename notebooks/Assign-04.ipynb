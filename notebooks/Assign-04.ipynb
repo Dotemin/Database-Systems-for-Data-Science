{
 "cells": [
  {
   "cell_type": "markdown",
   "metadata": {},
   "source": [
    "# Assignment 4.  \n",
    "## Programming simple SQL queries from a host Programming Language (Python)\n",
    "\n",
    "In this assigment, we will fetch data from a relational database server directly into Python variables. Using these new skills, we will complete the problems from Chapters 5 and 6 in *SQL Queries for Mere Mortals*."
   ]
  },
  {
   "cell_type": "markdown",
   "metadata": {},
   "source": [
    "### Connect to the database "
   ]
  },
  {
   "cell_type": "markdown",
   "metadata": {},
   "source": [
    "First, let's assign the login credentials. We will use the python libary `getpass` to enter the password without displaying it."
   ]
  },
  {
   "cell_type": "code",
   "execution_count": 1,
   "metadata": {},
   "outputs": [
    {
     "name": "stdout",
     "output_type": "stream",
     "text": [
      "········\n"
     ]
    }
   ],
   "source": [
    "import getpass\n",
    "\n",
    "host = \"db.data-science-ust.net\"\n",
    "user = \"dimitri\"    # !! Replace with your user name !!\n",
    "password = getpass.getpass()"
   ]
  },
  {
   "cell_type": "markdown",
   "metadata": {},
   "source": [
    "Then we will use the **MySQL client library** called `pymysql`. Client libraries provide all the functionality to interact with the database from the client side."
   ]
  },
  {
   "cell_type": "code",
   "execution_count": 2,
   "metadata": {},
   "outputs": [],
   "source": [
    "import pymysql\n",
    "\n",
    "# establish a database connection\n",
    "conn = pymysql.connect(host=host, user=user, passwd=password)"
   ]
  },
  {
   "cell_type": "markdown",
   "metadata": {},
   "source": [
    "#### Execute an SQL query"
   ]
  },
  {
   "cell_type": "markdown",
   "metadata": {},
   "source": [
    "Using the connection object `conn`, we obtain a `cursor`: an object that manages the execution of queries. Cursors can be configured in various ways. This code constructs a cursor that retrieves query output in the form of lists of Python `dict`s."
   ]
  },
  {
   "cell_type": "code",
   "execution_count": 3,
   "metadata": {},
   "outputs": [],
   "source": [
    "cursor = conn.cursor(cursor=pymysql.cursors.DictCursor)"
   ]
  },
  {
   "cell_type": "markdown",
   "metadata": {},
   "source": [
    "Now we can use `cursor` to send queries to the server and retrieve the result. The `execute` method returns the number of items in the query result but the data themselves are still inside `cursor`."
   ]
  },
  {
   "cell_type": "code",
   "execution_count": 4,
   "metadata": {},
   "outputs": [
    {
     "data": {
      "text/plain": [
       "10"
      ]
     },
     "execution_count": 4,
     "metadata": {},
     "output_type": "execute_result"
    }
   ],
   "source": [
    "sql = \"\"\"\n",
    "SELECT * \n",
    "    FROM shared_sales.customers\n",
    "    ORDER BY CustLastName, CustFirstName\n",
    "    LIMIT 10\n",
    "\"\"\"\n",
    "cursor.execute(sql)"
   ]
  },
  {
   "cell_type": "markdown",
   "metadata": {},
   "source": [
    "#### Fetch items (database rows) \n",
    "To fetch the next item from the result as `dict`, use the `cursor.fetchone()`. The keys of the dict correspond to column names with row values in the values of the dict."
   ]
  },
  {
   "cell_type": "code",
   "execution_count": 5,
   "metadata": {},
   "outputs": [
    {
     "name": "stdout",
     "output_type": "stream",
     "text": [
      "{'CustomerID': 1014, 'CustFirstName': 'Sam', 'CustLastName': 'Abolrous', 'CustStreetAddress': '611 Alpine Drive', 'CustCity': 'Palm Springs', 'CustState': 'CA', 'CustZipCode': '92263', 'CustAreaCode': 760, 'CustPhoneNumber': '555-2611'}\n"
     ]
    }
   ],
   "source": [
    "first_item = cursor.fetchone()\n",
    "print(first_item)"
   ]
  },
  {
   "cell_type": "markdown",
   "metadata": {},
   "source": [
    "Call it again to fetch the next item"
   ]
  },
  {
   "cell_type": "code",
   "execution_count": 6,
   "metadata": {},
   "outputs": [
    {
     "name": "stdout",
     "output_type": "stream",
     "text": [
      "{'CustomerID': 1020, 'CustFirstName': 'Joyce', 'CustLastName': 'Bonnicksen', 'CustStreetAddress': '2424 Thames Drive', 'CustCity': 'Bellevue', 'CustState': 'WA', 'CustZipCode': '98006', 'CustAreaCode': 425, 'CustPhoneNumber': '555-2726'}\n"
     ]
    }
   ],
   "source": [
    "second_item = cursor.fetchone()\n",
    "print(second_item)"
   ]
  },
  {
   "cell_type": "markdown",
   "metadata": {},
   "source": [
    "To fetch all the remaining items as a `list` of `dict`s, use `cursor.fetchall()`"
   ]
  },
  {
   "cell_type": "code",
   "execution_count": 7,
   "metadata": {
    "scrolled": true
   },
   "outputs": [
    {
     "data": {
      "text/plain": [
       "[{'CustomerID': 1004,\n",
       "  'CustFirstName': 'Robert',\n",
       "  'CustLastName': 'Brown',\n",
       "  'CustStreetAddress': '672 Lamont Ave',\n",
       "  'CustCity': 'Houston',\n",
       "  'CustState': 'TX',\n",
       "  'CustZipCode': '77201',\n",
       "  'CustAreaCode': 713,\n",
       "  'CustPhoneNumber': '555-2491'},\n",
       " {'CustomerID': 1009,\n",
       "  'CustFirstName': 'Andrew',\n",
       "  'CustLastName': 'Cencini',\n",
       "  'CustStreetAddress': '507 - 20th Ave. E.\\nApt. 2A',\n",
       "  'CustCity': 'Seattle',\n",
       "  'CustState': 'WA',\n",
       "  'CustZipCode': '98105',\n",
       "  'CustAreaCode': 206,\n",
       "  'CustPhoneNumber': '555-2601'},\n",
       " {'CustomerID': 1026,\n",
       "  'CustFirstName': 'Kirk',\n",
       "  'CustLastName': 'DeGrasse',\n",
       "  'CustStreetAddress': '455 West Palm Ave',\n",
       "  'CustCity': 'San Antonio',\n",
       "  'CustState': 'TX',\n",
       "  'CustZipCode': '78284',\n",
       "  'CustAreaCode': 210,\n",
       "  'CustPhoneNumber': '555-2311'},\n",
       " {'CustomerID': 1019,\n",
       "  'CustFirstName': 'Zachary',\n",
       "  'CustLastName': 'Ehrlich',\n",
       "  'CustStreetAddress': '12330 Kingman Drive',\n",
       "  'CustCity': 'Glendale',\n",
       "  'CustState': 'CA',\n",
       "  'CustZipCode': '91209',\n",
       "  'CustAreaCode': 818,\n",
       "  'CustPhoneNumber': '555-2721'},\n",
       " {'CustomerID': 1015,\n",
       "  'CustFirstName': 'Darren',\n",
       "  'CustLastName': 'Gehring',\n",
       "  'CustStreetAddress': '2601 Seaview Lane',\n",
       "  'CustCity': 'Chico',\n",
       "  'CustState': 'CA',\n",
       "  'CustZipCode': '95926',\n",
       "  'CustAreaCode': 530,\n",
       "  'CustPhoneNumber': '555-2616'},\n",
       " {'CustomerID': 1011,\n",
       "  'CustFirstName': 'Alaina',\n",
       "  'CustLastName': 'Hallmark',\n",
       "  'CustStreetAddress': 'Route 2, Box 203B',\n",
       "  'CustCity': 'Woodinville',\n",
       "  'CustState': 'WA',\n",
       "  'CustZipCode': '98072',\n",
       "  'CustAreaCode': 425,\n",
       "  'CustPhoneNumber': '555-2631'},\n",
       " {'CustomerID': 1003,\n",
       "  'CustFirstName': 'Gary',\n",
       "  'CustLastName': 'Hallmark',\n",
       "  'CustStreetAddress': 'Route 2, Box 203B',\n",
       "  'CustCity': 'Auburn',\n",
       "  'CustState': 'WA',\n",
       "  'CustZipCode': '98002',\n",
       "  'CustAreaCode': 253,\n",
       "  'CustPhoneNumber': '555-2676'},\n",
       " {'CustomerID': 1010,\n",
       "  'CustFirstName': 'Angel',\n",
       "  'CustLastName': 'Kennedy',\n",
       "  'CustStreetAddress': '667 Red River Road',\n",
       "  'CustCity': 'Austin',\n",
       "  'CustState': 'TX',\n",
       "  'CustZipCode': '78710',\n",
       "  'CustAreaCode': 512,\n",
       "  'CustPhoneNumber': '555-2571'}]"
      ]
     },
     "execution_count": 7,
     "metadata": {},
     "output_type": "execute_result"
    }
   ],
   "source": [
    "items = cursor.fetchall()\n",
    "items"
   ]
  },
  {
   "cell_type": "markdown",
   "metadata": {},
   "source": [
    "Note that running `execute.fetchall()` the second time yields an empty list: we got the entire result set out of the `cursor`!"
   ]
  },
  {
   "cell_type": "code",
   "execution_count": 8,
   "metadata": {},
   "outputs": [
    {
     "data": {
      "text/plain": [
       "[]"
      ]
     },
     "execution_count": 8,
     "metadata": {},
     "output_type": "execute_result"
    }
   ],
   "source": [
    "cursor.fetchall()"
   ]
  },
  {
   "cell_type": "markdown",
   "metadata": {},
   "source": [
    "And `cursor.fetchone()` returns `None`."
   ]
  },
  {
   "cell_type": "code",
   "execution_count": 9,
   "metadata": {},
   "outputs": [],
   "source": [
    "cursor.fetchone()"
   ]
  },
  {
   "cell_type": "markdown",
   "metadata": {},
   "source": [
    "You must execute a new query to fill the `cursor` with new contents."
   ]
  },
  {
   "cell_type": "code",
   "execution_count": 10,
   "metadata": {},
   "outputs": [
    {
     "data": {
      "text/plain": [
       "10"
      ]
     },
     "execution_count": 10,
     "metadata": {},
     "output_type": "execute_result"
    }
   ],
   "source": [
    "cursor.execute(sql)"
   ]
  },
  {
   "cell_type": "markdown",
   "metadata": {},
   "source": [
    "In addition to the two `fetch` methods, you can use the `cursor` as the generator in a `for` loop to iterate over the elements of the result set:"
   ]
  },
  {
   "cell_type": "code",
   "execution_count": 11,
   "metadata": {},
   "outputs": [
    {
     "name": "stdout",
     "output_type": "stream",
     "text": [
      "1014: Abolrous, Sam\n",
      "1020: Bonnicksen, Joyce\n",
      "1004: Brown, Robert\n",
      "1009: Cencini, Andrew\n",
      "1026: DeGrasse, Kirk\n",
      "1019: Ehrlich, Zachary\n",
      "1015: Gehring, Darren\n",
      "1011: Hallmark, Alaina\n",
      "1003: Hallmark, Gary\n",
      "1010: Kennedy, Angel\n"
     ]
    }
   ],
   "source": [
    "for item in cursor:\n",
    "    print(\"{CustomerID}: {CustLastName}, {CustFirstName}\".format(**item))"
   ]
  },
  {
   "cell_type": "markdown",
   "metadata": {},
   "source": [
    "# Examples"
   ]
  },
  {
   "cell_type": "markdown",
   "metadata": {},
   "source": [
    "#### Example 1\n",
    "What is the inventory value of each product (price x quantities)?"
   ]
  },
  {
   "cell_type": "code",
   "execution_count": 12,
   "metadata": {},
   "outputs": [
    {
     "data": {
      "text/plain": [
       "0"
      ]
     },
     "execution_count": 12,
     "metadata": {},
     "output_type": "execute_result"
    }
   ],
   "source": [
    "cursor.execute(\"USE shared_sales\")  # enter the right database"
   ]
  },
  {
   "cell_type": "code",
   "execution_count": 13,
   "metadata": {},
   "outputs": [],
   "source": [
    "# assign the SQL query string to a variable to use in a query later\n",
    "sql = \"\"\"\n",
    "SELECT ProductNumber, ProductName, QuantityOnHand * RetailPrice as InventoryValue\n",
    "FROM products\n",
    "\"\"\""
   ]
  },
  {
   "cell_type": "code",
   "execution_count": 14,
   "metadata": {},
   "outputs": [
    {
     "data": {
      "text/plain": [
       "40"
      ]
     },
     "execution_count": 14,
     "metadata": {},
     "output_type": "execute_result"
    }
   ],
   "source": [
    "# execute the SQL query\n",
    "cursor.execute(sql)"
   ]
  },
  {
   "cell_type": "markdown",
   "metadata": {},
   "source": [
    "Now retrieve and show the result:"
   ]
  },
  {
   "cell_type": "code",
   "execution_count": 15,
   "metadata": {},
   "outputs": [
    {
     "name": "stdout",
     "output_type": "stream",
     "text": [
      "[{'ProductNumber': 1, 'ProductName': 'Trek 9000 Mountain Bike', 'InventoryValue': Decimal('7200.00')}, {'ProductNumber': 2, 'ProductName': 'Eagle FS-3 Mountain Bike', 'InventoryValue': Decimal('14400.00')}, {'ProductNumber': 3, 'ProductName': 'Dog Ear Cyclecomputer', 'InventoryValue': Decimal('1500.00')}, {'ProductNumber': 4, 'ProductName': 'Victoria Pro All Weather Tires', 'InventoryValue': Decimal('1099.00')}, {'ProductNumber': 5, 'ProductName': 'Dog Ear Helmet Mount Mirrors', 'InventoryValue': Decimal('89.40')}, {'ProductNumber': 6, 'ProductName': 'Viscount Mountain Bike', 'InventoryValue': Decimal('3175.00')}, {'ProductNumber': 7, 'ProductName': 'Viscount C-500 Wireless Bike Computer', 'InventoryValue': Decimal('1470.00')}, {'ProductNumber': 8, 'ProductName': 'Kryptonite Advanced 2000 U-Lock', 'InventoryValue': Decimal('1000.00')}, {'ProductNumber': 9, 'ProductName': 'Nikoma Lok-Tight U-Lock', 'InventoryValue': Decimal('396.00')}, {'ProductNumber': 10, 'ProductName': 'Viscount Microshell Helmet', 'InventoryValue': Decimal('720.00')}, {'ProductNumber': 11, 'ProductName': 'GT RTS-2 Mountain Bike', 'InventoryValue': Decimal('8250.00')}, {'ProductNumber': 12, 'ProductName': 'Shinoman 105 SC Brakes', 'InventoryValue': Decimal('376.00')}, {'ProductNumber': 13, 'ProductName': 'Shinoman Dura-Ace Headset', 'InventoryValue': Decimal('1350.00')}, {'ProductNumber': 14, 'ProductName': 'Eagle SA-120 Clipless Pedals', 'InventoryValue': Decimal('2799.00')}, {'ProductNumber': 15, 'ProductName': 'ProFormance Toe-Klips 2G', 'InventoryValue': Decimal('199.60')}, {'ProductNumber': 16, 'ProductName': 'ProFormance ATB All-Terrain Pedal', 'InventoryValue': Decimal('1120.00')}, {'ProductNumber': 17, 'ProductName': 'Shinoman Deluxe TX-30 Pedal', 'InventoryValue': Decimal('2700.00')}, {'ProductNumber': 18, 'ProductName': 'Viscount CardioSport Sport Watch', 'InventoryValue': Decimal('2148.00')}, {'ProductNumber': 19, 'ProductName': 'Viscount Tru-Beat Heart Transmitter', 'InventoryValue': Decimal('940.00')}, {'ProductNumber': 20, 'ProductName': 'Dog Ear Monster Grip Gloves', 'InventoryValue': Decimal('450.00')}, {'ProductNumber': 21, 'ProductName': 'Dog Ear Aero-Flow Floor Pump', 'InventoryValue': Decimal('1375.00')}, {'ProductNumber': 22, 'ProductName': \"Pro-Sport 'Dillo Shades\", 'InventoryValue': Decimal('1476.00')}, {'ProductNumber': 23, 'ProductName': 'Ultra-Pro Rain Jacket', 'InventoryValue': Decimal('2550.00')}, {'ProductNumber': 24, 'ProductName': 'StaDry Cycling Pants', 'InventoryValue': Decimal('1518.00')}, {'ProductNumber': 25, 'ProductName': 'King Cobra Helmet', 'InventoryValue': Decimal('4170.00')}, {'ProductNumber': 26, 'ProductName': 'Glide-O-Matic Cycling Helmet', 'InventoryValue': Decimal('3000.00')}, {'ProductNumber': 27, 'ProductName': 'X-Pro All Weather Tires', 'InventoryValue': Decimal('480.00')}, {'ProductNumber': 28, 'ProductName': 'Turbo Twin Tires', 'InventoryValue': Decimal('522.00')}, {'ProductNumber': 29, 'ProductName': 'Ultra-2K Competition Tire', 'InventoryValue': Decimal('748.00')}, {'ProductNumber': 30, 'ProductName': 'Clear Shade 85-T Glasses', 'InventoryValue': Decimal('630.00')}, {'ProductNumber': 31, 'ProductName': 'True Grip Competition Gloves', 'InventoryValue': Decimal('440.00')}, {'ProductNumber': 32, 'ProductName': 'Kool-Breeze Rocket Top Jersey', 'InventoryValue': Decimal('384.00')}, {'ProductNumber': 33, 'ProductName': 'Wonder Wool Cycle Socks', 'InventoryValue': Decimal('570.00')}, {'ProductNumber': 34, 'ProductName': 'TransPort Bicycle Rack', 'InventoryValue': Decimal('378.00')}, {'ProductNumber': 35, 'ProductName': 'HP Deluxe Panniers', 'InventoryValue': Decimal('390.00')}, {'ProductNumber': 36, 'ProductName': 'Cosmic Elite Road Warrior Wheels', 'InventoryValue': Decimal('3630.00')}, {'ProductNumber': 37, 'ProductName': 'AeroFlo ATB Wheels', 'InventoryValue': Decimal('7560.00')}, {'ProductNumber': 38, 'ProductName': 'Cycle-Doc Pro Repair Stand', 'InventoryValue': Decimal('1992.00')}, {'ProductNumber': 39, 'ProductName': 'Road Warrior Hitch Pack', 'InventoryValue': Decimal('1050.00')}, {'ProductNumber': 40, 'ProductName': 'Ultimate Export 2G Car Rack', 'InventoryValue': Decimal('1440.00')}]\n"
     ]
    }
   ],
   "source": [
    "results = cursor.fetchall()\n",
    "print(results)"
   ]
  },
  {
   "cell_type": "markdown",
   "metadata": {},
   "source": [
    "You may use the `pprint` module from the [standard library](https://docs.python.org/3/library/pprint.html) to pretty-print the resulting dict list:"
   ]
  },
  {
   "cell_type": "code",
   "execution_count": 16,
   "metadata": {},
   "outputs": [
    {
     "name": "stdout",
     "output_type": "stream",
     "text": [
      "[{'InventoryValue': Decimal('7200.00'),\n",
      "  'ProductName': 'Trek 9000 Mountain Bike',\n",
      "  'ProductNumber': 1},\n",
      " {'InventoryValue': Decimal('14400.00'),\n",
      "  'ProductName': 'Eagle FS-3 Mountain Bike',\n",
      "  'ProductNumber': 2},\n",
      " {'InventoryValue': Decimal('1500.00'),\n",
      "  'ProductName': 'Dog Ear Cyclecomputer',\n",
      "  'ProductNumber': 3},\n",
      " {'InventoryValue': Decimal('1099.00'),\n",
      "  'ProductName': 'Victoria Pro All Weather Tires',\n",
      "  'ProductNumber': 4},\n",
      " {'InventoryValue': Decimal('89.40'),\n",
      "  'ProductName': 'Dog Ear Helmet Mount Mirrors',\n",
      "  'ProductNumber': 5},\n",
      " {'InventoryValue': Decimal('3175.00'),\n",
      "  'ProductName': 'Viscount Mountain Bike',\n",
      "  'ProductNumber': 6},\n",
      " {'InventoryValue': Decimal('1470.00'),\n",
      "  'ProductName': 'Viscount C-500 Wireless Bike Computer',\n",
      "  'ProductNumber': 7},\n",
      " {'InventoryValue': Decimal('1000.00'),\n",
      "  'ProductName': 'Kryptonite Advanced 2000 U-Lock',\n",
      "  'ProductNumber': 8},\n",
      " {'InventoryValue': Decimal('396.00'),\n",
      "  'ProductName': 'Nikoma Lok-Tight U-Lock',\n",
      "  'ProductNumber': 9},\n",
      " {'InventoryValue': Decimal('720.00'),\n",
      "  'ProductName': 'Viscount Microshell Helmet',\n",
      "  'ProductNumber': 10},\n",
      " {'InventoryValue': Decimal('8250.00'),\n",
      "  'ProductName': 'GT RTS-2 Mountain Bike',\n",
      "  'ProductNumber': 11},\n",
      " {'InventoryValue': Decimal('376.00'),\n",
      "  'ProductName': 'Shinoman 105 SC Brakes',\n",
      "  'ProductNumber': 12},\n",
      " {'InventoryValue': Decimal('1350.00'),\n",
      "  'ProductName': 'Shinoman Dura-Ace Headset',\n",
      "  'ProductNumber': 13},\n",
      " {'InventoryValue': Decimal('2799.00'),\n",
      "  'ProductName': 'Eagle SA-120 Clipless Pedals',\n",
      "  'ProductNumber': 14},\n",
      " {'InventoryValue': Decimal('199.60'),\n",
      "  'ProductName': 'ProFormance Toe-Klips 2G',\n",
      "  'ProductNumber': 15},\n",
      " {'InventoryValue': Decimal('1120.00'),\n",
      "  'ProductName': 'ProFormance ATB All-Terrain Pedal',\n",
      "  'ProductNumber': 16},\n",
      " {'InventoryValue': Decimal('2700.00'),\n",
      "  'ProductName': 'Shinoman Deluxe TX-30 Pedal',\n",
      "  'ProductNumber': 17},\n",
      " {'InventoryValue': Decimal('2148.00'),\n",
      "  'ProductName': 'Viscount CardioSport Sport Watch',\n",
      "  'ProductNumber': 18},\n",
      " {'InventoryValue': Decimal('940.00'),\n",
      "  'ProductName': 'Viscount Tru-Beat Heart Transmitter',\n",
      "  'ProductNumber': 19},\n",
      " {'InventoryValue': Decimal('450.00'),\n",
      "  'ProductName': 'Dog Ear Monster Grip Gloves',\n",
      "  'ProductNumber': 20},\n",
      " {'InventoryValue': Decimal('1375.00'),\n",
      "  'ProductName': 'Dog Ear Aero-Flow Floor Pump',\n",
      "  'ProductNumber': 21},\n",
      " {'InventoryValue': Decimal('1476.00'),\n",
      "  'ProductName': \"Pro-Sport 'Dillo Shades\",\n",
      "  'ProductNumber': 22},\n",
      " {'InventoryValue': Decimal('2550.00'),\n",
      "  'ProductName': 'Ultra-Pro Rain Jacket',\n",
      "  'ProductNumber': 23},\n",
      " {'InventoryValue': Decimal('1518.00'),\n",
      "  'ProductName': 'StaDry Cycling Pants',\n",
      "  'ProductNumber': 24},\n",
      " {'InventoryValue': Decimal('4170.00'),\n",
      "  'ProductName': 'King Cobra Helmet',\n",
      "  'ProductNumber': 25},\n",
      " {'InventoryValue': Decimal('3000.00'),\n",
      "  'ProductName': 'Glide-O-Matic Cycling Helmet',\n",
      "  'ProductNumber': 26},\n",
      " {'InventoryValue': Decimal('480.00'),\n",
      "  'ProductName': 'X-Pro All Weather Tires',\n",
      "  'ProductNumber': 27},\n",
      " {'InventoryValue': Decimal('522.00'),\n",
      "  'ProductName': 'Turbo Twin Tires',\n",
      "  'ProductNumber': 28},\n",
      " {'InventoryValue': Decimal('748.00'),\n",
      "  'ProductName': 'Ultra-2K Competition Tire',\n",
      "  'ProductNumber': 29},\n",
      " {'InventoryValue': Decimal('630.00'),\n",
      "  'ProductName': 'Clear Shade 85-T Glasses',\n",
      "  'ProductNumber': 30},\n",
      " {'InventoryValue': Decimal('440.00'),\n",
      "  'ProductName': 'True Grip Competition Gloves',\n",
      "  'ProductNumber': 31},\n",
      " {'InventoryValue': Decimal('384.00'),\n",
      "  'ProductName': 'Kool-Breeze Rocket Top Jersey',\n",
      "  'ProductNumber': 32},\n",
      " {'InventoryValue': Decimal('570.00'),\n",
      "  'ProductName': 'Wonder Wool Cycle Socks',\n",
      "  'ProductNumber': 33},\n",
      " {'InventoryValue': Decimal('378.00'),\n",
      "  'ProductName': 'TransPort Bicycle Rack',\n",
      "  'ProductNumber': 34},\n",
      " {'InventoryValue': Decimal('390.00'),\n",
      "  'ProductName': 'HP Deluxe Panniers',\n",
      "  'ProductNumber': 35},\n",
      " {'InventoryValue': Decimal('3630.00'),\n",
      "  'ProductName': 'Cosmic Elite Road Warrior Wheels',\n",
      "  'ProductNumber': 36},\n",
      " {'InventoryValue': Decimal('7560.00'),\n",
      "  'ProductName': 'AeroFlo ATB Wheels',\n",
      "  'ProductNumber': 37},\n",
      " {'InventoryValue': Decimal('1992.00'),\n",
      "  'ProductName': 'Cycle-Doc Pro Repair Stand',\n",
      "  'ProductNumber': 38},\n",
      " {'InventoryValue': Decimal('1050.00'),\n",
      "  'ProductName': 'Road Warrior Hitch Pack',\n",
      "  'ProductNumber': 39},\n",
      " {'InventoryValue': Decimal('1440.00'),\n",
      "  'ProductName': 'Ultimate Export 2G Car Rack',\n",
      "  'ProductNumber': 40}]\n"
     ]
    }
   ],
   "source": [
    "import pprint\n",
    "pprint.pprint(results)"
   ]
  },
  {
   "cell_type": "markdown",
   "metadata": {},
   "source": [
    "Or you may like to convert it into a pandas dataframe of display and manipulation."
   ]
  },
  {
   "cell_type": "code",
   "execution_count": 17,
   "metadata": {},
   "outputs": [
    {
     "data": {
      "text/html": [
       "<div>\n",
       "<style scoped>\n",
       "    .dataframe tbody tr th:only-of-type {\n",
       "        vertical-align: middle;\n",
       "    }\n",
       "\n",
       "    .dataframe tbody tr th {\n",
       "        vertical-align: top;\n",
       "    }\n",
       "\n",
       "    .dataframe thead th {\n",
       "        text-align: right;\n",
       "    }\n",
       "</style>\n",
       "<table border=\"1\" class=\"dataframe\">\n",
       "  <thead>\n",
       "    <tr style=\"text-align: right;\">\n",
       "      <th></th>\n",
       "      <th>ProductName</th>\n",
       "      <th>InventoryValue</th>\n",
       "    </tr>\n",
       "    <tr>\n",
       "      <th>ProductNumber</th>\n",
       "      <th></th>\n",
       "      <th></th>\n",
       "    </tr>\n",
       "  </thead>\n",
       "  <tbody>\n",
       "    <tr>\n",
       "      <td>1</td>\n",
       "      <td>Trek 9000 Mountain Bike</td>\n",
       "      <td>7200.00</td>\n",
       "    </tr>\n",
       "    <tr>\n",
       "      <td>2</td>\n",
       "      <td>Eagle FS-3 Mountain Bike</td>\n",
       "      <td>14400.00</td>\n",
       "    </tr>\n",
       "    <tr>\n",
       "      <td>3</td>\n",
       "      <td>Dog Ear Cyclecomputer</td>\n",
       "      <td>1500.00</td>\n",
       "    </tr>\n",
       "    <tr>\n",
       "      <td>4</td>\n",
       "      <td>Victoria Pro All Weather Tires</td>\n",
       "      <td>1099.00</td>\n",
       "    </tr>\n",
       "    <tr>\n",
       "      <td>5</td>\n",
       "      <td>Dog Ear Helmet Mount Mirrors</td>\n",
       "      <td>89.40</td>\n",
       "    </tr>\n",
       "    <tr>\n",
       "      <td>6</td>\n",
       "      <td>Viscount Mountain Bike</td>\n",
       "      <td>3175.00</td>\n",
       "    </tr>\n",
       "    <tr>\n",
       "      <td>7</td>\n",
       "      <td>Viscount C-500 Wireless Bike Computer</td>\n",
       "      <td>1470.00</td>\n",
       "    </tr>\n",
       "    <tr>\n",
       "      <td>8</td>\n",
       "      <td>Kryptonite Advanced 2000 U-Lock</td>\n",
       "      <td>1000.00</td>\n",
       "    </tr>\n",
       "    <tr>\n",
       "      <td>9</td>\n",
       "      <td>Nikoma Lok-Tight U-Lock</td>\n",
       "      <td>396.00</td>\n",
       "    </tr>\n",
       "    <tr>\n",
       "      <td>10</td>\n",
       "      <td>Viscount Microshell Helmet</td>\n",
       "      <td>720.00</td>\n",
       "    </tr>\n",
       "    <tr>\n",
       "      <td>11</td>\n",
       "      <td>GT RTS-2 Mountain Bike</td>\n",
       "      <td>8250.00</td>\n",
       "    </tr>\n",
       "    <tr>\n",
       "      <td>12</td>\n",
       "      <td>Shinoman 105 SC Brakes</td>\n",
       "      <td>376.00</td>\n",
       "    </tr>\n",
       "    <tr>\n",
       "      <td>13</td>\n",
       "      <td>Shinoman Dura-Ace Headset</td>\n",
       "      <td>1350.00</td>\n",
       "    </tr>\n",
       "    <tr>\n",
       "      <td>14</td>\n",
       "      <td>Eagle SA-120 Clipless Pedals</td>\n",
       "      <td>2799.00</td>\n",
       "    </tr>\n",
       "    <tr>\n",
       "      <td>15</td>\n",
       "      <td>ProFormance Toe-Klips 2G</td>\n",
       "      <td>199.60</td>\n",
       "    </tr>\n",
       "    <tr>\n",
       "      <td>16</td>\n",
       "      <td>ProFormance ATB All-Terrain Pedal</td>\n",
       "      <td>1120.00</td>\n",
       "    </tr>\n",
       "    <tr>\n",
       "      <td>17</td>\n",
       "      <td>Shinoman Deluxe TX-30 Pedal</td>\n",
       "      <td>2700.00</td>\n",
       "    </tr>\n",
       "    <tr>\n",
       "      <td>18</td>\n",
       "      <td>Viscount CardioSport Sport Watch</td>\n",
       "      <td>2148.00</td>\n",
       "    </tr>\n",
       "    <tr>\n",
       "      <td>19</td>\n",
       "      <td>Viscount Tru-Beat Heart Transmitter</td>\n",
       "      <td>940.00</td>\n",
       "    </tr>\n",
       "    <tr>\n",
       "      <td>20</td>\n",
       "      <td>Dog Ear Monster Grip Gloves</td>\n",
       "      <td>450.00</td>\n",
       "    </tr>\n",
       "    <tr>\n",
       "      <td>21</td>\n",
       "      <td>Dog Ear Aero-Flow Floor Pump</td>\n",
       "      <td>1375.00</td>\n",
       "    </tr>\n",
       "    <tr>\n",
       "      <td>22</td>\n",
       "      <td>Pro-Sport 'Dillo Shades</td>\n",
       "      <td>1476.00</td>\n",
       "    </tr>\n",
       "    <tr>\n",
       "      <td>23</td>\n",
       "      <td>Ultra-Pro Rain Jacket</td>\n",
       "      <td>2550.00</td>\n",
       "    </tr>\n",
       "    <tr>\n",
       "      <td>24</td>\n",
       "      <td>StaDry Cycling Pants</td>\n",
       "      <td>1518.00</td>\n",
       "    </tr>\n",
       "    <tr>\n",
       "      <td>25</td>\n",
       "      <td>King Cobra Helmet</td>\n",
       "      <td>4170.00</td>\n",
       "    </tr>\n",
       "    <tr>\n",
       "      <td>26</td>\n",
       "      <td>Glide-O-Matic Cycling Helmet</td>\n",
       "      <td>3000.00</td>\n",
       "    </tr>\n",
       "    <tr>\n",
       "      <td>27</td>\n",
       "      <td>X-Pro All Weather Tires</td>\n",
       "      <td>480.00</td>\n",
       "    </tr>\n",
       "    <tr>\n",
       "      <td>28</td>\n",
       "      <td>Turbo Twin Tires</td>\n",
       "      <td>522.00</td>\n",
       "    </tr>\n",
       "    <tr>\n",
       "      <td>29</td>\n",
       "      <td>Ultra-2K Competition Tire</td>\n",
       "      <td>748.00</td>\n",
       "    </tr>\n",
       "    <tr>\n",
       "      <td>30</td>\n",
       "      <td>Clear Shade 85-T Glasses</td>\n",
       "      <td>630.00</td>\n",
       "    </tr>\n",
       "    <tr>\n",
       "      <td>31</td>\n",
       "      <td>True Grip Competition Gloves</td>\n",
       "      <td>440.00</td>\n",
       "    </tr>\n",
       "    <tr>\n",
       "      <td>32</td>\n",
       "      <td>Kool-Breeze Rocket Top Jersey</td>\n",
       "      <td>384.00</td>\n",
       "    </tr>\n",
       "    <tr>\n",
       "      <td>33</td>\n",
       "      <td>Wonder Wool Cycle Socks</td>\n",
       "      <td>570.00</td>\n",
       "    </tr>\n",
       "    <tr>\n",
       "      <td>34</td>\n",
       "      <td>TransPort Bicycle Rack</td>\n",
       "      <td>378.00</td>\n",
       "    </tr>\n",
       "    <tr>\n",
       "      <td>35</td>\n",
       "      <td>HP Deluxe Panniers</td>\n",
       "      <td>390.00</td>\n",
       "    </tr>\n",
       "    <tr>\n",
       "      <td>36</td>\n",
       "      <td>Cosmic Elite Road Warrior Wheels</td>\n",
       "      <td>3630.00</td>\n",
       "    </tr>\n",
       "    <tr>\n",
       "      <td>37</td>\n",
       "      <td>AeroFlo ATB Wheels</td>\n",
       "      <td>7560.00</td>\n",
       "    </tr>\n",
       "    <tr>\n",
       "      <td>38</td>\n",
       "      <td>Cycle-Doc Pro Repair Stand</td>\n",
       "      <td>1992.00</td>\n",
       "    </tr>\n",
       "    <tr>\n",
       "      <td>39</td>\n",
       "      <td>Road Warrior Hitch Pack</td>\n",
       "      <td>1050.00</td>\n",
       "    </tr>\n",
       "    <tr>\n",
       "      <td>40</td>\n",
       "      <td>Ultimate Export 2G Car Rack</td>\n",
       "      <td>1440.00</td>\n",
       "    </tr>\n",
       "  </tbody>\n",
       "</table>\n",
       "</div>"
      ],
      "text/plain": [
       "                                         ProductName InventoryValue\n",
       "ProductNumber                                                      \n",
       "1                            Trek 9000 Mountain Bike        7200.00\n",
       "2                           Eagle FS-3 Mountain Bike       14400.00\n",
       "3                              Dog Ear Cyclecomputer        1500.00\n",
       "4                     Victoria Pro All Weather Tires        1099.00\n",
       "5                       Dog Ear Helmet Mount Mirrors          89.40\n",
       "6                             Viscount Mountain Bike        3175.00\n",
       "7              Viscount C-500 Wireless Bike Computer        1470.00\n",
       "8                    Kryptonite Advanced 2000 U-Lock        1000.00\n",
       "9                            Nikoma Lok-Tight U-Lock         396.00\n",
       "10                        Viscount Microshell Helmet         720.00\n",
       "11                            GT RTS-2 Mountain Bike        8250.00\n",
       "12                            Shinoman 105 SC Brakes         376.00\n",
       "13                         Shinoman Dura-Ace Headset        1350.00\n",
       "14                      Eagle SA-120 Clipless Pedals        2799.00\n",
       "15                          ProFormance Toe-Klips 2G         199.60\n",
       "16                 ProFormance ATB All-Terrain Pedal        1120.00\n",
       "17                       Shinoman Deluxe TX-30 Pedal        2700.00\n",
       "18                  Viscount CardioSport Sport Watch        2148.00\n",
       "19               Viscount Tru-Beat Heart Transmitter         940.00\n",
       "20                       Dog Ear Monster Grip Gloves         450.00\n",
       "21                      Dog Ear Aero-Flow Floor Pump        1375.00\n",
       "22                           Pro-Sport 'Dillo Shades        1476.00\n",
       "23                             Ultra-Pro Rain Jacket        2550.00\n",
       "24                              StaDry Cycling Pants        1518.00\n",
       "25                                 King Cobra Helmet        4170.00\n",
       "26                      Glide-O-Matic Cycling Helmet        3000.00\n",
       "27                           X-Pro All Weather Tires         480.00\n",
       "28                                  Turbo Twin Tires         522.00\n",
       "29                         Ultra-2K Competition Tire         748.00\n",
       "30                          Clear Shade 85-T Glasses         630.00\n",
       "31                      True Grip Competition Gloves         440.00\n",
       "32                     Kool-Breeze Rocket Top Jersey         384.00\n",
       "33                           Wonder Wool Cycle Socks         570.00\n",
       "34                            TransPort Bicycle Rack         378.00\n",
       "35                                HP Deluxe Panniers         390.00\n",
       "36                  Cosmic Elite Road Warrior Wheels        3630.00\n",
       "37                                AeroFlo ATB Wheels        7560.00\n",
       "38                        Cycle-Doc Pro Repair Stand        1992.00\n",
       "39                           Road Warrior Hitch Pack        1050.00\n",
       "40                       Ultimate Export 2G Car Rack        1440.00"
      ]
     },
     "execution_count": 17,
     "metadata": {},
     "output_type": "execute_result"
    }
   ],
   "source": [
    "import pandas as pd\n",
    "pd.DataFrame.from_records(results, index=[\"ProductNumber\"])"
   ]
  },
  {
   "cell_type": "markdown",
   "metadata": {},
   "source": [
    "This is enough to fulfill the requirement of the assignment but you may use your Python string formatting skills to produce a nicer output or to perform additional operations."
   ]
  },
  {
   "cell_type": "code",
   "execution_count": 18,
   "metadata": {},
   "outputs": [
    {
     "name": "stdout",
     "output_type": "stream",
     "text": [
      "#  : Product Name                                Value\n",
      "------------------------------------------------------\n",
      "  1: Trek 9000 Mountain Bike                   7200.00\n",
      "  2: Eagle FS-3 Mountain Bike                 14400.00\n",
      "  3: Dog Ear Cyclecomputer                     1500.00\n",
      "  4: Victoria Pro All Weather Tires            1099.00\n",
      "  5: Dog Ear Helmet Mount Mirrors                89.40\n",
      "  6: Viscount Mountain Bike                    3175.00\n",
      "  7: Viscount C-500 Wireless Bike Computer     1470.00\n",
      "  8: Kryptonite Advanced 2000 U-Lock           1000.00\n",
      "  9: Nikoma Lok-Tight U-Lock                    396.00\n",
      " 10: Viscount Microshell Helmet                 720.00\n",
      " 11: GT RTS-2 Mountain Bike                    8250.00\n",
      " 12: Shinoman 105 SC Brakes                     376.00\n",
      " 13: Shinoman Dura-Ace Headset                 1350.00\n",
      " 14: Eagle SA-120 Clipless Pedals              2799.00\n",
      " 15: ProFormance Toe-Klips 2G                   199.60\n",
      " 16: ProFormance ATB All-Terrain Pedal         1120.00\n",
      " 17: Shinoman Deluxe TX-30 Pedal               2700.00\n",
      " 18: Viscount CardioSport Sport Watch          2148.00\n",
      " 19: Viscount Tru-Beat Heart Transmitter        940.00\n",
      " 20: Dog Ear Monster Grip Gloves                450.00\n",
      " 21: Dog Ear Aero-Flow Floor Pump              1375.00\n",
      " 22: Pro-Sport 'Dillo Shades                   1476.00\n",
      " 23: Ultra-Pro Rain Jacket                     2550.00\n",
      " 24: StaDry Cycling Pants                      1518.00\n",
      " 25: King Cobra Helmet                         4170.00\n",
      " 26: Glide-O-Matic Cycling Helmet              3000.00\n",
      " 27: X-Pro All Weather Tires                    480.00\n",
      " 28: Turbo Twin Tires                           522.00\n",
      " 29: Ultra-2K Competition Tire                  748.00\n",
      " 30: Clear Shade 85-T Glasses                   630.00\n",
      " 31: True Grip Competition Gloves               440.00\n",
      " 32: Kool-Breeze Rocket Top Jersey              384.00\n",
      " 33: Wonder Wool Cycle Socks                    570.00\n",
      " 34: TransPort Bicycle Rack                     378.00\n",
      " 35: HP Deluxe Panniers                         390.00\n",
      " 36: Cosmic Elite Road Warrior Wheels          3630.00\n",
      " 37: AeroFlo ATB Wheels                        7560.00\n",
      " 38: Cycle-Doc Pro Repair Stand                1992.00\n",
      " 39: Road Warrior Hitch Pack                   1050.00\n",
      " 40: Ultimate Export 2G Car Rack               1440.00\n",
      "------------------------------------------------------\n",
      "   : TOTAL:                                   85685.00\n"
     ]
    }
   ],
   "source": [
    "# Execute query again\n",
    "cursor.execute(sql)\n",
    "\n",
    "# print heading\n",
    "item_line = \"{ProductNumber:3}: {ProductName:40} {InventoryValue:>8}\" \n",
    "heading = item_line.format(ProductNumber=\"#\", ProductName=\"Product Name\", InventoryValue=\"Value\")\n",
    "print(heading)\n",
    "print('-' * len(heading)) # dividing line\n",
    "\n",
    "# print items from cursor\n",
    "total = 0\n",
    "for item in cursor:\n",
    "    print(item_line.format(**item))\n",
    "    total += item['InventoryValue']\n",
    "\n",
    "# print total    \n",
    "print('-' * len(heading))\n",
    "print(item_line.format(ProductNumber='', ProductName='TOTAL:', InventoryValue=total))"
   ]
  },
  {
   "cell_type": "markdown",
   "metadata": {},
   "source": [
    "# Assignment Problems\n",
    "\n",
    "Note that table names and column names may differ from those in the book. Use `SHOW DATABASES`, `USE <database>`, and `SHOW TABLES` commands to navigate the databases and `SHOW CREATE TABLE <table>` to inspect the declaration of the individual tables."
   ]
  },
  {
   "cell_type": "markdown",
   "metadata": {},
   "source": [
    "## In database `shared_sales`."
   ]
  },
  {
   "cell_type": "markdown",
   "metadata": {},
   "source": [
    "#### Problem 1 .\n",
    "\n",
    "Show all products with price reduced by 5%."
   ]
  },
  {
   "cell_type": "markdown",
   "metadata": {},
   "source": [
    "#### Problem 2.\n",
    "Show the list of orders made by each customer in descending order date. Hint: you might need to order by more than one column."
   ]
  },
  {
   "cell_type": "markdown",
   "metadata": {},
   "source": [
    "#### Problem 3.\n",
    "Show vendor name and addresses sorted by vendor name."
   ]
  },
  {
   "cell_type": "markdown",
   "metadata": {},
   "source": [
    "## In database `shared_entertain`"
   ]
  },
  {
   "cell_type": "markdown",
   "metadata": {},
   "source": [
    "#### Problem 4.\n",
    "Show all customers ordered by city."
   ]
  },
  {
   "cell_type": "markdown",
   "metadata": {},
   "source": [
    "#### Problem 5.\n",
    "List all entertainers and their Web sites."
   ]
  },
  {
   "cell_type": "markdown",
   "metadata": {},
   "source": [
    "#### Problem 6.\n",
    "Show the date of each agent's first six-month performance review.\n",
    "\n",
    "\n",
    "**Hint:** You will need date arithmetic https://dev.mysql.com/doc/refman/5.7/en/date-and-time-functions.html"
   ]
  },
  {
   "cell_type": "markdown",
   "metadata": {},
   "source": [
    "## In database `shared_schedule`"
   ]
  },
  {
   "cell_type": "markdown",
   "metadata": {},
   "source": [
    "#### Problem 7\n",
    "Show the staff members in descending order of salary."
   ]
  },
  {
   "cell_type": "markdown",
   "metadata": {},
   "source": [
    "#### Problem 8\n",
    "Make the staff phone list."
   ]
  },
  {
   "cell_type": "markdown",
   "metadata": {},
   "source": [
    "#### Problem 9\n",
    "List students ordered by the city they live in."
   ]
  },
  {
   "cell_type": "markdown",
   "metadata": {},
   "source": [
    "## In database `shared_bowling`."
   ]
  },
  {
   "cell_type": "markdown",
   "metadata": {},
   "source": [
    "#### 10. Show next year's tournament date for each tournament location.\n",
    "\n",
    "**Hint:** Add 364 days to get the same day of the week. See date and time functions here: https://dev.mysql.com/doc/refman/5.7/en/date-and-time-functions.html"
   ]
  },
  {
   "cell_type": "markdown",
   "metadata": {},
   "source": [
    "#### 11. List names and phone numbers of the members of the league \n",
    "(32 rows)"
   ]
  },
  {
   "cell_type": "markdown",
   "metadata": {},
   "source": [
    "#### 12. List each team's lineup.\n",
    "(32 rows)"
   ]
  },
  {
   "cell_type": "markdown",
   "metadata": {},
   "source": [
    "## In database `shared_sales`"
   ]
  },
  {
   "cell_type": "markdown",
   "metadata": {},
   "source": [
    "#### 13. List vendors from the cities of Ballard, Bellevue, and Redmond.\n",
    "(3 rows)"
   ]
  },
  {
   "cell_type": "markdown",
   "metadata": {},
   "source": [
    "#### 14. Show alphebetized list of products with a retail price of \\$1,250.00 or more\n",
    "(13 rows)"
   ]
  },
  {
   "cell_type": "markdown",
   "metadata": {},
   "source": [
    "#### 15. List vendors with no websites"
   ]
  },
  {
   "cell_type": "markdown",
   "metadata": {},
   "source": [
    "## In database `shared_entertain`"
   ]
  },
  {
   "cell_type": "markdown",
   "metadata": {},
   "source": [
    "#### 16. List engagements that occurred during October 2017\n",
    "(24 rows)"
   ]
  },
  {
   "cell_type": "markdown",
   "metadata": {},
   "source": [
    "#### 17. Show engagements in October 2017 that start between noon and 5 pm."
   ]
  },
  {
   "cell_type": "markdown",
   "metadata": {},
   "source": [
    "#### 18. Show engagements that start and end on the same day."
   ]
  },
  {
   "cell_type": "markdown",
   "metadata": {},
   "source": [
    "## In database `shared_schedule`"
   ]
  },
  {
   "cell_type": "markdown",
   "metadata": {},
   "source": [
    "#### 19. Show staff members that use a PO Box as their address."
   ]
  },
  {
   "cell_type": "markdown",
   "metadata": {},
   "source": [
    "#### 20. Show students who live outside the Pacific Northwest"
   ]
  },
  {
   "cell_type": "markdown",
   "metadata": {},
   "source": [
    "#### 21. Show subjects with subject code starting with \"MUS\"\n",
    "\n",
    "Please review string comparison functions https://dev.mysql.com/doc/refman/5.7/en/string-comparison-functions.html"
   ]
  },
  {
   "cell_type": "markdown",
   "metadata": {},
   "source": [
    "#### 22. List the ID numbers of all Associate professors who are employed full time."
   ]
  },
  {
   "cell_type": "markdown",
   "metadata": {},
   "source": [
    "## In database `shared_bowling`"
   ]
  },
  {
   "cell_type": "markdown",
   "metadata": {},
   "source": [
    "#### 23. List tournaments held in 2017"
   ]
  },
  {
   "cell_type": "markdown",
   "metadata": {},
   "source": [
    "#### 24. List tournament schedules for Bolero, Red Rooster, and Thunderbird Lanes."
   ]
  },
  {
   "cell_type": "markdown",
   "metadata": {},
   "source": [
    "#### 25. List the bowlers who live in Bellevue, Bothell, Duvall, Redmond, and Woodinville who are on teams 5, 6, 7, or 8."
   ]
  },
  {
   "cell_type": "markdown",
   "metadata": {},
   "source": [
    "## In database `shared_recipes`"
   ]
  },
  {
   "cell_type": "markdown",
   "metadata": {},
   "source": [
    "#### 26. List all recipes for main courses (recipe class 1) that have notes."
   ]
  },
  {
   "cell_type": "markdown",
   "metadata": {},
   "source": [
    "#### 27. Display the first five recipes."
   ]
  }
 ],
 "metadata": {
  "kernelspec": {
   "display_name": "Python 3",
   "language": "python",
   "name": "python3"
  },
  "language_info": {
   "codemirror_mode": {
    "name": "ipython",
    "version": 3
   },
   "file_extension": ".py",
   "mimetype": "text/x-python",
   "name": "python",
   "nbconvert_exporter": "python",
   "pygments_lexer": "ipython3",
   "version": "3.7.3"
  }
 },
 "nbformat": 4,
 "nbformat_minor": 2
}
